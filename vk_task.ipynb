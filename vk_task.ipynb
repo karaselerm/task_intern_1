{
 "cells": [
  {
   "cell_type": "code",
   "execution_count": 55,
   "metadata": {},
   "outputs": [],
   "source": [
    "import pandas as pd"
   ]
  },
  {
   "cell_type": "code",
   "execution_count": 56,
   "metadata": {},
   "outputs": [
    {
     "data": {
      "text/html": [
       "<div>\n",
       "<style scoped>\n",
       "    .dataframe tbody tr th:only-of-type {\n",
       "        vertical-align: middle;\n",
       "    }\n",
       "\n",
       "    .dataframe tbody tr th {\n",
       "        vertical-align: top;\n",
       "    }\n",
       "\n",
       "    .dataframe thead th {\n",
       "        text-align: right;\n",
       "    }\n",
       "</style>\n",
       "<table border=\"1\" class=\"dataframe\">\n",
       "  <thead>\n",
       "    <tr style=\"text-align: right;\">\n",
       "      <th></th>\n",
       "      <th>rank</th>\n",
       "      <th>query_id</th>\n",
       "      <th>feature_0</th>\n",
       "      <th>feature_1</th>\n",
       "      <th>feature_2</th>\n",
       "      <th>feature_3</th>\n",
       "      <th>feature_4</th>\n",
       "      <th>feature_5</th>\n",
       "      <th>feature_6</th>\n",
       "      <th>feature_7</th>\n",
       "      <th>...</th>\n",
       "      <th>feature_134</th>\n",
       "      <th>feature_135</th>\n",
       "      <th>feature_136</th>\n",
       "      <th>feature_137</th>\n",
       "      <th>feature_138</th>\n",
       "      <th>feature_139</th>\n",
       "      <th>feature_140</th>\n",
       "      <th>feature_141</th>\n",
       "      <th>feature_142</th>\n",
       "      <th>feature_143</th>\n",
       "    </tr>\n",
       "  </thead>\n",
       "  <tbody>\n",
       "    <tr>\n",
       "      <th>0</th>\n",
       "      <td>0</td>\n",
       "      <td>10</td>\n",
       "      <td>1.0</td>\n",
       "      <td>0.0</td>\n",
       "      <td>1.0</td>\n",
       "      <td>3.0</td>\n",
       "      <td>3.0</td>\n",
       "      <td>0.333333</td>\n",
       "      <td>0.0</td>\n",
       "      <td>0.333333</td>\n",
       "      <td>...</td>\n",
       "      <td>0.0</td>\n",
       "      <td>0.000000</td>\n",
       "      <td>0.454545</td>\n",
       "      <td>0.890238</td>\n",
       "      <td>8.655534</td>\n",
       "      <td>1.000000</td>\n",
       "      <td>0.077778</td>\n",
       "      <td>0.002222</td>\n",
       "      <td>1.0</td>\n",
       "      <td>0.333333</td>\n",
       "    </tr>\n",
       "    <tr>\n",
       "      <th>1</th>\n",
       "      <td>1</td>\n",
       "      <td>10</td>\n",
       "      <td>3.0</td>\n",
       "      <td>0.0</td>\n",
       "      <td>3.0</td>\n",
       "      <td>0.0</td>\n",
       "      <td>3.0</td>\n",
       "      <td>1.000000</td>\n",
       "      <td>0.0</td>\n",
       "      <td>1.000000</td>\n",
       "      <td>...</td>\n",
       "      <td>0.0</td>\n",
       "      <td>0.000000</td>\n",
       "      <td>0.000000</td>\n",
       "      <td>0.773976</td>\n",
       "      <td>23.130514</td>\n",
       "      <td>0.000000</td>\n",
       "      <td>0.027826</td>\n",
       "      <td>0.000430</td>\n",
       "      <td>44.0</td>\n",
       "      <td>14.666667</td>\n",
       "    </tr>\n",
       "    <tr>\n",
       "      <th>2</th>\n",
       "      <td>0</td>\n",
       "      <td>10</td>\n",
       "      <td>3.0</td>\n",
       "      <td>0.0</td>\n",
       "      <td>2.0</td>\n",
       "      <td>0.0</td>\n",
       "      <td>3.0</td>\n",
       "      <td>1.000000</td>\n",
       "      <td>0.0</td>\n",
       "      <td>0.666667</td>\n",
       "      <td>...</td>\n",
       "      <td>0.0</td>\n",
       "      <td>0.000000</td>\n",
       "      <td>0.000000</td>\n",
       "      <td>0.918308</td>\n",
       "      <td>13.351339</td>\n",
       "      <td>0.000000</td>\n",
       "      <td>0.014925</td>\n",
       "      <td>0.000104</td>\n",
       "      <td>22.0</td>\n",
       "      <td>7.333333</td>\n",
       "    </tr>\n",
       "    <tr>\n",
       "      <th>3</th>\n",
       "      <td>1</td>\n",
       "      <td>10</td>\n",
       "      <td>3.0</td>\n",
       "      <td>0.0</td>\n",
       "      <td>3.0</td>\n",
       "      <td>0.0</td>\n",
       "      <td>3.0</td>\n",
       "      <td>1.000000</td>\n",
       "      <td>0.0</td>\n",
       "      <td>1.000000</td>\n",
       "      <td>...</td>\n",
       "      <td>0.0</td>\n",
       "      <td>0.000000</td>\n",
       "      <td>0.000000</td>\n",
       "      <td>0.975355</td>\n",
       "      <td>18.240926</td>\n",
       "      <td>0.000000</td>\n",
       "      <td>0.053140</td>\n",
       "      <td>0.000255</td>\n",
       "      <td>8.0</td>\n",
       "      <td>2.666667</td>\n",
       "    </tr>\n",
       "    <tr>\n",
       "      <th>4</th>\n",
       "      <td>2</td>\n",
       "      <td>10</td>\n",
       "      <td>3.0</td>\n",
       "      <td>0.0</td>\n",
       "      <td>3.0</td>\n",
       "      <td>1.0</td>\n",
       "      <td>3.0</td>\n",
       "      <td>1.000000</td>\n",
       "      <td>0.0</td>\n",
       "      <td>1.000000</td>\n",
       "      <td>...</td>\n",
       "      <td>273.0</td>\n",
       "      <td>79.670665</td>\n",
       "      <td>0.200000</td>\n",
       "      <td>0.990119</td>\n",
       "      <td>31.786048</td>\n",
       "      <td>0.333333</td>\n",
       "      <td>0.046512</td>\n",
       "      <td>0.000307</td>\n",
       "      <td>24.0</td>\n",
       "      <td>8.000000</td>\n",
       "    </tr>\n",
       "  </tbody>\n",
       "</table>\n",
       "<p>5 rows × 146 columns</p>\n",
       "</div>"
      ],
      "text/plain": [
       "   rank  query_id  feature_0  feature_1  feature_2  feature_3  feature_4  \\\n",
       "0     0        10        1.0        0.0        1.0        3.0        3.0   \n",
       "1     1        10        3.0        0.0        3.0        0.0        3.0   \n",
       "2     0        10        3.0        0.0        2.0        0.0        3.0   \n",
       "3     1        10        3.0        0.0        3.0        0.0        3.0   \n",
       "4     2        10        3.0        0.0        3.0        1.0        3.0   \n",
       "\n",
       "   feature_5  feature_6  feature_7  ...  feature_134  feature_135  \\\n",
       "0   0.333333        0.0   0.333333  ...          0.0     0.000000   \n",
       "1   1.000000        0.0   1.000000  ...          0.0     0.000000   \n",
       "2   1.000000        0.0   0.666667  ...          0.0     0.000000   \n",
       "3   1.000000        0.0   1.000000  ...          0.0     0.000000   \n",
       "4   1.000000        0.0   1.000000  ...        273.0    79.670665   \n",
       "\n",
       "   feature_136  feature_137  feature_138  feature_139  feature_140  \\\n",
       "0     0.454545     0.890238     8.655534     1.000000     0.077778   \n",
       "1     0.000000     0.773976    23.130514     0.000000     0.027826   \n",
       "2     0.000000     0.918308    13.351339     0.000000     0.014925   \n",
       "3     0.000000     0.975355    18.240926     0.000000     0.053140   \n",
       "4     0.200000     0.990119    31.786048     0.333333     0.046512   \n",
       "\n",
       "   feature_141  feature_142  feature_143  \n",
       "0     0.002222          1.0     0.333333  \n",
       "1     0.000430         44.0    14.666667  \n",
       "2     0.000104         22.0     7.333333  \n",
       "3     0.000255          8.0     2.666667  \n",
       "4     0.000307         24.0     8.000000  \n",
       "\n",
       "[5 rows x 146 columns]"
      ]
     },
     "execution_count": 56,
     "metadata": {},
     "output_type": "execute_result"
    }
   ],
   "source": [
    "data = pd.read_csv('C:/Users/savolk25/Downloads/Telegram Desktop/intern_task.csv')\n",
    "data.head()"
   ]
  },
  {
   "cell_type": "code",
   "execution_count": 57,
   "metadata": {},
   "outputs": [
    {
     "data": {
      "text/plain": [
       "(235258, 146)"
      ]
     },
     "execution_count": 57,
     "metadata": {},
     "output_type": "execute_result"
    }
   ],
   "source": [
    "data.shape"
   ]
  },
  {
   "cell_type": "code",
   "execution_count": 58,
   "metadata": {},
   "outputs": [
    {
     "data": {
      "text/plain": [
       "0"
      ]
     },
     "execution_count": 58,
     "metadata": {},
     "output_type": "execute_result"
    }
   ],
   "source": [
    "data.isnull().sum().sum() # => нет нулевых значений"
   ]
  },
  {
   "cell_type": "code",
   "execution_count": 61,
   "metadata": {},
   "outputs": [
    {
     "data": {
      "text/plain": [
       "rank           int64\n",
       "query_id       int64\n",
       "feature_64     int64\n",
       "feature_65     int64\n",
       "feature_72     int64\n",
       "feature_100    int64\n",
       "dtype: object"
      ]
     },
     "execution_count": 61,
     "metadata": {},
     "output_type": "execute_result"
    }
   ],
   "source": [
    "data.dtypes[data.dtypes != 'float64']"
   ]
  },
  {
   "cell_type": "code",
   "execution_count": 62,
   "metadata": {},
   "outputs": [
    {
     "data": {
      "text/plain": [
       "array([   10,    25,    40, ..., 29965, 29980, 29995], dtype=int64)"
      ]
     },
     "execution_count": 62,
     "metadata": {},
     "output_type": "execute_result"
    }
   ],
   "source": [
    "data.query_id.unique()"
   ]
  },
  {
   "cell_type": "code",
   "execution_count": 63,
   "metadata": {},
   "outputs": [
    {
     "data": {
      "text/plain": [
       "array([0, 1, 2, 4, 3], dtype=int64)"
      ]
     },
     "execution_count": 63,
     "metadata": {},
     "output_type": "execute_result"
    }
   ],
   "source": [
    "data['rank'].unique()"
   ]
  },
  {
   "cell_type": "code",
   "execution_count": 64,
   "metadata": {},
   "outputs": [],
   "source": [
    "from sklearn.model_selection import train_test_split"
   ]
  },
  {
   "cell_type": "code",
   "execution_count": 65,
   "metadata": {},
   "outputs": [],
   "source": [
    "import lightgbm as lgb\n",
    "from sklearn.metrics import ndcg_score"
   ]
  },
  {
   "cell_type": "code",
   "execution_count": null,
   "metadata": {},
   "outputs": [],
   "source": []
  },
  {
   "cell_type": "markdown",
   "metadata": {},
   "source": [
    "# решение 1\n"
   ]
  },
  {
   "cell_type": "code",
   "execution_count": 66,
   "metadata": {},
   "outputs": [],
   "source": [
    "train_data, test_data = train_test_split(data, test_size=0.2, random_state=42)\n"
   ]
  },
  {
   "cell_type": "code",
   "execution_count": null,
   "metadata": {},
   "outputs": [
    {
     "data": {
      "text/plain": [
       "5"
      ]
     },
     "execution_count": 33,
     "metadata": {},
     "output_type": "execute_result"
    }
   ],
   "source": [
    "data['rank'].unique().shape[0]"
   ]
  },
  {
   "cell_type": "code",
   "execution_count": null,
   "metadata": {},
   "outputs": [
    {
     "name": "stdout",
     "output_type": "stream",
     "text": [
      "Размеры Train/Test:  (176443, 2) (58815, 2) (176443,) (58815,)\n"
     ]
    },
    {
     "data": {
      "text/plain": [
       "144"
      ]
     },
     "execution_count": 39,
     "metadata": {},
     "output_type": "execute_result"
    }
   ],
   "source": [
    "from sklearn.model_selection import train_test_split\n",
    "import numpy as np\n",
    "feature_names = list(set(data.columns)-set(['rank', 'query_id']))\n",
    "X_train, X_test, Y_train, Y_test = train_test_split(data.drop(feature_names, axis=1), data['rank'])\n",
    "\n",
    "print(\"Размеры Train/Test: \", X_train.shape, X_test.shape, Y_train.shape, Y_test.shape)\n",
    "groups = X_train.groupby('query_id').size().values\n",
    "train_dataset = lgb.Dataset(X_train, Y_train, feature_name=feature_names, group=groups)\n",
    "test_dataset = lgb.Dataset(X_test, Y_test, feature_name=feature_names, group=X_test.groupby('query_id').size().values)\n",
    "\n",
    "len(feature_names)"
   ]
  },
  {
   "cell_type": "code",
   "execution_count": null,
   "metadata": {},
   "outputs": [],
   "source": [
    "data_train, data_test = train_test_split(data, test_size=0.33, random_state=42)\n",
    "\n",
    "data_train, data_test = train_test_split(data, test_size=0.33, random_state=42)\n",
    "qids_train = data_train.groupby(\"query_id\")[\"query_id\"].count().to_numpy()\n",
    "X_train = data_train.drop([\"query_id\", \"rank\"], axis=1)\n",
    "y_train = data_train[\"rank\"]\n",
    "\n",
    "qids_validation = data_test.groupby(\"query_id\")[\"query_id\"].count().to_numpy()\n",
    "X_validation = data_test.drop([\"query_id\", \"rank\"], axis=1)\n",
    "y_validation = data_test[\"rank\"]"
   ]
  },
  {
   "cell_type": "code",
   "execution_count": null,
   "metadata": {},
   "outputs": [
    {
     "name": "stdout",
     "output_type": "stream",
     "text": [
      "[10]\tvalid_0's ndcg@10: 0.559947\n",
      "[20]\tvalid_0's ndcg@10: 0.574128\n",
      "[30]\tvalid_0's ndcg@10: 0.586906\n",
      "[40]\tvalid_0's ndcg@10: 0.595524\n",
      "[50]\tvalid_0's ndcg@10: 0.601536\n",
      "[60]\tvalid_0's ndcg@10: 0.604677\n",
      "[70]\tvalid_0's ndcg@10: 0.60703\n",
      "[80]\tvalid_0's ndcg@10: 0.609676\n",
      "[90]\tvalid_0's ndcg@10: 0.61125\n",
      "[100]\tvalid_0's ndcg@10: 0.61251\n"
     ]
    },
    {
     "data": {
      "text/html": [
       "<style>#sk-container-id-1 {color: black;}#sk-container-id-1 pre{padding: 0;}#sk-container-id-1 div.sk-toggleable {background-color: white;}#sk-container-id-1 label.sk-toggleable__label {cursor: pointer;display: block;width: 100%;margin-bottom: 0;padding: 0.3em;box-sizing: border-box;text-align: center;}#sk-container-id-1 label.sk-toggleable__label-arrow:before {content: \"▸\";float: left;margin-right: 0.25em;color: #696969;}#sk-container-id-1 label.sk-toggleable__label-arrow:hover:before {color: black;}#sk-container-id-1 div.sk-estimator:hover label.sk-toggleable__label-arrow:before {color: black;}#sk-container-id-1 div.sk-toggleable__content {max-height: 0;max-width: 0;overflow: hidden;text-align: left;background-color: #f0f8ff;}#sk-container-id-1 div.sk-toggleable__content pre {margin: 0.2em;color: black;border-radius: 0.25em;background-color: #f0f8ff;}#sk-container-id-1 input.sk-toggleable__control:checked~div.sk-toggleable__content {max-height: 200px;max-width: 100%;overflow: auto;}#sk-container-id-1 input.sk-toggleable__control:checked~label.sk-toggleable__label-arrow:before {content: \"▾\";}#sk-container-id-1 div.sk-estimator input.sk-toggleable__control:checked~label.sk-toggleable__label {background-color: #d4ebff;}#sk-container-id-1 div.sk-label input.sk-toggleable__control:checked~label.sk-toggleable__label {background-color: #d4ebff;}#sk-container-id-1 input.sk-hidden--visually {border: 0;clip: rect(1px 1px 1px 1px);clip: rect(1px, 1px, 1px, 1px);height: 1px;margin: -1px;overflow: hidden;padding: 0;position: absolute;width: 1px;}#sk-container-id-1 div.sk-estimator {font-family: monospace;background-color: #f0f8ff;border: 1px dotted black;border-radius: 0.25em;box-sizing: border-box;margin-bottom: 0.5em;}#sk-container-id-1 div.sk-estimator:hover {background-color: #d4ebff;}#sk-container-id-1 div.sk-parallel-item::after {content: \"\";width: 100%;border-bottom: 1px solid gray;flex-grow: 1;}#sk-container-id-1 div.sk-label:hover label.sk-toggleable__label {background-color: #d4ebff;}#sk-container-id-1 div.sk-serial::before {content: \"\";position: absolute;border-left: 1px solid gray;box-sizing: border-box;top: 0;bottom: 0;left: 50%;z-index: 0;}#sk-container-id-1 div.sk-serial {display: flex;flex-direction: column;align-items: center;background-color: white;padding-right: 0.2em;padding-left: 0.2em;position: relative;}#sk-container-id-1 div.sk-item {position: relative;z-index: 1;}#sk-container-id-1 div.sk-parallel {display: flex;align-items: stretch;justify-content: center;background-color: white;position: relative;}#sk-container-id-1 div.sk-item::before, #sk-container-id-1 div.sk-parallel-item::before {content: \"\";position: absolute;border-left: 1px solid gray;box-sizing: border-box;top: 0;bottom: 0;left: 50%;z-index: -1;}#sk-container-id-1 div.sk-parallel-item {display: flex;flex-direction: column;z-index: 1;position: relative;background-color: white;}#sk-container-id-1 div.sk-parallel-item:first-child::after {align-self: flex-end;width: 50%;}#sk-container-id-1 div.sk-parallel-item:last-child::after {align-self: flex-start;width: 50%;}#sk-container-id-1 div.sk-parallel-item:only-child::after {width: 0;}#sk-container-id-1 div.sk-dashed-wrapped {border: 1px dashed gray;margin: 0 0.4em 0.5em 0.4em;box-sizing: border-box;padding-bottom: 0.4em;background-color: white;}#sk-container-id-1 div.sk-label label {font-family: monospace;font-weight: bold;display: inline-block;line-height: 1.2em;}#sk-container-id-1 div.sk-label-container {text-align: center;}#sk-container-id-1 div.sk-container {/* jupyter's `normalize.less` sets `[hidden] { display: none; }` but bootstrap.min.css set `[hidden] { display: none !important; }` so we also need the `!important` here to be able to override the default hidden behavior on the sphinx rendered scikit-learn.org. See: https://github.com/scikit-learn/scikit-learn/issues/21755 */display: inline-block !important;position: relative;}#sk-container-id-1 div.sk-text-repr-fallback {display: none;}</style><div id=\"sk-container-id-1\" class=\"sk-top-container\"><div class=\"sk-text-repr-fallback\"><pre>LGBMRanker(metric=&#x27;ndcg&#x27;, objective=&#x27;lambdarank&#x27;)</pre><b>In a Jupyter environment, please rerun this cell to show the HTML representation or trust the notebook. <br />On GitHub, the HTML representation is unable to render, please try loading this page with nbviewer.org.</b></div><div class=\"sk-container\" hidden><div class=\"sk-item\"><div class=\"sk-estimator sk-toggleable\"><input class=\"sk-toggleable__control sk-hidden--visually\" id=\"sk-estimator-id-1\" type=\"checkbox\" checked><label for=\"sk-estimator-id-1\" class=\"sk-toggleable__label sk-toggleable__label-arrow\">LGBMRanker</label><div class=\"sk-toggleable__content\"><pre>LGBMRanker(metric=&#x27;ndcg&#x27;, objective=&#x27;lambdarank&#x27;)</pre></div></div></div></div></div>"
      ],
      "text/plain": [
       "LGBMRanker(metric='ndcg', objective='lambdarank')"
      ]
     },
     "execution_count": 43,
     "metadata": {},
     "output_type": "execute_result"
    }
   ],
   "source": [
    "import lightgbm\n",
    "model = lightgbm.LGBMRanker(\n",
    "    objective=\"lambdarank\",\n",
    "    metric=\"ndcg\",\n",
    ")\n",
    "\n",
    "model.fit(\n",
    "    X=X_train,\n",
    "    y=y_train,\n",
    "    group=qids_train,\n",
    "    eval_set=[(X_validation, y_validation)],\n",
    "    eval_group=[qids_validation],\n",
    "    eval_at=10,\n",
    "    verbose=10,\n",
    ")"
   ]
  },
  {
   "cell_type": "code",
   "execution_count": null,
   "metadata": {},
   "outputs": [
    {
     "name": "stdout",
     "output_type": "stream",
     "text": [
      "Average NDCG@5: 0.25508445627044307\n"
     ]
    }
   ],
   "source": [
    "import numpy as np\n",
    "\n",
    "y_pred = model.predict(X_validation)\n",
    "\n",
    "def dcg_at_k(r, k):\n",
    "    r = np.asfarray(r)[:k]\n",
    "    if r.size:\n",
    "        return np.sum(np.subtract(np.power(2, r), 1) / np.log2(np.arange(2, r.size + 2)))\n",
    "    return 0.\n",
    "\n",
    "def ndcg_at_k(r, k):\n",
    "    idcg = dcg_at_k(sorted(r, reverse=True), k)\n",
    "    if not idcg:\n",
    "        return 0.\n",
    "    return dcg_at_k(r, k) / idcg\n",
    "\n",
    "ndcg_scores = []\n",
    "for i in range(len(qids_validation)):\n",
    "    start = sum(qids_validation[:i])\n",
    "    end = start + qids_validation[i]\n",
    "    group_preds = y_pred[start:end]\n",
    "    group_true = y_validation.iloc[start:end]\n",
    "    ndcg_scores.append(ndcg_at_k(group_true, 5))\n",
    "\n",
    "average_ndcg_5 = np.mean(ndcg_scores)\n",
    "print(f\"Average NDCG@5: {average_ndcg_5}\")\n"
   ]
  },
  {
   "cell_type": "markdown",
   "metadata": {},
   "source": [
    "# Решение 2"
   ]
  },
  {
   "cell_type": "code",
   "execution_count": 69,
   "metadata": {},
   "outputs": [],
   "source": [
    "train, test = train_test_split(data, test_size=0.33, random_state=42)"
   ]
  },
  {
   "cell_type": "code",
   "execution_count": 77,
   "metadata": {},
   "outputs": [],
   "source": [
    "features = list(set(data.columns) - set(['rank', 'query_id']))\n",
    "query_col = 'query_id'\n",
    "target_col = 'rank'"
   ]
  },
  {
   "cell_type": "code",
   "execution_count": 78,
   "metadata": {},
   "outputs": [],
   "source": [
    "train = train.sort_values('query_id').reset_index(drop=True)\n",
    "test = test.sort_values('query_id').reset_index(drop=True)"
   ]
  },
  {
   "cell_type": "code",
   "execution_count": 79,
   "metadata": {},
   "outputs": [],
   "source": [
    "train_query = train[query_col].value_counts().sort_index()\n",
    "test_query = test[query_col].value_counts().sort_index()"
   ]
  },
  {
   "cell_type": "code",
   "execution_count": 80,
   "metadata": {},
   "outputs": [],
   "source": [
    "import optuna"
   ]
  },
  {
   "cell_type": "code",
   "execution_count": 91,
   "metadata": {},
   "outputs": [
    {
     "name": "stderr",
     "output_type": "stream",
     "text": [
      "[I 2024-04-29 23:21:09,401] A new study created in memory with name: no-name-b58c4d65-c554-4edb-863c-86fbaa813bce\n",
      "C:\\Users\\savolk25\\AppData\\Local\\Temp\\ipykernel_19764\\389573219.py:4: FutureWarning: suggest_loguniform has been deprecated in v3.0.0. This feature will be removed in v6.0.0. See https://github.com/optuna/optuna/releases/tag/v3.0.0. Use suggest_float(..., log=True) instead.\n",
      "  'reg_alpha': trial.suggest_loguniform('lambda_l1', 1e-8, 10.0),\n",
      "C:\\Users\\savolk25\\AppData\\Local\\Temp\\ipykernel_19764\\389573219.py:5: FutureWarning: suggest_loguniform has been deprecated in v3.0.0. This feature will be removed in v6.0.0. See https://github.com/optuna/optuna/releases/tag/v3.0.0. Use suggest_float(..., log=True) instead.\n",
      "  'reg_lambda': trial.suggest_loguniform('lambda_l2', 1e-8, 10.0),\n",
      "C:\\Users\\savolk25\\AppData\\Local\\Temp\\ipykernel_19764\\389573219.py:8: FutureWarning: suggest_uniform has been deprecated in v3.0.0. This feature will be removed in v6.0.0. See https://github.com/optuna/optuna/releases/tag/v3.0.0. Use suggest_float instead.\n",
      "  'colsample_bytree': trial.suggest_uniform('colsample_bytree', 0.1, 1),\n"
     ]
    },
    {
     "name": "stdout",
     "output_type": "stream",
     "text": [
      "Training until validation scores don't improve for 50 rounds\n",
      "[10]\tvalid_0's ndcg@1: 0.473162\tvalid_0's ndcg@3: 0.488408\tvalid_0's ndcg@5: 0.505774\tvalid_0's ndcg@10: 0.547863\tvalid_0's ndcg@20: 0.618362\n",
      "[20]\tvalid_0's ndcg@1: 0.486627\tvalid_0's ndcg@3: 0.5055\tvalid_0's ndcg@5: 0.518108\tvalid_0's ndcg@10: 0.560423\tvalid_0's ndcg@20: 0.628358\n",
      "[30]\tvalid_0's ndcg@1: 0.485518\tvalid_0's ndcg@3: 0.509006\tvalid_0's ndcg@5: 0.523757\tvalid_0's ndcg@10: 0.565037\tvalid_0's ndcg@20: 0.632432\n",
      "[40]\tvalid_0's ndcg@1: 0.499513\tvalid_0's ndcg@3: 0.515961\tvalid_0's ndcg@5: 0.530979\tvalid_0's ndcg@10: 0.571257\tvalid_0's ndcg@20: 0.638695\n",
      "[50]\tvalid_0's ndcg@1: 0.502025\tvalid_0's ndcg@3: 0.518965\tvalid_0's ndcg@5: 0.536084\tvalid_0's ndcg@10: 0.57457\tvalid_0's ndcg@20: 0.641458\n",
      "[60]\tvalid_0's ndcg@1: 0.506902\tvalid_0's ndcg@3: 0.521558\tvalid_0's ndcg@5: 0.538654\tvalid_0's ndcg@10: 0.578747\tvalid_0's ndcg@20: 0.643461\n",
      "[70]\tvalid_0's ndcg@1: 0.509266\tvalid_0's ndcg@3: 0.525173\tvalid_0's ndcg@5: 0.54249\tvalid_0's ndcg@10: 0.580246\tvalid_0's ndcg@20: 0.646153\n",
      "[80]\tvalid_0's ndcg@1: 0.51109\tvalid_0's ndcg@3: 0.526121\tvalid_0's ndcg@5: 0.543225\tvalid_0's ndcg@10: 0.582465\tvalid_0's ndcg@20: 0.647503\n",
      "[90]\tvalid_0's ndcg@1: 0.513225\tvalid_0's ndcg@3: 0.526877\tvalid_0's ndcg@5: 0.545683\tvalid_0's ndcg@10: 0.584794\tvalid_0's ndcg@20: 0.649345\n",
      "[100]\tvalid_0's ndcg@1: 0.51548\tvalid_0's ndcg@3: 0.528356\tvalid_0's ndcg@5: 0.546702\tvalid_0's ndcg@10: 0.584787\tvalid_0's ndcg@20: 0.650606\n",
      "[110]\tvalid_0's ndcg@1: 0.519148\tvalid_0's ndcg@3: 0.530642\tvalid_0's ndcg@5: 0.54841\tvalid_0's ndcg@10: 0.587109\tvalid_0's ndcg@20: 0.651833\n",
      "[120]\tvalid_0's ndcg@1: 0.518159\tvalid_0's ndcg@3: 0.530062\tvalid_0's ndcg@5: 0.549233\tvalid_0's ndcg@10: 0.587277\tvalid_0's ndcg@20: 0.651927\n",
      "[130]\tvalid_0's ndcg@1: 0.519072\tvalid_0's ndcg@3: 0.531853\tvalid_0's ndcg@5: 0.550744\tvalid_0's ndcg@10: 0.587533\tvalid_0's ndcg@20: 0.652598\n",
      "[140]\tvalid_0's ndcg@1: 0.52134\tvalid_0's ndcg@3: 0.533423\tvalid_0's ndcg@5: 0.551931\tvalid_0's ndcg@10: 0.588416\tvalid_0's ndcg@20: 0.653147\n",
      "[150]\tvalid_0's ndcg@1: 0.520051\tvalid_0's ndcg@3: 0.534798\tvalid_0's ndcg@5: 0.553036\tvalid_0's ndcg@10: 0.588858\tvalid_0's ndcg@20: 0.653783\n",
      "[160]\tvalid_0's ndcg@1: 0.520199\tvalid_0's ndcg@3: 0.534279\tvalid_0's ndcg@5: 0.552963\tvalid_0's ndcg@10: 0.589471\tvalid_0's ndcg@20: 0.654199\n",
      "[170]\tvalid_0's ndcg@1: 0.521526\tvalid_0's ndcg@3: 0.534973\tvalid_0's ndcg@5: 0.55297\tvalid_0's ndcg@10: 0.589787\tvalid_0's ndcg@20: 0.654463\n",
      "[180]\tvalid_0's ndcg@1: 0.519721\tvalid_0's ndcg@3: 0.534318\tvalid_0's ndcg@5: 0.553165\tvalid_0's ndcg@10: 0.589649\tvalid_0's ndcg@20: 0.654363\n",
      "[190]\tvalid_0's ndcg@1: 0.521149\tvalid_0's ndcg@3: 0.536047\tvalid_0's ndcg@5: 0.553248\tvalid_0's ndcg@10: 0.590916\tvalid_0's ndcg@20: 0.655263\n",
      "[200]\tvalid_0's ndcg@1: 0.520457\tvalid_0's ndcg@3: 0.535684\tvalid_0's ndcg@5: 0.552748\tvalid_0's ndcg@10: 0.590854\tvalid_0's ndcg@20: 0.655077\n",
      "[210]\tvalid_0's ndcg@1: 0.523943\tvalid_0's ndcg@3: 0.53663\tvalid_0's ndcg@5: 0.554293\tvalid_0's ndcg@10: 0.591949\tvalid_0's ndcg@20: 0.656301\n",
      "[220]\tvalid_0's ndcg@1: 0.523313\tvalid_0's ndcg@3: 0.537155\tvalid_0's ndcg@5: 0.554781\tvalid_0's ndcg@10: 0.592848\tvalid_0's ndcg@20: 0.656167\n",
      "[230]\tvalid_0's ndcg@1: 0.526628\tvalid_0's ndcg@3: 0.538149\tvalid_0's ndcg@5: 0.555214\tvalid_0's ndcg@10: 0.592869\tvalid_0's ndcg@20: 0.657736\n",
      "[240]\tvalid_0's ndcg@1: 0.527377\tvalid_0's ndcg@3: 0.538878\tvalid_0's ndcg@5: 0.555727\tvalid_0's ndcg@10: 0.593345\tvalid_0's ndcg@20: 0.657924\n",
      "[250]\tvalid_0's ndcg@1: 0.525863\tvalid_0's ndcg@3: 0.53618\tvalid_0's ndcg@5: 0.555643\tvalid_0's ndcg@10: 0.593752\tvalid_0's ndcg@20: 0.657649\n",
      "[260]\tvalid_0's ndcg@1: 0.523967\tvalid_0's ndcg@3: 0.538061\tvalid_0's ndcg@5: 0.555486\tvalid_0's ndcg@10: 0.594342\tvalid_0's ndcg@20: 0.657596\n",
      "[270]\tvalid_0's ndcg@1: 0.523217\tvalid_0's ndcg@3: 0.538484\tvalid_0's ndcg@5: 0.556644\tvalid_0's ndcg@10: 0.593472\tvalid_0's ndcg@20: 0.65774\n"
     ]
    },
    {
     "name": "stderr",
     "output_type": "stream",
     "text": [
      "[I 2024-04-29 23:21:16,202] Trial 0 finished with value: 0.5744781768043928 and parameters: {'lambda_l1': 2.348881295853308e-05, 'lambda_l2': 3.6010467344475403, 'max_depth': 7, 'num_leaves': 154, 'colsample_bytree': 0.24041677639819287, 'min_child_samples': 19}. Best is trial 0 with value: 0.5744781768043928.\n"
     ]
    },
    {
     "name": "stdout",
     "output_type": "stream",
     "text": [
      "[280]\tvalid_0's ndcg@1: 0.525137\tvalid_0's ndcg@3: 0.538897\tvalid_0's ndcg@5: 0.55683\tvalid_0's ndcg@10: 0.593999\tvalid_0's ndcg@20: 0.658124\n",
      "Early stopping, best iteration is:\n",
      "[235]\tvalid_0's ndcg@1: 0.52807\tvalid_0's ndcg@3: 0.538056\tvalid_0's ndcg@5: 0.555321\tvalid_0's ndcg@10: 0.593249\tvalid_0's ndcg@20: 0.657695\n"
     ]
    },
    {
     "name": "stderr",
     "output_type": "stream",
     "text": [
      "C:\\Users\\savolk25\\AppData\\Local\\Temp\\ipykernel_19764\\389573219.py:4: FutureWarning: suggest_loguniform has been deprecated in v3.0.0. This feature will be removed in v6.0.0. See https://github.com/optuna/optuna/releases/tag/v3.0.0. Use suggest_float(..., log=True) instead.\n",
      "  'reg_alpha': trial.suggest_loguniform('lambda_l1', 1e-8, 10.0),\n",
      "C:\\Users\\savolk25\\AppData\\Local\\Temp\\ipykernel_19764\\389573219.py:5: FutureWarning: suggest_loguniform has been deprecated in v3.0.0. This feature will be removed in v6.0.0. See https://github.com/optuna/optuna/releases/tag/v3.0.0. Use suggest_float(..., log=True) instead.\n",
      "  'reg_lambda': trial.suggest_loguniform('lambda_l2', 1e-8, 10.0),\n",
      "C:\\Users\\savolk25\\AppData\\Local\\Temp\\ipykernel_19764\\389573219.py:8: FutureWarning: suggest_uniform has been deprecated in v3.0.0. This feature will be removed in v6.0.0. See https://github.com/optuna/optuna/releases/tag/v3.0.0. Use suggest_float instead.\n",
      "  'colsample_bytree': trial.suggest_uniform('colsample_bytree', 0.1, 1),\n"
     ]
    },
    {
     "name": "stdout",
     "output_type": "stream",
     "text": [
      "Training until validation scores don't improve for 50 rounds\n",
      "[10]\tvalid_0's ndcg@1: 0.44398\tvalid_0's ndcg@3: 0.460777\tvalid_0's ndcg@5: 0.483653\tvalid_0's ndcg@10: 0.532047\tvalid_0's ndcg@20: 0.605778\n",
      "[20]\tvalid_0's ndcg@1: 0.454917\tvalid_0's ndcg@3: 0.475853\tvalid_0's ndcg@5: 0.493902\tvalid_0's ndcg@10: 0.539597\tvalid_0's ndcg@20: 0.612467\n",
      "[30]\tvalid_0's ndcg@1: 0.474729\tvalid_0's ndcg@3: 0.491256\tvalid_0's ndcg@5: 0.50865\tvalid_0's ndcg@10: 0.552069\tvalid_0's ndcg@20: 0.622697\n",
      "[40]\tvalid_0's ndcg@1: 0.486841\tvalid_0's ndcg@3: 0.500208\tvalid_0's ndcg@5: 0.517225\tvalid_0's ndcg@10: 0.560176\tvalid_0's ndcg@20: 0.627808\n",
      "[50]\tvalid_0's ndcg@1: 0.493218\tvalid_0's ndcg@3: 0.509174\tvalid_0's ndcg@5: 0.52504\tvalid_0's ndcg@10: 0.566919\tvalid_0's ndcg@20: 0.632504\n",
      "[60]\tvalid_0's ndcg@1: 0.498257\tvalid_0's ndcg@3: 0.512476\tvalid_0's ndcg@5: 0.527502\tvalid_0's ndcg@10: 0.569585\tvalid_0's ndcg@20: 0.636072\n",
      "[70]\tvalid_0's ndcg@1: 0.500602\tvalid_0's ndcg@3: 0.516671\tvalid_0's ndcg@5: 0.531544\tvalid_0's ndcg@10: 0.571999\tvalid_0's ndcg@20: 0.637454\n",
      "[80]\tvalid_0's ndcg@1: 0.507179\tvalid_0's ndcg@3: 0.518897\tvalid_0's ndcg@5: 0.534577\tvalid_0's ndcg@10: 0.574447\tvalid_0's ndcg@20: 0.640204\n",
      "[90]\tvalid_0's ndcg@1: 0.509758\tvalid_0's ndcg@3: 0.520818\tvalid_0's ndcg@5: 0.535661\tvalid_0's ndcg@10: 0.575926\tvalid_0's ndcg@20: 0.641971\n",
      "[100]\tvalid_0's ndcg@1: 0.512132\tvalid_0's ndcg@3: 0.523186\tvalid_0's ndcg@5: 0.53761\tvalid_0's ndcg@10: 0.577473\tvalid_0's ndcg@20: 0.643443\n",
      "[110]\tvalid_0's ndcg@1: 0.515623\tvalid_0's ndcg@3: 0.524225\tvalid_0's ndcg@5: 0.53957\tvalid_0's ndcg@10: 0.578782\tvalid_0's ndcg@20: 0.645647\n",
      "[120]\tvalid_0's ndcg@1: 0.514348\tvalid_0's ndcg@3: 0.526515\tvalid_0's ndcg@5: 0.541257\tvalid_0's ndcg@10: 0.580207\tvalid_0's ndcg@20: 0.647089\n",
      "[130]\tvalid_0's ndcg@1: 0.514802\tvalid_0's ndcg@3: 0.526132\tvalid_0's ndcg@5: 0.540768\tvalid_0's ndcg@10: 0.580855\tvalid_0's ndcg@20: 0.646955\n",
      "[140]\tvalid_0's ndcg@1: 0.51376\tvalid_0's ndcg@3: 0.527479\tvalid_0's ndcg@5: 0.540911\tvalid_0's ndcg@10: 0.582141\tvalid_0's ndcg@20: 0.647721\n",
      "[150]\tvalid_0's ndcg@1: 0.517452\tvalid_0's ndcg@3: 0.529853\tvalid_0's ndcg@5: 0.54539\tvalid_0's ndcg@10: 0.584823\tvalid_0's ndcg@20: 0.64932\n",
      "[160]\tvalid_0's ndcg@1: 0.518236\tvalid_0's ndcg@3: 0.529411\tvalid_0's ndcg@5: 0.545198\tvalid_0's ndcg@10: 0.584687\tvalid_0's ndcg@20: 0.649685\n",
      "[170]\tvalid_0's ndcg@1: 0.517686\tvalid_0's ndcg@3: 0.530071\tvalid_0's ndcg@5: 0.546499\tvalid_0's ndcg@10: 0.585127\tvalid_0's ndcg@20: 0.650038\n",
      "[180]\tvalid_0's ndcg@1: 0.518159\tvalid_0's ndcg@3: 0.532266\tvalid_0's ndcg@5: 0.547213\tvalid_0's ndcg@10: 0.585916\tvalid_0's ndcg@20: 0.650538\n",
      "[190]\tvalid_0's ndcg@1: 0.518379\tvalid_0's ndcg@3: 0.532342\tvalid_0's ndcg@5: 0.548009\tvalid_0's ndcg@10: 0.586813\tvalid_0's ndcg@20: 0.650761\n",
      "[200]\tvalid_0's ndcg@1: 0.518823\tvalid_0's ndcg@3: 0.533012\tvalid_0's ndcg@5: 0.547669\tvalid_0's ndcg@10: 0.587188\tvalid_0's ndcg@20: 0.650837\n",
      "[210]\tvalid_0's ndcg@1: 0.520466\tvalid_0's ndcg@3: 0.533945\tvalid_0's ndcg@5: 0.549156\tvalid_0's ndcg@10: 0.588591\tvalid_0's ndcg@20: 0.651183\n",
      "[220]\tvalid_0's ndcg@1: 0.51899\tvalid_0's ndcg@3: 0.533471\tvalid_0's ndcg@5: 0.548883\tvalid_0's ndcg@10: 0.588226\tvalid_0's ndcg@20: 0.651677\n",
      "[230]\tvalid_0's ndcg@1: 0.519912\tvalid_0's ndcg@3: 0.533309\tvalid_0's ndcg@5: 0.548124\tvalid_0's ndcg@10: 0.587899\tvalid_0's ndcg@20: 0.651528\n",
      "[240]\tvalid_0's ndcg@1: 0.521589\tvalid_0's ndcg@3: 0.534856\tvalid_0's ndcg@5: 0.548746\tvalid_0's ndcg@10: 0.589542\tvalid_0's ndcg@20: 0.652266\n",
      "[250]\tvalid_0's ndcg@1: 0.519793\tvalid_0's ndcg@3: 0.533322\tvalid_0's ndcg@5: 0.548504\tvalid_0's ndcg@10: 0.589242\tvalid_0's ndcg@20: 0.652215\n",
      "[260]\tvalid_0's ndcg@1: 0.523523\tvalid_0's ndcg@3: 0.533655\tvalid_0's ndcg@5: 0.549048\tvalid_0's ndcg@10: 0.589658\tvalid_0's ndcg@20: 0.652485\n",
      "[270]\tvalid_0's ndcg@1: 0.523399\tvalid_0's ndcg@3: 0.533359\tvalid_0's ndcg@5: 0.548258\tvalid_0's ndcg@10: 0.590132\tvalid_0's ndcg@20: 0.65255\n"
     ]
    },
    {
     "name": "stderr",
     "output_type": "stream",
     "text": [
      "[I 2024-04-29 23:21:21,670] Trial 1 finished with value: 0.5692236627529382 and parameters: {'lambda_l1': 3.3323645788192616e-08, 'lambda_l2': 0.6245760287469893, 'max_depth': 6, 'num_leaves': 182, 'colsample_bytree': 0.1185260448662222, 'min_child_samples': 98}. Best is trial 0 with value: 0.5744781768043928.\n"
     ]
    },
    {
     "name": "stdout",
     "output_type": "stream",
     "text": [
      "[280]\tvalid_0's ndcg@1: 0.523265\tvalid_0's ndcg@3: 0.532677\tvalid_0's ndcg@5: 0.548802\tvalid_0's ndcg@10: 0.589635\tvalid_0's ndcg@20: 0.652789\n",
      "Early stopping, best iteration is:\n",
      "[238]\tvalid_0's ndcg@1: 0.5207\tvalid_0's ndcg@3: 0.535427\tvalid_0's ndcg@5: 0.548492\tvalid_0's ndcg@10: 0.589265\tvalid_0's ndcg@20: 0.652234\n"
     ]
    },
    {
     "name": "stderr",
     "output_type": "stream",
     "text": [
      "C:\\Users\\savolk25\\AppData\\Local\\Temp\\ipykernel_19764\\389573219.py:4: FutureWarning: suggest_loguniform has been deprecated in v3.0.0. This feature will be removed in v6.0.0. See https://github.com/optuna/optuna/releases/tag/v3.0.0. Use suggest_float(..., log=True) instead.\n",
      "  'reg_alpha': trial.suggest_loguniform('lambda_l1', 1e-8, 10.0),\n",
      "C:\\Users\\savolk25\\AppData\\Local\\Temp\\ipykernel_19764\\389573219.py:5: FutureWarning: suggest_loguniform has been deprecated in v3.0.0. This feature will be removed in v6.0.0. See https://github.com/optuna/optuna/releases/tag/v3.0.0. Use suggest_float(..., log=True) instead.\n",
      "  'reg_lambda': trial.suggest_loguniform('lambda_l2', 1e-8, 10.0),\n",
      "C:\\Users\\savolk25\\AppData\\Local\\Temp\\ipykernel_19764\\389573219.py:8: FutureWarning: suggest_uniform has been deprecated in v3.0.0. This feature will be removed in v6.0.0. See https://github.com/optuna/optuna/releases/tag/v3.0.0. Use suggest_float instead.\n",
      "  'colsample_bytree': trial.suggest_uniform('colsample_bytree', 0.1, 1),\n"
     ]
    },
    {
     "name": "stdout",
     "output_type": "stream",
     "text": [
      "Training until validation scores don't improve for 50 rounds\n",
      "[10]\tvalid_0's ndcg@1: 0.458643\tvalid_0's ndcg@3: 0.474128\tvalid_0's ndcg@5: 0.49494\tvalid_0's ndcg@10: 0.538201\tvalid_0's ndcg@20: 0.607266\n",
      "[20]\tvalid_0's ndcg@1: 0.467288\tvalid_0's ndcg@3: 0.486861\tvalid_0's ndcg@5: 0.503886\tvalid_0's ndcg@10: 0.546431\tvalid_0's ndcg@20: 0.615435\n",
      "[30]\tvalid_0's ndcg@1: 0.477595\tvalid_0's ndcg@3: 0.495928\tvalid_0's ndcg@5: 0.512757\tvalid_0's ndcg@10: 0.553561\tvalid_0's ndcg@20: 0.621995\n",
      "[40]\tvalid_0's ndcg@1: 0.490801\tvalid_0's ndcg@3: 0.503383\tvalid_0's ndcg@5: 0.520714\tvalid_0's ndcg@10: 0.561954\tvalid_0's ndcg@20: 0.628262\n",
      "[50]\tvalid_0's ndcg@1: 0.49179\tvalid_0's ndcg@3: 0.509192\tvalid_0's ndcg@5: 0.523081\tvalid_0's ndcg@10: 0.564107\tvalid_0's ndcg@20: 0.631492\n",
      "[60]\tvalid_0's ndcg@1: 0.497048\tvalid_0's ndcg@3: 0.512724\tvalid_0's ndcg@5: 0.527226\tvalid_0's ndcg@10: 0.56811\tvalid_0's ndcg@20: 0.634567\n",
      "[70]\tvalid_0's ndcg@1: 0.502713\tvalid_0's ndcg@3: 0.514612\tvalid_0's ndcg@5: 0.530386\tvalid_0's ndcg@10: 0.570419\tvalid_0's ndcg@20: 0.63671\n",
      "[80]\tvalid_0's ndcg@1: 0.506873\tvalid_0's ndcg@3: 0.517084\tvalid_0's ndcg@5: 0.531338\tvalid_0's ndcg@10: 0.571594\tvalid_0's ndcg@20: 0.638255\n",
      "[90]\tvalid_0's ndcg@1: 0.505966\tvalid_0's ndcg@3: 0.515649\tvalid_0's ndcg@5: 0.532836\tvalid_0's ndcg@10: 0.572651\tvalid_0's ndcg@20: 0.638809\n",
      "[100]\tvalid_0's ndcg@1: 0.50619\tvalid_0's ndcg@3: 0.517325\tvalid_0's ndcg@5: 0.534629\tvalid_0's ndcg@10: 0.573465\tvalid_0's ndcg@20: 0.640021\n",
      "[110]\tvalid_0's ndcg@1: 0.505063\tvalid_0's ndcg@3: 0.517485\tvalid_0's ndcg@5: 0.535211\tvalid_0's ndcg@10: 0.574197\tvalid_0's ndcg@20: 0.64001\n",
      "[120]\tvalid_0's ndcg@1: 0.507246\tvalid_0's ndcg@3: 0.518805\tvalid_0's ndcg@5: 0.535313\tvalid_0's ndcg@10: 0.574682\tvalid_0's ndcg@20: 0.640972\n",
      "[130]\tvalid_0's ndcg@1: 0.509142\tvalid_0's ndcg@3: 0.51809\tvalid_0's ndcg@5: 0.53595\tvalid_0's ndcg@10: 0.575392\tvalid_0's ndcg@20: 0.640895\n",
      "[140]\tvalid_0's ndcg@1: 0.508998\tvalid_0's ndcg@3: 0.519536\tvalid_0's ndcg@5: 0.536463\tvalid_0's ndcg@10: 0.576171\tvalid_0's ndcg@20: 0.64148\n",
      "[150]\tvalid_0's ndcg@1: 0.509949\tvalid_0's ndcg@3: 0.518586\tvalid_0's ndcg@5: 0.536694\tvalid_0's ndcg@10: 0.576191\tvalid_0's ndcg@20: 0.641345\n",
      "[160]\tvalid_0's ndcg@1: 0.510914\tvalid_0's ndcg@3: 0.520501\tvalid_0's ndcg@5: 0.537794\tvalid_0's ndcg@10: 0.577105\tvalid_0's ndcg@20: 0.642424\n",
      "[170]\tvalid_0's ndcg@1: 0.511286\tvalid_0's ndcg@3: 0.521085\tvalid_0's ndcg@5: 0.538011\tvalid_0's ndcg@10: 0.577842\tvalid_0's ndcg@20: 0.642627\n",
      "[180]\tvalid_0's ndcg@1: 0.514396\tvalid_0's ndcg@3: 0.523158\tvalid_0's ndcg@5: 0.54025\tvalid_0's ndcg@10: 0.579113\tvalid_0's ndcg@20: 0.64419\n",
      "[190]\tvalid_0's ndcg@1: 0.517075\tvalid_0's ndcg@3: 0.526058\tvalid_0's ndcg@5: 0.5402\tvalid_0's ndcg@10: 0.580045\tvalid_0's ndcg@20: 0.644832\n",
      "[200]\tvalid_0's ndcg@1: 0.515571\tvalid_0's ndcg@3: 0.526491\tvalid_0's ndcg@5: 0.540252\tvalid_0's ndcg@10: 0.579911\tvalid_0's ndcg@20: 0.644872\n",
      "[210]\tvalid_0's ndcg@1: 0.516894\tvalid_0's ndcg@3: 0.525741\tvalid_0's ndcg@5: 0.541217\tvalid_0's ndcg@10: 0.580508\tvalid_0's ndcg@20: 0.645762\n",
      "[220]\tvalid_0's ndcg@1: 0.513412\tvalid_0's ndcg@3: 0.525274\tvalid_0's ndcg@5: 0.54018\tvalid_0's ndcg@10: 0.580274\tvalid_0's ndcg@20: 0.644967\n",
      "[230]\tvalid_0's ndcg@1: 0.516722\tvalid_0's ndcg@3: 0.527106\tvalid_0's ndcg@5: 0.541414\tvalid_0's ndcg@10: 0.581971\tvalid_0's ndcg@20: 0.645768\n",
      "[240]\tvalid_0's ndcg@1: 0.516683\tvalid_0's ndcg@3: 0.527099\tvalid_0's ndcg@5: 0.541531\tvalid_0's ndcg@10: 0.582046\tvalid_0's ndcg@20: 0.645984\n",
      "[250]\tvalid_0's ndcg@1: 0.517935\tvalid_0's ndcg@3: 0.526841\tvalid_0's ndcg@5: 0.541973\tvalid_0's ndcg@10: 0.581363\tvalid_0's ndcg@20: 0.646619\n",
      "[260]\tvalid_0's ndcg@1: 0.518078\tvalid_0's ndcg@3: 0.526596\tvalid_0's ndcg@5: 0.542336\tvalid_0's ndcg@10: 0.581647\tvalid_0's ndcg@20: 0.646633\n",
      "[270]\tvalid_0's ndcg@1: 0.52113\tvalid_0's ndcg@3: 0.526707\tvalid_0's ndcg@5: 0.54272\tvalid_0's ndcg@10: 0.582088\tvalid_0's ndcg@20: 0.646697\n",
      "[280]\tvalid_0's ndcg@1: 0.521011\tvalid_0's ndcg@3: 0.528076\tvalid_0's ndcg@5: 0.543241\tvalid_0's ndcg@10: 0.582381\tvalid_0's ndcg@20: 0.647281\n",
      "[290]\tvalid_0's ndcg@1: 0.520313\tvalid_0's ndcg@3: 0.527754\tvalid_0's ndcg@5: 0.543804\tvalid_0's ndcg@10: 0.582525\tvalid_0's ndcg@20: 0.647468\n",
      "[300]\tvalid_0's ndcg@1: 0.519291\tvalid_0's ndcg@3: 0.52665\tvalid_0's ndcg@5: 0.542177\tvalid_0's ndcg@10: 0.582645\tvalid_0's ndcg@20: 0.647177\n",
      "[310]\tvalid_0's ndcg@1: 0.519205\tvalid_0's ndcg@3: 0.52758\tvalid_0's ndcg@5: 0.542683\tvalid_0's ndcg@10: 0.582304\tvalid_0's ndcg@20: 0.647189\n"
     ]
    },
    {
     "name": "stderr",
     "output_type": "stream",
     "text": [
      "[I 2024-04-29 23:21:27,671] Trial 2 finished with value: 0.5650483485595711 and parameters: {'lambda_l1': 0.31044435499483225, 'lambda_l2': 8.148018307012941e-07, 'max_depth': 4, 'num_leaves': 48, 'colsample_bytree': 0.373818018663584, 'min_child_samples': 55}. Best is trial 0 with value: 0.5744781768043928.\n"
     ]
    },
    {
     "name": "stdout",
     "output_type": "stream",
     "text": [
      "[320]\tvalid_0's ndcg@1: 0.519606\tvalid_0's ndcg@3: 0.528345\tvalid_0's ndcg@5: 0.54317\tvalid_0's ndcg@10: 0.582876\tvalid_0's ndcg@20: 0.647308\n",
      "Early stopping, best iteration is:\n",
      "[278]\tvalid_0's ndcg@1: 0.523084\tvalid_0's ndcg@3: 0.528271\tvalid_0's ndcg@5: 0.543839\tvalid_0's ndcg@10: 0.58261\tvalid_0's ndcg@20: 0.647438\n"
     ]
    },
    {
     "name": "stderr",
     "output_type": "stream",
     "text": [
      "C:\\Users\\savolk25\\AppData\\Local\\Temp\\ipykernel_19764\\389573219.py:4: FutureWarning: suggest_loguniform has been deprecated in v3.0.0. This feature will be removed in v6.0.0. See https://github.com/optuna/optuna/releases/tag/v3.0.0. Use suggest_float(..., log=True) instead.\n",
      "  'reg_alpha': trial.suggest_loguniform('lambda_l1', 1e-8, 10.0),\n",
      "C:\\Users\\savolk25\\AppData\\Local\\Temp\\ipykernel_19764\\389573219.py:5: FutureWarning: suggest_loguniform has been deprecated in v3.0.0. This feature will be removed in v6.0.0. See https://github.com/optuna/optuna/releases/tag/v3.0.0. Use suggest_float(..., log=True) instead.\n",
      "  'reg_lambda': trial.suggest_loguniform('lambda_l2', 1e-8, 10.0),\n",
      "C:\\Users\\savolk25\\AppData\\Local\\Temp\\ipykernel_19764\\389573219.py:8: FutureWarning: suggest_uniform has been deprecated in v3.0.0. This feature will be removed in v6.0.0. See https://github.com/optuna/optuna/releases/tag/v3.0.0. Use suggest_float instead.\n",
      "  'colsample_bytree': trial.suggest_uniform('colsample_bytree', 0.1, 1),\n"
     ]
    },
    {
     "name": "stdout",
     "output_type": "stream",
     "text": [
      "Training until validation scores don't improve for 50 rounds\n",
      "[10]\tvalid_0's ndcg@1: 0.473831\tvalid_0's ndcg@3: 0.486973\tvalid_0's ndcg@5: 0.502796\tvalid_0's ndcg@10: 0.546156\tvalid_0's ndcg@20: 0.616886\n",
      "[20]\tvalid_0's ndcg@1: 0.489392\tvalid_0's ndcg@3: 0.503306\tvalid_0's ndcg@5: 0.518835\tvalid_0's ndcg@10: 0.560639\tvalid_0's ndcg@20: 0.629082\n",
      "[30]\tvalid_0's ndcg@1: 0.49616\tvalid_0's ndcg@3: 0.508806\tvalid_0's ndcg@5: 0.524809\tvalid_0's ndcg@10: 0.566152\tvalid_0's ndcg@20: 0.632807\n",
      "[40]\tvalid_0's ndcg@1: 0.502679\tvalid_0's ndcg@3: 0.512991\tvalid_0's ndcg@5: 0.528184\tvalid_0's ndcg@10: 0.570893\tvalid_0's ndcg@20: 0.636483\n",
      "[50]\tvalid_0's ndcg@1: 0.510293\tvalid_0's ndcg@3: 0.518322\tvalid_0's ndcg@5: 0.535503\tvalid_0's ndcg@10: 0.574949\tvalid_0's ndcg@20: 0.640631\n",
      "[60]\tvalid_0's ndcg@1: 0.514515\tvalid_0's ndcg@3: 0.523695\tvalid_0's ndcg@5: 0.539436\tvalid_0's ndcg@10: 0.578502\tvalid_0's ndcg@20: 0.643943\n",
      "[70]\tvalid_0's ndcg@1: 0.518312\tvalid_0's ndcg@3: 0.524708\tvalid_0's ndcg@5: 0.539807\tvalid_0's ndcg@10: 0.579069\tvalid_0's ndcg@20: 0.645258\n",
      "[80]\tvalid_0's ndcg@1: 0.517285\tvalid_0's ndcg@3: 0.524787\tvalid_0's ndcg@5: 0.540104\tvalid_0's ndcg@10: 0.580472\tvalid_0's ndcg@20: 0.646295\n",
      "[90]\tvalid_0's ndcg@1: 0.5176\tvalid_0's ndcg@3: 0.526387\tvalid_0's ndcg@5: 0.54216\tvalid_0's ndcg@10: 0.581979\tvalid_0's ndcg@20: 0.647078\n",
      "[100]\tvalid_0's ndcg@1: 0.513168\tvalid_0's ndcg@3: 0.523828\tvalid_0's ndcg@5: 0.540223\tvalid_0's ndcg@10: 0.581825\tvalid_0's ndcg@20: 0.647166\n",
      "[110]\tvalid_0's ndcg@1: 0.513397\tvalid_0's ndcg@3: 0.527121\tvalid_0's ndcg@5: 0.5422\tvalid_0's ndcg@10: 0.582592\tvalid_0's ndcg@20: 0.648185\n",
      "[120]\tvalid_0's ndcg@1: 0.515446\tvalid_0's ndcg@3: 0.528377\tvalid_0's ndcg@5: 0.543961\tvalid_0's ndcg@10: 0.583671\tvalid_0's ndcg@20: 0.649603\n",
      "[130]\tvalid_0's ndcg@1: 0.516\tvalid_0's ndcg@3: 0.527396\tvalid_0's ndcg@5: 0.543241\tvalid_0's ndcg@10: 0.583438\tvalid_0's ndcg@20: 0.649418\n"
     ]
    },
    {
     "name": "stderr",
     "output_type": "stream",
     "text": [
      "[I 2024-04-29 23:21:31,475] Trial 3 finished with value: 0.5643440457607923 and parameters: {'lambda_l1': 7.71800699380605e-05, 'lambda_l2': 4.17890272377219e-06, 'max_depth': 6, 'num_leaves': 37, 'colsample_bytree': 0.3629301836816964, 'min_child_samples': 40}. Best is trial 0 with value: 0.5744781768043928.\n"
     ]
    },
    {
     "name": "stdout",
     "output_type": "stream",
     "text": [
      "Early stopping, best iteration is:\n",
      "[87]\tvalid_0's ndcg@1: 0.521569\tvalid_0's ndcg@3: 0.527139\tvalid_0's ndcg@5: 0.543395\tvalid_0's ndcg@10: 0.581946\tvalid_0's ndcg@20: 0.647671\n"
     ]
    },
    {
     "name": "stderr",
     "output_type": "stream",
     "text": [
      "C:\\Users\\savolk25\\AppData\\Local\\Temp\\ipykernel_19764\\389573219.py:4: FutureWarning: suggest_loguniform has been deprecated in v3.0.0. This feature will be removed in v6.0.0. See https://github.com/optuna/optuna/releases/tag/v3.0.0. Use suggest_float(..., log=True) instead.\n",
      "  'reg_alpha': trial.suggest_loguniform('lambda_l1', 1e-8, 10.0),\n",
      "C:\\Users\\savolk25\\AppData\\Local\\Temp\\ipykernel_19764\\389573219.py:5: FutureWarning: suggest_loguniform has been deprecated in v3.0.0. This feature will be removed in v6.0.0. See https://github.com/optuna/optuna/releases/tag/v3.0.0. Use suggest_float(..., log=True) instead.\n",
      "  'reg_lambda': trial.suggest_loguniform('lambda_l2', 1e-8, 10.0),\n",
      "C:\\Users\\savolk25\\AppData\\Local\\Temp\\ipykernel_19764\\389573219.py:8: FutureWarning: suggest_uniform has been deprecated in v3.0.0. This feature will be removed in v6.0.0. See https://github.com/optuna/optuna/releases/tag/v3.0.0. Use suggest_float instead.\n",
      "  'colsample_bytree': trial.suggest_uniform('colsample_bytree', 0.1, 1),\n"
     ]
    },
    {
     "name": "stdout",
     "output_type": "stream",
     "text": [
      "Training until validation scores don't improve for 50 rounds\n",
      "[10]\tvalid_0's ndcg@1: 0.460367\tvalid_0's ndcg@3: 0.47391\tvalid_0's ndcg@5: 0.492797\tvalid_0's ndcg@10: 0.536906\tvalid_0's ndcg@20: 0.607137\n",
      "[20]\tvalid_0's ndcg@1: 0.475168\tvalid_0's ndcg@3: 0.488413\tvalid_0's ndcg@5: 0.506799\tvalid_0's ndcg@10: 0.5491\tvalid_0's ndcg@20: 0.618102\n",
      "[30]\tvalid_0's ndcg@1: 0.48261\tvalid_0's ndcg@3: 0.49771\tvalid_0's ndcg@5: 0.513818\tvalid_0's ndcg@10: 0.556033\tvalid_0's ndcg@20: 0.624893\n",
      "[40]\tvalid_0's ndcg@1: 0.492134\tvalid_0's ndcg@3: 0.502939\tvalid_0's ndcg@5: 0.51987\tvalid_0's ndcg@10: 0.562222\tvalid_0's ndcg@20: 0.629504\n",
      "[50]\tvalid_0's ndcg@1: 0.497278\tvalid_0's ndcg@3: 0.508703\tvalid_0's ndcg@5: 0.524006\tvalid_0's ndcg@10: 0.564641\tvalid_0's ndcg@20: 0.631854\n",
      "[60]\tvalid_0's ndcg@1: 0.504136\tvalid_0's ndcg@3: 0.513843\tvalid_0's ndcg@5: 0.528621\tvalid_0's ndcg@10: 0.569709\tvalid_0's ndcg@20: 0.635749\n",
      "[70]\tvalid_0's ndcg@1: 0.508698\tvalid_0's ndcg@3: 0.51407\tvalid_0's ndcg@5: 0.532691\tvalid_0's ndcg@10: 0.572067\tvalid_0's ndcg@20: 0.637865\n",
      "[80]\tvalid_0's ndcg@1: 0.508912\tvalid_0's ndcg@3: 0.512784\tvalid_0's ndcg@5: 0.532637\tvalid_0's ndcg@10: 0.572031\tvalid_0's ndcg@20: 0.637635\n",
      "[90]\tvalid_0's ndcg@1: 0.510436\tvalid_0's ndcg@3: 0.516526\tvalid_0's ndcg@5: 0.534748\tvalid_0's ndcg@10: 0.573689\tvalid_0's ndcg@20: 0.639552\n",
      "[100]\tvalid_0's ndcg@1: 0.509304\tvalid_0's ndcg@3: 0.516455\tvalid_0's ndcg@5: 0.535166\tvalid_0's ndcg@10: 0.573727\tvalid_0's ndcg@20: 0.640143\n",
      "[110]\tvalid_0's ndcg@1: 0.507289\tvalid_0's ndcg@3: 0.517803\tvalid_0's ndcg@5: 0.534561\tvalid_0's ndcg@10: 0.574274\tvalid_0's ndcg@20: 0.640416\n",
      "[120]\tvalid_0's ndcg@1: 0.509366\tvalid_0's ndcg@3: 0.519123\tvalid_0's ndcg@5: 0.535711\tvalid_0's ndcg@10: 0.575323\tvalid_0's ndcg@20: 0.641549\n",
      "[130]\tvalid_0's ndcg@1: 0.511415\tvalid_0's ndcg@3: 0.520147\tvalid_0's ndcg@5: 0.536456\tvalid_0's ndcg@10: 0.57636\tvalid_0's ndcg@20: 0.642252\n",
      "[140]\tvalid_0's ndcg@1: 0.513994\tvalid_0's ndcg@3: 0.520995\tvalid_0's ndcg@5: 0.537916\tvalid_0's ndcg@10: 0.576824\tvalid_0's ndcg@20: 0.642478\n",
      "[150]\tvalid_0's ndcg@1: 0.514171\tvalid_0's ndcg@3: 0.522313\tvalid_0's ndcg@5: 0.538125\tvalid_0's ndcg@10: 0.577545\tvalid_0's ndcg@20: 0.643164\n",
      "[160]\tvalid_0's ndcg@1: 0.519812\tvalid_0's ndcg@3: 0.523187\tvalid_0's ndcg@5: 0.54008\tvalid_0's ndcg@10: 0.579523\tvalid_0's ndcg@20: 0.644379\n",
      "[170]\tvalid_0's ndcg@1: 0.519363\tvalid_0's ndcg@3: 0.523691\tvalid_0's ndcg@5: 0.539876\tvalid_0's ndcg@10: 0.579136\tvalid_0's ndcg@20: 0.644642\n",
      "[180]\tvalid_0's ndcg@1: 0.51878\tvalid_0's ndcg@3: 0.523893\tvalid_0's ndcg@5: 0.539558\tvalid_0's ndcg@10: 0.579039\tvalid_0's ndcg@20: 0.644809\n",
      "[190]\tvalid_0's ndcg@1: 0.515766\tvalid_0's ndcg@3: 0.522588\tvalid_0's ndcg@5: 0.539498\tvalid_0's ndcg@10: 0.579048\tvalid_0's ndcg@20: 0.644349\n"
     ]
    },
    {
     "name": "stderr",
     "output_type": "stream",
     "text": [
      "[I 2024-04-29 23:21:35,990] Trial 4 finished with value: 0.5610399248133902 and parameters: {'lambda_l1': 0.00012724181576752517, 'lambda_l2': 0.1165691561324743, 'max_depth': 4, 'num_leaves': 133, 'colsample_bytree': 0.6331731119758383, 'min_child_samples': 9}. Best is trial 0 with value: 0.5744781768043928.\n"
     ]
    },
    {
     "name": "stdout",
     "output_type": "stream",
     "text": [
      "[200]\tvalid_0's ndcg@1: 0.518231\tvalid_0's ndcg@3: 0.52358\tvalid_0's ndcg@5: 0.539869\tvalid_0's ndcg@10: 0.579756\tvalid_0's ndcg@20: 0.645013\n",
      "Early stopping, best iteration is:\n",
      "[157]\tvalid_0's ndcg@1: 0.518078\tvalid_0's ndcg@3: 0.524419\tvalid_0's ndcg@5: 0.539879\tvalid_0's ndcg@10: 0.578777\tvalid_0's ndcg@20: 0.644047\n"
     ]
    },
    {
     "name": "stderr",
     "output_type": "stream",
     "text": [
      "C:\\Users\\savolk25\\AppData\\Local\\Temp\\ipykernel_19764\\389573219.py:4: FutureWarning: suggest_loguniform has been deprecated in v3.0.0. This feature will be removed in v6.0.0. See https://github.com/optuna/optuna/releases/tag/v3.0.0. Use suggest_float(..., log=True) instead.\n",
      "  'reg_alpha': trial.suggest_loguniform('lambda_l1', 1e-8, 10.0),\n",
      "C:\\Users\\savolk25\\AppData\\Local\\Temp\\ipykernel_19764\\389573219.py:5: FutureWarning: suggest_loguniform has been deprecated in v3.0.0. This feature will be removed in v6.0.0. See https://github.com/optuna/optuna/releases/tag/v3.0.0. Use suggest_float(..., log=True) instead.\n",
      "  'reg_lambda': trial.suggest_loguniform('lambda_l2', 1e-8, 10.0),\n",
      "C:\\Users\\savolk25\\AppData\\Local\\Temp\\ipykernel_19764\\389573219.py:8: FutureWarning: suggest_uniform has been deprecated in v3.0.0. This feature will be removed in v6.0.0. See https://github.com/optuna/optuna/releases/tag/v3.0.0. Use suggest_float instead.\n",
      "  'colsample_bytree': trial.suggest_uniform('colsample_bytree', 0.1, 1),\n"
     ]
    },
    {
     "name": "stdout",
     "output_type": "stream",
     "text": [
      "Training until validation scores don't improve for 50 rounds\n",
      "[10]\tvalid_0's ndcg@1: 0.455486\tvalid_0's ndcg@3: 0.463729\tvalid_0's ndcg@5: 0.480383\tvalid_0's ndcg@10: 0.524031\tvalid_0's ndcg@20: 0.597753\n",
      "[20]\tvalid_0's ndcg@1: 0.465339\tvalid_0's ndcg@3: 0.478339\tvalid_0's ndcg@5: 0.496738\tvalid_0's ndcg@10: 0.54039\tvalid_0's ndcg@20: 0.610955\n",
      "[30]\tvalid_0's ndcg@1: 0.476539\tvalid_0's ndcg@3: 0.487446\tvalid_0's ndcg@5: 0.50572\tvalid_0's ndcg@10: 0.548625\tvalid_0's ndcg@20: 0.618816\n",
      "[40]\tvalid_0's ndcg@1: 0.476873\tvalid_0's ndcg@3: 0.490372\tvalid_0's ndcg@5: 0.510255\tvalid_0's ndcg@10: 0.552378\tvalid_0's ndcg@20: 0.622478\n",
      "[50]\tvalid_0's ndcg@1: 0.480097\tvalid_0's ndcg@3: 0.495295\tvalid_0's ndcg@5: 0.515124\tvalid_0's ndcg@10: 0.55681\tvalid_0's ndcg@20: 0.626346\n",
      "[60]\tvalid_0's ndcg@1: 0.487749\tvalid_0's ndcg@3: 0.500402\tvalid_0's ndcg@5: 0.520039\tvalid_0's ndcg@10: 0.55993\tvalid_0's ndcg@20: 0.629586\n",
      "[70]\tvalid_0's ndcg@1: 0.491603\tvalid_0's ndcg@3: 0.505236\tvalid_0's ndcg@5: 0.521903\tvalid_0's ndcg@10: 0.561099\tvalid_0's ndcg@20: 0.631071\n",
      "[80]\tvalid_0's ndcg@1: 0.49167\tvalid_0's ndcg@3: 0.504153\tvalid_0's ndcg@5: 0.522369\tvalid_0's ndcg@10: 0.562726\tvalid_0's ndcg@20: 0.632164\n",
      "[90]\tvalid_0's ndcg@1: 0.496876\tvalid_0's ndcg@3: 0.504839\tvalid_0's ndcg@5: 0.524366\tvalid_0's ndcg@10: 0.563893\tvalid_0's ndcg@20: 0.633012\n",
      "[100]\tvalid_0's ndcg@1: 0.498644\tvalid_0's ndcg@3: 0.506503\tvalid_0's ndcg@5: 0.526798\tvalid_0's ndcg@10: 0.566005\tvalid_0's ndcg@20: 0.633786\n",
      "[110]\tvalid_0's ndcg@1: 0.498352\tvalid_0's ndcg@3: 0.507598\tvalid_0's ndcg@5: 0.527024\tvalid_0's ndcg@10: 0.566664\tvalid_0's ndcg@20: 0.634369\n",
      "[120]\tvalid_0's ndcg@1: 0.500325\tvalid_0's ndcg@3: 0.508577\tvalid_0's ndcg@5: 0.527394\tvalid_0's ndcg@10: 0.567211\tvalid_0's ndcg@20: 0.635237\n",
      "[130]\tvalid_0's ndcg@1: 0.498419\tvalid_0's ndcg@3: 0.50918\tvalid_0's ndcg@5: 0.527979\tvalid_0's ndcg@10: 0.56836\tvalid_0's ndcg@20: 0.635401\n",
      "[140]\tvalid_0's ndcg@1: 0.50245\tvalid_0's ndcg@3: 0.511272\tvalid_0's ndcg@5: 0.530636\tvalid_0's ndcg@10: 0.56921\tvalid_0's ndcg@20: 0.636676\n",
      "[150]\tvalid_0's ndcg@1: 0.502675\tvalid_0's ndcg@3: 0.512871\tvalid_0's ndcg@5: 0.531736\tvalid_0's ndcg@10: 0.56986\tvalid_0's ndcg@20: 0.637121\n",
      "[160]\tvalid_0's ndcg@1: 0.505392\tvalid_0's ndcg@3: 0.513807\tvalid_0's ndcg@5: 0.533073\tvalid_0's ndcg@10: 0.570993\tvalid_0's ndcg@20: 0.637583\n",
      "[170]\tvalid_0's ndcg@1: 0.505607\tvalid_0's ndcg@3: 0.513083\tvalid_0's ndcg@5: 0.533931\tvalid_0's ndcg@10: 0.571181\tvalid_0's ndcg@20: 0.638103\n",
      "[180]\tvalid_0's ndcg@1: 0.504943\tvalid_0's ndcg@3: 0.51296\tvalid_0's ndcg@5: 0.533489\tvalid_0's ndcg@10: 0.571387\tvalid_0's ndcg@20: 0.638139\n",
      "[190]\tvalid_0's ndcg@1: 0.505822\tvalid_0's ndcg@3: 0.514058\tvalid_0's ndcg@5: 0.533724\tvalid_0's ndcg@10: 0.571583\tvalid_0's ndcg@20: 0.638439\n",
      "[200]\tvalid_0's ndcg@1: 0.505058\tvalid_0's ndcg@3: 0.515849\tvalid_0's ndcg@5: 0.534197\tvalid_0's ndcg@10: 0.572393\tvalid_0's ndcg@20: 0.6391\n",
      "[210]\tvalid_0's ndcg@1: 0.504595\tvalid_0's ndcg@3: 0.515732\tvalid_0's ndcg@5: 0.533858\tvalid_0's ndcg@10: 0.572532\tvalid_0's ndcg@20: 0.639176\n",
      "[220]\tvalid_0's ndcg@1: 0.506286\tvalid_0's ndcg@3: 0.516738\tvalid_0's ndcg@5: 0.534007\tvalid_0's ndcg@10: 0.573057\tvalid_0's ndcg@20: 0.639971\n",
      "[230]\tvalid_0's ndcg@1: 0.505865\tvalid_0's ndcg@3: 0.51542\tvalid_0's ndcg@5: 0.533326\tvalid_0's ndcg@10: 0.572673\tvalid_0's ndcg@20: 0.639463\n",
      "[240]\tvalid_0's ndcg@1: 0.507866\tvalid_0's ndcg@3: 0.516452\tvalid_0's ndcg@5: 0.534147\tvalid_0's ndcg@10: 0.573429\tvalid_0's ndcg@20: 0.640128\n",
      "[250]\tvalid_0's ndcg@1: 0.507093\tvalid_0's ndcg@3: 0.517513\tvalid_0's ndcg@5: 0.534867\tvalid_0's ndcg@10: 0.573312\tvalid_0's ndcg@20: 0.640641\n",
      "[260]\tvalid_0's ndcg@1: 0.50641\tvalid_0's ndcg@3: 0.517702\tvalid_0's ndcg@5: 0.535045\tvalid_0's ndcg@10: 0.573269\tvalid_0's ndcg@20: 0.640346\n",
      "[270]\tvalid_0's ndcg@1: 0.5078\tvalid_0's ndcg@3: 0.517464\tvalid_0's ndcg@5: 0.535551\tvalid_0's ndcg@10: 0.574457\tvalid_0's ndcg@20: 0.640797\n",
      "[280]\tvalid_0's ndcg@1: 0.509032\tvalid_0's ndcg@3: 0.519004\tvalid_0's ndcg@5: 0.53574\tvalid_0's ndcg@10: 0.575094\tvalid_0's ndcg@20: 0.640959\n",
      "[290]\tvalid_0's ndcg@1: 0.506634\tvalid_0's ndcg@3: 0.519139\tvalid_0's ndcg@5: 0.535299\tvalid_0's ndcg@10: 0.5755\tvalid_0's ndcg@20: 0.641892\n",
      "[300]\tvalid_0's ndcg@1: 0.509815\tvalid_0's ndcg@3: 0.520036\tvalid_0's ndcg@5: 0.535759\tvalid_0's ndcg@10: 0.575709\tvalid_0's ndcg@20: 0.642337\n",
      "[310]\tvalid_0's ndcg@1: 0.510766\tvalid_0's ndcg@3: 0.521144\tvalid_0's ndcg@5: 0.536383\tvalid_0's ndcg@10: 0.576171\tvalid_0's ndcg@20: 0.642729\n",
      "[320]\tvalid_0's ndcg@1: 0.511931\tvalid_0's ndcg@3: 0.52165\tvalid_0's ndcg@5: 0.538292\tvalid_0's ndcg@10: 0.576393\tvalid_0's ndcg@20: 0.643668\n",
      "[330]\tvalid_0's ndcg@1: 0.512953\tvalid_0's ndcg@3: 0.521604\tvalid_0's ndcg@5: 0.53914\tvalid_0's ndcg@10: 0.576479\tvalid_0's ndcg@20: 0.643747\n",
      "[340]\tvalid_0's ndcg@1: 0.512175\tvalid_0's ndcg@3: 0.522067\tvalid_0's ndcg@5: 0.53935\tvalid_0's ndcg@10: 0.576832\tvalid_0's ndcg@20: 0.643434\n",
      "[350]\tvalid_0's ndcg@1: 0.513822\tvalid_0's ndcg@3: 0.522448\tvalid_0's ndcg@5: 0.538368\tvalid_0's ndcg@10: 0.577194\tvalid_0's ndcg@20: 0.643738\n",
      "[360]\tvalid_0's ndcg@1: 0.511807\tvalid_0's ndcg@3: 0.521446\tvalid_0's ndcg@5: 0.53719\tvalid_0's ndcg@10: 0.575972\tvalid_0's ndcg@20: 0.643148\n",
      "[370]\tvalid_0's ndcg@1: 0.512523\tvalid_0's ndcg@3: 0.521703\tvalid_0's ndcg@5: 0.53757\tvalid_0's ndcg@10: 0.576545\tvalid_0's ndcg@20: 0.643602\n",
      "Early stopping, best iteration is:\n",
      "[321]\tvalid_0's ndcg@1: 0.512853\tvalid_0's ndcg@3: 0.521397\tvalid_0's ndcg@5: 0.538132\tvalid_0's ndcg@10: 0.576697\tvalid_0's ndcg@20: 0.643846\n"
     ]
    },
    {
     "name": "stderr",
     "output_type": "stream",
     "text": [
      "[I 2024-04-29 23:21:43,273] Trial 5 finished with value: 0.5585850105195174 and parameters: {'lambda_l1': 0.0029369981104377003, 'lambda_l2': 3.425445902633376e-07, 'max_depth': 3, 'num_leaves': 243, 'colsample_bytree': 0.9690688297671034, 'min_child_samples': 82}. Best is trial 0 with value: 0.5744781768043928.\n",
      "C:\\Users\\savolk25\\AppData\\Local\\Temp\\ipykernel_19764\\389573219.py:4: FutureWarning: suggest_loguniform has been deprecated in v3.0.0. This feature will be removed in v6.0.0. See https://github.com/optuna/optuna/releases/tag/v3.0.0. Use suggest_float(..., log=True) instead.\n",
      "  'reg_alpha': trial.suggest_loguniform('lambda_l1', 1e-8, 10.0),\n",
      "C:\\Users\\savolk25\\AppData\\Local\\Temp\\ipykernel_19764\\389573219.py:5: FutureWarning: suggest_loguniform has been deprecated in v3.0.0. This feature will be removed in v6.0.0. See https://github.com/optuna/optuna/releases/tag/v3.0.0. Use suggest_float(..., log=True) instead.\n",
      "  'reg_lambda': trial.suggest_loguniform('lambda_l2', 1e-8, 10.0),\n",
      "C:\\Users\\savolk25\\AppData\\Local\\Temp\\ipykernel_19764\\389573219.py:8: FutureWarning: suggest_uniform has been deprecated in v3.0.0. This feature will be removed in v6.0.0. See https://github.com/optuna/optuna/releases/tag/v3.0.0. Use suggest_float instead.\n",
      "  'colsample_bytree': trial.suggest_uniform('colsample_bytree', 0.1, 1),\n"
     ]
    },
    {
     "name": "stdout",
     "output_type": "stream",
     "text": [
      "Training until validation scores don't improve for 50 rounds\n",
      "[10]\tvalid_0's ndcg@1: 0.46253\tvalid_0's ndcg@3: 0.480202\tvalid_0's ndcg@5: 0.499106\tvalid_0's ndcg@10: 0.544538\tvalid_0's ndcg@20: 0.614818\n",
      "[20]\tvalid_0's ndcg@1: 0.474318\tvalid_0's ndcg@3: 0.491894\tvalid_0's ndcg@5: 0.512265\tvalid_0's ndcg@10: 0.557044\tvalid_0's ndcg@20: 0.624915\n",
      "[30]\tvalid_0's ndcg@1: 0.486612\tvalid_0's ndcg@3: 0.506485\tvalid_0's ndcg@5: 0.520906\tvalid_0's ndcg@10: 0.564616\tvalid_0's ndcg@20: 0.631198\n",
      "[40]\tvalid_0's ndcg@1: 0.494512\tvalid_0's ndcg@3: 0.513189\tvalid_0's ndcg@5: 0.527955\tvalid_0's ndcg@10: 0.569837\tvalid_0's ndcg@20: 0.637144\n",
      "[50]\tvalid_0's ndcg@1: 0.501533\tvalid_0's ndcg@3: 0.513511\tvalid_0's ndcg@5: 0.530853\tvalid_0's ndcg@10: 0.572387\tvalid_0's ndcg@20: 0.639519\n",
      "[60]\tvalid_0's ndcg@1: 0.512318\tvalid_0's ndcg@3: 0.519147\tvalid_0's ndcg@5: 0.536376\tvalid_0's ndcg@10: 0.577699\tvalid_0's ndcg@20: 0.643439\n",
      "[70]\tvalid_0's ndcg@1: 0.513679\tvalid_0's ndcg@3: 0.523097\tvalid_0's ndcg@5: 0.540064\tvalid_0's ndcg@10: 0.580762\tvalid_0's ndcg@20: 0.645793\n",
      "[80]\tvalid_0's ndcg@1: 0.515403\tvalid_0's ndcg@3: 0.526555\tvalid_0's ndcg@5: 0.543672\tvalid_0's ndcg@10: 0.582566\tvalid_0's ndcg@20: 0.647538\n",
      "[90]\tvalid_0's ndcg@1: 0.515313\tvalid_0's ndcg@3: 0.527329\tvalid_0's ndcg@5: 0.543398\tvalid_0's ndcg@10: 0.583689\tvalid_0's ndcg@20: 0.648693\n",
      "[100]\tvalid_0's ndcg@1: 0.516411\tvalid_0's ndcg@3: 0.529077\tvalid_0's ndcg@5: 0.54387\tvalid_0's ndcg@10: 0.584059\tvalid_0's ndcg@20: 0.648719\n",
      "[110]\tvalid_0's ndcg@1: 0.517151\tvalid_0's ndcg@3: 0.529717\tvalid_0's ndcg@5: 0.545507\tvalid_0's ndcg@10: 0.584363\tvalid_0's ndcg@20: 0.649745\n",
      "[120]\tvalid_0's ndcg@1: 0.516846\tvalid_0's ndcg@3: 0.531475\tvalid_0's ndcg@5: 0.546725\tvalid_0's ndcg@10: 0.586669\tvalid_0's ndcg@20: 0.650919\n",
      "[130]\tvalid_0's ndcg@1: 0.519544\tvalid_0's ndcg@3: 0.532863\tvalid_0's ndcg@5: 0.54756\tvalid_0's ndcg@10: 0.587947\tvalid_0's ndcg@20: 0.651707\n",
      "[140]\tvalid_0's ndcg@1: 0.519057\tvalid_0's ndcg@3: 0.532244\tvalid_0's ndcg@5: 0.546763\tvalid_0's ndcg@10: 0.586641\tvalid_0's ndcg@20: 0.651769\n",
      "[150]\tvalid_0's ndcg@1: 0.520901\tvalid_0's ndcg@3: 0.533914\tvalid_0's ndcg@5: 0.548713\tvalid_0's ndcg@10: 0.58818\tvalid_0's ndcg@20: 0.65339\n",
      "[160]\tvalid_0's ndcg@1: 0.525032\tvalid_0's ndcg@3: 0.535093\tvalid_0's ndcg@5: 0.551569\tvalid_0's ndcg@10: 0.590566\tvalid_0's ndcg@20: 0.654198\n",
      "[170]\tvalid_0's ndcg@1: 0.521163\tvalid_0's ndcg@3: 0.533905\tvalid_0's ndcg@5: 0.551418\tvalid_0's ndcg@10: 0.590011\tvalid_0's ndcg@20: 0.653927\n",
      "[180]\tvalid_0's ndcg@1: 0.524774\tvalid_0's ndcg@3: 0.534881\tvalid_0's ndcg@5: 0.552696\tvalid_0's ndcg@10: 0.5905\tvalid_0's ndcg@20: 0.655055\n",
      "[190]\tvalid_0's ndcg@1: 0.526532\tvalid_0's ndcg@3: 0.536274\tvalid_0's ndcg@5: 0.553903\tvalid_0's ndcg@10: 0.591769\tvalid_0's ndcg@20: 0.656037\n",
      "[200]\tvalid_0's ndcg@1: 0.52251\tvalid_0's ndcg@3: 0.535507\tvalid_0's ndcg@5: 0.551189\tvalid_0's ndcg@10: 0.590671\tvalid_0's ndcg@20: 0.654548\n",
      "[210]\tvalid_0's ndcg@1: 0.522892\tvalid_0's ndcg@3: 0.536128\tvalid_0's ndcg@5: 0.552282\tvalid_0's ndcg@10: 0.591773\tvalid_0's ndcg@20: 0.655788\n",
      "[220]\tvalid_0's ndcg@1: 0.523098\tvalid_0's ndcg@3: 0.536298\tvalid_0's ndcg@5: 0.553696\tvalid_0's ndcg@10: 0.591339\tvalid_0's ndcg@20: 0.656258\n",
      "[230]\tvalid_0's ndcg@1: 0.527554\tvalid_0's ndcg@3: 0.539002\tvalid_0's ndcg@5: 0.554441\tvalid_0's ndcg@10: 0.592766\tvalid_0's ndcg@20: 0.657596\n",
      "[240]\tvalid_0's ndcg@1: 0.52669\tvalid_0's ndcg@3: 0.538703\tvalid_0's ndcg@5: 0.55444\tvalid_0's ndcg@10: 0.592488\tvalid_0's ndcg@20: 0.657326\n",
      "[250]\tvalid_0's ndcg@1: 0.524258\tvalid_0's ndcg@3: 0.536313\tvalid_0's ndcg@5: 0.553954\tvalid_0's ndcg@10: 0.592931\tvalid_0's ndcg@20: 0.656785\n",
      "[260]\tvalid_0's ndcg@1: 0.523251\tvalid_0's ndcg@3: 0.537845\tvalid_0's ndcg@5: 0.553621\tvalid_0's ndcg@10: 0.593629\tvalid_0's ndcg@20: 0.657401\n",
      "[270]\tvalid_0's ndcg@1: 0.521799\tvalid_0's ndcg@3: 0.537985\tvalid_0's ndcg@5: 0.553451\tvalid_0's ndcg@10: 0.593429\tvalid_0's ndcg@20: 0.656847\n"
     ]
    },
    {
     "name": "stderr",
     "output_type": "stream",
     "text": [
      "[I 2024-04-29 23:21:49,515] Trial 6 finished with value: 0.5745330918339022 and parameters: {'lambda_l1': 5.514725787121931e-06, 'lambda_l2': 7.569183361880229e-08, 'max_depth': 7, 'num_leaves': 114, 'colsample_bytree': 0.20983441136030095, 'min_child_samples': 52}. Best is trial 6 with value: 0.5745330918339022.\n"
     ]
    },
    {
     "name": "stdout",
     "output_type": "stream",
     "text": [
      "[280]\tvalid_0's ndcg@1: 0.522959\tvalid_0's ndcg@3: 0.539574\tvalid_0's ndcg@5: 0.555231\tvalid_0's ndcg@10: 0.594011\tvalid_0's ndcg@20: 0.657628\n",
      "Early stopping, best iteration is:\n",
      "[233]\tvalid_0's ndcg@1: 0.528094\tvalid_0's ndcg@3: 0.53907\tvalid_0's ndcg@5: 0.555077\tvalid_0's ndcg@10: 0.592627\tvalid_0's ndcg@20: 0.657798\n"
     ]
    },
    {
     "name": "stderr",
     "output_type": "stream",
     "text": [
      "C:\\Users\\savolk25\\AppData\\Local\\Temp\\ipykernel_19764\\389573219.py:4: FutureWarning: suggest_loguniform has been deprecated in v3.0.0. This feature will be removed in v6.0.0. See https://github.com/optuna/optuna/releases/tag/v3.0.0. Use suggest_float(..., log=True) instead.\n",
      "  'reg_alpha': trial.suggest_loguniform('lambda_l1', 1e-8, 10.0),\n",
      "C:\\Users\\savolk25\\AppData\\Local\\Temp\\ipykernel_19764\\389573219.py:5: FutureWarning: suggest_loguniform has been deprecated in v3.0.0. This feature will be removed in v6.0.0. See https://github.com/optuna/optuna/releases/tag/v3.0.0. Use suggest_float(..., log=True) instead.\n",
      "  'reg_lambda': trial.suggest_loguniform('lambda_l2', 1e-8, 10.0),\n",
      "C:\\Users\\savolk25\\AppData\\Local\\Temp\\ipykernel_19764\\389573219.py:8: FutureWarning: suggest_uniform has been deprecated in v3.0.0. This feature will be removed in v6.0.0. See https://github.com/optuna/optuna/releases/tag/v3.0.0. Use suggest_float instead.\n",
      "  'colsample_bytree': trial.suggest_uniform('colsample_bytree', 0.1, 1),\n"
     ]
    },
    {
     "name": "stdout",
     "output_type": "stream",
     "text": [
      "Training until validation scores don't improve for 50 rounds\n",
      "[10]\tvalid_0's ndcg@1: 0.466366\tvalid_0's ndcg@3: 0.478214\tvalid_0's ndcg@5: 0.496053\tvalid_0's ndcg@10: 0.537591\tvalid_0's ndcg@20: 0.60762\n",
      "[20]\tvalid_0's ndcg@1: 0.477547\tvalid_0's ndcg@3: 0.492069\tvalid_0's ndcg@5: 0.508067\tvalid_0's ndcg@10: 0.547679\tvalid_0's ndcg@20: 0.619065\n",
      "[30]\tvalid_0's ndcg@1: 0.478961\tvalid_0's ndcg@3: 0.497714\tvalid_0's ndcg@5: 0.514083\tvalid_0's ndcg@10: 0.554758\tvalid_0's ndcg@20: 0.623403\n",
      "[40]\tvalid_0's ndcg@1: 0.491331\tvalid_0's ndcg@3: 0.505468\tvalid_0's ndcg@5: 0.521057\tvalid_0's ndcg@10: 0.56084\tvalid_0's ndcg@20: 0.629169\n",
      "[50]\tvalid_0's ndcg@1: 0.494565\tvalid_0's ndcg@3: 0.507254\tvalid_0's ndcg@5: 0.52388\tvalid_0's ndcg@10: 0.563917\tvalid_0's ndcg@20: 0.631188\n",
      "[60]\tvalid_0's ndcg@1: 0.502517\tvalid_0's ndcg@3: 0.512078\tvalid_0's ndcg@5: 0.525906\tvalid_0's ndcg@10: 0.568336\tvalid_0's ndcg@20: 0.634559\n",
      "[70]\tvalid_0's ndcg@1: 0.508272\tvalid_0's ndcg@3: 0.515239\tvalid_0's ndcg@5: 0.529803\tvalid_0's ndcg@10: 0.570884\tvalid_0's ndcg@20: 0.637325\n",
      "[80]\tvalid_0's ndcg@1: 0.50928\tvalid_0's ndcg@3: 0.517648\tvalid_0's ndcg@5: 0.532678\tvalid_0's ndcg@10: 0.572985\tvalid_0's ndcg@20: 0.639461\n",
      "[90]\tvalid_0's ndcg@1: 0.514037\tvalid_0's ndcg@3: 0.51966\tvalid_0's ndcg@5: 0.534516\tvalid_0's ndcg@10: 0.57462\tvalid_0's ndcg@20: 0.641396\n",
      "[100]\tvalid_0's ndcg@1: 0.512695\tvalid_0's ndcg@3: 0.518196\tvalid_0's ndcg@5: 0.53506\tvalid_0's ndcg@10: 0.574009\tvalid_0's ndcg@20: 0.640914\n",
      "[110]\tvalid_0's ndcg@1: 0.516234\tvalid_0's ndcg@3: 0.521214\tvalid_0's ndcg@5: 0.536435\tvalid_0's ndcg@10: 0.576038\tvalid_0's ndcg@20: 0.642487\n",
      "[120]\tvalid_0's ndcg@1: 0.518494\tvalid_0's ndcg@3: 0.522467\tvalid_0's ndcg@5: 0.537111\tvalid_0's ndcg@10: 0.576643\tvalid_0's ndcg@20: 0.643172\n",
      "[130]\tvalid_0's ndcg@1: 0.51794\tvalid_0's ndcg@3: 0.52241\tvalid_0's ndcg@5: 0.53742\tvalid_0's ndcg@10: 0.577213\tvalid_0's ndcg@20: 0.643657\n",
      "[140]\tvalid_0's ndcg@1: 0.516941\tvalid_0's ndcg@3: 0.523983\tvalid_0's ndcg@5: 0.538472\tvalid_0's ndcg@10: 0.577391\tvalid_0's ndcg@20: 0.644336\n",
      "[150]\tvalid_0's ndcg@1: 0.515293\tvalid_0's ndcg@3: 0.52378\tvalid_0's ndcg@5: 0.538481\tvalid_0's ndcg@10: 0.577831\tvalid_0's ndcg@20: 0.643771\n",
      "[160]\tvalid_0's ndcg@1: 0.513794\tvalid_0's ndcg@3: 0.52395\tvalid_0's ndcg@5: 0.539509\tvalid_0's ndcg@10: 0.578285\tvalid_0's ndcg@20: 0.644539\n",
      "[170]\tvalid_0's ndcg@1: 0.513092\tvalid_0's ndcg@3: 0.524743\tvalid_0's ndcg@5: 0.54071\tvalid_0's ndcg@10: 0.578785\tvalid_0's ndcg@20: 0.644712\n",
      "Early stopping, best iteration is:\n",
      "[122]\tvalid_0's ndcg@1: 0.519344\tvalid_0's ndcg@3: 0.522783\tvalid_0's ndcg@5: 0.537705\tvalid_0's ndcg@10: 0.577393\tvalid_0's ndcg@20: 0.643818\n"
     ]
    },
    {
     "name": "stderr",
     "output_type": "stream",
     "text": [
      "[I 2024-04-29 23:21:53,837] Trial 7 finished with value: 0.5602085548079871 and parameters: {'lambda_l1': 2.039373116525212e-08, 'lambda_l2': 1.527156759251193, 'max_depth': 4, 'num_leaves': 170, 'colsample_bytree': 0.3805399684804699, 'min_child_samples': 54}. Best is trial 6 with value: 0.5745330918339022.\n",
      "C:\\Users\\savolk25\\AppData\\Local\\Temp\\ipykernel_19764\\389573219.py:4: FutureWarning: suggest_loguniform has been deprecated in v3.0.0. This feature will be removed in v6.0.0. See https://github.com/optuna/optuna/releases/tag/v3.0.0. Use suggest_float(..., log=True) instead.\n",
      "  'reg_alpha': trial.suggest_loguniform('lambda_l1', 1e-8, 10.0),\n",
      "C:\\Users\\savolk25\\AppData\\Local\\Temp\\ipykernel_19764\\389573219.py:5: FutureWarning: suggest_loguniform has been deprecated in v3.0.0. This feature will be removed in v6.0.0. See https://github.com/optuna/optuna/releases/tag/v3.0.0. Use suggest_float(..., log=True) instead.\n",
      "  'reg_lambda': trial.suggest_loguniform('lambda_l2', 1e-8, 10.0),\n",
      "C:\\Users\\savolk25\\AppData\\Local\\Temp\\ipykernel_19764\\389573219.py:8: FutureWarning: suggest_uniform has been deprecated in v3.0.0. This feature will be removed in v6.0.0. See https://github.com/optuna/optuna/releases/tag/v3.0.0. Use suggest_float instead.\n",
      "  'colsample_bytree': trial.suggest_uniform('colsample_bytree', 0.1, 1),\n"
     ]
    },
    {
     "name": "stdout",
     "output_type": "stream",
     "text": [
      "Training until validation scores don't improve for 50 rounds\n",
      "[10]\tvalid_0's ndcg@1: 0.484812\tvalid_0's ndcg@3: 0.494141\tvalid_0's ndcg@5: 0.50908\tvalid_0's ndcg@10: 0.552934\tvalid_0's ndcg@20: 0.621472\n",
      "[20]\tvalid_0's ndcg@1: 0.491169\tvalid_0's ndcg@3: 0.501495\tvalid_0's ndcg@5: 0.521246\tvalid_0's ndcg@10: 0.563511\tvalid_0's ndcg@20: 0.630344\n",
      "[30]\tvalid_0's ndcg@1: 0.501619\tvalid_0's ndcg@3: 0.515201\tvalid_0's ndcg@5: 0.535024\tvalid_0's ndcg@10: 0.572082\tvalid_0's ndcg@20: 0.640088\n",
      "[40]\tvalid_0's ndcg@1: 0.513607\tvalid_0's ndcg@3: 0.521662\tvalid_0's ndcg@5: 0.539997\tvalid_0's ndcg@10: 0.580128\tvalid_0's ndcg@20: 0.645752\n",
      "[50]\tvalid_0's ndcg@1: 0.519329\tvalid_0's ndcg@3: 0.524292\tvalid_0's ndcg@5: 0.544505\tvalid_0's ndcg@10: 0.583523\tvalid_0's ndcg@20: 0.648674\n",
      "[60]\tvalid_0's ndcg@1: 0.512953\tvalid_0's ndcg@3: 0.527656\tvalid_0's ndcg@5: 0.546079\tvalid_0's ndcg@10: 0.584676\tvalid_0's ndcg@20: 0.650118\n",
      "[70]\tvalid_0's ndcg@1: 0.515193\tvalid_0's ndcg@3: 0.528163\tvalid_0's ndcg@5: 0.546485\tvalid_0's ndcg@10: 0.586881\tvalid_0's ndcg@20: 0.651565\n",
      "[80]\tvalid_0's ndcg@1: 0.515833\tvalid_0's ndcg@3: 0.531838\tvalid_0's ndcg@5: 0.547373\tvalid_0's ndcg@10: 0.586265\tvalid_0's ndcg@20: 0.65229\n",
      "[90]\tvalid_0's ndcg@1: 0.514663\tvalid_0's ndcg@3: 0.531668\tvalid_0's ndcg@5: 0.547797\tvalid_0's ndcg@10: 0.587437\tvalid_0's ndcg@20: 0.653483\n"
     ]
    },
    {
     "name": "stderr",
     "output_type": "stream",
     "text": [
      "[I 2024-04-29 23:21:59,324] Trial 8 finished with value: 0.5646604698259073 and parameters: {'lambda_l1': 0.0008325158565947976, 'lambda_l2': 4.609885087947832e-07, 'max_depth': 8, 'num_leaves': 199, 'colsample_bytree': 0.9455490474077702, 'min_child_samples': 90}. Best is trial 6 with value: 0.5745330918339022.\n"
     ]
    },
    {
     "name": "stdout",
     "output_type": "stream",
     "text": [
      "[100]\tvalid_0's ndcg@1: 0.519735\tvalid_0's ndcg@3: 0.532955\tvalid_0's ndcg@5: 0.550433\tvalid_0's ndcg@10: 0.58924\tvalid_0's ndcg@20: 0.655003\n",
      "Early stopping, best iteration is:\n",
      "[51]\tvalid_0's ndcg@1: 0.520891\tvalid_0's ndcg@3: 0.524937\tvalid_0's ndcg@5: 0.54481\tvalid_0's ndcg@10: 0.583833\tvalid_0's ndcg@20: 0.648831\n"
     ]
    },
    {
     "name": "stderr",
     "output_type": "stream",
     "text": [
      "C:\\Users\\savolk25\\AppData\\Local\\Temp\\ipykernel_19764\\389573219.py:4: FutureWarning: suggest_loguniform has been deprecated in v3.0.0. This feature will be removed in v6.0.0. See https://github.com/optuna/optuna/releases/tag/v3.0.0. Use suggest_float(..., log=True) instead.\n",
      "  'reg_alpha': trial.suggest_loguniform('lambda_l1', 1e-8, 10.0),\n",
      "C:\\Users\\savolk25\\AppData\\Local\\Temp\\ipykernel_19764\\389573219.py:5: FutureWarning: suggest_loguniform has been deprecated in v3.0.0. This feature will be removed in v6.0.0. See https://github.com/optuna/optuna/releases/tag/v3.0.0. Use suggest_float(..., log=True) instead.\n",
      "  'reg_lambda': trial.suggest_loguniform('lambda_l2', 1e-8, 10.0),\n",
      "C:\\Users\\savolk25\\AppData\\Local\\Temp\\ipykernel_19764\\389573219.py:8: FutureWarning: suggest_uniform has been deprecated in v3.0.0. This feature will be removed in v6.0.0. See https://github.com/optuna/optuna/releases/tag/v3.0.0. Use suggest_float instead.\n",
      "  'colsample_bytree': trial.suggest_uniform('colsample_bytree', 0.1, 1),\n"
     ]
    },
    {
     "name": "stdout",
     "output_type": "stream",
     "text": [
      "Training until validation scores don't improve for 50 rounds\n",
      "[10]\tvalid_0's ndcg@1: 0.417008\tvalid_0's ndcg@3: 0.436942\tvalid_0's ndcg@5: 0.457679\tvalid_0's ndcg@10: 0.509315\tvalid_0's ndcg@20: 0.58505\n",
      "[20]\tvalid_0's ndcg@1: 0.446669\tvalid_0's ndcg@3: 0.464334\tvalid_0's ndcg@5: 0.481721\tvalid_0's ndcg@10: 0.528879\tvalid_0's ndcg@20: 0.600831\n",
      "[30]\tvalid_0's ndcg@1: 0.462029\tvalid_0's ndcg@3: 0.469706\tvalid_0's ndcg@5: 0.48764\tvalid_0's ndcg@10: 0.533148\tvalid_0's ndcg@20: 0.606291\n",
      "[40]\tvalid_0's ndcg@1: 0.469341\tvalid_0's ndcg@3: 0.476425\tvalid_0's ndcg@5: 0.494483\tvalid_0's ndcg@10: 0.538913\tvalid_0's ndcg@20: 0.611158\n",
      "[50]\tvalid_0's ndcg@1: 0.472866\tvalid_0's ndcg@3: 0.482434\tvalid_0's ndcg@5: 0.499801\tvalid_0's ndcg@10: 0.543301\tvalid_0's ndcg@20: 0.614991\n",
      "[60]\tvalid_0's ndcg@1: 0.484721\tvalid_0's ndcg@3: 0.493015\tvalid_0's ndcg@5: 0.507859\tvalid_0's ndcg@10: 0.548606\tvalid_0's ndcg@20: 0.619707\n",
      "[70]\tvalid_0's ndcg@1: 0.486708\tvalid_0's ndcg@3: 0.497901\tvalid_0's ndcg@5: 0.51196\tvalid_0's ndcg@10: 0.552829\tvalid_0's ndcg@20: 0.623345\n",
      "[80]\tvalid_0's ndcg@1: 0.485791\tvalid_0's ndcg@3: 0.497628\tvalid_0's ndcg@5: 0.514247\tvalid_0's ndcg@10: 0.553935\tvalid_0's ndcg@20: 0.623823\n",
      "[90]\tvalid_0's ndcg@1: 0.492253\tvalid_0's ndcg@3: 0.501468\tvalid_0's ndcg@5: 0.51751\tvalid_0's ndcg@10: 0.557943\tvalid_0's ndcg@20: 0.626883\n",
      "[100]\tvalid_0's ndcg@1: 0.490376\tvalid_0's ndcg@3: 0.501974\tvalid_0's ndcg@5: 0.51775\tvalid_0's ndcg@10: 0.558703\tvalid_0's ndcg@20: 0.628244\n",
      "[110]\tvalid_0's ndcg@1: 0.494655\tvalid_0's ndcg@3: 0.506515\tvalid_0's ndcg@5: 0.52145\tvalid_0's ndcg@10: 0.56198\tvalid_0's ndcg@20: 0.630862\n",
      "[120]\tvalid_0's ndcg@1: 0.494307\tvalid_0's ndcg@3: 0.507878\tvalid_0's ndcg@5: 0.522926\tvalid_0's ndcg@10: 0.562134\tvalid_0's ndcg@20: 0.63124\n",
      "[130]\tvalid_0's ndcg@1: 0.4968\tvalid_0's ndcg@3: 0.508007\tvalid_0's ndcg@5: 0.52495\tvalid_0's ndcg@10: 0.56315\tvalid_0's ndcg@20: 0.632398\n",
      "[140]\tvalid_0's ndcg@1: 0.498839\tvalid_0's ndcg@3: 0.511337\tvalid_0's ndcg@5: 0.527206\tvalid_0's ndcg@10: 0.565502\tvalid_0's ndcg@20: 0.634054\n",
      "[150]\tvalid_0's ndcg@1: 0.500836\tvalid_0's ndcg@3: 0.511196\tvalid_0's ndcg@5: 0.528341\tvalid_0's ndcg@10: 0.5649\tvalid_0's ndcg@20: 0.633937\n",
      "[160]\tvalid_0's ndcg@1: 0.499479\tvalid_0's ndcg@3: 0.511902\tvalid_0's ndcg@5: 0.52956\tvalid_0's ndcg@10: 0.565486\tvalid_0's ndcg@20: 0.634464\n",
      "[170]\tvalid_0's ndcg@1: 0.499737\tvalid_0's ndcg@3: 0.512043\tvalid_0's ndcg@5: 0.529562\tvalid_0's ndcg@10: 0.566344\tvalid_0's ndcg@20: 0.635285\n",
      "[180]\tvalid_0's ndcg@1: 0.498801\tvalid_0's ndcg@3: 0.50953\tvalid_0's ndcg@5: 0.528678\tvalid_0's ndcg@10: 0.566316\tvalid_0's ndcg@20: 0.635314\n",
      "[190]\tvalid_0's ndcg@1: 0.499475\tvalid_0's ndcg@3: 0.511956\tvalid_0's ndcg@5: 0.529217\tvalid_0's ndcg@10: 0.566503\tvalid_0's ndcg@20: 0.635679\n"
     ]
    },
    {
     "name": "stderr",
     "output_type": "stream",
     "text": [
      "[I 2024-04-29 23:22:04,164] Trial 9 finished with value: 0.5482840494455463 and parameters: {'lambda_l1': 0.002404915432737351, 'lambda_l2': 1.9809253750493907, 'max_depth': 3, 'num_leaves': 51, 'colsample_bytree': 0.14070456001948428, 'min_child_samples': 36}. Best is trial 6 with value: 0.5745330918339022.\n"
     ]
    },
    {
     "name": "stdout",
     "output_type": "stream",
     "text": [
      "[200]\tvalid_0's ndcg@1: 0.498281\tvalid_0's ndcg@3: 0.51186\tvalid_0's ndcg@5: 0.529401\tvalid_0's ndcg@10: 0.56673\tvalid_0's ndcg@20: 0.635714\n",
      "Early stopping, best iteration is:\n",
      "[154]\tvalid_0's ndcg@1: 0.501337\tvalid_0's ndcg@3: 0.511967\tvalid_0's ndcg@5: 0.528752\tvalid_0's ndcg@10: 0.565128\tvalid_0's ndcg@20: 0.634236\n"
     ]
    },
    {
     "name": "stderr",
     "output_type": "stream",
     "text": [
      "C:\\Users\\savolk25\\AppData\\Local\\Temp\\ipykernel_19764\\389573219.py:4: FutureWarning: suggest_loguniform has been deprecated in v3.0.0. This feature will be removed in v6.0.0. See https://github.com/optuna/optuna/releases/tag/v3.0.0. Use suggest_float(..., log=True) instead.\n",
      "  'reg_alpha': trial.suggest_loguniform('lambda_l1', 1e-8, 10.0),\n",
      "C:\\Users\\savolk25\\AppData\\Local\\Temp\\ipykernel_19764\\389573219.py:5: FutureWarning: suggest_loguniform has been deprecated in v3.0.0. This feature will be removed in v6.0.0. See https://github.com/optuna/optuna/releases/tag/v3.0.0. Use suggest_float(..., log=True) instead.\n",
      "  'reg_lambda': trial.suggest_loguniform('lambda_l2', 1e-8, 10.0),\n",
      "C:\\Users\\savolk25\\AppData\\Local\\Temp\\ipykernel_19764\\389573219.py:8: FutureWarning: suggest_uniform has been deprecated in v3.0.0. This feature will be removed in v6.0.0. See https://github.com/optuna/optuna/releases/tag/v3.0.0. Use suggest_float instead.\n",
      "  'colsample_bytree': trial.suggest_uniform('colsample_bytree', 0.1, 1),\n"
     ]
    },
    {
     "name": "stdout",
     "output_type": "stream",
     "text": [
      "Training until validation scores don't improve for 50 rounds\n",
      "[10]\tvalid_0's ndcg@1: 0.484358\tvalid_0's ndcg@3: 0.496538\tvalid_0's ndcg@5: 0.515175\tvalid_0's ndcg@10: 0.556733\tvalid_0's ndcg@20: 0.625145\n",
      "[20]\tvalid_0's ndcg@1: 0.489731\tvalid_0's ndcg@3: 0.506763\tvalid_0's ndcg@5: 0.524956\tvalid_0's ndcg@10: 0.564648\tvalid_0's ndcg@20: 0.633226\n",
      "[30]\tvalid_0's ndcg@1: 0.510087\tvalid_0's ndcg@3: 0.519945\tvalid_0's ndcg@5: 0.536241\tvalid_0's ndcg@10: 0.574853\tvalid_0's ndcg@20: 0.642242\n",
      "[40]\tvalid_0's ndcg@1: 0.51057\tvalid_0's ndcg@3: 0.522565\tvalid_0's ndcg@5: 0.539379\tvalid_0's ndcg@10: 0.579923\tvalid_0's ndcg@20: 0.645275\n",
      "[50]\tvalid_0's ndcg@1: 0.522329\tvalid_0's ndcg@3: 0.528345\tvalid_0's ndcg@5: 0.544473\tvalid_0's ndcg@10: 0.585227\tvalid_0's ndcg@20: 0.650118\n",
      "[60]\tvalid_0's ndcg@1: 0.524058\tvalid_0's ndcg@3: 0.531777\tvalid_0's ndcg@5: 0.5476\tvalid_0's ndcg@10: 0.587068\tvalid_0's ndcg@20: 0.652274\n",
      "[70]\tvalid_0's ndcg@1: 0.52466\tvalid_0's ndcg@3: 0.532788\tvalid_0's ndcg@5: 0.550145\tvalid_0's ndcg@10: 0.588982\tvalid_0's ndcg@20: 0.653568\n",
      "[80]\tvalid_0's ndcg@1: 0.522324\tvalid_0's ndcg@3: 0.531976\tvalid_0's ndcg@5: 0.549219\tvalid_0's ndcg@10: 0.589345\tvalid_0's ndcg@20: 0.653449\n",
      "[90]\tvalid_0's ndcg@1: 0.528146\tvalid_0's ndcg@3: 0.535871\tvalid_0's ndcg@5: 0.551543\tvalid_0's ndcg@10: 0.590828\tvalid_0's ndcg@20: 0.655155\n",
      "[100]\tvalid_0's ndcg@1: 0.521035\tvalid_0's ndcg@3: 0.53332\tvalid_0's ndcg@5: 0.552448\tvalid_0's ndcg@10: 0.591229\tvalid_0's ndcg@20: 0.655109\n",
      "[110]\tvalid_0's ndcg@1: 0.527521\tvalid_0's ndcg@3: 0.534368\tvalid_0's ndcg@5: 0.55329\tvalid_0's ndcg@10: 0.592719\tvalid_0's ndcg@20: 0.655612\n",
      "[120]\tvalid_0's ndcg@1: 0.525424\tvalid_0's ndcg@3: 0.534328\tvalid_0's ndcg@5: 0.554831\tvalid_0's ndcg@10: 0.593067\tvalid_0's ndcg@20: 0.657009\n",
      "[130]\tvalid_0's ndcg@1: 0.524899\tvalid_0's ndcg@3: 0.534861\tvalid_0's ndcg@5: 0.553551\tvalid_0's ndcg@10: 0.593167\tvalid_0's ndcg@20: 0.657415\n",
      "[140]\tvalid_0's ndcg@1: 0.527869\tvalid_0's ndcg@3: 0.537073\tvalid_0's ndcg@5: 0.557126\tvalid_0's ndcg@10: 0.594688\tvalid_0's ndcg@20: 0.659017\n",
      "[150]\tvalid_0's ndcg@1: 0.527497\tvalid_0's ndcg@3: 0.536438\tvalid_0's ndcg@5: 0.556708\tvalid_0's ndcg@10: 0.595484\tvalid_0's ndcg@20: 0.659211\n"
     ]
    },
    {
     "name": "stderr",
     "output_type": "stream",
     "text": [
      "[I 2024-04-29 23:22:10,752] Trial 10 finished with value: 0.5736360484268883 and parameters: {'lambda_l1': 1.6341730790777765e-06, 'lambda_l2': 1.1323342574942026e-08, 'max_depth': 8, 'num_leaves': 90, 'colsample_bytree': 0.639929107656765, 'min_child_samples': 71}. Best is trial 6 with value: 0.5745330918339022.\n"
     ]
    },
    {
     "name": "stdout",
     "output_type": "stream",
     "text": [
      "[160]\tvalid_0's ndcg@1: 0.524158\tvalid_0's ndcg@3: 0.536731\tvalid_0's ndcg@5: 0.557971\tvalid_0's ndcg@10: 0.595387\tvalid_0's ndcg@20: 0.659245\n",
      "Early stopping, best iteration is:\n",
      "[113]\tvalid_0's ndcg@1: 0.529097\tvalid_0's ndcg@3: 0.534889\tvalid_0's ndcg@5: 0.554563\tvalid_0's ndcg@10: 0.593247\tvalid_0's ndcg@20: 0.656384\n"
     ]
    },
    {
     "name": "stderr",
     "output_type": "stream",
     "text": [
      "C:\\Users\\savolk25\\AppData\\Local\\Temp\\ipykernel_19764\\389573219.py:4: FutureWarning: suggest_loguniform has been deprecated in v3.0.0. This feature will be removed in v6.0.0. See https://github.com/optuna/optuna/releases/tag/v3.0.0. Use suggest_float(..., log=True) instead.\n",
      "  'reg_alpha': trial.suggest_loguniform('lambda_l1', 1e-8, 10.0),\n",
      "C:\\Users\\savolk25\\AppData\\Local\\Temp\\ipykernel_19764\\389573219.py:5: FutureWarning: suggest_loguniform has been deprecated in v3.0.0. This feature will be removed in v6.0.0. See https://github.com/optuna/optuna/releases/tag/v3.0.0. Use suggest_float(..., log=True) instead.\n",
      "  'reg_lambda': trial.suggest_loguniform('lambda_l2', 1e-8, 10.0),\n",
      "C:\\Users\\savolk25\\AppData\\Local\\Temp\\ipykernel_19764\\389573219.py:8: FutureWarning: suggest_uniform has been deprecated in v3.0.0. This feature will be removed in v6.0.0. See https://github.com/optuna/optuna/releases/tag/v3.0.0. Use suggest_float instead.\n",
      "  'colsample_bytree': trial.suggest_uniform('colsample_bytree', 0.1, 1),\n"
     ]
    },
    {
     "name": "stdout",
     "output_type": "stream",
     "text": [
      "Training until validation scores don't improve for 50 rounds\n",
      "[10]\tvalid_0's ndcg@1: 0.4652\tvalid_0's ndcg@3: 0.486362\tvalid_0's ndcg@5: 0.504807\tvalid_0's ndcg@10: 0.545647\tvalid_0's ndcg@20: 0.617534\n",
      "[20]\tvalid_0's ndcg@1: 0.485155\tvalid_0's ndcg@3: 0.501089\tvalid_0's ndcg@5: 0.519809\tvalid_0's ndcg@10: 0.559041\tvalid_0's ndcg@20: 0.628866\n",
      "[30]\tvalid_0's ndcg@1: 0.490108\tvalid_0's ndcg@3: 0.507967\tvalid_0's ndcg@5: 0.524681\tvalid_0's ndcg@10: 0.565454\tvalid_0's ndcg@20: 0.633286\n",
      "[40]\tvalid_0's ndcg@1: 0.500583\tvalid_0's ndcg@3: 0.516595\tvalid_0's ndcg@5: 0.532594\tvalid_0's ndcg@10: 0.573073\tvalid_0's ndcg@20: 0.639152\n",
      "[50]\tvalid_0's ndcg@1: 0.506009\tvalid_0's ndcg@3: 0.520652\tvalid_0's ndcg@5: 0.536911\tvalid_0's ndcg@10: 0.576498\tvalid_0's ndcg@20: 0.64235\n",
      "[60]\tvalid_0's ndcg@1: 0.509309\tvalid_0's ndcg@3: 0.52465\tvalid_0's ndcg@5: 0.541782\tvalid_0's ndcg@10: 0.579794\tvalid_0's ndcg@20: 0.645695\n",
      "[70]\tvalid_0's ndcg@1: 0.514496\tvalid_0's ndcg@3: 0.531923\tvalid_0's ndcg@5: 0.544982\tvalid_0's ndcg@10: 0.583616\tvalid_0's ndcg@20: 0.648788\n",
      "[80]\tvalid_0's ndcg@1: 0.516382\tvalid_0's ndcg@3: 0.531222\tvalid_0's ndcg@5: 0.545711\tvalid_0's ndcg@10: 0.58437\tvalid_0's ndcg@20: 0.648927\n",
      "[90]\tvalid_0's ndcg@1: 0.511611\tvalid_0's ndcg@3: 0.530857\tvalid_0's ndcg@5: 0.546163\tvalid_0's ndcg@10: 0.584063\tvalid_0's ndcg@20: 0.649453\n",
      "[100]\tvalid_0's ndcg@1: 0.510598\tvalid_0's ndcg@3: 0.529163\tvalid_0's ndcg@5: 0.546573\tvalid_0's ndcg@10: 0.584101\tvalid_0's ndcg@20: 0.649463\n",
      "[110]\tvalid_0's ndcg@1: 0.511492\tvalid_0's ndcg@3: 0.529819\tvalid_0's ndcg@5: 0.54719\tvalid_0's ndcg@10: 0.585555\tvalid_0's ndcg@20: 0.650416\n",
      "[120]\tvalid_0's ndcg@1: 0.517863\tvalid_0's ndcg@3: 0.531898\tvalid_0's ndcg@5: 0.549369\tvalid_0's ndcg@10: 0.587089\tvalid_0's ndcg@20: 0.652163\n"
     ]
    },
    {
     "name": "stderr",
     "output_type": "stream",
     "text": [
      "[I 2024-04-29 23:22:15,574] Trial 11 finished with value: 0.5660294674449109 and parameters: {'lambda_l1': 2.2864000799553145e-06, 'lambda_l2': 0.0028773153947654583, 'max_depth': 7, 'num_leaves': 120, 'colsample_bytree': 0.25325640070800803, 'min_child_samples': 5}. Best is trial 6 with value: 0.5745330918339022.\n"
     ]
    },
    {
     "name": "stdout",
     "output_type": "stream",
     "text": [
      "Early stopping, best iteration is:\n",
      "[74]\tvalid_0's ndcg@1: 0.517863\tvalid_0's ndcg@3: 0.532459\tvalid_0's ndcg@5: 0.546375\tvalid_0's ndcg@10: 0.584245\tvalid_0's ndcg@20: 0.649205\n"
     ]
    },
    {
     "name": "stderr",
     "output_type": "stream",
     "text": [
      "C:\\Users\\savolk25\\AppData\\Local\\Temp\\ipykernel_19764\\389573219.py:4: FutureWarning: suggest_loguniform has been deprecated in v3.0.0. This feature will be removed in v6.0.0. See https://github.com/optuna/optuna/releases/tag/v3.0.0. Use suggest_float(..., log=True) instead.\n",
      "  'reg_alpha': trial.suggest_loguniform('lambda_l1', 1e-8, 10.0),\n",
      "C:\\Users\\savolk25\\AppData\\Local\\Temp\\ipykernel_19764\\389573219.py:5: FutureWarning: suggest_loguniform has been deprecated in v3.0.0. This feature will be removed in v6.0.0. See https://github.com/optuna/optuna/releases/tag/v3.0.0. Use suggest_float(..., log=True) instead.\n",
      "  'reg_lambda': trial.suggest_loguniform('lambda_l2', 1e-8, 10.0),\n",
      "C:\\Users\\savolk25\\AppData\\Local\\Temp\\ipykernel_19764\\389573219.py:8: FutureWarning: suggest_uniform has been deprecated in v3.0.0. This feature will be removed in v6.0.0. See https://github.com/optuna/optuna/releases/tag/v3.0.0. Use suggest_float instead.\n",
      "  'colsample_bytree': trial.suggest_uniform('colsample_bytree', 0.1, 1),\n"
     ]
    },
    {
     "name": "stdout",
     "output_type": "stream",
     "text": [
      "Training until validation scores don't improve for 50 rounds\n",
      "[10]\tvalid_0's ndcg@1: 0.484019\tvalid_0's ndcg@3: 0.499422\tvalid_0's ndcg@5: 0.517308\tvalid_0's ndcg@10: 0.557655\tvalid_0's ndcg@20: 0.626198\n",
      "[20]\tvalid_0's ndcg@1: 0.494144\tvalid_0's ndcg@3: 0.510049\tvalid_0's ndcg@5: 0.530553\tvalid_0's ndcg@10: 0.567793\tvalid_0's ndcg@20: 0.633392\n",
      "[30]\tvalid_0's ndcg@1: 0.495826\tvalid_0's ndcg@3: 0.513693\tvalid_0's ndcg@5: 0.533673\tvalid_0's ndcg@10: 0.572457\tvalid_0's ndcg@20: 0.637089\n",
      "[40]\tvalid_0's ndcg@1: 0.506047\tvalid_0's ndcg@3: 0.51856\tvalid_0's ndcg@5: 0.538895\tvalid_0's ndcg@10: 0.577251\tvalid_0's ndcg@20: 0.642201\n",
      "[50]\tvalid_0's ndcg@1: 0.512423\tvalid_0's ndcg@3: 0.525654\tvalid_0's ndcg@5: 0.545037\tvalid_0's ndcg@10: 0.582299\tvalid_0's ndcg@20: 0.6462\n",
      "[60]\tvalid_0's ndcg@1: 0.519019\tvalid_0's ndcg@3: 0.531302\tvalid_0's ndcg@5: 0.548948\tvalid_0's ndcg@10: 0.585841\tvalid_0's ndcg@20: 0.650504\n",
      "[70]\tvalid_0's ndcg@1: 0.521531\tvalid_0's ndcg@3: 0.532817\tvalid_0's ndcg@5: 0.550623\tvalid_0's ndcg@10: 0.587152\tvalid_0's ndcg@20: 0.65211\n",
      "[80]\tvalid_0's ndcg@1: 0.521335\tvalid_0's ndcg@3: 0.533635\tvalid_0's ndcg@5: 0.54963\tvalid_0's ndcg@10: 0.588044\tvalid_0's ndcg@20: 0.652711\n",
      "[90]\tvalid_0's ndcg@1: 0.517008\tvalid_0's ndcg@3: 0.532018\tvalid_0's ndcg@5: 0.548729\tvalid_0's ndcg@10: 0.587462\tvalid_0's ndcg@20: 0.652102\n",
      "[100]\tvalid_0's ndcg@1: 0.519095\tvalid_0's ndcg@3: 0.533862\tvalid_0's ndcg@5: 0.550497\tvalid_0's ndcg@10: 0.588714\tvalid_0's ndcg@20: 0.653498\n",
      "[110]\tvalid_0's ndcg@1: 0.521326\tvalid_0's ndcg@3: 0.536137\tvalid_0's ndcg@5: 0.551178\tvalid_0's ndcg@10: 0.589163\tvalid_0's ndcg@20: 0.6537\n",
      "[120]\tvalid_0's ndcg@1: 0.520581\tvalid_0's ndcg@3: 0.537671\tvalid_0's ndcg@5: 0.551819\tvalid_0's ndcg@10: 0.590653\tvalid_0's ndcg@20: 0.655106\n",
      "[130]\tvalid_0's ndcg@1: 0.517534\tvalid_0's ndcg@3: 0.536115\tvalid_0's ndcg@5: 0.551718\tvalid_0's ndcg@10: 0.590355\tvalid_0's ndcg@20: 0.654377\n",
      "[140]\tvalid_0's ndcg@1: 0.518976\tvalid_0's ndcg@3: 0.537168\tvalid_0's ndcg@5: 0.551545\tvalid_0's ndcg@10: 0.590976\tvalid_0's ndcg@20: 0.654961\n",
      "[150]\tvalid_0's ndcg@1: 0.524091\tvalid_0's ndcg@3: 0.539072\tvalid_0's ndcg@5: 0.553139\tvalid_0's ndcg@10: 0.592415\tvalid_0's ndcg@20: 0.656272\n",
      "[160]\tvalid_0's ndcg@1: 0.526718\tvalid_0's ndcg@3: 0.539224\tvalid_0's ndcg@5: 0.553556\tvalid_0's ndcg@10: 0.59325\tvalid_0's ndcg@20: 0.6564\n",
      "[170]\tvalid_0's ndcg@1: 0.523017\tvalid_0's ndcg@3: 0.540274\tvalid_0's ndcg@5: 0.55464\tvalid_0's ndcg@10: 0.593353\tvalid_0's ndcg@20: 0.656097\n",
      "[180]\tvalid_0's ndcg@1: 0.526303\tvalid_0's ndcg@3: 0.539986\tvalid_0's ndcg@5: 0.555737\tvalid_0's ndcg@10: 0.594172\tvalid_0's ndcg@20: 0.656335\n",
      "[190]\tvalid_0's ndcg@1: 0.522658\tvalid_0's ndcg@3: 0.539528\tvalid_0's ndcg@5: 0.555768\tvalid_0's ndcg@10: 0.593508\tvalid_0's ndcg@20: 0.655916\n",
      "[200]\tvalid_0's ndcg@1: 0.527683\tvalid_0's ndcg@3: 0.54126\tvalid_0's ndcg@5: 0.55783\tvalid_0's ndcg@10: 0.595473\tvalid_0's ndcg@20: 0.657554\n",
      "[210]\tvalid_0's ndcg@1: 0.527688\tvalid_0's ndcg@3: 0.542293\tvalid_0's ndcg@5: 0.558228\tvalid_0's ndcg@10: 0.595811\tvalid_0's ndcg@20: 0.658246\n",
      "[220]\tvalid_0's ndcg@1: 0.527951\tvalid_0's ndcg@3: 0.543041\tvalid_0's ndcg@5: 0.55804\tvalid_0's ndcg@10: 0.595256\tvalid_0's ndcg@20: 0.658016\n",
      "[230]\tvalid_0's ndcg@1: 0.525228\tvalid_0's ndcg@3: 0.54255\tvalid_0's ndcg@5: 0.557052\tvalid_0's ndcg@10: 0.594497\tvalid_0's ndcg@20: 0.657732\n",
      "[240]\tvalid_0's ndcg@1: 0.52679\tvalid_0's ndcg@3: 0.542715\tvalid_0's ndcg@5: 0.557413\tvalid_0's ndcg@10: 0.594812\tvalid_0's ndcg@20: 0.658408\n",
      "[250]\tvalid_0's ndcg@1: 0.526699\tvalid_0's ndcg@3: 0.541745\tvalid_0's ndcg@5: 0.557028\tvalid_0's ndcg@10: 0.594404\tvalid_0's ndcg@20: 0.658362\n"
     ]
    },
    {
     "name": "stderr",
     "output_type": "stream",
     "text": [
      "[I 2024-04-29 23:22:22,973] Trial 12 finished with value: 0.5768434056823094 and parameters: {'lambda_l1': 3.738425892816665e-06, 'lambda_l2': 0.0001981671721667573, 'max_depth': 7, 'num_leaves': 121, 'colsample_bytree': 0.49810988918502913, 'min_child_samples': 25}. Best is trial 12 with value: 0.5768434056823094.\n"
     ]
    },
    {
     "name": "stdout",
     "output_type": "stream",
     "text": [
      "Early stopping, best iteration is:\n",
      "[205]\tvalid_0's ndcg@1: 0.529818\tvalid_0's ndcg@3: 0.541958\tvalid_0's ndcg@5: 0.557972\tvalid_0's ndcg@10: 0.596277\tvalid_0's ndcg@20: 0.658192\n"
     ]
    },
    {
     "name": "stderr",
     "output_type": "stream",
     "text": [
      "C:\\Users\\savolk25\\AppData\\Local\\Temp\\ipykernel_19764\\389573219.py:4: FutureWarning: suggest_loguniform has been deprecated in v3.0.0. This feature will be removed in v6.0.0. See https://github.com/optuna/optuna/releases/tag/v3.0.0. Use suggest_float(..., log=True) instead.\n",
      "  'reg_alpha': trial.suggest_loguniform('lambda_l1', 1e-8, 10.0),\n",
      "C:\\Users\\savolk25\\AppData\\Local\\Temp\\ipykernel_19764\\389573219.py:5: FutureWarning: suggest_loguniform has been deprecated in v3.0.0. This feature will be removed in v6.0.0. See https://github.com/optuna/optuna/releases/tag/v3.0.0. Use suggest_float(..., log=True) instead.\n",
      "  'reg_lambda': trial.suggest_loguniform('lambda_l2', 1e-8, 10.0),\n",
      "C:\\Users\\savolk25\\AppData\\Local\\Temp\\ipykernel_19764\\389573219.py:8: FutureWarning: suggest_uniform has been deprecated in v3.0.0. This feature will be removed in v6.0.0. See https://github.com/optuna/optuna/releases/tag/v3.0.0. Use suggest_float instead.\n",
      "  'colsample_bytree': trial.suggest_uniform('colsample_bytree', 0.1, 1),\n"
     ]
    },
    {
     "name": "stdout",
     "output_type": "stream",
     "text": [
      "Training until validation scores don't improve for 50 rounds\n",
      "[10]\tvalid_0's ndcg@1: 0.491938\tvalid_0's ndcg@3: 0.500751\tvalid_0's ndcg@5: 0.517829\tvalid_0's ndcg@10: 0.558261\tvalid_0's ndcg@20: 0.626642\n",
      "[20]\tvalid_0's ndcg@1: 0.505727\tvalid_0's ndcg@3: 0.509596\tvalid_0's ndcg@5: 0.527681\tvalid_0's ndcg@10: 0.566108\tvalid_0's ndcg@20: 0.634377\n",
      "[30]\tvalid_0's ndcg@1: 0.506849\tvalid_0's ndcg@3: 0.514607\tvalid_0's ndcg@5: 0.533792\tvalid_0's ndcg@10: 0.572875\tvalid_0's ndcg@20: 0.63866\n",
      "[40]\tvalid_0's ndcg@1: 0.514558\tvalid_0's ndcg@3: 0.521452\tvalid_0's ndcg@5: 0.53901\tvalid_0's ndcg@10: 0.578363\tvalid_0's ndcg@20: 0.642607\n",
      "[50]\tvalid_0's ndcg@1: 0.518704\tvalid_0's ndcg@3: 0.524485\tvalid_0's ndcg@5: 0.542031\tvalid_0's ndcg@10: 0.581312\tvalid_0's ndcg@20: 0.64525\n",
      "[60]\tvalid_0's ndcg@1: 0.516511\tvalid_0's ndcg@3: 0.527355\tvalid_0's ndcg@5: 0.546254\tvalid_0's ndcg@10: 0.584135\tvalid_0's ndcg@20: 0.64769\n",
      "[70]\tvalid_0's ndcg@1: 0.517056\tvalid_0's ndcg@3: 0.530739\tvalid_0's ndcg@5: 0.548146\tvalid_0's ndcg@10: 0.586531\tvalid_0's ndcg@20: 0.649384\n",
      "[80]\tvalid_0's ndcg@1: 0.521698\tvalid_0's ndcg@3: 0.532169\tvalid_0's ndcg@5: 0.55034\tvalid_0's ndcg@10: 0.588289\tvalid_0's ndcg@20: 0.651653\n",
      "[90]\tvalid_0's ndcg@1: 0.52316\tvalid_0's ndcg@3: 0.532147\tvalid_0's ndcg@5: 0.549899\tvalid_0's ndcg@10: 0.588205\tvalid_0's ndcg@20: 0.65205\n",
      "[100]\tvalid_0's ndcg@1: 0.52423\tvalid_0's ndcg@3: 0.534728\tvalid_0's ndcg@5: 0.550157\tvalid_0's ndcg@10: 0.589685\tvalid_0's ndcg@20: 0.653146\n",
      "[110]\tvalid_0's ndcg@1: 0.525706\tvalid_0's ndcg@3: 0.533982\tvalid_0's ndcg@5: 0.551007\tvalid_0's ndcg@10: 0.590421\tvalid_0's ndcg@20: 0.653661\n",
      "[120]\tvalid_0's ndcg@1: 0.519611\tvalid_0's ndcg@3: 0.534592\tvalid_0's ndcg@5: 0.55091\tvalid_0's ndcg@10: 0.590368\tvalid_0's ndcg@20: 0.653828\n",
      "[130]\tvalid_0's ndcg@1: 0.524044\tvalid_0's ndcg@3: 0.536785\tvalid_0's ndcg@5: 0.553135\tvalid_0's ndcg@10: 0.591479\tvalid_0's ndcg@20: 0.655087\n",
      "Early stopping, best iteration is:\n",
      "[88]\tvalid_0's ndcg@1: 0.527124\tvalid_0's ndcg@3: 0.534909\tvalid_0's ndcg@5: 0.550945\tvalid_0's ndcg@10: 0.589415\tvalid_0's ndcg@20: 0.653076\n"
     ]
    },
    {
     "name": "stderr",
     "output_type": "stream",
     "text": [
      "[I 2024-04-29 23:22:27,904] Trial 13 finished with value: 0.5710938283373633 and parameters: {'lambda_l1': 7.879761022710774e-07, 'lambda_l2': 0.0001667148686572712, 'max_depth': 7, 'num_leaves': 90, 'colsample_bytree': 0.5218346969990579, 'min_child_samples': 31}. Best is trial 12 with value: 0.5768434056823094.\n",
      "C:\\Users\\savolk25\\AppData\\Local\\Temp\\ipykernel_19764\\389573219.py:4: FutureWarning: suggest_loguniform has been deprecated in v3.0.0. This feature will be removed in v6.0.0. See https://github.com/optuna/optuna/releases/tag/v3.0.0. Use suggest_float(..., log=True) instead.\n",
      "  'reg_alpha': trial.suggest_loguniform('lambda_l1', 1e-8, 10.0),\n",
      "C:\\Users\\savolk25\\AppData\\Local\\Temp\\ipykernel_19764\\389573219.py:5: FutureWarning: suggest_loguniform has been deprecated in v3.0.0. This feature will be removed in v6.0.0. See https://github.com/optuna/optuna/releases/tag/v3.0.0. Use suggest_float(..., log=True) instead.\n",
      "  'reg_lambda': trial.suggest_loguniform('lambda_l2', 1e-8, 10.0),\n",
      "C:\\Users\\savolk25\\AppData\\Local\\Temp\\ipykernel_19764\\389573219.py:8: FutureWarning: suggest_uniform has been deprecated in v3.0.0. This feature will be removed in v6.0.0. See https://github.com/optuna/optuna/releases/tag/v3.0.0. Use suggest_float instead.\n",
      "  'colsample_bytree': trial.suggest_uniform('colsample_bytree', 0.1, 1),\n"
     ]
    },
    {
     "name": "stdout",
     "output_type": "stream",
     "text": [
      "Training until validation scores don't improve for 50 rounds\n",
      "[10]\tvalid_0's ndcg@1: 0.469007\tvalid_0's ndcg@3: 0.492387\tvalid_0's ndcg@5: 0.508219\tvalid_0's ndcg@10: 0.550213\tvalid_0's ndcg@20: 0.619491\n",
      "[20]\tvalid_0's ndcg@1: 0.489545\tvalid_0's ndcg@3: 0.501854\tvalid_0's ndcg@5: 0.51982\tvalid_0's ndcg@10: 0.559622\tvalid_0's ndcg@20: 0.628156\n",
      "[30]\tvalid_0's ndcg@1: 0.50352\tvalid_0's ndcg@3: 0.509934\tvalid_0's ndcg@5: 0.528796\tvalid_0's ndcg@10: 0.569149\tvalid_0's ndcg@20: 0.636751\n",
      "[40]\tvalid_0's ndcg@1: 0.504184\tvalid_0's ndcg@3: 0.517756\tvalid_0's ndcg@5: 0.533332\tvalid_0's ndcg@10: 0.57386\tvalid_0's ndcg@20: 0.640254\n",
      "[50]\tvalid_0's ndcg@1: 0.51772\tvalid_0's ndcg@3: 0.52344\tvalid_0's ndcg@5: 0.540258\tvalid_0's ndcg@10: 0.578404\tvalid_0's ndcg@20: 0.644724\n",
      "[60]\tvalid_0's ndcg@1: 0.522038\tvalid_0's ndcg@3: 0.527473\tvalid_0's ndcg@5: 0.543603\tvalid_0's ndcg@10: 0.581229\tvalid_0's ndcg@20: 0.647475\n",
      "[70]\tvalid_0's ndcg@1: 0.52317\tvalid_0's ndcg@3: 0.529705\tvalid_0's ndcg@5: 0.544219\tvalid_0's ndcg@10: 0.583702\tvalid_0's ndcg@20: 0.648612\n",
      "[80]\tvalid_0's ndcg@1: 0.526155\tvalid_0's ndcg@3: 0.531476\tvalid_0's ndcg@5: 0.546148\tvalid_0's ndcg@10: 0.584451\tvalid_0's ndcg@20: 0.650591\n",
      "[90]\tvalid_0's ndcg@1: 0.526489\tvalid_0's ndcg@3: 0.531413\tvalid_0's ndcg@5: 0.546206\tvalid_0's ndcg@10: 0.584718\tvalid_0's ndcg@20: 0.650749\n",
      "[100]\tvalid_0's ndcg@1: 0.528395\tvalid_0's ndcg@3: 0.533078\tvalid_0's ndcg@5: 0.546526\tvalid_0's ndcg@10: 0.586372\tvalid_0's ndcg@20: 0.651239\n",
      "[110]\tvalid_0's ndcg@1: 0.535015\tvalid_0's ndcg@3: 0.533809\tvalid_0's ndcg@5: 0.548603\tvalid_0's ndcg@10: 0.587302\tvalid_0's ndcg@20: 0.652692\n",
      "[120]\tvalid_0's ndcg@1: 0.529737\tvalid_0's ndcg@3: 0.53137\tvalid_0's ndcg@5: 0.54854\tvalid_0's ndcg@10: 0.58657\tvalid_0's ndcg@20: 0.652345\n",
      "[130]\tvalid_0's ndcg@1: 0.532383\tvalid_0's ndcg@3: 0.534951\tvalid_0's ndcg@5: 0.549841\tvalid_0's ndcg@10: 0.588456\tvalid_0's ndcg@20: 0.653873\n",
      "[140]\tvalid_0's ndcg@1: 0.530854\tvalid_0's ndcg@3: 0.532874\tvalid_0's ndcg@5: 0.550331\tvalid_0's ndcg@10: 0.587876\tvalid_0's ndcg@20: 0.653563\n",
      "[150]\tvalid_0's ndcg@1: 0.53287\tvalid_0's ndcg@3: 0.533556\tvalid_0's ndcg@5: 0.549208\tvalid_0's ndcg@10: 0.588456\tvalid_0's ndcg@20: 0.654085\n"
     ]
    },
    {
     "name": "stderr",
     "output_type": "stream",
     "text": [
      "[I 2024-04-29 23:22:33,376] Trial 14 finished with value: 0.5714841733695813 and parameters: {'lambda_l1': 0.08857600965028074, 'lambda_l2': 0.00018558554388166442, 'max_depth': 6, 'num_leaves': 89, 'colsample_bytree': 0.7919833106041956, 'min_child_samples': 68}. Best is trial 12 with value: 0.5768434056823094.\n"
     ]
    },
    {
     "name": "stdout",
     "output_type": "stream",
     "text": [
      "[160]\tvalid_0's ndcg@1: 0.530611\tvalid_0's ndcg@3: 0.535322\tvalid_0's ndcg@5: 0.549135\tvalid_0's ndcg@10: 0.589384\tvalid_0's ndcg@20: 0.654532\n",
      "Early stopping, best iteration is:\n",
      "[110]\tvalid_0's ndcg@1: 0.535015\tvalid_0's ndcg@3: 0.533809\tvalid_0's ndcg@5: 0.548603\tvalid_0's ndcg@10: 0.587302\tvalid_0's ndcg@20: 0.652692\n"
     ]
    },
    {
     "name": "stderr",
     "output_type": "stream",
     "text": [
      "C:\\Users\\savolk25\\AppData\\Local\\Temp\\ipykernel_19764\\389573219.py:4: FutureWarning: suggest_loguniform has been deprecated in v3.0.0. This feature will be removed in v6.0.0. See https://github.com/optuna/optuna/releases/tag/v3.0.0. Use suggest_float(..., log=True) instead.\n",
      "  'reg_alpha': trial.suggest_loguniform('lambda_l1', 1e-8, 10.0),\n",
      "C:\\Users\\savolk25\\AppData\\Local\\Temp\\ipykernel_19764\\389573219.py:5: FutureWarning: suggest_loguniform has been deprecated in v3.0.0. This feature will be removed in v6.0.0. See https://github.com/optuna/optuna/releases/tag/v3.0.0. Use suggest_float(..., log=True) instead.\n",
      "  'reg_lambda': trial.suggest_loguniform('lambda_l2', 1e-8, 10.0),\n",
      "C:\\Users\\savolk25\\AppData\\Local\\Temp\\ipykernel_19764\\389573219.py:8: FutureWarning: suggest_uniform has been deprecated in v3.0.0. This feature will be removed in v6.0.0. See https://github.com/optuna/optuna/releases/tag/v3.0.0. Use suggest_float instead.\n",
      "  'colsample_bytree': trial.suggest_uniform('colsample_bytree', 0.1, 1),\n"
     ]
    },
    {
     "name": "stdout",
     "output_type": "stream",
     "text": [
      "Training until validation scores don't improve for 50 rounds\n",
      "[10]\tvalid_0's ndcg@1: 0.473081\tvalid_0's ndcg@3: 0.48766\tvalid_0's ndcg@5: 0.505478\tvalid_0's ndcg@10: 0.549658\tvalid_0's ndcg@20: 0.618695\n",
      "[20]\tvalid_0's ndcg@1: 0.479223\tvalid_0's ndcg@3: 0.496478\tvalid_0's ndcg@5: 0.516452\tvalid_0's ndcg@10: 0.558614\tvalid_0's ndcg@20: 0.626882\n",
      "[30]\tvalid_0's ndcg@1: 0.491732\tvalid_0's ndcg@3: 0.505898\tvalid_0's ndcg@5: 0.523848\tvalid_0's ndcg@10: 0.564317\tvalid_0's ndcg@20: 0.632531\n",
      "[40]\tvalid_0's ndcg@1: 0.495248\tvalid_0's ndcg@3: 0.507275\tvalid_0's ndcg@5: 0.526635\tvalid_0's ndcg@10: 0.567032\tvalid_0's ndcg@20: 0.635012\n",
      "[50]\tvalid_0's ndcg@1: 0.497373\tvalid_0's ndcg@3: 0.512461\tvalid_0's ndcg@5: 0.530036\tvalid_0's ndcg@10: 0.57048\tvalid_0's ndcg@20: 0.637057\n",
      "[60]\tvalid_0's ndcg@1: 0.501791\tvalid_0's ndcg@3: 0.517774\tvalid_0's ndcg@5: 0.533965\tvalid_0's ndcg@10: 0.574325\tvalid_0's ndcg@20: 0.639891\n",
      "[70]\tvalid_0's ndcg@1: 0.501982\tvalid_0's ndcg@3: 0.51835\tvalid_0's ndcg@5: 0.536697\tvalid_0's ndcg@10: 0.576122\tvalid_0's ndcg@20: 0.641202\n",
      "[80]\tvalid_0's ndcg@1: 0.506959\tvalid_0's ndcg@3: 0.522719\tvalid_0's ndcg@5: 0.53835\tvalid_0's ndcg@10: 0.578645\tvalid_0's ndcg@20: 0.643537\n",
      "[90]\tvalid_0's ndcg@1: 0.509323\tvalid_0's ndcg@3: 0.524528\tvalid_0's ndcg@5: 0.540171\tvalid_0's ndcg@10: 0.580565\tvalid_0's ndcg@20: 0.64491\n",
      "[100]\tvalid_0's ndcg@1: 0.510646\tvalid_0's ndcg@3: 0.52402\tvalid_0's ndcg@5: 0.540144\tvalid_0's ndcg@10: 0.58017\tvalid_0's ndcg@20: 0.645158\n",
      "[110]\tvalid_0's ndcg@1: 0.510087\tvalid_0's ndcg@3: 0.525892\tvalid_0's ndcg@5: 0.541539\tvalid_0's ndcg@10: 0.581269\tvalid_0's ndcg@20: 0.645801\n",
      "[120]\tvalid_0's ndcg@1: 0.511081\tvalid_0's ndcg@3: 0.525124\tvalid_0's ndcg@5: 0.542192\tvalid_0's ndcg@10: 0.582239\tvalid_0's ndcg@20: 0.646964\n",
      "[130]\tvalid_0's ndcg@1: 0.513144\tvalid_0's ndcg@3: 0.528388\tvalid_0's ndcg@5: 0.544579\tvalid_0's ndcg@10: 0.583813\tvalid_0's ndcg@20: 0.647895\n",
      "[140]\tvalid_0's ndcg@1: 0.513479\tvalid_0's ndcg@3: 0.530644\tvalid_0's ndcg@5: 0.544055\tvalid_0's ndcg@10: 0.584214\tvalid_0's ndcg@20: 0.648957\n",
      "[150]\tvalid_0's ndcg@1: 0.509271\tvalid_0's ndcg@3: 0.529116\tvalid_0's ndcg@5: 0.543692\tvalid_0's ndcg@10: 0.584052\tvalid_0's ndcg@20: 0.648833\n",
      "[160]\tvalid_0's ndcg@1: 0.507914\tvalid_0's ndcg@3: 0.527727\tvalid_0's ndcg@5: 0.544574\tvalid_0's ndcg@10: 0.584529\tvalid_0's ndcg@20: 0.649294\n",
      "[170]\tvalid_0's ndcg@1: 0.509911\tvalid_0's ndcg@3: 0.528185\tvalid_0's ndcg@5: 0.545811\tvalid_0's ndcg@10: 0.585196\tvalid_0's ndcg@20: 0.649871\n"
     ]
    },
    {
     "name": "stderr",
     "output_type": "stream",
     "text": [
      "[I 2024-04-29 23:22:39,606] Trial 15 finished with value: 0.564288816124306 and parameters: {'lambda_l1': 9.86874546485385, 'lambda_l2': 0.00878883786743463, 'max_depth': 8, 'num_leaves': 122, 'colsample_bytree': 0.5231306140259455, 'min_child_samples': 24}. Best is trial 12 with value: 0.5768434056823094.\n"
     ]
    },
    {
     "name": "stdout",
     "output_type": "stream",
     "text": [
      "Early stopping, best iteration is:\n",
      "[129]\tvalid_0's ndcg@1: 0.515126\tvalid_0's ndcg@3: 0.528797\tvalid_0's ndcg@5: 0.545107\tvalid_0's ndcg@10: 0.584136\tvalid_0's ndcg@20: 0.648278\n"
     ]
    },
    {
     "name": "stderr",
     "output_type": "stream",
     "text": [
      "C:\\Users\\savolk25\\AppData\\Local\\Temp\\ipykernel_19764\\389573219.py:4: FutureWarning: suggest_loguniform has been deprecated in v3.0.0. This feature will be removed in v6.0.0. See https://github.com/optuna/optuna/releases/tag/v3.0.0. Use suggest_float(..., log=True) instead.\n",
      "  'reg_alpha': trial.suggest_loguniform('lambda_l1', 1e-8, 10.0),\n",
      "C:\\Users\\savolk25\\AppData\\Local\\Temp\\ipykernel_19764\\389573219.py:5: FutureWarning: suggest_loguniform has been deprecated in v3.0.0. This feature will be removed in v6.0.0. See https://github.com/optuna/optuna/releases/tag/v3.0.0. Use suggest_float(..., log=True) instead.\n",
      "  'reg_lambda': trial.suggest_loguniform('lambda_l2', 1e-8, 10.0),\n",
      "C:\\Users\\savolk25\\AppData\\Local\\Temp\\ipykernel_19764\\389573219.py:8: FutureWarning: suggest_uniform has been deprecated in v3.0.0. This feature will be removed in v6.0.0. See https://github.com/optuna/optuna/releases/tag/v3.0.0. Use suggest_float instead.\n",
      "  'colsample_bytree': trial.suggest_uniform('colsample_bytree', 0.1, 1),\n"
     ]
    },
    {
     "name": "stdout",
     "output_type": "stream",
     "text": [
      "Training until validation scores don't improve for 50 rounds\n",
      "[10]\tvalid_0's ndcg@1: 0.450131\tvalid_0's ndcg@3: 0.465959\tvalid_0's ndcg@5: 0.485947\tvalid_0's ndcg@10: 0.531365\tvalid_0's ndcg@20: 0.603091\n",
      "[20]\tvalid_0's ndcg@1: 0.462817\tvalid_0's ndcg@3: 0.480819\tvalid_0's ndcg@5: 0.499379\tvalid_0's ndcg@10: 0.542556\tvalid_0's ndcg@20: 0.611915\n",
      "[30]\tvalid_0's ndcg@1: 0.471892\tvalid_0's ndcg@3: 0.488268\tvalid_0's ndcg@5: 0.506952\tvalid_0's ndcg@10: 0.54998\tvalid_0's ndcg@20: 0.618915\n",
      "[40]\tvalid_0's ndcg@1: 0.472995\tvalid_0's ndcg@3: 0.493198\tvalid_0's ndcg@5: 0.510152\tvalid_0's ndcg@10: 0.55193\tvalid_0's ndcg@20: 0.621848\n",
      "[50]\tvalid_0's ndcg@1: 0.477705\tvalid_0's ndcg@3: 0.494436\tvalid_0's ndcg@5: 0.514168\tvalid_0's ndcg@10: 0.555041\tvalid_0's ndcg@20: 0.624666\n",
      "[60]\tvalid_0's ndcg@1: 0.481908\tvalid_0's ndcg@3: 0.496994\tvalid_0's ndcg@5: 0.516086\tvalid_0's ndcg@10: 0.556929\tvalid_0's ndcg@20: 0.626256\n",
      "[70]\tvalid_0's ndcg@1: 0.48857\tvalid_0's ndcg@3: 0.50453\tvalid_0's ndcg@5: 0.519528\tvalid_0's ndcg@10: 0.560534\tvalid_0's ndcg@20: 0.629597\n",
      "[80]\tvalid_0's ndcg@1: 0.491384\tvalid_0's ndcg@3: 0.506796\tvalid_0's ndcg@5: 0.52104\tvalid_0's ndcg@10: 0.56232\tvalid_0's ndcg@20: 0.631098\n",
      "[90]\tvalid_0's ndcg@1: 0.499498\tvalid_0's ndcg@3: 0.507869\tvalid_0's ndcg@5: 0.523817\tvalid_0's ndcg@10: 0.564381\tvalid_0's ndcg@20: 0.633189\n",
      "[100]\tvalid_0's ndcg@1: 0.499365\tvalid_0's ndcg@3: 0.50929\tvalid_0's ndcg@5: 0.524695\tvalid_0's ndcg@10: 0.565056\tvalid_0's ndcg@20: 0.633583\n",
      "[110]\tvalid_0's ndcg@1: 0.499355\tvalid_0's ndcg@3: 0.50939\tvalid_0's ndcg@5: 0.525476\tvalid_0's ndcg@10: 0.565773\tvalid_0's ndcg@20: 0.634082\n",
      "[120]\tvalid_0's ndcg@1: 0.500267\tvalid_0's ndcg@3: 0.509916\tvalid_0's ndcg@5: 0.52683\tvalid_0's ndcg@10: 0.566715\tvalid_0's ndcg@20: 0.635122\n",
      "[130]\tvalid_0's ndcg@1: 0.500334\tvalid_0's ndcg@3: 0.511686\tvalid_0's ndcg@5: 0.526917\tvalid_0's ndcg@10: 0.567332\tvalid_0's ndcg@20: 0.63554\n",
      "[140]\tvalid_0's ndcg@1: 0.503606\tvalid_0's ndcg@3: 0.512119\tvalid_0's ndcg@5: 0.527583\tvalid_0's ndcg@10: 0.568093\tvalid_0's ndcg@20: 0.636276\n",
      "[150]\tvalid_0's ndcg@1: 0.502536\tvalid_0's ndcg@3: 0.512382\tvalid_0's ndcg@5: 0.528278\tvalid_0's ndcg@10: 0.569102\tvalid_0's ndcg@20: 0.636912\n",
      "[160]\tvalid_0's ndcg@1: 0.502851\tvalid_0's ndcg@3: 0.512954\tvalid_0's ndcg@5: 0.528453\tvalid_0's ndcg@10: 0.56907\tvalid_0's ndcg@20: 0.636735\n",
      "[170]\tvalid_0's ndcg@1: 0.501232\tvalid_0's ndcg@3: 0.513431\tvalid_0's ndcg@5: 0.529228\tvalid_0's ndcg@10: 0.568887\tvalid_0's ndcg@20: 0.636496\n",
      "[180]\tvalid_0's ndcg@1: 0.502455\tvalid_0's ndcg@3: 0.514912\tvalid_0's ndcg@5: 0.529066\tvalid_0's ndcg@10: 0.5702\tvalid_0's ndcg@20: 0.637064\n",
      "[190]\tvalid_0's ndcg@1: 0.503296\tvalid_0's ndcg@3: 0.515228\tvalid_0's ndcg@5: 0.529141\tvalid_0's ndcg@10: 0.5704\tvalid_0's ndcg@20: 0.637947\n",
      "Early stopping, best iteration is:\n",
      "[141]\tvalid_0's ndcg@1: 0.504108\tvalid_0's ndcg@3: 0.512512\tvalid_0's ndcg@5: 0.527769\tvalid_0's ndcg@10: 0.568193\tvalid_0's ndcg@20: 0.636372\n"
     ]
    },
    {
     "name": "stderr",
     "output_type": "stream",
     "text": [
      "[I 2024-04-29 23:22:44,402] Trial 16 finished with value: 0.549790668493808 and parameters: {'lambda_l1': 2.6162640367120767e-07, 'lambda_l2': 2.1226785527161194e-05, 'max_depth': 5, 'num_leaves': 6, 'colsample_bytree': 0.7607839089329453, 'min_child_samples': 47}. Best is trial 12 with value: 0.5768434056823094.\n",
      "C:\\Users\\savolk25\\AppData\\Local\\Temp\\ipykernel_19764\\389573219.py:4: FutureWarning: suggest_loguniform has been deprecated in v3.0.0. This feature will be removed in v6.0.0. See https://github.com/optuna/optuna/releases/tag/v3.0.0. Use suggest_float(..., log=True) instead.\n",
      "  'reg_alpha': trial.suggest_loguniform('lambda_l1', 1e-8, 10.0),\n",
      "C:\\Users\\savolk25\\AppData\\Local\\Temp\\ipykernel_19764\\389573219.py:5: FutureWarning: suggest_loguniform has been deprecated in v3.0.0. This feature will be removed in v6.0.0. See https://github.com/optuna/optuna/releases/tag/v3.0.0. Use suggest_float(..., log=True) instead.\n",
      "  'reg_lambda': trial.suggest_loguniform('lambda_l2', 1e-8, 10.0),\n",
      "C:\\Users\\savolk25\\AppData\\Local\\Temp\\ipykernel_19764\\389573219.py:8: FutureWarning: suggest_uniform has been deprecated in v3.0.0. This feature will be removed in v6.0.0. See https://github.com/optuna/optuna/releases/tag/v3.0.0. Use suggest_float instead.\n",
      "  'colsample_bytree': trial.suggest_uniform('colsample_bytree', 0.1, 1),\n"
     ]
    },
    {
     "name": "stdout",
     "output_type": "stream",
     "text": [
      "Training until validation scores don't improve for 50 rounds\n",
      "[10]\tvalid_0's ndcg@1: 0.47578\tvalid_0's ndcg@3: 0.492018\tvalid_0's ndcg@5: 0.511649\tvalid_0's ndcg@10: 0.553233\tvalid_0's ndcg@20: 0.621448\n",
      "[20]\tvalid_0's ndcg@1: 0.491302\tvalid_0's ndcg@3: 0.508756\tvalid_0's ndcg@5: 0.525635\tvalid_0's ndcg@10: 0.564719\tvalid_0's ndcg@20: 0.633256\n",
      "[30]\tvalid_0's ndcg@1: 0.502727\tvalid_0's ndcg@3: 0.516262\tvalid_0's ndcg@5: 0.532877\tvalid_0's ndcg@10: 0.569197\tvalid_0's ndcg@20: 0.638516\n",
      "[40]\tvalid_0's ndcg@1: 0.506902\tvalid_0's ndcg@3: 0.52011\tvalid_0's ndcg@5: 0.535265\tvalid_0's ndcg@10: 0.573559\tvalid_0's ndcg@20: 0.641812\n",
      "[50]\tvalid_0's ndcg@1: 0.506806\tvalid_0's ndcg@3: 0.521833\tvalid_0's ndcg@5: 0.537649\tvalid_0's ndcg@10: 0.57655\tvalid_0's ndcg@20: 0.644685\n",
      "[60]\tvalid_0's ndcg@1: 0.516058\tvalid_0's ndcg@3: 0.525658\tvalid_0's ndcg@5: 0.542524\tvalid_0's ndcg@10: 0.580692\tvalid_0's ndcg@20: 0.64754\n",
      "[70]\tvalid_0's ndcg@1: 0.515676\tvalid_0's ndcg@3: 0.528109\tvalid_0's ndcg@5: 0.543552\tvalid_0's ndcg@10: 0.58294\tvalid_0's ndcg@20: 0.649083\n",
      "[80]\tvalid_0's ndcg@1: 0.513713\tvalid_0's ndcg@3: 0.528607\tvalid_0's ndcg@5: 0.545152\tvalid_0's ndcg@10: 0.583852\tvalid_0's ndcg@20: 0.650218\n",
      "[90]\tvalid_0's ndcg@1: 0.520385\tvalid_0's ndcg@3: 0.531106\tvalid_0's ndcg@5: 0.54783\tvalid_0's ndcg@10: 0.586979\tvalid_0's ndcg@20: 0.652161\n",
      "[100]\tvalid_0's ndcg@1: 0.522697\tvalid_0's ndcg@3: 0.532988\tvalid_0's ndcg@5: 0.54896\tvalid_0's ndcg@10: 0.587715\tvalid_0's ndcg@20: 0.653057\n",
      "[110]\tvalid_0's ndcg@1: 0.517381\tvalid_0's ndcg@3: 0.533007\tvalid_0's ndcg@5: 0.548434\tvalid_0's ndcg@10: 0.587234\tvalid_0's ndcg@20: 0.652967\n",
      "[120]\tvalid_0's ndcg@1: 0.514505\tvalid_0's ndcg@3: 0.53157\tvalid_0's ndcg@5: 0.548695\tvalid_0's ndcg@10: 0.587739\tvalid_0's ndcg@20: 0.651993\n",
      "[130]\tvalid_0's ndcg@1: 0.518981\tvalid_0's ndcg@3: 0.534298\tvalid_0's ndcg@5: 0.550569\tvalid_0's ndcg@10: 0.588899\tvalid_0's ndcg@20: 0.653484\n",
      "[140]\tvalid_0's ndcg@1: 0.521378\tvalid_0's ndcg@3: 0.535444\tvalid_0's ndcg@5: 0.551731\tvalid_0's ndcg@10: 0.589597\tvalid_0's ndcg@20: 0.653945\n"
     ]
    },
    {
     "name": "stderr",
     "output_type": "stream",
     "text": [
      "[I 2024-04-29 23:22:49,878] Trial 17 finished with value: 0.5696362514154609 and parameters: {'lambda_l1': 1.295765463708443e-05, 'lambda_l2': 5.298027008696084e-08, 'max_depth': 7, 'num_leaves': 220, 'colsample_bytree': 0.4358227036919142, 'min_child_samples': 19}. Best is trial 12 with value: 0.5768434056823094.\n"
     ]
    },
    {
     "name": "stdout",
     "output_type": "stream",
     "text": [
      "Early stopping, best iteration is:\n",
      "[98]\tvalid_0's ndcg@1: 0.524703\tvalid_0's ndcg@3: 0.533505\tvalid_0's ndcg@5: 0.548479\tvalid_0's ndcg@10: 0.587921\tvalid_0's ndcg@20: 0.653574\n"
     ]
    },
    {
     "name": "stderr",
     "output_type": "stream",
     "text": [
      "C:\\Users\\savolk25\\AppData\\Local\\Temp\\ipykernel_19764\\389573219.py:4: FutureWarning: suggest_loguniform has been deprecated in v3.0.0. This feature will be removed in v6.0.0. See https://github.com/optuna/optuna/releases/tag/v3.0.0. Use suggest_float(..., log=True) instead.\n",
      "  'reg_alpha': trial.suggest_loguniform('lambda_l1', 1e-8, 10.0),\n",
      "C:\\Users\\savolk25\\AppData\\Local\\Temp\\ipykernel_19764\\389573219.py:5: FutureWarning: suggest_loguniform has been deprecated in v3.0.0. This feature will be removed in v6.0.0. See https://github.com/optuna/optuna/releases/tag/v3.0.0. Use suggest_float(..., log=True) instead.\n",
      "  'reg_lambda': trial.suggest_loguniform('lambda_l2', 1e-8, 10.0),\n",
      "C:\\Users\\savolk25\\AppData\\Local\\Temp\\ipykernel_19764\\389573219.py:8: FutureWarning: suggest_uniform has been deprecated in v3.0.0. This feature will be removed in v6.0.0. See https://github.com/optuna/optuna/releases/tag/v3.0.0. Use suggest_float instead.\n",
      "  'colsample_bytree': trial.suggest_uniform('colsample_bytree', 0.1, 1),\n"
     ]
    },
    {
     "name": "stdout",
     "output_type": "stream",
     "text": [
      "Training until validation scores don't improve for 50 rounds\n",
      "[10]\tvalid_0's ndcg@1: 0.47119\tvalid_0's ndcg@3: 0.484842\tvalid_0's ndcg@5: 0.499793\tvalid_0's ndcg@10: 0.544663\tvalid_0's ndcg@20: 0.613599\n",
      "[20]\tvalid_0's ndcg@1: 0.489817\tvalid_0's ndcg@3: 0.5007\tvalid_0's ndcg@5: 0.514607\tvalid_0's ndcg@10: 0.554882\tvalid_0's ndcg@20: 0.624107\n",
      "[30]\tvalid_0's ndcg@1: 0.495061\tvalid_0's ndcg@3: 0.506408\tvalid_0's ndcg@5: 0.520104\tvalid_0's ndcg@10: 0.560108\tvalid_0's ndcg@20: 0.62987\n",
      "[40]\tvalid_0's ndcg@1: 0.507881\tvalid_0's ndcg@3: 0.513662\tvalid_0's ndcg@5: 0.529129\tvalid_0's ndcg@10: 0.567608\tvalid_0's ndcg@20: 0.635019\n",
      "[50]\tvalid_0's ndcg@1: 0.50629\tvalid_0's ndcg@3: 0.517762\tvalid_0's ndcg@5: 0.531185\tvalid_0's ndcg@10: 0.569769\tvalid_0's ndcg@20: 0.636639\n",
      "[60]\tvalid_0's ndcg@1: 0.509161\tvalid_0's ndcg@3: 0.517587\tvalid_0's ndcg@5: 0.533595\tvalid_0's ndcg@10: 0.571554\tvalid_0's ndcg@20: 0.638694\n",
      "[70]\tvalid_0's ndcg@1: 0.510001\tvalid_0's ndcg@3: 0.520584\tvalid_0's ndcg@5: 0.534702\tvalid_0's ndcg@10: 0.574382\tvalid_0's ndcg@20: 0.640245\n",
      "[80]\tvalid_0's ndcg@1: 0.509868\tvalid_0's ndcg@3: 0.522339\tvalid_0's ndcg@5: 0.537052\tvalid_0's ndcg@10: 0.576132\tvalid_0's ndcg@20: 0.642405\n",
      "[90]\tvalid_0's ndcg@1: 0.51185\tvalid_0's ndcg@3: 0.522409\tvalid_0's ndcg@5: 0.537776\tvalid_0's ndcg@10: 0.576073\tvalid_0's ndcg@20: 0.642915\n",
      "[100]\tvalid_0's ndcg@1: 0.511941\tvalid_0's ndcg@3: 0.522824\tvalid_0's ndcg@5: 0.538743\tvalid_0's ndcg@10: 0.578177\tvalid_0's ndcg@20: 0.643421\n",
      "[110]\tvalid_0's ndcg@1: 0.517022\tvalid_0's ndcg@3: 0.523869\tvalid_0's ndcg@5: 0.540668\tvalid_0's ndcg@10: 0.579578\tvalid_0's ndcg@20: 0.644985\n",
      "[120]\tvalid_0's ndcg@1: 0.512547\tvalid_0's ndcg@3: 0.523831\tvalid_0's ndcg@5: 0.540611\tvalid_0's ndcg@10: 0.57911\tvalid_0's ndcg@20: 0.645043\n",
      "[130]\tvalid_0's ndcg@1: 0.517266\tvalid_0's ndcg@3: 0.526508\tvalid_0's ndcg@5: 0.542813\tvalid_0's ndcg@10: 0.581549\tvalid_0's ndcg@20: 0.646267\n",
      "[140]\tvalid_0's ndcg@1: 0.514415\tvalid_0's ndcg@3: 0.526942\tvalid_0's ndcg@5: 0.542365\tvalid_0's ndcg@10: 0.580544\tvalid_0's ndcg@20: 0.645948\n",
      "[150]\tvalid_0's ndcg@1: 0.517811\tvalid_0's ndcg@3: 0.526558\tvalid_0's ndcg@5: 0.54364\tvalid_0's ndcg@10: 0.580831\tvalid_0's ndcg@20: 0.646734\n",
      "[160]\tvalid_0's ndcg@1: 0.516621\tvalid_0's ndcg@3: 0.527321\tvalid_0's ndcg@5: 0.543195\tvalid_0's ndcg@10: 0.581545\tvalid_0's ndcg@20: 0.646691\n",
      "[170]\tvalid_0's ndcg@1: 0.517295\tvalid_0's ndcg@3: 0.528513\tvalid_0's ndcg@5: 0.544832\tvalid_0's ndcg@10: 0.582129\tvalid_0's ndcg@20: 0.647389\n",
      "[180]\tvalid_0's ndcg@1: 0.520629\tvalid_0's ndcg@3: 0.529583\tvalid_0's ndcg@5: 0.545658\tvalid_0's ndcg@10: 0.583394\tvalid_0's ndcg@20: 0.648055\n",
      "[190]\tvalid_0's ndcg@1: 0.5208\tvalid_0's ndcg@3: 0.52901\tvalid_0's ndcg@5: 0.546638\tvalid_0's ndcg@10: 0.584211\tvalid_0's ndcg@20: 0.648614\n",
      "[200]\tvalid_0's ndcg@1: 0.524182\tvalid_0's ndcg@3: 0.530646\tvalid_0's ndcg@5: 0.547032\tvalid_0's ndcg@10: 0.585639\tvalid_0's ndcg@20: 0.64924\n",
      "[210]\tvalid_0's ndcg@1: 0.525118\tvalid_0's ndcg@3: 0.531358\tvalid_0's ndcg@5: 0.547273\tvalid_0's ndcg@10: 0.585194\tvalid_0's ndcg@20: 0.649241\n",
      "[220]\tvalid_0's ndcg@1: 0.527621\tvalid_0's ndcg@3: 0.532404\tvalid_0's ndcg@5: 0.547743\tvalid_0's ndcg@10: 0.587037\tvalid_0's ndcg@20: 0.650104\n",
      "[230]\tvalid_0's ndcg@1: 0.525056\tvalid_0's ndcg@3: 0.532568\tvalid_0's ndcg@5: 0.546937\tvalid_0's ndcg@10: 0.585811\tvalid_0's ndcg@20: 0.649829\n",
      "[240]\tvalid_0's ndcg@1: 0.526981\tvalid_0's ndcg@3: 0.533191\tvalid_0's ndcg@5: 0.546755\tvalid_0's ndcg@10: 0.586541\tvalid_0's ndcg@20: 0.650177\n",
      "[250]\tvalid_0's ndcg@1: 0.525844\tvalid_0's ndcg@3: 0.533128\tvalid_0's ndcg@5: 0.547493\tvalid_0's ndcg@10: 0.586619\tvalid_0's ndcg@20: 0.6504\n",
      "[260]\tvalid_0's ndcg@1: 0.525911\tvalid_0's ndcg@3: 0.533082\tvalid_0's ndcg@5: 0.547477\tvalid_0's ndcg@10: 0.586485\tvalid_0's ndcg@20: 0.650634\n",
      "[270]\tvalid_0's ndcg@1: 0.522358\tvalid_0's ndcg@3: 0.533596\tvalid_0's ndcg@5: 0.548081\tvalid_0's ndcg@10: 0.586756\tvalid_0's ndcg@20: 0.650586\n",
      "[280]\tvalid_0's ndcg@1: 0.521202\tvalid_0's ndcg@3: 0.533318\tvalid_0's ndcg@5: 0.548348\tvalid_0's ndcg@10: 0.587298\tvalid_0's ndcg@20: 0.650831\n",
      "[290]\tvalid_0's ndcg@1: 0.523456\tvalid_0's ndcg@3: 0.534402\tvalid_0's ndcg@5: 0.547658\tvalid_0's ndcg@10: 0.587862\tvalid_0's ndcg@20: 0.651292\n"
     ]
    },
    {
     "name": "stderr",
     "output_type": "stream",
     "text": [
      "[I 2024-04-29 23:22:56,437] Trial 18 finished with value: 0.5692872332633143 and parameters: {'lambda_l1': 1.413900729470064e-07, 'lambda_l2': 1.4577898537336529e-05, 'max_depth': 5, 'num_leaves': 136, 'colsample_bytree': 0.26434276292638625, 'min_child_samples': 64}. Best is trial 12 with value: 0.5768434056823094.\n"
     ]
    },
    {
     "name": "stdout",
     "output_type": "stream",
     "text": [
      "Early stopping, best iteration is:\n",
      "[244]\tvalid_0's ndcg@1: 0.527769\tvalid_0's ndcg@3: 0.534072\tvalid_0's ndcg@5: 0.547388\tvalid_0's ndcg@10: 0.586605\tvalid_0's ndcg@20: 0.650602\n"
     ]
    },
    {
     "name": "stderr",
     "output_type": "stream",
     "text": [
      "C:\\Users\\savolk25\\AppData\\Local\\Temp\\ipykernel_19764\\389573219.py:4: FutureWarning: suggest_loguniform has been deprecated in v3.0.0. This feature will be removed in v6.0.0. See https://github.com/optuna/optuna/releases/tag/v3.0.0. Use suggest_float(..., log=True) instead.\n",
      "  'reg_alpha': trial.suggest_loguniform('lambda_l1', 1e-8, 10.0),\n",
      "C:\\Users\\savolk25\\AppData\\Local\\Temp\\ipykernel_19764\\389573219.py:5: FutureWarning: suggest_loguniform has been deprecated in v3.0.0. This feature will be removed in v6.0.0. See https://github.com/optuna/optuna/releases/tag/v3.0.0. Use suggest_float(..., log=True) instead.\n",
      "  'reg_lambda': trial.suggest_loguniform('lambda_l2', 1e-8, 10.0),\n",
      "C:\\Users\\savolk25\\AppData\\Local\\Temp\\ipykernel_19764\\389573219.py:8: FutureWarning: suggest_uniform has been deprecated in v3.0.0. This feature will be removed in v6.0.0. See https://github.com/optuna/optuna/releases/tag/v3.0.0. Use suggest_float instead.\n",
      "  'colsample_bytree': trial.suggest_uniform('colsample_bytree', 0.1, 1),\n"
     ]
    },
    {
     "name": "stdout",
     "output_type": "stream",
     "text": [
      "Training until validation scores don't improve for 50 rounds\n",
      "[10]\tvalid_0's ndcg@1: 0.477628\tvalid_0's ndcg@3: 0.488817\tvalid_0's ndcg@5: 0.507372\tvalid_0's ndcg@10: 0.552807\tvalid_0's ndcg@20: 0.620724\n",
      "[20]\tvalid_0's ndcg@1: 0.495501\tvalid_0's ndcg@3: 0.504168\tvalid_0's ndcg@5: 0.522039\tvalid_0's ndcg@10: 0.564114\tvalid_0's ndcg@20: 0.630249\n",
      "[30]\tvalid_0's ndcg@1: 0.508115\tvalid_0's ndcg@3: 0.513307\tvalid_0's ndcg@5: 0.531877\tvalid_0's ndcg@10: 0.572134\tvalid_0's ndcg@20: 0.639775\n",
      "[40]\tvalid_0's ndcg@1: 0.519024\tvalid_0's ndcg@3: 0.520208\tvalid_0's ndcg@5: 0.539072\tvalid_0's ndcg@10: 0.577752\tvalid_0's ndcg@20: 0.644242\n",
      "[50]\tvalid_0's ndcg@1: 0.516096\tvalid_0's ndcg@3: 0.522622\tvalid_0's ndcg@5: 0.539875\tvalid_0's ndcg@10: 0.580175\tvalid_0's ndcg@20: 0.645475\n",
      "[60]\tvalid_0's ndcg@1: 0.523179\tvalid_0's ndcg@3: 0.528513\tvalid_0's ndcg@5: 0.544799\tvalid_0's ndcg@10: 0.583699\tvalid_0's ndcg@20: 0.648464\n",
      "[70]\tvalid_0's ndcg@1: 0.520762\tvalid_0's ndcg@3: 0.528866\tvalid_0's ndcg@5: 0.546493\tvalid_0's ndcg@10: 0.585726\tvalid_0's ndcg@20: 0.650273\n",
      "[80]\tvalid_0's ndcg@1: 0.52059\tvalid_0's ndcg@3: 0.530411\tvalid_0's ndcg@5: 0.547329\tvalid_0's ndcg@10: 0.586911\tvalid_0's ndcg@20: 0.65123\n",
      "[90]\tvalid_0's ndcg@1: 0.521837\tvalid_0's ndcg@3: 0.531607\tvalid_0's ndcg@5: 0.550614\tvalid_0's ndcg@10: 0.587678\tvalid_0's ndcg@20: 0.652332\n",
      "[100]\tvalid_0's ndcg@1: 0.522974\tvalid_0's ndcg@3: 0.532612\tvalid_0's ndcg@5: 0.550862\tvalid_0's ndcg@10: 0.588921\tvalid_0's ndcg@20: 0.652951\n",
      "[110]\tvalid_0's ndcg@1: 0.522391\tvalid_0's ndcg@3: 0.532265\tvalid_0's ndcg@5: 0.551092\tvalid_0's ndcg@10: 0.589147\tvalid_0's ndcg@20: 0.653521\n",
      "[120]\tvalid_0's ndcg@1: 0.524225\tvalid_0's ndcg@3: 0.533495\tvalid_0's ndcg@5: 0.551363\tvalid_0's ndcg@10: 0.588666\tvalid_0's ndcg@20: 0.653413\n",
      "[130]\tvalid_0's ndcg@1: 0.524875\tvalid_0's ndcg@3: 0.533976\tvalid_0's ndcg@5: 0.551729\tvalid_0's ndcg@10: 0.58959\tvalid_0's ndcg@20: 0.653605\n",
      "[140]\tvalid_0's ndcg@1: 0.524435\tvalid_0's ndcg@3: 0.53722\tvalid_0's ndcg@5: 0.552365\tvalid_0's ndcg@10: 0.590495\tvalid_0's ndcg@20: 0.654452\n",
      "[150]\tvalid_0's ndcg@1: 0.528051\tvalid_0's ndcg@3: 0.536392\tvalid_0's ndcg@5: 0.553376\tvalid_0's ndcg@10: 0.591027\tvalid_0's ndcg@20: 0.655481\n",
      "[160]\tvalid_0's ndcg@1: 0.525395\tvalid_0's ndcg@3: 0.537219\tvalid_0's ndcg@5: 0.554897\tvalid_0's ndcg@10: 0.5915\tvalid_0's ndcg@20: 0.656495\n",
      "[170]\tvalid_0's ndcg@1: 0.525964\tvalid_0's ndcg@3: 0.537513\tvalid_0's ndcg@5: 0.556756\tvalid_0's ndcg@10: 0.592888\tvalid_0's ndcg@20: 0.657495\n",
      "[180]\tvalid_0's ndcg@1: 0.522625\tvalid_0's ndcg@3: 0.537988\tvalid_0's ndcg@5: 0.556136\tvalid_0's ndcg@10: 0.592136\tvalid_0's ndcg@20: 0.657283\n",
      "[190]\tvalid_0's ndcg@1: 0.527607\tvalid_0's ndcg@3: 0.539067\tvalid_0's ndcg@5: 0.556652\tvalid_0's ndcg@10: 0.593832\tvalid_0's ndcg@20: 0.658712\n"
     ]
    },
    {
     "name": "stderr",
     "output_type": "stream",
     "text": [
      "[I 2024-04-29 23:23:03,337] Trial 19 finished with value: 0.5744171898024679 and parameters: {'lambda_l1': 7.5657704843133595e-06, 'lambda_l2': 0.0028727479945002223, 'max_depth': 7, 'num_leaves': 75, 'colsample_bytree': 0.6663957994268338, 'min_child_samples': 29}. Best is trial 12 with value: 0.5768434056823094.\n"
     ]
    },
    {
     "name": "stdout",
     "output_type": "stream",
     "text": [
      "[200]\tvalid_0's ndcg@1: 0.527478\tvalid_0's ndcg@3: 0.537802\tvalid_0's ndcg@5: 0.556754\tvalid_0's ndcg@10: 0.593339\tvalid_0's ndcg@20: 0.65825\n",
      "Early stopping, best iteration is:\n",
      "[154]\tvalid_0's ndcg@1: 0.530897\tvalid_0's ndcg@3: 0.538127\tvalid_0's ndcg@5: 0.554532\tvalid_0's ndcg@10: 0.591924\tvalid_0's ndcg@20: 0.656606\n"
     ]
    },
    {
     "name": "stderr",
     "output_type": "stream",
     "text": [
      "C:\\Users\\savolk25\\AppData\\Local\\Temp\\ipykernel_19764\\389573219.py:4: FutureWarning: suggest_loguniform has been deprecated in v3.0.0. This feature will be removed in v6.0.0. See https://github.com/optuna/optuna/releases/tag/v3.0.0. Use suggest_float(..., log=True) instead.\n",
      "  'reg_alpha': trial.suggest_loguniform('lambda_l1', 1e-8, 10.0),\n",
      "C:\\Users\\savolk25\\AppData\\Local\\Temp\\ipykernel_19764\\389573219.py:5: FutureWarning: suggest_loguniform has been deprecated in v3.0.0. This feature will be removed in v6.0.0. See https://github.com/optuna/optuna/releases/tag/v3.0.0. Use suggest_float(..., log=True) instead.\n",
      "  'reg_lambda': trial.suggest_loguniform('lambda_l2', 1e-8, 10.0),\n",
      "C:\\Users\\savolk25\\AppData\\Local\\Temp\\ipykernel_19764\\389573219.py:8: FutureWarning: suggest_uniform has been deprecated in v3.0.0. This feature will be removed in v6.0.0. See https://github.com/optuna/optuna/releases/tag/v3.0.0. Use suggest_float instead.\n",
      "  'colsample_bytree': trial.suggest_uniform('colsample_bytree', 0.1, 1),\n"
     ]
    },
    {
     "name": "stdout",
     "output_type": "stream",
     "text": [
      "Training until validation scores don't improve for 50 rounds\n",
      "[10]\tvalid_0's ndcg@1: 0.479925\tvalid_0's ndcg@3: 0.492254\tvalid_0's ndcg@5: 0.512633\tvalid_0's ndcg@10: 0.555103\tvalid_0's ndcg@20: 0.622227\n",
      "[20]\tvalid_0's ndcg@1: 0.487811\tvalid_0's ndcg@3: 0.508483\tvalid_0's ndcg@5: 0.527413\tvalid_0's ndcg@10: 0.568554\tvalid_0's ndcg@20: 0.633994\n",
      "[30]\tvalid_0's ndcg@1: 0.502751\tvalid_0's ndcg@3: 0.517487\tvalid_0's ndcg@5: 0.536591\tvalid_0's ndcg@10: 0.574899\tvalid_0's ndcg@20: 0.64083\n",
      "[40]\tvalid_0's ndcg@1: 0.511033\tvalid_0's ndcg@3: 0.525289\tvalid_0's ndcg@5: 0.542083\tvalid_0's ndcg@10: 0.581953\tvalid_0's ndcg@20: 0.646298\n",
      "[50]\tvalid_0's ndcg@1: 0.518675\tvalid_0's ndcg@3: 0.527657\tvalid_0's ndcg@5: 0.54573\tvalid_0's ndcg@10: 0.585771\tvalid_0's ndcg@20: 0.649649\n",
      "[60]\tvalid_0's ndcg@1: 0.513736\tvalid_0's ndcg@3: 0.52862\tvalid_0's ndcg@5: 0.547521\tvalid_0's ndcg@10: 0.587741\tvalid_0's ndcg@20: 0.651004\n",
      "[70]\tvalid_0's ndcg@1: 0.514162\tvalid_0's ndcg@3: 0.531866\tvalid_0's ndcg@5: 0.549344\tvalid_0's ndcg@10: 0.58818\tvalid_0's ndcg@20: 0.652477\n",
      "[80]\tvalid_0's ndcg@1: 0.512929\tvalid_0's ndcg@3: 0.531268\tvalid_0's ndcg@5: 0.548608\tvalid_0's ndcg@10: 0.58901\tvalid_0's ndcg@20: 0.651605\n",
      "[90]\tvalid_0's ndcg@1: 0.514563\tvalid_0's ndcg@3: 0.53098\tvalid_0's ndcg@5: 0.550748\tvalid_0's ndcg@10: 0.591145\tvalid_0's ndcg@20: 0.652968\n",
      "Early stopping, best iteration is:\n",
      "[47]\tvalid_0's ndcg@1: 0.519272\tvalid_0's ndcg@3: 0.527628\tvalid_0's ndcg@5: 0.546524\tvalid_0's ndcg@10: 0.5851\tvalid_0's ndcg@20: 0.648972\n"
     ]
    },
    {
     "name": "stderr",
     "output_type": "stream",
     "text": [
      "[I 2024-04-29 23:23:08,371] Trial 20 finished with value: 0.565499389393802 and parameters: {'lambda_l1': 0.031441939307626676, 'lambda_l2': 0.03488853762413084, 'max_depth': 8, 'num_leaves': 155, 'colsample_bytree': 0.47203301658795527, 'min_child_samples': 44}. Best is trial 12 with value: 0.5768434056823094.\n",
      "C:\\Users\\savolk25\\AppData\\Local\\Temp\\ipykernel_19764\\389573219.py:4: FutureWarning: suggest_loguniform has been deprecated in v3.0.0. This feature will be removed in v6.0.0. See https://github.com/optuna/optuna/releases/tag/v3.0.0. Use suggest_float(..., log=True) instead.\n",
      "  'reg_alpha': trial.suggest_loguniform('lambda_l1', 1e-8, 10.0),\n",
      "C:\\Users\\savolk25\\AppData\\Local\\Temp\\ipykernel_19764\\389573219.py:5: FutureWarning: suggest_loguniform has been deprecated in v3.0.0. This feature will be removed in v6.0.0. See https://github.com/optuna/optuna/releases/tag/v3.0.0. Use suggest_float(..., log=True) instead.\n",
      "  'reg_lambda': trial.suggest_loguniform('lambda_l2', 1e-8, 10.0),\n",
      "C:\\Users\\savolk25\\AppData\\Local\\Temp\\ipykernel_19764\\389573219.py:8: FutureWarning: suggest_uniform has been deprecated in v3.0.0. This feature will be removed in v6.0.0. See https://github.com/optuna/optuna/releases/tag/v3.0.0. Use suggest_float instead.\n",
      "  'colsample_bytree': trial.suggest_uniform('colsample_bytree', 0.1, 1),\n"
     ]
    },
    {
     "name": "stdout",
     "output_type": "stream",
     "text": [
      "Training until validation scores don't improve for 50 rounds\n",
      "[10]\tvalid_0's ndcg@1: 0.469222\tvalid_0's ndcg@3: 0.479911\tvalid_0's ndcg@5: 0.501086\tvalid_0's ndcg@10: 0.543742\tvalid_0's ndcg@20: 0.615371\n",
      "[20]\tvalid_0's ndcg@1: 0.48271\tvalid_0's ndcg@3: 0.500808\tvalid_0's ndcg@5: 0.514659\tvalid_0's ndcg@10: 0.557725\tvalid_0's ndcg@20: 0.627113\n",
      "[30]\tvalid_0's ndcg@1: 0.490963\tvalid_0's ndcg@3: 0.509323\tvalid_0's ndcg@5: 0.522817\tvalid_0's ndcg@10: 0.56418\tvalid_0's ndcg@20: 0.632257\n",
      "[40]\tvalid_0's ndcg@1: 0.498753\tvalid_0's ndcg@3: 0.513726\tvalid_0's ndcg@5: 0.529412\tvalid_0's ndcg@10: 0.569218\tvalid_0's ndcg@20: 0.63625\n",
      "[50]\tvalid_0's ndcg@1: 0.508717\tvalid_0's ndcg@3: 0.518472\tvalid_0's ndcg@5: 0.533567\tvalid_0's ndcg@10: 0.572719\tvalid_0's ndcg@20: 0.640404\n",
      "[60]\tvalid_0's ndcg@1: 0.515934\tvalid_0's ndcg@3: 0.523522\tvalid_0's ndcg@5: 0.536534\tvalid_0's ndcg@10: 0.576659\tvalid_0's ndcg@20: 0.643044\n",
      "[70]\tvalid_0's ndcg@1: 0.516492\tvalid_0's ndcg@3: 0.525144\tvalid_0's ndcg@5: 0.538932\tvalid_0's ndcg@10: 0.579638\tvalid_0's ndcg@20: 0.644694\n",
      "[80]\tvalid_0's ndcg@1: 0.51633\tvalid_0's ndcg@3: 0.525933\tvalid_0's ndcg@5: 0.541661\tvalid_0's ndcg@10: 0.579654\tvalid_0's ndcg@20: 0.64603\n",
      "[90]\tvalid_0's ndcg@1: 0.51953\tvalid_0's ndcg@3: 0.526\tvalid_0's ndcg@5: 0.543903\tvalid_0's ndcg@10: 0.581864\tvalid_0's ndcg@20: 0.647225\n",
      "[100]\tvalid_0's ndcg@1: 0.521121\tvalid_0's ndcg@3: 0.527346\tvalid_0's ndcg@5: 0.544487\tvalid_0's ndcg@10: 0.583521\tvalid_0's ndcg@20: 0.64845\n",
      "[110]\tvalid_0's ndcg@1: 0.519602\tvalid_0's ndcg@3: 0.528899\tvalid_0's ndcg@5: 0.546156\tvalid_0's ndcg@10: 0.583508\tvalid_0's ndcg@20: 0.649317\n",
      "[120]\tvalid_0's ndcg@1: 0.523007\tvalid_0's ndcg@3: 0.529166\tvalid_0's ndcg@5: 0.547333\tvalid_0's ndcg@10: 0.58543\tvalid_0's ndcg@20: 0.649994\n",
      "[130]\tvalid_0's ndcg@1: 0.522401\tvalid_0's ndcg@3: 0.531151\tvalid_0's ndcg@5: 0.548123\tvalid_0's ndcg@10: 0.586184\tvalid_0's ndcg@20: 0.65099\n",
      "[140]\tvalid_0's ndcg@1: 0.518642\tvalid_0's ndcg@3: 0.530983\tvalid_0's ndcg@5: 0.549312\tvalid_0's ndcg@10: 0.587025\tvalid_0's ndcg@20: 0.650958\n",
      "[150]\tvalid_0's ndcg@1: 0.522463\tvalid_0's ndcg@3: 0.534052\tvalid_0's ndcg@5: 0.550606\tvalid_0's ndcg@10: 0.58809\tvalid_0's ndcg@20: 0.651679\n",
      "[160]\tvalid_0's ndcg@1: 0.519573\tvalid_0's ndcg@3: 0.535517\tvalid_0's ndcg@5: 0.55075\tvalid_0's ndcg@10: 0.587746\tvalid_0's ndcg@20: 0.652642\n",
      "[170]\tvalid_0's ndcg@1: 0.525242\tvalid_0's ndcg@3: 0.538825\tvalid_0's ndcg@5: 0.554484\tvalid_0's ndcg@10: 0.590323\tvalid_0's ndcg@20: 0.654394\n",
      "[180]\tvalid_0's ndcg@1: 0.526002\tvalid_0's ndcg@3: 0.537029\tvalid_0's ndcg@5: 0.553397\tvalid_0's ndcg@10: 0.589926\tvalid_0's ndcg@20: 0.654247\n",
      "[190]\tvalid_0's ndcg@1: 0.529417\tvalid_0's ndcg@3: 0.537433\tvalid_0's ndcg@5: 0.554023\tvalid_0's ndcg@10: 0.590602\tvalid_0's ndcg@20: 0.655226\n",
      "[200]\tvalid_0's ndcg@1: 0.534289\tvalid_0's ndcg@3: 0.538509\tvalid_0's ndcg@5: 0.556067\tvalid_0's ndcg@10: 0.59275\tvalid_0's ndcg@20: 0.656634\n",
      "[210]\tvalid_0's ndcg@1: 0.532841\tvalid_0's ndcg@3: 0.538618\tvalid_0's ndcg@5: 0.555673\tvalid_0's ndcg@10: 0.592545\tvalid_0's ndcg@20: 0.656289\n",
      "[220]\tvalid_0's ndcg@1: 0.532884\tvalid_0's ndcg@3: 0.53895\tvalid_0's ndcg@5: 0.556577\tvalid_0's ndcg@10: 0.592452\tvalid_0's ndcg@20: 0.656531\n",
      "Early stopping, best iteration is:\n",
      "[171]\tvalid_0's ndcg@1: 0.526389\tvalid_0's ndcg@3: 0.53946\tvalid_0's ndcg@5: 0.554645\tvalid_0's ndcg@10: 0.590331\tvalid_0's ndcg@20: 0.654602\n"
     ]
    },
    {
     "name": "stderr",
     "output_type": "stream",
     "text": [
      "[I 2024-04-29 23:23:14,453] Trial 21 finished with value: 0.5730852174166875 and parameters: {'lambda_l1': 1.655610640401067e-05, 'lambda_l2': 0.00046495848010663675, 'max_depth': 7, 'num_leaves': 161, 'colsample_bytree': 0.21272012377441868, 'min_child_samples': 14}. Best is trial 12 with value: 0.5768434056823094.\n",
      "C:\\Users\\savolk25\\AppData\\Local\\Temp\\ipykernel_19764\\389573219.py:4: FutureWarning: suggest_loguniform has been deprecated in v3.0.0. This feature will be removed in v6.0.0. See https://github.com/optuna/optuna/releases/tag/v3.0.0. Use suggest_float(..., log=True) instead.\n",
      "  'reg_alpha': trial.suggest_loguniform('lambda_l1', 1e-8, 10.0),\n",
      "C:\\Users\\savolk25\\AppData\\Local\\Temp\\ipykernel_19764\\389573219.py:5: FutureWarning: suggest_loguniform has been deprecated in v3.0.0. This feature will be removed in v6.0.0. See https://github.com/optuna/optuna/releases/tag/v3.0.0. Use suggest_float(..., log=True) instead.\n",
      "  'reg_lambda': trial.suggest_loguniform('lambda_l2', 1e-8, 10.0),\n",
      "C:\\Users\\savolk25\\AppData\\Local\\Temp\\ipykernel_19764\\389573219.py:8: FutureWarning: suggest_uniform has been deprecated in v3.0.0. This feature will be removed in v6.0.0. See https://github.com/optuna/optuna/releases/tag/v3.0.0. Use suggest_float instead.\n",
      "  'colsample_bytree': trial.suggest_uniform('colsample_bytree', 0.1, 1),\n"
     ]
    },
    {
     "name": "stdout",
     "output_type": "stream",
     "text": [
      "Training until validation scores don't improve for 50 rounds\n",
      "[10]\tvalid_0's ndcg@1: 0.465988\tvalid_0's ndcg@3: 0.485907\tvalid_0's ndcg@5: 0.502216\tvalid_0's ndcg@10: 0.54604\tvalid_0's ndcg@20: 0.616296\n",
      "[20]\tvalid_0's ndcg@1: 0.483885\tvalid_0's ndcg@3: 0.500056\tvalid_0's ndcg@5: 0.515066\tvalid_0's ndcg@10: 0.557301\tvalid_0's ndcg@20: 0.626104\n",
      "[30]\tvalid_0's ndcg@1: 0.494426\tvalid_0's ndcg@3: 0.50724\tvalid_0's ndcg@5: 0.523889\tvalid_0's ndcg@10: 0.563705\tvalid_0's ndcg@20: 0.632\n",
      "[40]\tvalid_0's ndcg@1: 0.49926\tvalid_0's ndcg@3: 0.515377\tvalid_0's ndcg@5: 0.527546\tvalid_0's ndcg@10: 0.569561\tvalid_0's ndcg@20: 0.636639\n",
      "[50]\tvalid_0's ndcg@1: 0.502551\tvalid_0's ndcg@3: 0.518749\tvalid_0's ndcg@5: 0.533002\tvalid_0's ndcg@10: 0.573541\tvalid_0's ndcg@20: 0.639855\n",
      "[60]\tvalid_0's ndcg@1: 0.515489\tvalid_0's ndcg@3: 0.523425\tvalid_0's ndcg@5: 0.53694\tvalid_0's ndcg@10: 0.577715\tvalid_0's ndcg@20: 0.642842\n",
      "[70]\tvalid_0's ndcg@1: 0.516712\tvalid_0's ndcg@3: 0.524813\tvalid_0's ndcg@5: 0.538162\tvalid_0's ndcg@10: 0.579748\tvalid_0's ndcg@20: 0.644342\n",
      "[80]\tvalid_0's ndcg@1: 0.517672\tvalid_0's ndcg@3: 0.526404\tvalid_0's ndcg@5: 0.540144\tvalid_0's ndcg@10: 0.579825\tvalid_0's ndcg@20: 0.645542\n",
      "[90]\tvalid_0's ndcg@1: 0.518279\tvalid_0's ndcg@3: 0.527116\tvalid_0's ndcg@5: 0.540553\tvalid_0's ndcg@10: 0.581653\tvalid_0's ndcg@20: 0.646841\n",
      "[100]\tvalid_0's ndcg@1: 0.516769\tvalid_0's ndcg@3: 0.527103\tvalid_0's ndcg@5: 0.541655\tvalid_0's ndcg@10: 0.582501\tvalid_0's ndcg@20: 0.647399\n",
      "[110]\tvalid_0's ndcg@1: 0.520299\tvalid_0's ndcg@3: 0.528116\tvalid_0's ndcg@5: 0.543378\tvalid_0's ndcg@10: 0.583314\tvalid_0's ndcg@20: 0.647995\n",
      "[120]\tvalid_0's ndcg@1: 0.522596\tvalid_0's ndcg@3: 0.529931\tvalid_0's ndcg@5: 0.544198\tvalid_0's ndcg@10: 0.585341\tvalid_0's ndcg@20: 0.649275\n",
      "[130]\tvalid_0's ndcg@1: 0.518126\tvalid_0's ndcg@3: 0.529736\tvalid_0's ndcg@5: 0.545365\tvalid_0's ndcg@10: 0.585172\tvalid_0's ndcg@20: 0.649267\n",
      "[140]\tvalid_0's ndcg@1: 0.521579\tvalid_0's ndcg@3: 0.531906\tvalid_0's ndcg@5: 0.54648\tvalid_0's ndcg@10: 0.585328\tvalid_0's ndcg@20: 0.649943\n",
      "[150]\tvalid_0's ndcg@1: 0.524039\tvalid_0's ndcg@3: 0.531911\tvalid_0's ndcg@5: 0.546864\tvalid_0's ndcg@10: 0.585723\tvalid_0's ndcg@20: 0.650479\n",
      "[160]\tvalid_0's ndcg@1: 0.520566\tvalid_0's ndcg@3: 0.531239\tvalid_0's ndcg@5: 0.546701\tvalid_0's ndcg@10: 0.585826\tvalid_0's ndcg@20: 0.650681\n",
      "[170]\tvalid_0's ndcg@1: 0.520886\tvalid_0's ndcg@3: 0.531693\tvalid_0's ndcg@5: 0.546371\tvalid_0's ndcg@10: 0.587872\tvalid_0's ndcg@20: 0.651446\n"
     ]
    },
    {
     "name": "stderr",
     "output_type": "stream",
     "text": [
      "[I 2024-04-29 23:23:19,813] Trial 22 finished with value: 0.5671547624449785 and parameters: {'lambda_l1': 7.064618908947222e-05, 'lambda_l2': 0.14548219904677506, 'max_depth': 6, 'num_leaves': 112, 'colsample_bytree': 0.2855578952611716, 'min_child_samples': 21}. Best is trial 12 with value: 0.5768434056823094.\n"
     ]
    },
    {
     "name": "stdout",
     "output_type": "stream",
     "text": [
      "Early stopping, best iteration is:\n",
      "[126]\tvalid_0's ndcg@1: 0.524239\tvalid_0's ndcg@3: 0.530909\tvalid_0's ndcg@5: 0.545217\tvalid_0's ndcg@10: 0.585552\tvalid_0's ndcg@20: 0.649856\n"
     ]
    },
    {
     "name": "stderr",
     "output_type": "stream",
     "text": [
      "C:\\Users\\savolk25\\AppData\\Local\\Temp\\ipykernel_19764\\389573219.py:4: FutureWarning: suggest_loguniform has been deprecated in v3.0.0. This feature will be removed in v6.0.0. See https://github.com/optuna/optuna/releases/tag/v3.0.0. Use suggest_float(..., log=True) instead.\n",
      "  'reg_alpha': trial.suggest_loguniform('lambda_l1', 1e-8, 10.0),\n",
      "C:\\Users\\savolk25\\AppData\\Local\\Temp\\ipykernel_19764\\389573219.py:5: FutureWarning: suggest_loguniform has been deprecated in v3.0.0. This feature will be removed in v6.0.0. See https://github.com/optuna/optuna/releases/tag/v3.0.0. Use suggest_float(..., log=True) instead.\n",
      "  'reg_lambda': trial.suggest_loguniform('lambda_l2', 1e-8, 10.0),\n",
      "C:\\Users\\savolk25\\AppData\\Local\\Temp\\ipykernel_19764\\389573219.py:8: FutureWarning: suggest_uniform has been deprecated in v3.0.0. This feature will be removed in v6.0.0. See https://github.com/optuna/optuna/releases/tag/v3.0.0. Use suggest_float instead.\n",
      "  'colsample_bytree': trial.suggest_uniform('colsample_bytree', 0.1, 1),\n"
     ]
    },
    {
     "name": "stdout",
     "output_type": "stream",
     "text": [
      "Training until validation scores don't improve for 50 rounds\n",
      "[10]\tvalid_0's ndcg@1: 0.463147\tvalid_0's ndcg@3: 0.482663\tvalid_0's ndcg@5: 0.504021\tvalid_0's ndcg@10: 0.545552\tvalid_0's ndcg@20: 0.61502\n",
      "[20]\tvalid_0's ndcg@1: 0.489163\tvalid_0's ndcg@3: 0.500338\tvalid_0's ndcg@5: 0.518761\tvalid_0's ndcg@10: 0.559352\tvalid_0's ndcg@20: 0.628684\n",
      "[30]\tvalid_0's ndcg@1: 0.498343\tvalid_0's ndcg@3: 0.508516\tvalid_0's ndcg@5: 0.525732\tvalid_0's ndcg@10: 0.565567\tvalid_0's ndcg@20: 0.634304\n",
      "[40]\tvalid_0's ndcg@1: 0.495229\tvalid_0's ndcg@3: 0.509459\tvalid_0's ndcg@5: 0.52916\tvalid_0's ndcg@10: 0.569535\tvalid_0's ndcg@20: 0.637151\n",
      "[50]\tvalid_0's ndcg@1: 0.499145\tvalid_0's ndcg@3: 0.514324\tvalid_0's ndcg@5: 0.532146\tvalid_0's ndcg@10: 0.572553\tvalid_0's ndcg@20: 0.639921\n",
      "[60]\tvalid_0's ndcg@1: 0.512423\tvalid_0's ndcg@3: 0.519248\tvalid_0's ndcg@5: 0.535476\tvalid_0's ndcg@10: 0.577301\tvalid_0's ndcg@20: 0.644254\n",
      "[70]\tvalid_0's ndcg@1: 0.512695\tvalid_0's ndcg@3: 0.524285\tvalid_0's ndcg@5: 0.540249\tvalid_0's ndcg@10: 0.581248\tvalid_0's ndcg@20: 0.647262\n",
      "[80]\tvalid_0's ndcg@1: 0.520963\tvalid_0's ndcg@3: 0.530083\tvalid_0's ndcg@5: 0.545155\tvalid_0's ndcg@10: 0.584255\tvalid_0's ndcg@20: 0.6512\n",
      "[90]\tvalid_0's ndcg@1: 0.521206\tvalid_0's ndcg@3: 0.530251\tvalid_0's ndcg@5: 0.547659\tvalid_0's ndcg@10: 0.585675\tvalid_0's ndcg@20: 0.651994\n",
      "[100]\tvalid_0's ndcg@1: 0.516268\tvalid_0's ndcg@3: 0.528612\tvalid_0's ndcg@5: 0.548349\tvalid_0's ndcg@10: 0.58477\tvalid_0's ndcg@20: 0.651175\n",
      "[110]\tvalid_0's ndcg@1: 0.5176\tvalid_0's ndcg@3: 0.530841\tvalid_0's ndcg@5: 0.549733\tvalid_0's ndcg@10: 0.585971\tvalid_0's ndcg@20: 0.652439\n",
      "[120]\tvalid_0's ndcg@1: 0.51963\tvalid_0's ndcg@3: 0.531116\tvalid_0's ndcg@5: 0.550213\tvalid_0's ndcg@10: 0.586791\tvalid_0's ndcg@20: 0.652923\n",
      "[130]\tvalid_0's ndcg@1: 0.518981\tvalid_0's ndcg@3: 0.530951\tvalid_0's ndcg@5: 0.550147\tvalid_0's ndcg@10: 0.587646\tvalid_0's ndcg@20: 0.652969\n"
     ]
    },
    {
     "name": "stderr",
     "output_type": "stream",
     "text": [
      "[I 2024-04-29 23:23:24,019] Trial 23 finished with value: 0.5672271531866508 and parameters: {'lambda_l1': 8.747790665182084e-06, 'lambda_l2': 2.4741046915518195e-05, 'max_depth': 7, 'num_leaves': 144, 'colsample_bytree': 0.20879328640817651, 'min_child_samples': 34}. Best is trial 12 with value: 0.5768434056823094.\n"
     ]
    },
    {
     "name": "stdout",
     "output_type": "stream",
     "text": [
      "Early stopping, best iteration is:\n",
      "[82]\tvalid_0's ndcg@1: 0.52347\tvalid_0's ndcg@3: 0.530449\tvalid_0's ndcg@5: 0.546018\tvalid_0's ndcg@10: 0.584806\tvalid_0's ndcg@20: 0.651391\n"
     ]
    },
    {
     "name": "stderr",
     "output_type": "stream",
     "text": [
      "C:\\Users\\savolk25\\AppData\\Local\\Temp\\ipykernel_19764\\389573219.py:4: FutureWarning: suggest_loguniform has been deprecated in v3.0.0. This feature will be removed in v6.0.0. See https://github.com/optuna/optuna/releases/tag/v3.0.0. Use suggest_float(..., log=True) instead.\n",
      "  'reg_alpha': trial.suggest_loguniform('lambda_l1', 1e-8, 10.0),\n",
      "C:\\Users\\savolk25\\AppData\\Local\\Temp\\ipykernel_19764\\389573219.py:5: FutureWarning: suggest_loguniform has been deprecated in v3.0.0. This feature will be removed in v6.0.0. See https://github.com/optuna/optuna/releases/tag/v3.0.0. Use suggest_float(..., log=True) instead.\n",
      "  'reg_lambda': trial.suggest_loguniform('lambda_l2', 1e-8, 10.0),\n",
      "C:\\Users\\savolk25\\AppData\\Local\\Temp\\ipykernel_19764\\389573219.py:8: FutureWarning: suggest_uniform has been deprecated in v3.0.0. This feature will be removed in v6.0.0. See https://github.com/optuna/optuna/releases/tag/v3.0.0. Use suggest_float instead.\n",
      "  'colsample_bytree': trial.suggest_uniform('colsample_bytree', 0.1, 1),\n"
     ]
    },
    {
     "name": "stdout",
     "output_type": "stream",
     "text": [
      "Training until validation scores don't improve for 50 rounds\n",
      "[10]\tvalid_0's ndcg@1: 0.470464\tvalid_0's ndcg@3: 0.487827\tvalid_0's ndcg@5: 0.506067\tvalid_0's ndcg@10: 0.547829\tvalid_0's ndcg@20: 0.61892\n",
      "[20]\tvalid_0's ndcg@1: 0.484324\tvalid_0's ndcg@3: 0.506161\tvalid_0's ndcg@5: 0.520209\tvalid_0's ndcg@10: 0.560086\tvalid_0's ndcg@20: 0.628819\n",
      "[30]\tvalid_0's ndcg@1: 0.496666\tvalid_0's ndcg@3: 0.512781\tvalid_0's ndcg@5: 0.526712\tvalid_0's ndcg@10: 0.565617\tvalid_0's ndcg@20: 0.634736\n",
      "[40]\tvalid_0's ndcg@1: 0.503396\tvalid_0's ndcg@3: 0.51836\tvalid_0's ndcg@5: 0.532237\tvalid_0's ndcg@10: 0.573216\tvalid_0's ndcg@20: 0.640018\n",
      "[50]\tvalid_0's ndcg@1: 0.504222\tvalid_0's ndcg@3: 0.521176\tvalid_0's ndcg@5: 0.535095\tvalid_0's ndcg@10: 0.575425\tvalid_0's ndcg@20: 0.641967\n",
      "[60]\tvalid_0's ndcg@1: 0.514682\tvalid_0's ndcg@3: 0.525852\tvalid_0's ndcg@5: 0.540649\tvalid_0's ndcg@10: 0.578521\tvalid_0's ndcg@20: 0.64499\n",
      "[70]\tvalid_0's ndcg@1: 0.51484\tvalid_0's ndcg@3: 0.524722\tvalid_0's ndcg@5: 0.541957\tvalid_0's ndcg@10: 0.579698\tvalid_0's ndcg@20: 0.645899\n",
      "[80]\tvalid_0's ndcg@1: 0.518236\tvalid_0's ndcg@3: 0.527753\tvalid_0's ndcg@5: 0.54467\tvalid_0's ndcg@10: 0.58054\tvalid_0's ndcg@20: 0.647193\n",
      "[90]\tvalid_0's ndcg@1: 0.518589\tvalid_0's ndcg@3: 0.528891\tvalid_0's ndcg@5: 0.544485\tvalid_0's ndcg@10: 0.582298\tvalid_0's ndcg@20: 0.648223\n",
      "[100]\tvalid_0's ndcg@1: 0.521264\tvalid_0's ndcg@3: 0.530979\tvalid_0's ndcg@5: 0.546644\tvalid_0's ndcg@10: 0.583872\tvalid_0's ndcg@20: 0.648837\n",
      "[110]\tvalid_0's ndcg@1: 0.521245\tvalid_0's ndcg@3: 0.529922\tvalid_0's ndcg@5: 0.546234\tvalid_0's ndcg@10: 0.583986\tvalid_0's ndcg@20: 0.64995\n",
      "[120]\tvalid_0's ndcg@1: 0.519439\tvalid_0's ndcg@3: 0.529412\tvalid_0's ndcg@5: 0.54664\tvalid_0's ndcg@10: 0.584205\tvalid_0's ndcg@20: 0.650311\n",
      "[130]\tvalid_0's ndcg@1: 0.522186\tvalid_0's ndcg@3: 0.53251\tvalid_0's ndcg@5: 0.547603\tvalid_0's ndcg@10: 0.586601\tvalid_0's ndcg@20: 0.651523\n",
      "[140]\tvalid_0's ndcg@1: 0.520939\tvalid_0's ndcg@3: 0.534518\tvalid_0's ndcg@5: 0.549137\tvalid_0's ndcg@10: 0.586496\tvalid_0's ndcg@20: 0.651857\n",
      "[150]\tvalid_0's ndcg@1: 0.52263\tvalid_0's ndcg@3: 0.533724\tvalid_0's ndcg@5: 0.549912\tvalid_0's ndcg@10: 0.587512\tvalid_0's ndcg@20: 0.652216\n",
      "[160]\tvalid_0's ndcg@1: 0.524173\tvalid_0's ndcg@3: 0.533973\tvalid_0's ndcg@5: 0.550969\tvalid_0's ndcg@10: 0.587984\tvalid_0's ndcg@20: 0.652524\n",
      "[170]\tvalid_0's ndcg@1: 0.520399\tvalid_0's ndcg@3: 0.534754\tvalid_0's ndcg@5: 0.549194\tvalid_0's ndcg@10: 0.588289\tvalid_0's ndcg@20: 0.652586\n",
      "[180]\tvalid_0's ndcg@1: 0.520738\tvalid_0's ndcg@3: 0.53539\tvalid_0's ndcg@5: 0.549723\tvalid_0's ndcg@10: 0.588993\tvalid_0's ndcg@20: 0.653172\n",
      "[190]\tvalid_0's ndcg@1: 0.521398\tvalid_0's ndcg@3: 0.535948\tvalid_0's ndcg@5: 0.548939\tvalid_0's ndcg@10: 0.588965\tvalid_0's ndcg@20: 0.653366\n",
      "[200]\tvalid_0's ndcg@1: 0.520094\tvalid_0's ndcg@3: 0.535372\tvalid_0's ndcg@5: 0.54848\tvalid_0's ndcg@10: 0.589011\tvalid_0's ndcg@20: 0.653188\n"
     ]
    },
    {
     "name": "stderr",
     "output_type": "stream",
     "text": [
      "[I 2024-04-29 23:23:29,633] Trial 24 finished with value: 0.5702758951527186 and parameters: {'lambda_l1': 0.0004546193070082777, 'lambda_l2': 5.127388423866124, 'max_depth': 6, 'num_leaves': 204, 'colsample_bytree': 0.3278091543416793, 'min_child_samples': 12}. Best is trial 12 with value: 0.5768434056823094.\n"
     ]
    },
    {
     "name": "stdout",
     "output_type": "stream",
     "text": [
      "[210]\tvalid_0's ndcg@1: 0.520352\tvalid_0's ndcg@3: 0.535968\tvalid_0's ndcg@5: 0.549351\tvalid_0's ndcg@10: 0.589632\tvalid_0's ndcg@20: 0.653113\n",
      "Early stopping, best iteration is:\n",
      "[161]\tvalid_0's ndcg@1: 0.524731\tvalid_0's ndcg@3: 0.534549\tvalid_0's ndcg@5: 0.551364\tvalid_0's ndcg@10: 0.587911\tvalid_0's ndcg@20: 0.652824\n"
     ]
    },
    {
     "name": "stderr",
     "output_type": "stream",
     "text": [
      "C:\\Users\\savolk25\\AppData\\Local\\Temp\\ipykernel_19764\\389573219.py:4: FutureWarning: suggest_loguniform has been deprecated in v3.0.0. This feature will be removed in v6.0.0. See https://github.com/optuna/optuna/releases/tag/v3.0.0. Use suggest_float(..., log=True) instead.\n",
      "  'reg_alpha': trial.suggest_loguniform('lambda_l1', 1e-8, 10.0),\n",
      "C:\\Users\\savolk25\\AppData\\Local\\Temp\\ipykernel_19764\\389573219.py:5: FutureWarning: suggest_loguniform has been deprecated in v3.0.0. This feature will be removed in v6.0.0. See https://github.com/optuna/optuna/releases/tag/v3.0.0. Use suggest_float(..., log=True) instead.\n",
      "  'reg_lambda': trial.suggest_loguniform('lambda_l2', 1e-8, 10.0),\n",
      "C:\\Users\\savolk25\\AppData\\Local\\Temp\\ipykernel_19764\\389573219.py:8: FutureWarning: suggest_uniform has been deprecated in v3.0.0. This feature will be removed in v6.0.0. See https://github.com/optuna/optuna/releases/tag/v3.0.0. Use suggest_float instead.\n",
      "  'colsample_bytree': trial.suggest_uniform('colsample_bytree', 0.1, 1),\n"
     ]
    },
    {
     "name": "stdout",
     "output_type": "stream",
     "text": [
      "Training until validation scores don't improve for 50 rounds\n",
      "[10]\tvalid_0's ndcg@1: 0.44494\tvalid_0's ndcg@3: 0.461227\tvalid_0's ndcg@5: 0.481682\tvalid_0's ndcg@10: 0.531428\tvalid_0's ndcg@20: 0.604226\n",
      "[20]\tvalid_0's ndcg@1: 0.467866\tvalid_0's ndcg@3: 0.481477\tvalid_0's ndcg@5: 0.500512\tvalid_0's ndcg@10: 0.546844\tvalid_0's ndcg@20: 0.618719\n",
      "[30]\tvalid_0's ndcg@1: 0.478645\tvalid_0's ndcg@3: 0.492142\tvalid_0's ndcg@5: 0.512125\tvalid_0's ndcg@10: 0.556223\tvalid_0's ndcg@20: 0.625986\n",
      "[40]\tvalid_0's ndcg@1: 0.486961\tvalid_0's ndcg@3: 0.500396\tvalid_0's ndcg@5: 0.517124\tvalid_0's ndcg@10: 0.562083\tvalid_0's ndcg@20: 0.631249\n",
      "[50]\tvalid_0's ndcg@1: 0.495549\tvalid_0's ndcg@3: 0.503229\tvalid_0's ndcg@5: 0.522381\tvalid_0's ndcg@10: 0.565448\tvalid_0's ndcg@20: 0.633881\n",
      "[60]\tvalid_0's ndcg@1: 0.500291\tvalid_0's ndcg@3: 0.510587\tvalid_0's ndcg@5: 0.52816\tvalid_0's ndcg@10: 0.570981\tvalid_0's ndcg@20: 0.638584\n",
      "[70]\tvalid_0's ndcg@1: 0.502426\tvalid_0's ndcg@3: 0.514479\tvalid_0's ndcg@5: 0.529033\tvalid_0's ndcg@10: 0.574029\tvalid_0's ndcg@20: 0.640552\n",
      "[80]\tvalid_0's ndcg@1: 0.505139\tvalid_0's ndcg@3: 0.516461\tvalid_0's ndcg@5: 0.532829\tvalid_0's ndcg@10: 0.576295\tvalid_0's ndcg@20: 0.642433\n",
      "[90]\tvalid_0's ndcg@1: 0.50757\tvalid_0's ndcg@3: 0.519018\tvalid_0's ndcg@5: 0.534286\tvalid_0's ndcg@10: 0.578112\tvalid_0's ndcg@20: 0.643858\n",
      "[100]\tvalid_0's ndcg@1: 0.508086\tvalid_0's ndcg@3: 0.520656\tvalid_0's ndcg@5: 0.537005\tvalid_0's ndcg@10: 0.579756\tvalid_0's ndcg@20: 0.644359\n",
      "[110]\tvalid_0's ndcg@1: 0.51109\tvalid_0's ndcg@3: 0.523766\tvalid_0's ndcg@5: 0.540256\tvalid_0's ndcg@10: 0.581763\tvalid_0's ndcg@20: 0.646344\n",
      "[120]\tvalid_0's ndcg@1: 0.512284\tvalid_0's ndcg@3: 0.52211\tvalid_0's ndcg@5: 0.541645\tvalid_0's ndcg@10: 0.582013\tvalid_0's ndcg@20: 0.646696\n",
      "[130]\tvalid_0's ndcg@1: 0.510761\tvalid_0's ndcg@3: 0.524202\tvalid_0's ndcg@5: 0.541579\tvalid_0's ndcg@10: 0.582694\tvalid_0's ndcg@20: 0.647894\n",
      "[140]\tvalid_0's ndcg@1: 0.515886\tvalid_0's ndcg@3: 0.528642\tvalid_0's ndcg@5: 0.544846\tvalid_0's ndcg@10: 0.585309\tvalid_0's ndcg@20: 0.650091\n",
      "[150]\tvalid_0's ndcg@1: 0.519396\tvalid_0's ndcg@3: 0.527844\tvalid_0's ndcg@5: 0.545397\tvalid_0's ndcg@10: 0.586459\tvalid_0's ndcg@20: 0.650541\n",
      "[160]\tvalid_0's ndcg@1: 0.518876\tvalid_0's ndcg@3: 0.528266\tvalid_0's ndcg@5: 0.545778\tvalid_0's ndcg@10: 0.586672\tvalid_0's ndcg@20: 0.650448\n",
      "[170]\tvalid_0's ndcg@1: 0.518073\tvalid_0's ndcg@3: 0.528217\tvalid_0's ndcg@5: 0.546192\tvalid_0's ndcg@10: 0.586701\tvalid_0's ndcg@20: 0.651493\n",
      "[180]\tvalid_0's ndcg@1: 0.517868\tvalid_0's ndcg@3: 0.529507\tvalid_0's ndcg@5: 0.547339\tvalid_0's ndcg@10: 0.587692\tvalid_0's ndcg@20: 0.652255\n",
      "[190]\tvalid_0's ndcg@1: 0.521355\tvalid_0's ndcg@3: 0.530839\tvalid_0's ndcg@5: 0.54977\tvalid_0's ndcg@10: 0.588916\tvalid_0's ndcg@20: 0.654168\n",
      "[200]\tvalid_0's ndcg@1: 0.524426\tvalid_0's ndcg@3: 0.531367\tvalid_0's ndcg@5: 0.55091\tvalid_0's ndcg@10: 0.589525\tvalid_0's ndcg@20: 0.654526\n",
      "[210]\tvalid_0's ndcg@1: 0.523738\tvalid_0's ndcg@3: 0.531811\tvalid_0's ndcg@5: 0.551673\tvalid_0's ndcg@10: 0.590785\tvalid_0's ndcg@20: 0.655347\n",
      "[220]\tvalid_0's ndcg@1: 0.524899\tvalid_0's ndcg@3: 0.533354\tvalid_0's ndcg@5: 0.551573\tvalid_0's ndcg@10: 0.590735\tvalid_0's ndcg@20: 0.655533\n",
      "[230]\tvalid_0's ndcg@1: 0.523021\tvalid_0's ndcg@3: 0.533798\tvalid_0's ndcg@5: 0.552504\tvalid_0's ndcg@10: 0.591192\tvalid_0's ndcg@20: 0.655895\n",
      "[240]\tvalid_0's ndcg@1: 0.523738\tvalid_0's ndcg@3: 0.533506\tvalid_0's ndcg@5: 0.552515\tvalid_0's ndcg@10: 0.590748\tvalid_0's ndcg@20: 0.656731\n",
      "[250]\tvalid_0's ndcg@1: 0.527645\tvalid_0's ndcg@3: 0.536266\tvalid_0's ndcg@5: 0.553035\tvalid_0's ndcg@10: 0.591443\tvalid_0's ndcg@20: 0.65735\n"
     ]
    },
    {
     "name": "stderr",
     "output_type": "stream",
     "text": [
      "[I 2024-04-29 23:23:37,844] Trial 25 finished with value: 0.5727157693649794 and parameters: {'lambda_l1': 4.361708431541469e-07, 'lambda_l2': 5.456703978555937e-08, 'max_depth': 8, 'num_leaves': 106, 'colsample_bytree': 0.11351909046311837, 'min_child_samples': 26}. Best is trial 12 with value: 0.5768434056823094.\n"
     ]
    },
    {
     "name": "stdout",
     "output_type": "stream",
     "text": [
      "[260]\tvalid_0's ndcg@1: 0.519062\tvalid_0's ndcg@3: 0.533835\tvalid_0's ndcg@5: 0.551493\tvalid_0's ndcg@10: 0.590714\tvalid_0's ndcg@20: 0.655915\n",
      "Early stopping, best iteration is:\n",
      "[213]\tvalid_0's ndcg@1: 0.529488\tvalid_0's ndcg@3: 0.533135\tvalid_0's ndcg@5: 0.552689\tvalid_0's ndcg@10: 0.591854\tvalid_0's ndcg@20: 0.656412\n"
     ]
    },
    {
     "name": "stderr",
     "output_type": "stream",
     "text": [
      "C:\\Users\\savolk25\\AppData\\Local\\Temp\\ipykernel_19764\\389573219.py:4: FutureWarning: suggest_loguniform has been deprecated in v3.0.0. This feature will be removed in v6.0.0. See https://github.com/optuna/optuna/releases/tag/v3.0.0. Use suggest_float(..., log=True) instead.\n",
      "  'reg_alpha': trial.suggest_loguniform('lambda_l1', 1e-8, 10.0),\n",
      "C:\\Users\\savolk25\\AppData\\Local\\Temp\\ipykernel_19764\\389573219.py:5: FutureWarning: suggest_loguniform has been deprecated in v3.0.0. This feature will be removed in v6.0.0. See https://github.com/optuna/optuna/releases/tag/v3.0.0. Use suggest_float(..., log=True) instead.\n",
      "  'reg_lambda': trial.suggest_loguniform('lambda_l2', 1e-8, 10.0),\n",
      "C:\\Users\\savolk25\\AppData\\Local\\Temp\\ipykernel_19764\\389573219.py:8: FutureWarning: suggest_uniform has been deprecated in v3.0.0. This feature will be removed in v6.0.0. See https://github.com/optuna/optuna/releases/tag/v3.0.0. Use suggest_float instead.\n",
      "  'colsample_bytree': trial.suggest_uniform('colsample_bytree', 0.1, 1),\n"
     ]
    },
    {
     "name": "stdout",
     "output_type": "stream",
     "text": [
      "Training until validation scores don't improve for 50 rounds\n",
      "[10]\tvalid_0's ndcg@1: 0.453871\tvalid_0's ndcg@3: 0.468544\tvalid_0's ndcg@5: 0.486654\tvalid_0's ndcg@10: 0.533178\tvalid_0's ndcg@20: 0.607126\n",
      "[20]\tvalid_0's ndcg@1: 0.470187\tvalid_0's ndcg@3: 0.483578\tvalid_0's ndcg@5: 0.502258\tvalid_0's ndcg@10: 0.545638\tvalid_0's ndcg@20: 0.61772\n",
      "[30]\tvalid_0's ndcg@1: 0.484152\tvalid_0's ndcg@3: 0.498657\tvalid_0's ndcg@5: 0.515285\tvalid_0's ndcg@10: 0.556734\tvalid_0's ndcg@20: 0.626912\n",
      "[40]\tvalid_0's ndcg@1: 0.491756\tvalid_0's ndcg@3: 0.506237\tvalid_0's ndcg@5: 0.522656\tvalid_0's ndcg@10: 0.562324\tvalid_0's ndcg@20: 0.631989\n",
      "[50]\tvalid_0's ndcg@1: 0.494837\tvalid_0's ndcg@3: 0.510866\tvalid_0's ndcg@5: 0.527817\tvalid_0's ndcg@10: 0.567524\tvalid_0's ndcg@20: 0.636345\n",
      "[60]\tvalid_0's ndcg@1: 0.495749\tvalid_0's ndcg@3: 0.511377\tvalid_0's ndcg@5: 0.528669\tvalid_0's ndcg@10: 0.569801\tvalid_0's ndcg@20: 0.6377\n",
      "[70]\tvalid_0's ndcg@1: 0.498099\tvalid_0's ndcg@3: 0.514522\tvalid_0's ndcg@5: 0.531102\tvalid_0's ndcg@10: 0.570706\tvalid_0's ndcg@20: 0.639257\n",
      "[80]\tvalid_0's ndcg@1: 0.502689\tvalid_0's ndcg@3: 0.520266\tvalid_0's ndcg@5: 0.53551\tvalid_0's ndcg@10: 0.575419\tvalid_0's ndcg@20: 0.64306\n",
      "[90]\tvalid_0's ndcg@1: 0.511153\tvalid_0's ndcg@3: 0.52286\tvalid_0's ndcg@5: 0.538989\tvalid_0's ndcg@10: 0.579172\tvalid_0's ndcg@20: 0.645786\n",
      "[100]\tvalid_0's ndcg@1: 0.514281\tvalid_0's ndcg@3: 0.526511\tvalid_0's ndcg@5: 0.541706\tvalid_0's ndcg@10: 0.581736\tvalid_0's ndcg@20: 0.647452\n",
      "[110]\tvalid_0's ndcg@1: 0.517534\tvalid_0's ndcg@3: 0.528962\tvalid_0's ndcg@5: 0.543492\tvalid_0's ndcg@10: 0.582293\tvalid_0's ndcg@20: 0.648148\n",
      "[120]\tvalid_0's ndcg@1: 0.517175\tvalid_0's ndcg@3: 0.529533\tvalid_0's ndcg@5: 0.545141\tvalid_0's ndcg@10: 0.583195\tvalid_0's ndcg@20: 0.649215\n",
      "[130]\tvalid_0's ndcg@1: 0.518083\tvalid_0's ndcg@3: 0.532094\tvalid_0's ndcg@5: 0.547912\tvalid_0's ndcg@10: 0.586031\tvalid_0's ndcg@20: 0.651199\n",
      "[140]\tvalid_0's ndcg@1: 0.517782\tvalid_0's ndcg@3: 0.530345\tvalid_0's ndcg@5: 0.549181\tvalid_0's ndcg@10: 0.586399\tvalid_0's ndcg@20: 0.650878\n",
      "[150]\tvalid_0's ndcg@1: 0.518981\tvalid_0's ndcg@3: 0.530471\tvalid_0's ndcg@5: 0.548293\tvalid_0's ndcg@10: 0.586622\tvalid_0's ndcg@20: 0.651016\n",
      "[160]\tvalid_0's ndcg@1: 0.522181\tvalid_0's ndcg@3: 0.533355\tvalid_0's ndcg@5: 0.549401\tvalid_0's ndcg@10: 0.58716\tvalid_0's ndcg@20: 0.651796\n",
      "[170]\tvalid_0's ndcg@1: 0.520012\tvalid_0's ndcg@3: 0.534437\tvalid_0's ndcg@5: 0.549348\tvalid_0's ndcg@10: 0.587547\tvalid_0's ndcg@20: 0.652139\n",
      "[180]\tvalid_0's ndcg@1: 0.517319\tvalid_0's ndcg@3: 0.533948\tvalid_0's ndcg@5: 0.548339\tvalid_0's ndcg@10: 0.586654\tvalid_0's ndcg@20: 0.651603\n",
      "[190]\tvalid_0's ndcg@1: 0.521741\tvalid_0's ndcg@3: 0.533535\tvalid_0's ndcg@5: 0.549206\tvalid_0's ndcg@10: 0.587917\tvalid_0's ndcg@20: 0.652535\n",
      "[200]\tvalid_0's ndcg@1: 0.520098\tvalid_0's ndcg@3: 0.534209\tvalid_0's ndcg@5: 0.550641\tvalid_0's ndcg@10: 0.588208\tvalid_0's ndcg@20: 0.652937\n"
     ]
    },
    {
     "name": "stderr",
     "output_type": "stream",
     "text": [
      "[I 2024-04-29 23:23:44,193] Trial 26 finished with value: 0.569253163920697 and parameters: {'lambda_l1': 5.306874019259684e-05, 'lambda_l2': 3.17424996605165e-06, 'max_depth': 7, 'num_leaves': 65, 'colsample_bytree': 0.18374653856008405, 'min_child_samples': 61}. Best is trial 12 with value: 0.5768434056823094.\n"
     ]
    },
    {
     "name": "stdout",
     "output_type": "stream",
     "text": [
      "Early stopping, best iteration is:\n",
      "[157]\tvalid_0's ndcg@1: 0.524063\tvalid_0's ndcg@3: 0.533111\tvalid_0's ndcg@5: 0.54977\tvalid_0's ndcg@10: 0.587377\tvalid_0's ndcg@20: 0.651945\n"
     ]
    },
    {
     "name": "stderr",
     "output_type": "stream",
     "text": [
      "C:\\Users\\savolk25\\AppData\\Local\\Temp\\ipykernel_19764\\389573219.py:4: FutureWarning: suggest_loguniform has been deprecated in v3.0.0. This feature will be removed in v6.0.0. See https://github.com/optuna/optuna/releases/tag/v3.0.0. Use suggest_float(..., log=True) instead.\n",
      "  'reg_alpha': trial.suggest_loguniform('lambda_l1', 1e-8, 10.0),\n",
      "C:\\Users\\savolk25\\AppData\\Local\\Temp\\ipykernel_19764\\389573219.py:5: FutureWarning: suggest_loguniform has been deprecated in v3.0.0. This feature will be removed in v6.0.0. See https://github.com/optuna/optuna/releases/tag/v3.0.0. Use suggest_float(..., log=True) instead.\n",
      "  'reg_lambda': trial.suggest_loguniform('lambda_l2', 1e-8, 10.0),\n",
      "C:\\Users\\savolk25\\AppData\\Local\\Temp\\ipykernel_19764\\389573219.py:8: FutureWarning: suggest_uniform has been deprecated in v3.0.0. This feature will be removed in v6.0.0. See https://github.com/optuna/optuna/releases/tag/v3.0.0. Use suggest_float instead.\n",
      "  'colsample_bytree': trial.suggest_uniform('colsample_bytree', 0.1, 1),\n"
     ]
    },
    {
     "name": "stdout",
     "output_type": "stream",
     "text": [
      "Training until validation scores don't improve for 50 rounds\n",
      "[10]\tvalid_0's ndcg@1: 0.476888\tvalid_0's ndcg@3: 0.487872\tvalid_0's ndcg@5: 0.504595\tvalid_0's ndcg@10: 0.545692\tvalid_0's ndcg@20: 0.615948\n",
      "[20]\tvalid_0's ndcg@1: 0.483446\tvalid_0's ndcg@3: 0.499624\tvalid_0's ndcg@5: 0.517515\tvalid_0's ndcg@10: 0.556609\tvalid_0's ndcg@20: 0.626004\n",
      "[30]\tvalid_0's ndcg@1: 0.501423\tvalid_0's ndcg@3: 0.508874\tvalid_0's ndcg@5: 0.524702\tvalid_0's ndcg@10: 0.564682\tvalid_0's ndcg@20: 0.633262\n",
      "[40]\tvalid_0's ndcg@1: 0.505865\tvalid_0's ndcg@3: 0.514639\tvalid_0's ndcg@5: 0.529764\tvalid_0's ndcg@10: 0.569733\tvalid_0's ndcg@20: 0.636715\n",
      "[50]\tvalid_0's ndcg@1: 0.505899\tvalid_0's ndcg@3: 0.516158\tvalid_0's ndcg@5: 0.533581\tvalid_0's ndcg@10: 0.57237\tvalid_0's ndcg@20: 0.639212\n",
      "[60]\tvalid_0's ndcg@1: 0.511687\tvalid_0's ndcg@3: 0.5204\tvalid_0's ndcg@5: 0.536798\tvalid_0's ndcg@10: 0.57566\tvalid_0's ndcg@20: 0.641591\n",
      "[70]\tvalid_0's ndcg@1: 0.512538\tvalid_0's ndcg@3: 0.52229\tvalid_0's ndcg@5: 0.538258\tvalid_0's ndcg@10: 0.57758\tvalid_0's ndcg@20: 0.643399\n",
      "[80]\tvalid_0's ndcg@1: 0.512337\tvalid_0's ndcg@3: 0.523555\tvalid_0's ndcg@5: 0.540608\tvalid_0's ndcg@10: 0.579179\tvalid_0's ndcg@20: 0.644121\n",
      "[90]\tvalid_0's ndcg@1: 0.511492\tvalid_0's ndcg@3: 0.523442\tvalid_0's ndcg@5: 0.541187\tvalid_0's ndcg@10: 0.580224\tvalid_0's ndcg@20: 0.644952\n",
      "[100]\tvalid_0's ndcg@1: 0.515532\tvalid_0's ndcg@3: 0.524513\tvalid_0's ndcg@5: 0.542042\tvalid_0's ndcg@10: 0.580545\tvalid_0's ndcg@20: 0.645545\n",
      "[110]\tvalid_0's ndcg@1: 0.512261\tvalid_0's ndcg@3: 0.526095\tvalid_0's ndcg@5: 0.541176\tvalid_0's ndcg@10: 0.581052\tvalid_0's ndcg@20: 0.64562\n",
      "[120]\tvalid_0's ndcg@1: 0.51429\tvalid_0's ndcg@3: 0.527845\tvalid_0's ndcg@5: 0.54371\tvalid_0's ndcg@10: 0.581933\tvalid_0's ndcg@20: 0.647305\n",
      "[130]\tvalid_0's ndcg@1: 0.516788\tvalid_0's ndcg@3: 0.527437\tvalid_0's ndcg@5: 0.544196\tvalid_0's ndcg@10: 0.582656\tvalid_0's ndcg@20: 0.646938\n",
      "[140]\tvalid_0's ndcg@1: 0.515585\tvalid_0's ndcg@3: 0.52785\tvalid_0's ndcg@5: 0.544919\tvalid_0's ndcg@10: 0.582386\tvalid_0's ndcg@20: 0.64763\n",
      "[150]\tvalid_0's ndcg@1: 0.516688\tvalid_0's ndcg@3: 0.528641\tvalid_0's ndcg@5: 0.546101\tvalid_0's ndcg@10: 0.583493\tvalid_0's ndcg@20: 0.648422\n",
      "[160]\tvalid_0's ndcg@1: 0.519712\tvalid_0's ndcg@3: 0.529439\tvalid_0's ndcg@5: 0.546867\tvalid_0's ndcg@10: 0.584472\tvalid_0's ndcg@20: 0.648736\n",
      "[170]\tvalid_0's ndcg@1: 0.516015\tvalid_0's ndcg@3: 0.528946\tvalid_0's ndcg@5: 0.545957\tvalid_0's ndcg@10: 0.583682\tvalid_0's ndcg@20: 0.649213\n",
      "[180]\tvalid_0's ndcg@1: 0.5175\tvalid_0's ndcg@3: 0.529451\tvalid_0's ndcg@5: 0.545426\tvalid_0's ndcg@10: 0.583825\tvalid_0's ndcg@20: 0.649349\n",
      "[190]\tvalid_0's ndcg@1: 0.519162\tvalid_0's ndcg@3: 0.529885\tvalid_0's ndcg@5: 0.546153\tvalid_0's ndcg@10: 0.585124\tvalid_0's ndcg@20: 0.649804\n",
      "[200]\tvalid_0's ndcg@1: 0.520901\tvalid_0's ndcg@3: 0.53039\tvalid_0's ndcg@5: 0.546463\tvalid_0's ndcg@10: 0.585605\tvalid_0's ndcg@20: 0.649892\n",
      "[210]\tvalid_0's ndcg@1: 0.518317\tvalid_0's ndcg@3: 0.53073\tvalid_0's ndcg@5: 0.546545\tvalid_0's ndcg@10: 0.58594\tvalid_0's ndcg@20: 0.649766\n"
     ]
    },
    {
     "name": "stderr",
     "output_type": "stream",
     "text": [
      "[I 2024-04-29 23:23:49,432] Trial 27 finished with value: 0.5662803302496979 and parameters: {'lambda_l1': 6.67858303570214e-08, 'lambda_l2': 0.0007883889370084101, 'max_depth': 5, 'num_leaves': 188, 'colsample_bytree': 0.4434844704380323, 'min_child_samples': 78}. Best is trial 12 with value: 0.5768434056823094.\n"
     ]
    },
    {
     "name": "stdout",
     "output_type": "stream",
     "text": [
      "Early stopping, best iteration is:\n",
      "[167]\tvalid_0's ndcg@1: 0.520939\tvalid_0's ndcg@3: 0.52992\tvalid_0's ndcg@5: 0.546764\tvalid_0's ndcg@10: 0.58432\tvalid_0's ndcg@20: 0.649459\n"
     ]
    },
    {
     "name": "stderr",
     "output_type": "stream",
     "text": [
      "C:\\Users\\savolk25\\AppData\\Local\\Temp\\ipykernel_19764\\389573219.py:4: FutureWarning: suggest_loguniform has been deprecated in v3.0.0. This feature will be removed in v6.0.0. See https://github.com/optuna/optuna/releases/tag/v3.0.0. Use suggest_float(..., log=True) instead.\n",
      "  'reg_alpha': trial.suggest_loguniform('lambda_l1', 1e-8, 10.0),\n",
      "C:\\Users\\savolk25\\AppData\\Local\\Temp\\ipykernel_19764\\389573219.py:5: FutureWarning: suggest_loguniform has been deprecated in v3.0.0. This feature will be removed in v6.0.0. See https://github.com/optuna/optuna/releases/tag/v3.0.0. Use suggest_float(..., log=True) instead.\n",
      "  'reg_lambda': trial.suggest_loguniform('lambda_l2', 1e-8, 10.0),\n",
      "C:\\Users\\savolk25\\AppData\\Local\\Temp\\ipykernel_19764\\389573219.py:8: FutureWarning: suggest_uniform has been deprecated in v3.0.0. This feature will be removed in v6.0.0. See https://github.com/optuna/optuna/releases/tag/v3.0.0. Use suggest_float instead.\n",
      "  'colsample_bytree': trial.suggest_uniform('colsample_bytree', 0.1, 1),\n"
     ]
    },
    {
     "name": "stdout",
     "output_type": "stream",
     "text": [
      "Training until validation scores don't improve for 50 rounds\n",
      "[10]\tvalid_0's ndcg@1: 0.485724\tvalid_0's ndcg@3: 0.492345\tvalid_0's ndcg@5: 0.511363\tvalid_0's ndcg@10: 0.554697\tvalid_0's ndcg@20: 0.62262\n",
      "[20]\tvalid_0's ndcg@1: 0.495138\tvalid_0's ndcg@3: 0.505335\tvalid_0's ndcg@5: 0.525502\tvalid_0's ndcg@10: 0.565887\tvalid_0's ndcg@20: 0.632454\n",
      "[30]\tvalid_0's ndcg@1: 0.501356\tvalid_0's ndcg@3: 0.516695\tvalid_0's ndcg@5: 0.534408\tvalid_0's ndcg@10: 0.574395\tvalid_0's ndcg@20: 0.639787\n",
      "[40]\tvalid_0's ndcg@1: 0.505779\tvalid_0's ndcg@3: 0.520843\tvalid_0's ndcg@5: 0.540534\tvalid_0's ndcg@10: 0.579085\tvalid_0's ndcg@20: 0.644273\n",
      "[50]\tvalid_0's ndcg@1: 0.509137\tvalid_0's ndcg@3: 0.523254\tvalid_0's ndcg@5: 0.542782\tvalid_0's ndcg@10: 0.582183\tvalid_0's ndcg@20: 0.646305\n",
      "[60]\tvalid_0's ndcg@1: 0.508869\tvalid_0's ndcg@3: 0.524406\tvalid_0's ndcg@5: 0.545194\tvalid_0's ndcg@10: 0.583281\tvalid_0's ndcg@20: 0.648623\n",
      "[70]\tvalid_0's ndcg@1: 0.511692\tvalid_0's ndcg@3: 0.528082\tvalid_0's ndcg@5: 0.547348\tvalid_0's ndcg@10: 0.585415\tvalid_0's ndcg@20: 0.650551\n",
      "[80]\tvalid_0's ndcg@1: 0.513799\tvalid_0's ndcg@3: 0.527368\tvalid_0's ndcg@5: 0.548109\tvalid_0's ndcg@10: 0.586423\tvalid_0's ndcg@20: 0.650658\n",
      "[90]\tvalid_0's ndcg@1: 0.517285\tvalid_0's ndcg@3: 0.52952\tvalid_0's ndcg@5: 0.548506\tvalid_0's ndcg@10: 0.58747\tvalid_0's ndcg@20: 0.651856\n",
      "[100]\tvalid_0's ndcg@1: 0.520203\tvalid_0's ndcg@3: 0.534323\tvalid_0's ndcg@5: 0.550552\tvalid_0's ndcg@10: 0.58981\tvalid_0's ndcg@20: 0.65396\n",
      "[110]\tvalid_0's ndcg@1: 0.522291\tvalid_0's ndcg@3: 0.534927\tvalid_0's ndcg@5: 0.553208\tvalid_0's ndcg@10: 0.592049\tvalid_0's ndcg@20: 0.65548\n",
      "[120]\tvalid_0's ndcg@1: 0.520223\tvalid_0's ndcg@3: 0.534216\tvalid_0's ndcg@5: 0.552332\tvalid_0's ndcg@10: 0.590682\tvalid_0's ndcg@20: 0.655172\n",
      "[130]\tvalid_0's ndcg@1: 0.520772\tvalid_0's ndcg@3: 0.534495\tvalid_0's ndcg@5: 0.552414\tvalid_0's ndcg@10: 0.591006\tvalid_0's ndcg@20: 0.655257\n",
      "[140]\tvalid_0's ndcg@1: 0.519353\tvalid_0's ndcg@3: 0.535383\tvalid_0's ndcg@5: 0.553824\tvalid_0's ndcg@10: 0.591566\tvalid_0's ndcg@20: 0.655523\n",
      "[150]\tvalid_0's ndcg@1: 0.518331\tvalid_0's ndcg@3: 0.536323\tvalid_0's ndcg@5: 0.553983\tvalid_0's ndcg@10: 0.59206\tvalid_0's ndcg@20: 0.656464\n",
      "Early stopping, best iteration is:\n",
      "[109]\tvalid_0's ndcg@1: 0.523943\tvalid_0's ndcg@3: 0.536026\tvalid_0's ndcg@5: 0.553213\tvalid_0's ndcg@10: 0.591838\tvalid_0's ndcg@20: 0.655421\n"
     ]
    },
    {
     "name": "stderr",
     "output_type": "stream",
     "text": [
      "[I 2024-04-29 23:23:55,404] Trial 28 finished with value: 0.5720881701371109 and parameters: {'lambda_l1': 2.8945781198289294e-06, 'lambda_l2': 6.381933078032039e-05, 'max_depth': 7, 'num_leaves': 103, 'colsample_bytree': 0.586055500227395, 'min_child_samples': 17}. Best is trial 12 with value: 0.5768434056823094.\n",
      "C:\\Users\\savolk25\\AppData\\Local\\Temp\\ipykernel_19764\\389573219.py:4: FutureWarning: suggest_loguniform has been deprecated in v3.0.0. This feature will be removed in v6.0.0. See https://github.com/optuna/optuna/releases/tag/v3.0.0. Use suggest_float(..., log=True) instead.\n",
      "  'reg_alpha': trial.suggest_loguniform('lambda_l1', 1e-8, 10.0),\n",
      "C:\\Users\\savolk25\\AppData\\Local\\Temp\\ipykernel_19764\\389573219.py:5: FutureWarning: suggest_loguniform has been deprecated in v3.0.0. This feature will be removed in v6.0.0. See https://github.com/optuna/optuna/releases/tag/v3.0.0. Use suggest_float(..., log=True) instead.\n",
      "  'reg_lambda': trial.suggest_loguniform('lambda_l2', 1e-8, 10.0),\n",
      "C:\\Users\\savolk25\\AppData\\Local\\Temp\\ipykernel_19764\\389573219.py:8: FutureWarning: suggest_uniform has been deprecated in v3.0.0. This feature will be removed in v6.0.0. See https://github.com/optuna/optuna/releases/tag/v3.0.0. Use suggest_float instead.\n",
      "  'colsample_bytree': trial.suggest_uniform('colsample_bytree', 0.1, 1),\n"
     ]
    },
    {
     "name": "stdout",
     "output_type": "stream",
     "text": [
      "Training until validation scores don't improve for 50 rounds\n",
      "[10]\tvalid_0's ndcg@1: 0.463462\tvalid_0's ndcg@3: 0.481675\tvalid_0's ndcg@5: 0.501334\tvalid_0's ndcg@10: 0.541251\tvalid_0's ndcg@20: 0.615003\n",
      "[20]\tvalid_0's ndcg@1: 0.483059\tvalid_0's ndcg@3: 0.492391\tvalid_0's ndcg@5: 0.513766\tvalid_0's ndcg@10: 0.551474\tvalid_0's ndcg@20: 0.623377\n",
      "[30]\tvalid_0's ndcg@1: 0.494689\tvalid_0's ndcg@3: 0.500894\tvalid_0's ndcg@5: 0.519704\tvalid_0's ndcg@10: 0.55917\tvalid_0's ndcg@20: 0.628722\n",
      "[40]\tvalid_0's ndcg@1: 0.495529\tvalid_0's ndcg@3: 0.50446\tvalid_0's ndcg@5: 0.522112\tvalid_0's ndcg@10: 0.562507\tvalid_0's ndcg@20: 0.631199\n",
      "[50]\tvalid_0's ndcg@1: 0.50171\tvalid_0's ndcg@3: 0.510748\tvalid_0's ndcg@5: 0.52794\tvalid_0's ndcg@10: 0.566888\tvalid_0's ndcg@20: 0.634951\n",
      "[60]\tvalid_0's ndcg@1: 0.507847\tvalid_0's ndcg@3: 0.515317\tvalid_0's ndcg@5: 0.531419\tvalid_0's ndcg@10: 0.571783\tvalid_0's ndcg@20: 0.638177\n",
      "[70]\tvalid_0's ndcg@1: 0.505674\tvalid_0's ndcg@3: 0.515919\tvalid_0's ndcg@5: 0.533485\tvalid_0's ndcg@10: 0.572726\tvalid_0's ndcg@20: 0.639501\n",
      "[80]\tvalid_0's ndcg@1: 0.506586\tvalid_0's ndcg@3: 0.51732\tvalid_0's ndcg@5: 0.535202\tvalid_0's ndcg@10: 0.575285\tvalid_0's ndcg@20: 0.641253\n",
      "[90]\tvalid_0's ndcg@1: 0.509075\tvalid_0's ndcg@3: 0.52125\tvalid_0's ndcg@5: 0.536973\tvalid_0's ndcg@10: 0.577118\tvalid_0's ndcg@20: 0.642774\n",
      "[100]\tvalid_0's ndcg@1: 0.509404\tvalid_0's ndcg@3: 0.520935\tvalid_0's ndcg@5: 0.53865\tvalid_0's ndcg@10: 0.577837\tvalid_0's ndcg@20: 0.643383\n",
      "[110]\tvalid_0's ndcg@1: 0.511783\tvalid_0's ndcg@3: 0.52185\tvalid_0's ndcg@5: 0.539006\tvalid_0's ndcg@10: 0.579263\tvalid_0's ndcg@20: 0.644704\n",
      "[120]\tvalid_0's ndcg@1: 0.51355\tvalid_0's ndcg@3: 0.524329\tvalid_0's ndcg@5: 0.540226\tvalid_0's ndcg@10: 0.580667\tvalid_0's ndcg@20: 0.645816\n",
      "[130]\tvalid_0's ndcg@1: 0.513202\tvalid_0's ndcg@3: 0.523167\tvalid_0's ndcg@5: 0.539866\tvalid_0's ndcg@10: 0.579226\tvalid_0's ndcg@20: 0.645184\n",
      "[140]\tvalid_0's ndcg@1: 0.515461\tvalid_0's ndcg@3: 0.524245\tvalid_0's ndcg@5: 0.539736\tvalid_0's ndcg@10: 0.58095\tvalid_0's ndcg@20: 0.645581\n",
      "[150]\tvalid_0's ndcg@1: 0.515007\tvalid_0's ndcg@3: 0.524635\tvalid_0's ndcg@5: 0.54167\tvalid_0's ndcg@10: 0.581788\tvalid_0's ndcg@20: 0.646505\n",
      "[160]\tvalid_0's ndcg@1: 0.514988\tvalid_0's ndcg@3: 0.524169\tvalid_0's ndcg@5: 0.541674\tvalid_0's ndcg@10: 0.581465\tvalid_0's ndcg@20: 0.646335\n",
      "[170]\tvalid_0's ndcg@1: 0.512461\tvalid_0's ndcg@3: 0.525592\tvalid_0's ndcg@5: 0.541812\tvalid_0's ndcg@10: 0.582071\tvalid_0's ndcg@20: 0.646819\n",
      "[180]\tvalid_0's ndcg@1: 0.515298\tvalid_0's ndcg@3: 0.525601\tvalid_0's ndcg@5: 0.541318\tvalid_0's ndcg@10: 0.582242\tvalid_0's ndcg@20: 0.647381\n",
      "[190]\tvalid_0's ndcg@1: 0.516402\tvalid_0's ndcg@3: 0.525656\tvalid_0's ndcg@5: 0.542688\tvalid_0's ndcg@10: 0.58291\tvalid_0's ndcg@20: 0.648249\n"
     ]
    },
    {
     "name": "stderr",
     "output_type": "stream",
     "text": [
      "[I 2024-04-29 23:24:00,427] Trial 29 finished with value: 0.5627637098085464 and parameters: {'lambda_l1': 2.883203479289324e-05, 'lambda_l2': 9.489175007246278, 'max_depth': 6, 'num_leaves': 175, 'colsample_bytree': 0.1521051380266683, 'min_child_samples': 49}. Best is trial 12 with value: 0.5768434056823094.\n"
     ]
    },
    {
     "name": "stdout",
     "output_type": "stream",
     "text": [
      "Early stopping, best iteration is:\n",
      "[146]\tvalid_0's ndcg@1: 0.51835\tvalid_0's ndcg@3: 0.524404\tvalid_0's ndcg@5: 0.542051\tvalid_0's ndcg@10: 0.58248\tvalid_0's ndcg@20: 0.646533\n"
     ]
    },
    {
     "name": "stderr",
     "output_type": "stream",
     "text": [
      "C:\\Users\\savolk25\\AppData\\Local\\Temp\\ipykernel_19764\\389573219.py:4: FutureWarning: suggest_loguniform has been deprecated in v3.0.0. This feature will be removed in v6.0.0. See https://github.com/optuna/optuna/releases/tag/v3.0.0. Use suggest_float(..., log=True) instead.\n",
      "  'reg_alpha': trial.suggest_loguniform('lambda_l1', 1e-8, 10.0),\n",
      "C:\\Users\\savolk25\\AppData\\Local\\Temp\\ipykernel_19764\\389573219.py:5: FutureWarning: suggest_loguniform has been deprecated in v3.0.0. This feature will be removed in v6.0.0. See https://github.com/optuna/optuna/releases/tag/v3.0.0. Use suggest_float(..., log=True) instead.\n",
      "  'reg_lambda': trial.suggest_loguniform('lambda_l2', 1e-8, 10.0),\n",
      "C:\\Users\\savolk25\\AppData\\Local\\Temp\\ipykernel_19764\\389573219.py:8: FutureWarning: suggest_uniform has been deprecated in v3.0.0. This feature will be removed in v6.0.0. See https://github.com/optuna/optuna/releases/tag/v3.0.0. Use suggest_float instead.\n",
      "  'colsample_bytree': trial.suggest_uniform('colsample_bytree', 0.1, 1),\n"
     ]
    },
    {
     "name": "stdout",
     "output_type": "stream",
     "text": [
      "Training until validation scores don't improve for 50 rounds\n",
      "[10]\tvalid_0's ndcg@1: 0.474796\tvalid_0's ndcg@3: 0.490588\tvalid_0's ndcg@5: 0.509198\tvalid_0's ndcg@10: 0.552536\tvalid_0's ndcg@20: 0.621638\n",
      "[20]\tvalid_0's ndcg@1: 0.496838\tvalid_0's ndcg@3: 0.50911\tvalid_0's ndcg@5: 0.525252\tvalid_0's ndcg@10: 0.566218\tvalid_0's ndcg@20: 0.634279\n",
      "[30]\tvalid_0's ndcg@1: 0.498051\tvalid_0's ndcg@3: 0.516819\tvalid_0's ndcg@5: 0.530272\tvalid_0's ndcg@10: 0.572816\tvalid_0's ndcg@20: 0.639268\n",
      "[40]\tvalid_0's ndcg@1: 0.505302\tvalid_0's ndcg@3: 0.521747\tvalid_0's ndcg@5: 0.538224\tvalid_0's ndcg@10: 0.578092\tvalid_0's ndcg@20: 0.642705\n",
      "[50]\tvalid_0's ndcg@1: 0.510173\tvalid_0's ndcg@3: 0.524733\tvalid_0's ndcg@5: 0.541724\tvalid_0's ndcg@10: 0.582808\tvalid_0's ndcg@20: 0.646682\n",
      "[60]\tvalid_0's ndcg@1: 0.51794\tvalid_0's ndcg@3: 0.531318\tvalid_0's ndcg@5: 0.545857\tvalid_0's ndcg@10: 0.585962\tvalid_0's ndcg@20: 0.650182\n",
      "[70]\tvalid_0's ndcg@1: 0.519769\tvalid_0's ndcg@3: 0.533462\tvalid_0's ndcg@5: 0.550215\tvalid_0's ndcg@10: 0.589296\tvalid_0's ndcg@20: 0.651825\n",
      "[80]\tvalid_0's ndcg@1: 0.519029\tvalid_0's ndcg@3: 0.535148\tvalid_0's ndcg@5: 0.551276\tvalid_0's ndcg@10: 0.590328\tvalid_0's ndcg@20: 0.653231\n",
      "[90]\tvalid_0's ndcg@1: 0.521541\tvalid_0's ndcg@3: 0.53552\tvalid_0's ndcg@5: 0.551869\tvalid_0's ndcg@10: 0.590686\tvalid_0's ndcg@20: 0.652999\n",
      "[100]\tvalid_0's ndcg@1: 0.526561\tvalid_0's ndcg@3: 0.536421\tvalid_0's ndcg@5: 0.554767\tvalid_0's ndcg@10: 0.591663\tvalid_0's ndcg@20: 0.654489\n",
      "[110]\tvalid_0's ndcg@1: 0.528954\tvalid_0's ndcg@3: 0.537884\tvalid_0's ndcg@5: 0.555343\tvalid_0's ndcg@10: 0.593338\tvalid_0's ndcg@20: 0.655652\n",
      "[120]\tvalid_0's ndcg@1: 0.531409\tvalid_0's ndcg@3: 0.540121\tvalid_0's ndcg@5: 0.555491\tvalid_0's ndcg@10: 0.593916\tvalid_0's ndcg@20: 0.656294\n",
      "[130]\tvalid_0's ndcg@1: 0.53222\tvalid_0's ndcg@3: 0.541253\tvalid_0's ndcg@5: 0.557968\tvalid_0's ndcg@10: 0.595814\tvalid_0's ndcg@20: 0.657996\n",
      "[140]\tvalid_0's ndcg@1: 0.53405\tvalid_0's ndcg@3: 0.542604\tvalid_0's ndcg@5: 0.558614\tvalid_0's ndcg@10: 0.597494\tvalid_0's ndcg@20: 0.659039\n",
      "[150]\tvalid_0's ndcg@1: 0.538071\tvalid_0's ndcg@3: 0.54289\tvalid_0's ndcg@5: 0.560544\tvalid_0's ndcg@10: 0.599268\tvalid_0's ndcg@20: 0.660353\n",
      "[160]\tvalid_0's ndcg@1: 0.536175\tvalid_0's ndcg@3: 0.542957\tvalid_0's ndcg@5: 0.559339\tvalid_0's ndcg@10: 0.598491\tvalid_0's ndcg@20: 0.660288\n",
      "[170]\tvalid_0's ndcg@1: 0.535263\tvalid_0's ndcg@3: 0.544325\tvalid_0's ndcg@5: 0.561087\tvalid_0's ndcg@10: 0.59956\tvalid_0's ndcg@20: 0.661438\n",
      "[180]\tvalid_0's ndcg@1: 0.530501\tvalid_0's ndcg@3: 0.543146\tvalid_0's ndcg@5: 0.55944\tvalid_0's ndcg@10: 0.598114\tvalid_0's ndcg@20: 0.66055\n",
      "[190]\tvalid_0's ndcg@1: 0.532445\tvalid_0's ndcg@3: 0.543192\tvalid_0's ndcg@5: 0.559545\tvalid_0's ndcg@10: 0.599127\tvalid_0's ndcg@20: 0.661292\n",
      "[200]\tvalid_0's ndcg@1: 0.53437\tvalid_0's ndcg@3: 0.54315\tvalid_0's ndcg@5: 0.561495\tvalid_0's ndcg@10: 0.59977\tvalid_0's ndcg@20: 0.662349\n",
      "Early stopping, best iteration is:\n",
      "[155]\tvalid_0's ndcg@1: 0.539867\tvalid_0's ndcg@3: 0.543546\tvalid_0's ndcg@5: 0.559637\tvalid_0's ndcg@10: 0.599101\tvalid_0's ndcg@20: 0.660809\n"
     ]
    },
    {
     "name": "stderr",
     "output_type": "stream",
     "text": [
      "[I 2024-04-29 23:24:08,556] Trial 30 finished with value: 0.5805920582633874 and parameters: {'lambda_l1': 1.4615368938691652e-08, 'lambda_l2': 0.17226956684925354, 'max_depth': 8, 'num_leaves': 146, 'colsample_bytree': 0.29612958781714954, 'min_child_samples': 40}. Best is trial 30 with value: 0.5805920582633874.\n",
      "C:\\Users\\savolk25\\AppData\\Local\\Temp\\ipykernel_19764\\389573219.py:4: FutureWarning: suggest_loguniform has been deprecated in v3.0.0. This feature will be removed in v6.0.0. See https://github.com/optuna/optuna/releases/tag/v3.0.0. Use suggest_float(..., log=True) instead.\n",
      "  'reg_alpha': trial.suggest_loguniform('lambda_l1', 1e-8, 10.0),\n",
      "C:\\Users\\savolk25\\AppData\\Local\\Temp\\ipykernel_19764\\389573219.py:5: FutureWarning: suggest_loguniform has been deprecated in v3.0.0. This feature will be removed in v6.0.0. See https://github.com/optuna/optuna/releases/tag/v3.0.0. Use suggest_float(..., log=True) instead.\n",
      "  'reg_lambda': trial.suggest_loguniform('lambda_l2', 1e-8, 10.0),\n",
      "C:\\Users\\savolk25\\AppData\\Local\\Temp\\ipykernel_19764\\389573219.py:8: FutureWarning: suggest_uniform has been deprecated in v3.0.0. This feature will be removed in v6.0.0. See https://github.com/optuna/optuna/releases/tag/v3.0.0. Use suggest_float instead.\n",
      "  'colsample_bytree': trial.suggest_uniform('colsample_bytree', 0.1, 1),\n"
     ]
    },
    {
     "name": "stdout",
     "output_type": "stream",
     "text": [
      "Training until validation scores don't improve for 50 rounds\n",
      "[10]\tvalid_0's ndcg@1: 0.472331\tvalid_0's ndcg@3: 0.48399\tvalid_0's ndcg@5: 0.504038\tvalid_0's ndcg@10: 0.551029\tvalid_0's ndcg@20: 0.620297\n",
      "[20]\tvalid_0's ndcg@1: 0.488513\tvalid_0's ndcg@3: 0.503537\tvalid_0's ndcg@5: 0.522155\tvalid_0's ndcg@10: 0.566327\tvalid_0's ndcg@20: 0.632085\n",
      "[30]\tvalid_0's ndcg@1: 0.498548\tvalid_0's ndcg@3: 0.514922\tvalid_0's ndcg@5: 0.531838\tvalid_0's ndcg@10: 0.574246\tvalid_0's ndcg@20: 0.63887\n",
      "[40]\tvalid_0's ndcg@1: 0.505053\tvalid_0's ndcg@3: 0.522478\tvalid_0's ndcg@5: 0.540306\tvalid_0's ndcg@10: 0.578804\tvalid_0's ndcg@20: 0.643957\n",
      "[50]\tvalid_0's ndcg@1: 0.507995\tvalid_0's ndcg@3: 0.528359\tvalid_0's ndcg@5: 0.543275\tvalid_0's ndcg@10: 0.582033\tvalid_0's ndcg@20: 0.647298\n",
      "[60]\tvalid_0's ndcg@1: 0.516125\tvalid_0's ndcg@3: 0.531361\tvalid_0's ndcg@5: 0.546604\tvalid_0's ndcg@10: 0.585617\tvalid_0's ndcg@20: 0.65025\n",
      "[70]\tvalid_0's ndcg@1: 0.518876\tvalid_0's ndcg@3: 0.532786\tvalid_0's ndcg@5: 0.550411\tvalid_0's ndcg@10: 0.588042\tvalid_0's ndcg@20: 0.652407\n",
      "[80]\tvalid_0's ndcg@1: 0.51751\tvalid_0's ndcg@3: 0.530409\tvalid_0's ndcg@5: 0.551124\tvalid_0's ndcg@10: 0.588911\tvalid_0's ndcg@20: 0.653128\n",
      "[90]\tvalid_0's ndcg@1: 0.525687\tvalid_0's ndcg@3: 0.534622\tvalid_0's ndcg@5: 0.554083\tvalid_0's ndcg@10: 0.591078\tvalid_0's ndcg@20: 0.655512\n",
      "[100]\tvalid_0's ndcg@1: 0.524526\tvalid_0's ndcg@3: 0.536421\tvalid_0's ndcg@5: 0.55508\tvalid_0's ndcg@10: 0.591948\tvalid_0's ndcg@20: 0.656025\n",
      "[110]\tvalid_0's ndcg@1: 0.523752\tvalid_0's ndcg@3: 0.535462\tvalid_0's ndcg@5: 0.555588\tvalid_0's ndcg@10: 0.592631\tvalid_0's ndcg@20: 0.656406\n",
      "[120]\tvalid_0's ndcg@1: 0.5223\tvalid_0's ndcg@3: 0.535016\tvalid_0's ndcg@5: 0.556228\tvalid_0's ndcg@10: 0.592952\tvalid_0's ndcg@20: 0.655962\n",
      "[130]\tvalid_0's ndcg@1: 0.526408\tvalid_0's ndcg@3: 0.537739\tvalid_0's ndcg@5: 0.556226\tvalid_0's ndcg@10: 0.593566\tvalid_0's ndcg@20: 0.657241\n",
      "[140]\tvalid_0's ndcg@1: 0.525582\tvalid_0's ndcg@3: 0.536935\tvalid_0's ndcg@5: 0.55608\tvalid_0's ndcg@10: 0.593869\tvalid_0's ndcg@20: 0.657698\n",
      "[150]\tvalid_0's ndcg@1: 0.530019\tvalid_0's ndcg@3: 0.539124\tvalid_0's ndcg@5: 0.557982\tvalid_0's ndcg@10: 0.595882\tvalid_0's ndcg@20: 0.659312\n",
      "[160]\tvalid_0's ndcg@1: 0.527955\tvalid_0's ndcg@3: 0.539651\tvalid_0's ndcg@5: 0.558734\tvalid_0's ndcg@10: 0.596396\tvalid_0's ndcg@20: 0.659962\n",
      "[170]\tvalid_0's ndcg@1: 0.528452\tvalid_0's ndcg@3: 0.541011\tvalid_0's ndcg@5: 0.559402\tvalid_0's ndcg@10: 0.597154\tvalid_0's ndcg@20: 0.660318\n",
      "[180]\tvalid_0's ndcg@1: 0.528356\tvalid_0's ndcg@3: 0.541702\tvalid_0's ndcg@5: 0.558551\tvalid_0's ndcg@10: 0.595948\tvalid_0's ndcg@20: 0.659812\n",
      "[190]\tvalid_0's ndcg@1: 0.532068\tvalid_0's ndcg@3: 0.541923\tvalid_0's ndcg@5: 0.560117\tvalid_0's ndcg@10: 0.598261\tvalid_0's ndcg@20: 0.661707\n",
      "[200]\tvalid_0's ndcg@1: 0.530874\tvalid_0's ndcg@3: 0.54194\tvalid_0's ndcg@5: 0.559719\tvalid_0's ndcg@10: 0.598162\tvalid_0's ndcg@20: 0.661547\n",
      "[210]\tvalid_0's ndcg@1: 0.525964\tvalid_0's ndcg@3: 0.542927\tvalid_0's ndcg@5: 0.561311\tvalid_0's ndcg@10: 0.598387\tvalid_0's ndcg@20: 0.661817\n",
      "[220]\tvalid_0's ndcg@1: 0.528485\tvalid_0's ndcg@3: 0.544271\tvalid_0's ndcg@5: 0.561605\tvalid_0's ndcg@10: 0.600154\tvalid_0's ndcg@20: 0.6625\n",
      "[230]\tvalid_0's ndcg@1: 0.528027\tvalid_0's ndcg@3: 0.54447\tvalid_0's ndcg@5: 0.561674\tvalid_0's ndcg@10: 0.600294\tvalid_0's ndcg@20: 0.663162\n",
      "[240]\tvalid_0's ndcg@1: 0.529488\tvalid_0's ndcg@3: 0.5457\tvalid_0's ndcg@5: 0.562982\tvalid_0's ndcg@10: 0.601357\tvalid_0's ndcg@20: 0.664027\n",
      "Early stopping, best iteration is:\n",
      "[195]\tvalid_0's ndcg@1: 0.532254\tvalid_0's ndcg@3: 0.542343\tvalid_0's ndcg@5: 0.559513\tvalid_0's ndcg@10: 0.597678\tvalid_0's ndcg@20: 0.661437\n"
     ]
    },
    {
     "name": "stderr",
     "output_type": "stream",
     "text": [
      "[I 2024-04-29 23:24:18,372] Trial 31 finished with value: 0.5786447816950648 and parameters: {'lambda_l1': 1.1678741005424093e-08, 'lambda_l2': 0.64899673401811, 'max_depth': 8, 'num_leaves': 150, 'colsample_bytree': 0.3249028219420432, 'min_child_samples': 41}. Best is trial 30 with value: 0.5805920582633874.\n",
      "C:\\Users\\savolk25\\AppData\\Local\\Temp\\ipykernel_19764\\389573219.py:4: FutureWarning: suggest_loguniform has been deprecated in v3.0.0. This feature will be removed in v6.0.0. See https://github.com/optuna/optuna/releases/tag/v3.0.0. Use suggest_float(..., log=True) instead.\n",
      "  'reg_alpha': trial.suggest_loguniform('lambda_l1', 1e-8, 10.0),\n",
      "C:\\Users\\savolk25\\AppData\\Local\\Temp\\ipykernel_19764\\389573219.py:5: FutureWarning: suggest_loguniform has been deprecated in v3.0.0. This feature will be removed in v6.0.0. See https://github.com/optuna/optuna/releases/tag/v3.0.0. Use suggest_float(..., log=True) instead.\n",
      "  'reg_lambda': trial.suggest_loguniform('lambda_l2', 1e-8, 10.0),\n",
      "C:\\Users\\savolk25\\AppData\\Local\\Temp\\ipykernel_19764\\389573219.py:8: FutureWarning: suggest_uniform has been deprecated in v3.0.0. This feature will be removed in v6.0.0. See https://github.com/optuna/optuna/releases/tag/v3.0.0. Use suggest_float instead.\n",
      "  'colsample_bytree': trial.suggest_uniform('colsample_bytree', 0.1, 1),\n"
     ]
    },
    {
     "name": "stdout",
     "output_type": "stream",
     "text": [
      "Training until validation scores don't improve for 50 rounds\n",
      "[10]\tvalid_0's ndcg@1: 0.479739\tvalid_0's ndcg@3: 0.49519\tvalid_0's ndcg@5: 0.513019\tvalid_0's ndcg@10: 0.552205\tvalid_0's ndcg@20: 0.623432\n",
      "[20]\tvalid_0's ndcg@1: 0.498849\tvalid_0's ndcg@3: 0.509493\tvalid_0's ndcg@5: 0.528391\tvalid_0's ndcg@10: 0.569557\tvalid_0's ndcg@20: 0.635267\n",
      "[30]\tvalid_0's ndcg@1: 0.510073\tvalid_0's ndcg@3: 0.519577\tvalid_0's ndcg@5: 0.537889\tvalid_0's ndcg@10: 0.5753\tvalid_0's ndcg@20: 0.641967\n",
      "[40]\tvalid_0's ndcg@1: 0.5159\tvalid_0's ndcg@3: 0.526444\tvalid_0's ndcg@5: 0.542626\tvalid_0's ndcg@10: 0.582841\tvalid_0's ndcg@20: 0.647361\n",
      "[50]\tvalid_0's ndcg@1: 0.525601\tvalid_0's ndcg@3: 0.53115\tvalid_0's ndcg@5: 0.546937\tvalid_0's ndcg@10: 0.586153\tvalid_0's ndcg@20: 0.650646\n",
      "[60]\tvalid_0's ndcg@1: 0.526862\tvalid_0's ndcg@3: 0.533823\tvalid_0's ndcg@5: 0.550877\tvalid_0's ndcg@10: 0.58845\tvalid_0's ndcg@20: 0.653478\n",
      "[70]\tvalid_0's ndcg@1: 0.532263\tvalid_0's ndcg@3: 0.537348\tvalid_0's ndcg@5: 0.554435\tvalid_0's ndcg@10: 0.591574\tvalid_0's ndcg@20: 0.655164\n",
      "[80]\tvalid_0's ndcg@1: 0.525987\tvalid_0's ndcg@3: 0.534216\tvalid_0's ndcg@5: 0.552987\tvalid_0's ndcg@10: 0.590514\tvalid_0's ndcg@20: 0.654937\n",
      "[90]\tvalid_0's ndcg@1: 0.527497\tvalid_0's ndcg@3: 0.537249\tvalid_0's ndcg@5: 0.553367\tvalid_0's ndcg@10: 0.592207\tvalid_0's ndcg@20: 0.655801\n",
      "[100]\tvalid_0's ndcg@1: 0.525715\tvalid_0's ndcg@3: 0.538376\tvalid_0's ndcg@5: 0.554848\tvalid_0's ndcg@10: 0.593093\tvalid_0's ndcg@20: 0.656902\n",
      "[110]\tvalid_0's ndcg@1: 0.524631\tvalid_0's ndcg@3: 0.538081\tvalid_0's ndcg@5: 0.555096\tvalid_0's ndcg@10: 0.592808\tvalid_0's ndcg@20: 0.656801\n",
      "[120]\tvalid_0's ndcg@1: 0.526709\tvalid_0's ndcg@3: 0.542328\tvalid_0's ndcg@5: 0.556386\tvalid_0's ndcg@10: 0.593686\tvalid_0's ndcg@20: 0.657967\n"
     ]
    },
    {
     "name": "stderr",
     "output_type": "stream",
     "text": [
      "[I 2024-04-29 23:24:23,547] Trial 32 finished with value: 0.5747639903757266 and parameters: {'lambda_l1': 1.3351952498398366e-08, 'lambda_l2': 0.1600993108873809, 'max_depth': 8, 'num_leaves': 147, 'colsample_bytree': 0.335661703229493, 'min_child_samples': 41}. Best is trial 30 with value: 0.5805920582633874.\n"
     ]
    },
    {
     "name": "stdout",
     "output_type": "stream",
     "text": [
      "Early stopping, best iteration is:\n",
      "[74]\tvalid_0's ndcg@1: 0.533811\tvalid_0's ndcg@3: 0.536761\tvalid_0's ndcg@5: 0.555222\tvalid_0's ndcg@10: 0.592336\tvalid_0's ndcg@20: 0.65569\n"
     ]
    },
    {
     "name": "stderr",
     "output_type": "stream",
     "text": [
      "C:\\Users\\savolk25\\AppData\\Local\\Temp\\ipykernel_19764\\389573219.py:4: FutureWarning: suggest_loguniform has been deprecated in v3.0.0. This feature will be removed in v6.0.0. See https://github.com/optuna/optuna/releases/tag/v3.0.0. Use suggest_float(..., log=True) instead.\n",
      "  'reg_alpha': trial.suggest_loguniform('lambda_l1', 1e-8, 10.0),\n",
      "C:\\Users\\savolk25\\AppData\\Local\\Temp\\ipykernel_19764\\389573219.py:5: FutureWarning: suggest_loguniform has been deprecated in v3.0.0. This feature will be removed in v6.0.0. See https://github.com/optuna/optuna/releases/tag/v3.0.0. Use suggest_float(..., log=True) instead.\n",
      "  'reg_lambda': trial.suggest_loguniform('lambda_l2', 1e-8, 10.0),\n",
      "C:\\Users\\savolk25\\AppData\\Local\\Temp\\ipykernel_19764\\389573219.py:8: FutureWarning: suggest_uniform has been deprecated in v3.0.0. This feature will be removed in v6.0.0. See https://github.com/optuna/optuna/releases/tag/v3.0.0. Use suggest_float instead.\n",
      "  'colsample_bytree': trial.suggest_uniform('colsample_bytree', 0.1, 1),\n"
     ]
    },
    {
     "name": "stdout",
     "output_type": "stream",
     "text": [
      "Training until validation scores don't improve for 50 rounds\n",
      "[10]\tvalid_0's ndcg@1: 0.477461\tvalid_0's ndcg@3: 0.494509\tvalid_0's ndcg@5: 0.512751\tvalid_0's ndcg@10: 0.556213\tvalid_0's ndcg@20: 0.624377\n",
      "[20]\tvalid_0's ndcg@1: 0.486426\tvalid_0's ndcg@3: 0.505035\tvalid_0's ndcg@5: 0.526156\tvalid_0's ndcg@10: 0.566579\tvalid_0's ndcg@20: 0.634194\n",
      "[30]\tvalid_0's ndcg@1: 0.498983\tvalid_0's ndcg@3: 0.515218\tvalid_0's ndcg@5: 0.534725\tvalid_0's ndcg@10: 0.573417\tvalid_0's ndcg@20: 0.64042\n",
      "[40]\tvalid_0's ndcg@1: 0.507451\tvalid_0's ndcg@3: 0.523191\tvalid_0's ndcg@5: 0.540954\tvalid_0's ndcg@10: 0.578999\tvalid_0's ndcg@20: 0.645595\n",
      "[50]\tvalid_0's ndcg@1: 0.513923\tvalid_0's ndcg@3: 0.526555\tvalid_0's ndcg@5: 0.544814\tvalid_0's ndcg@10: 0.58338\tvalid_0's ndcg@20: 0.64877\n",
      "[60]\tvalid_0's ndcg@1: 0.517505\tvalid_0's ndcg@3: 0.529358\tvalid_0's ndcg@5: 0.546254\tvalid_0's ndcg@10: 0.585907\tvalid_0's ndcg@20: 0.651718\n",
      "[70]\tvalid_0's ndcg@1: 0.523824\tvalid_0's ndcg@3: 0.533131\tvalid_0's ndcg@5: 0.550392\tvalid_0's ndcg@10: 0.589815\tvalid_0's ndcg@20: 0.654856\n",
      "[80]\tvalid_0's ndcg@1: 0.515336\tvalid_0's ndcg@3: 0.534719\tvalid_0's ndcg@5: 0.551607\tvalid_0's ndcg@10: 0.591034\tvalid_0's ndcg@20: 0.655924\n",
      "[90]\tvalid_0's ndcg@1: 0.52188\tvalid_0's ndcg@3: 0.538489\tvalid_0's ndcg@5: 0.555256\tvalid_0's ndcg@10: 0.59353\tvalid_0's ndcg@20: 0.657849\n",
      "[100]\tvalid_0's ndcg@1: 0.524598\tvalid_0's ndcg@3: 0.539232\tvalid_0's ndcg@5: 0.556836\tvalid_0's ndcg@10: 0.593436\tvalid_0's ndcg@20: 0.658758\n",
      "[110]\tvalid_0's ndcg@1: 0.529818\tvalid_0's ndcg@3: 0.541474\tvalid_0's ndcg@5: 0.557646\tvalid_0's ndcg@10: 0.595386\tvalid_0's ndcg@20: 0.660731\n",
      "[120]\tvalid_0's ndcg@1: 0.532502\tvalid_0's ndcg@3: 0.542157\tvalid_0's ndcg@5: 0.560167\tvalid_0's ndcg@10: 0.596408\tvalid_0's ndcg@20: 0.661388\n",
      "[130]\tvalid_0's ndcg@1: 0.534938\tvalid_0's ndcg@3: 0.546153\tvalid_0's ndcg@5: 0.561024\tvalid_0's ndcg@10: 0.598152\tvalid_0's ndcg@20: 0.662647\n",
      "[140]\tvalid_0's ndcg@1: 0.535779\tvalid_0's ndcg@3: 0.546101\tvalid_0's ndcg@5: 0.56293\tvalid_0's ndcg@10: 0.598767\tvalid_0's ndcg@20: 0.662792\n",
      "[150]\tvalid_0's ndcg@1: 0.535153\tvalid_0's ndcg@3: 0.546905\tvalid_0's ndcg@5: 0.564301\tvalid_0's ndcg@10: 0.600235\tvalid_0's ndcg@20: 0.66403\n",
      "[160]\tvalid_0's ndcg@1: 0.534394\tvalid_0's ndcg@3: 0.548963\tvalid_0's ndcg@5: 0.564155\tvalid_0's ndcg@10: 0.600785\tvalid_0's ndcg@20: 0.664053\n",
      "[170]\tvalid_0's ndcg@1: 0.535912\tvalid_0's ndcg@3: 0.549841\tvalid_0's ndcg@5: 0.564324\tvalid_0's ndcg@10: 0.601958\tvalid_0's ndcg@20: 0.664057\n",
      "[180]\tvalid_0's ndcg@1: 0.535249\tvalid_0's ndcg@3: 0.550726\tvalid_0's ndcg@5: 0.564768\tvalid_0's ndcg@10: 0.602912\tvalid_0's ndcg@20: 0.664509\n",
      "[190]\tvalid_0's ndcg@1: 0.536018\tvalid_0's ndcg@3: 0.549238\tvalid_0's ndcg@5: 0.566151\tvalid_0's ndcg@10: 0.603487\tvalid_0's ndcg@20: 0.665122\n",
      "[200]\tvalid_0's ndcg@1: 0.533004\tvalid_0's ndcg@3: 0.549\tvalid_0's ndcg@5: 0.565648\tvalid_0's ndcg@10: 0.603178\tvalid_0's ndcg@20: 0.665245\n",
      "[210]\tvalid_0's ndcg@1: 0.532961\tvalid_0's ndcg@3: 0.548788\tvalid_0's ndcg@5: 0.56677\tvalid_0's ndcg@10: 0.604504\tvalid_0's ndcg@20: 0.665525\n"
     ]
    },
    {
     "name": "stderr",
     "output_type": "stream",
     "text": [
      "[I 2024-04-29 23:24:34,851] Trial 33 finished with value: 0.5836386422975071 and parameters: {'lambda_l1': 1.7958871693517147e-08, 'lambda_l2': 0.35387677305565624, 'max_depth': 8, 'num_leaves': 149, 'colsample_bytree': 0.34882173215248496, 'min_child_samples': 41}. Best is trial 33 with value: 0.5836386422975071.\n"
     ]
    },
    {
     "name": "stdout",
     "output_type": "stream",
     "text": [
      "Early stopping, best iteration is:\n",
      "[169]\tvalid_0's ndcg@1: 0.537895\tvalid_0's ndcg@3: 0.549811\tvalid_0's ndcg@5: 0.564791\tvalid_0's ndcg@10: 0.601792\tvalid_0's ndcg@20: 0.663904\n"
     ]
    },
    {
     "name": "stderr",
     "output_type": "stream",
     "text": [
      "C:\\Users\\savolk25\\AppData\\Local\\Temp\\ipykernel_19764\\389573219.py:4: FutureWarning: suggest_loguniform has been deprecated in v3.0.0. This feature will be removed in v6.0.0. See https://github.com/optuna/optuna/releases/tag/v3.0.0. Use suggest_float(..., log=True) instead.\n",
      "  'reg_alpha': trial.suggest_loguniform('lambda_l1', 1e-8, 10.0),\n",
      "C:\\Users\\savolk25\\AppData\\Local\\Temp\\ipykernel_19764\\389573219.py:5: FutureWarning: suggest_loguniform has been deprecated in v3.0.0. This feature will be removed in v6.0.0. See https://github.com/optuna/optuna/releases/tag/v3.0.0. Use suggest_float(..., log=True) instead.\n",
      "  'reg_lambda': trial.suggest_loguniform('lambda_l2', 1e-8, 10.0),\n",
      "C:\\Users\\savolk25\\AppData\\Local\\Temp\\ipykernel_19764\\389573219.py:8: FutureWarning: suggest_uniform has been deprecated in v3.0.0. This feature will be removed in v6.0.0. See https://github.com/optuna/optuna/releases/tag/v3.0.0. Use suggest_float instead.\n",
      "  'colsample_bytree': trial.suggest_uniform('colsample_bytree', 0.1, 1),\n"
     ]
    },
    {
     "name": "stdout",
     "output_type": "stream",
     "text": [
      "Training until validation scores don't improve for 50 rounds\n",
      "[10]\tvalid_0's ndcg@1: 0.482887\tvalid_0's ndcg@3: 0.49582\tvalid_0's ndcg@5: 0.513797\tvalid_0's ndcg@10: 0.553798\tvalid_0's ndcg@20: 0.624738\n",
      "[20]\tvalid_0's ndcg@1: 0.503577\tvalid_0's ndcg@3: 0.51195\tvalid_0's ndcg@5: 0.527291\tvalid_0's ndcg@10: 0.566684\tvalid_0's ndcg@20: 0.635732\n",
      "[30]\tvalid_0's ndcg@1: 0.501925\tvalid_0's ndcg@3: 0.51427\tvalid_0's ndcg@5: 0.532333\tvalid_0's ndcg@10: 0.573599\tvalid_0's ndcg@20: 0.639057\n",
      "[40]\tvalid_0's ndcg@1: 0.506171\tvalid_0's ndcg@3: 0.520448\tvalid_0's ndcg@5: 0.537547\tvalid_0's ndcg@10: 0.579097\tvalid_0's ndcg@20: 0.644378\n",
      "[50]\tvalid_0's ndcg@1: 0.509863\tvalid_0's ndcg@3: 0.522926\tvalid_0's ndcg@5: 0.540353\tvalid_0's ndcg@10: 0.581627\tvalid_0's ndcg@20: 0.6471\n",
      "[60]\tvalid_0's ndcg@1: 0.520958\tvalid_0's ndcg@3: 0.528479\tvalid_0's ndcg@5: 0.546651\tvalid_0's ndcg@10: 0.586606\tvalid_0's ndcg@20: 0.650765\n",
      "[70]\tvalid_0's ndcg@1: 0.51644\tvalid_0's ndcg@3: 0.529211\tvalid_0's ndcg@5: 0.547758\tvalid_0's ndcg@10: 0.588182\tvalid_0's ndcg@20: 0.652078\n",
      "[80]\tvalid_0's ndcg@1: 0.520843\tvalid_0's ndcg@3: 0.532233\tvalid_0's ndcg@5: 0.549986\tvalid_0's ndcg@10: 0.590194\tvalid_0's ndcg@20: 0.654494\n",
      "[90]\tvalid_0's ndcg@1: 0.522821\tvalid_0's ndcg@3: 0.534734\tvalid_0's ndcg@5: 0.551065\tvalid_0's ndcg@10: 0.592001\tvalid_0's ndcg@20: 0.655016\n",
      "[100]\tvalid_0's ndcg@1: 0.521101\tvalid_0's ndcg@3: 0.535898\tvalid_0's ndcg@5: 0.550793\tvalid_0's ndcg@10: 0.592716\tvalid_0's ndcg@20: 0.65529\n",
      "[110]\tvalid_0's ndcg@1: 0.521378\tvalid_0's ndcg@3: 0.534873\tvalid_0's ndcg@5: 0.55231\tvalid_0's ndcg@10: 0.593596\tvalid_0's ndcg@20: 0.656285\n",
      "[120]\tvalid_0's ndcg@1: 0.518513\tvalid_0's ndcg@3: 0.533844\tvalid_0's ndcg@5: 0.553831\tvalid_0's ndcg@10: 0.593162\tvalid_0's ndcg@20: 0.656715\n",
      "[130]\tvalid_0's ndcg@1: 0.521775\tvalid_0's ndcg@3: 0.535749\tvalid_0's ndcg@5: 0.555823\tvalid_0's ndcg@10: 0.595514\tvalid_0's ndcg@20: 0.657767\n"
     ]
    },
    {
     "name": "stderr",
     "output_type": "stream",
     "text": [
      "[I 2024-04-29 23:24:44,872] Trial 34 finished with value: 0.5723619318670008 and parameters: {'lambda_l1': 4.546512726500699e-08, 'lambda_l2': 0.5867909090735862, 'max_depth': 8, 'num_leaves': 161, 'colsample_bytree': 0.41308054446573717, 'min_child_samples': 38}. Best is trial 33 with value: 0.5836386422975071.\n"
     ]
    },
    {
     "name": "stdout",
     "output_type": "stream",
     "text": [
      "[140]\tvalid_0's ndcg@1: 0.524822\tvalid_0's ndcg@3: 0.535841\tvalid_0's ndcg@5: 0.556377\tvalid_0's ndcg@10: 0.595829\tvalid_0's ndcg@20: 0.658201\n",
      "Early stopping, best iteration is:\n",
      "[92]\tvalid_0's ndcg@1: 0.525591\tvalid_0's ndcg@3: 0.536632\tvalid_0's ndcg@5: 0.551445\tvalid_0's ndcg@10: 0.592258\tvalid_0's ndcg@20: 0.655883\n"
     ]
    },
    {
     "name": "stderr",
     "output_type": "stream",
     "text": [
      "C:\\Users\\savolk25\\AppData\\Local\\Temp\\ipykernel_19764\\389573219.py:4: FutureWarning: suggest_loguniform has been deprecated in v3.0.0. This feature will be removed in v6.0.0. See https://github.com/optuna/optuna/releases/tag/v3.0.0. Use suggest_float(..., log=True) instead.\n",
      "  'reg_alpha': trial.suggest_loguniform('lambda_l1', 1e-8, 10.0),\n",
      "C:\\Users\\savolk25\\AppData\\Local\\Temp\\ipykernel_19764\\389573219.py:5: FutureWarning: suggest_loguniform has been deprecated in v3.0.0. This feature will be removed in v6.0.0. See https://github.com/optuna/optuna/releases/tag/v3.0.0. Use suggest_float(..., log=True) instead.\n",
      "  'reg_lambda': trial.suggest_loguniform('lambda_l2', 1e-8, 10.0),\n",
      "C:\\Users\\savolk25\\AppData\\Local\\Temp\\ipykernel_19764\\389573219.py:8: FutureWarning: suggest_uniform has been deprecated in v3.0.0. This feature will be removed in v6.0.0. See https://github.com/optuna/optuna/releases/tag/v3.0.0. Use suggest_float instead.\n",
      "  'colsample_bytree': trial.suggest_uniform('colsample_bytree', 0.1, 1),\n"
     ]
    },
    {
     "name": "stdout",
     "output_type": "stream",
     "text": [
      "Training until validation scores don't improve for 50 rounds\n",
      "[10]\tvalid_0's ndcg@1: 0.467932\tvalid_0's ndcg@3: 0.484863\tvalid_0's ndcg@5: 0.505933\tvalid_0's ndcg@10: 0.548226\tvalid_0's ndcg@20: 0.620114\n",
      "[20]\tvalid_0's ndcg@1: 0.490123\tvalid_0's ndcg@3: 0.507798\tvalid_0's ndcg@5: 0.524295\tvalid_0's ndcg@10: 0.563821\tvalid_0's ndcg@20: 0.632715\n",
      "[30]\tvalid_0's ndcg@1: 0.500583\tvalid_0's ndcg@3: 0.517577\tvalid_0's ndcg@5: 0.531536\tvalid_0's ndcg@10: 0.569624\tvalid_0's ndcg@20: 0.638973\n",
      "[40]\tvalid_0's ndcg@1: 0.505918\tvalid_0's ndcg@3: 0.522534\tvalid_0's ndcg@5: 0.537999\tvalid_0's ndcg@10: 0.574732\tvalid_0's ndcg@20: 0.642338\n",
      "[50]\tvalid_0's ndcg@1: 0.519258\tvalid_0's ndcg@3: 0.529445\tvalid_0's ndcg@5: 0.545542\tvalid_0's ndcg@10: 0.582083\tvalid_0's ndcg@20: 0.647947\n",
      "[60]\tvalid_0's ndcg@1: 0.521952\tvalid_0's ndcg@3: 0.529986\tvalid_0's ndcg@5: 0.547347\tvalid_0's ndcg@10: 0.583163\tvalid_0's ndcg@20: 0.649156\n",
      "[70]\tvalid_0's ndcg@1: 0.518021\tvalid_0's ndcg@3: 0.531673\tvalid_0's ndcg@5: 0.54855\tvalid_0's ndcg@10: 0.585313\tvalid_0's ndcg@20: 0.65033\n",
      "[80]\tvalid_0's ndcg@1: 0.521526\tvalid_0's ndcg@3: 0.532884\tvalid_0's ndcg@5: 0.550032\tvalid_0's ndcg@10: 0.586362\tvalid_0's ndcg@20: 0.652613\n",
      "[90]\tvalid_0's ndcg@1: 0.524688\tvalid_0's ndcg@3: 0.536862\tvalid_0's ndcg@5: 0.552193\tvalid_0's ndcg@10: 0.59014\tvalid_0's ndcg@20: 0.655009\n",
      "[100]\tvalid_0's ndcg@1: 0.519745\tvalid_0's ndcg@3: 0.536082\tvalid_0's ndcg@5: 0.550694\tvalid_0's ndcg@10: 0.590206\tvalid_0's ndcg@20: 0.654785\n",
      "[110]\tvalid_0's ndcg@1: 0.522606\tvalid_0's ndcg@3: 0.536685\tvalid_0's ndcg@5: 0.554143\tvalid_0's ndcg@10: 0.591944\tvalid_0's ndcg@20: 0.656675\n",
      "[120]\tvalid_0's ndcg@1: 0.522902\tvalid_0's ndcg@3: 0.539912\tvalid_0's ndcg@5: 0.555924\tvalid_0's ndcg@10: 0.592759\tvalid_0's ndcg@20: 0.658328\n",
      "[130]\tvalid_0's ndcg@1: 0.526317\tvalid_0's ndcg@3: 0.541244\tvalid_0's ndcg@5: 0.557374\tvalid_0's ndcg@10: 0.595068\tvalid_0's ndcg@20: 0.659821\n",
      "[140]\tvalid_0's ndcg@1: 0.528767\tvalid_0's ndcg@3: 0.541785\tvalid_0's ndcg@5: 0.557824\tvalid_0's ndcg@10: 0.596254\tvalid_0's ndcg@20: 0.660596\n",
      "[150]\tvalid_0's ndcg@1: 0.528314\tvalid_0's ndcg@3: 0.541803\tvalid_0's ndcg@5: 0.5591\tvalid_0's ndcg@10: 0.597331\tvalid_0's ndcg@20: 0.660351\n",
      "[160]\tvalid_0's ndcg@1: 0.528156\tvalid_0's ndcg@3: 0.542699\tvalid_0's ndcg@5: 0.559515\tvalid_0's ndcg@10: 0.598113\tvalid_0's ndcg@20: 0.661381\n",
      "[170]\tvalid_0's ndcg@1: 0.526513\tvalid_0's ndcg@3: 0.544436\tvalid_0's ndcg@5: 0.56088\tvalid_0's ndcg@10: 0.598875\tvalid_0's ndcg@20: 0.662236\n",
      "[180]\tvalid_0's ndcg@1: 0.532564\tvalid_0's ndcg@3: 0.546422\tvalid_0's ndcg@5: 0.562559\tvalid_0's ndcg@10: 0.601259\tvalid_0's ndcg@20: 0.663216\n",
      "[190]\tvalid_0's ndcg@1: 0.530377\tvalid_0's ndcg@3: 0.545703\tvalid_0's ndcg@5: 0.562898\tvalid_0's ndcg@10: 0.600455\tvalid_0's ndcg@20: 0.663764\n",
      "[200]\tvalid_0's ndcg@1: 0.532402\tvalid_0's ndcg@3: 0.547546\tvalid_0's ndcg@5: 0.562384\tvalid_0's ndcg@10: 0.601488\tvalid_0's ndcg@20: 0.66464\n",
      "[210]\tvalid_0's ndcg@1: 0.534083\tvalid_0's ndcg@3: 0.548394\tvalid_0's ndcg@5: 0.564543\tvalid_0's ndcg@10: 0.601899\tvalid_0's ndcg@20: 0.664806\n",
      "[220]\tvalid_0's ndcg@1: 0.532531\tvalid_0's ndcg@3: 0.549984\tvalid_0's ndcg@5: 0.564432\tvalid_0's ndcg@10: 0.60206\tvalid_0's ndcg@20: 0.66494\n",
      "[230]\tvalid_0's ndcg@1: 0.537446\tvalid_0's ndcg@3: 0.551287\tvalid_0's ndcg@5: 0.566439\tvalid_0's ndcg@10: 0.603051\tvalid_0's ndcg@20: 0.665953\n",
      "[240]\tvalid_0's ndcg@1: 0.538625\tvalid_0's ndcg@3: 0.551458\tvalid_0's ndcg@5: 0.566463\tvalid_0's ndcg@10: 0.60285\tvalid_0's ndcg@20: 0.666009\n",
      "[250]\tvalid_0's ndcg@1: 0.532517\tvalid_0's ndcg@3: 0.549788\tvalid_0's ndcg@5: 0.565353\tvalid_0's ndcg@10: 0.60224\tvalid_0's ndcg@20: 0.665464\n",
      "[260]\tvalid_0's ndcg@1: 0.536008\tvalid_0's ndcg@3: 0.550686\tvalid_0's ndcg@5: 0.565691\tvalid_0's ndcg@10: 0.602899\tvalid_0's ndcg@20: 0.665686\n",
      "[270]\tvalid_0's ndcg@1: 0.532072\tvalid_0's ndcg@3: 0.550409\tvalid_0's ndcg@5: 0.565817\tvalid_0's ndcg@10: 0.60333\tvalid_0's ndcg@20: 0.66566\n",
      "Early stopping, best iteration is:\n",
      "[226]\tvalid_0's ndcg@1: 0.538492\tvalid_0's ndcg@3: 0.551646\tvalid_0's ndcg@5: 0.565685\tvalid_0's ndcg@10: 0.603608\tvalid_0's ndcg@20: 0.665889\n"
     ]
    },
    {
     "name": "stderr",
     "output_type": "stream",
     "text": [
      "[I 2024-04-29 23:24:58,193] Trial 35 finished with value: 0.5850638740484031 and parameters: {'lambda_l1': 1.0450492672417849e-08, 'lambda_l2': 0.02022757633696516, 'max_depth': 8, 'num_leaves': 131, 'colsample_bytree': 0.3102061560971388, 'min_child_samples': 59}. Best is trial 35 with value: 0.5850638740484031.\n",
      "C:\\Users\\savolk25\\AppData\\Local\\Temp\\ipykernel_19764\\389573219.py:4: FutureWarning: suggest_loguniform has been deprecated in v3.0.0. This feature will be removed in v6.0.0. See https://github.com/optuna/optuna/releases/tag/v3.0.0. Use suggest_float(..., log=True) instead.\n",
      "  'reg_alpha': trial.suggest_loguniform('lambda_l1', 1e-8, 10.0),\n",
      "C:\\Users\\savolk25\\AppData\\Local\\Temp\\ipykernel_19764\\389573219.py:5: FutureWarning: suggest_loguniform has been deprecated in v3.0.0. This feature will be removed in v6.0.0. See https://github.com/optuna/optuna/releases/tag/v3.0.0. Use suggest_float(..., log=True) instead.\n",
      "  'reg_lambda': trial.suggest_loguniform('lambda_l2', 1e-8, 10.0),\n",
      "C:\\Users\\savolk25\\AppData\\Local\\Temp\\ipykernel_19764\\389573219.py:8: FutureWarning: suggest_uniform has been deprecated in v3.0.0. This feature will be removed in v6.0.0. See https://github.com/optuna/optuna/releases/tag/v3.0.0. Use suggest_float instead.\n",
      "  'colsample_bytree': trial.suggest_uniform('colsample_bytree', 0.1, 1),\n"
     ]
    },
    {
     "name": "stdout",
     "output_type": "stream",
     "text": [
      "Training until validation scores don't improve for 50 rounds\n",
      "[10]\tvalid_0's ndcg@1: 0.479128\tvalid_0's ndcg@3: 0.492557\tvalid_0's ndcg@5: 0.507868\tvalid_0's ndcg@10: 0.552856\tvalid_0's ndcg@20: 0.621775\n",
      "[20]\tvalid_0's ndcg@1: 0.491274\tvalid_0's ndcg@3: 0.506892\tvalid_0's ndcg@5: 0.524063\tvalid_0's ndcg@10: 0.565832\tvalid_0's ndcg@20: 0.633203\n",
      "[30]\tvalid_0's ndcg@1: 0.493691\tvalid_0's ndcg@3: 0.517439\tvalid_0's ndcg@5: 0.532304\tvalid_0's ndcg@10: 0.571729\tvalid_0's ndcg@20: 0.638055\n",
      "[40]\tvalid_0's ndcg@1: 0.499465\tvalid_0's ndcg@3: 0.519112\tvalid_0's ndcg@5: 0.535378\tvalid_0's ndcg@10: 0.575156\tvalid_0's ndcg@20: 0.641704\n",
      "[50]\tvalid_0's ndcg@1: 0.507417\tvalid_0's ndcg@3: 0.524187\tvalid_0's ndcg@5: 0.539873\tvalid_0's ndcg@10: 0.580499\tvalid_0's ndcg@20: 0.645256\n",
      "[60]\tvalid_0's ndcg@1: 0.510742\tvalid_0's ndcg@3: 0.526169\tvalid_0's ndcg@5: 0.544043\tvalid_0's ndcg@10: 0.583183\tvalid_0's ndcg@20: 0.647351\n",
      "[70]\tvalid_0's ndcg@1: 0.516745\tvalid_0's ndcg@3: 0.529537\tvalid_0's ndcg@5: 0.548231\tvalid_0's ndcg@10: 0.586616\tvalid_0's ndcg@20: 0.650242\n",
      "[80]\tvalid_0's ndcg@1: 0.516301\tvalid_0's ndcg@3: 0.533658\tvalid_0's ndcg@5: 0.549017\tvalid_0's ndcg@10: 0.588409\tvalid_0's ndcg@20: 0.65236\n",
      "[90]\tvalid_0's ndcg@1: 0.511883\tvalid_0's ndcg@3: 0.532875\tvalid_0's ndcg@5: 0.549205\tvalid_0's ndcg@10: 0.589503\tvalid_0's ndcg@20: 0.652814\n",
      "[100]\tvalid_0's ndcg@1: 0.517696\tvalid_0's ndcg@3: 0.535695\tvalid_0's ndcg@5: 0.552061\tvalid_0's ndcg@10: 0.591494\tvalid_0's ndcg@20: 0.654451\n",
      "[110]\tvalid_0's ndcg@1: 0.514486\tvalid_0's ndcg@3: 0.535587\tvalid_0's ndcg@5: 0.552136\tvalid_0's ndcg@10: 0.591719\tvalid_0's ndcg@20: 0.65433\n",
      "[120]\tvalid_0's ndcg@1: 0.513326\tvalid_0's ndcg@3: 0.53548\tvalid_0's ndcg@5: 0.55157\tvalid_0's ndcg@10: 0.592741\tvalid_0's ndcg@20: 0.654546\n",
      "[130]\tvalid_0's ndcg@1: 0.520022\tvalid_0's ndcg@3: 0.537054\tvalid_0's ndcg@5: 0.555069\tvalid_0's ndcg@10: 0.594786\tvalid_0's ndcg@20: 0.656915\n",
      "[140]\tvalid_0's ndcg@1: 0.52443\tvalid_0's ndcg@3: 0.540299\tvalid_0's ndcg@5: 0.557004\tvalid_0's ndcg@10: 0.596177\tvalid_0's ndcg@20: 0.657985\n",
      "[150]\tvalid_0's ndcg@1: 0.524239\tvalid_0's ndcg@3: 0.540382\tvalid_0's ndcg@5: 0.557705\tvalid_0's ndcg@10: 0.59651\tvalid_0's ndcg@20: 0.658577\n",
      "[160]\tvalid_0's ndcg@1: 0.521741\tvalid_0's ndcg@3: 0.539681\tvalid_0's ndcg@5: 0.558025\tvalid_0's ndcg@10: 0.596325\tvalid_0's ndcg@20: 0.658432\n",
      "[170]\tvalid_0's ndcg@1: 0.52454\tvalid_0's ndcg@3: 0.540579\tvalid_0's ndcg@5: 0.557663\tvalid_0's ndcg@10: 0.596942\tvalid_0's ndcg@20: 0.659153\n",
      "[180]\tvalid_0's ndcg@1: 0.526713\tvalid_0's ndcg@3: 0.539386\tvalid_0's ndcg@5: 0.559316\tvalid_0's ndcg@10: 0.598354\tvalid_0's ndcg@20: 0.659755\n"
     ]
    },
    {
     "name": "stderr",
     "output_type": "stream",
     "text": [
      "[I 2024-04-29 23:25:07,676] Trial 36 finished with value: 0.5758040173922885 and parameters: {'lambda_l1': 1.3049445289476656e-08, 'lambda_l2': 0.031190725312936766, 'max_depth': 8, 'num_leaves': 133, 'colsample_bytree': 0.3109945068142873, 'min_child_samples': 60}. Best is trial 35 with value: 0.5850638740484031.\n"
     ]
    },
    {
     "name": "stdout",
     "output_type": "stream",
     "text": [
      "[190]\tvalid_0's ndcg@1: 0.525825\tvalid_0's ndcg@3: 0.540961\tvalid_0's ndcg@5: 0.559797\tvalid_0's ndcg@10: 0.599135\tvalid_0's ndcg@20: 0.660784\n",
      "Early stopping, best iteration is:\n",
      "[141]\tvalid_0's ndcg@1: 0.52507\tvalid_0's ndcg@3: 0.541711\tvalid_0's ndcg@5: 0.557395\tvalid_0's ndcg@10: 0.596668\tvalid_0's ndcg@20: 0.658176\n"
     ]
    },
    {
     "name": "stderr",
     "output_type": "stream",
     "text": [
      "C:\\Users\\savolk25\\AppData\\Local\\Temp\\ipykernel_19764\\389573219.py:4: FutureWarning: suggest_loguniform has been deprecated in v3.0.0. This feature will be removed in v6.0.0. See https://github.com/optuna/optuna/releases/tag/v3.0.0. Use suggest_float(..., log=True) instead.\n",
      "  'reg_alpha': trial.suggest_loguniform('lambda_l1', 1e-8, 10.0),\n",
      "C:\\Users\\savolk25\\AppData\\Local\\Temp\\ipykernel_19764\\389573219.py:5: FutureWarning: suggest_loguniform has been deprecated in v3.0.0. This feature will be removed in v6.0.0. See https://github.com/optuna/optuna/releases/tag/v3.0.0. Use suggest_float(..., log=True) instead.\n",
      "  'reg_lambda': trial.suggest_loguniform('lambda_l2', 1e-8, 10.0),\n",
      "C:\\Users\\savolk25\\AppData\\Local\\Temp\\ipykernel_19764\\389573219.py:8: FutureWarning: suggest_uniform has been deprecated in v3.0.0. This feature will be removed in v6.0.0. See https://github.com/optuna/optuna/releases/tag/v3.0.0. Use suggest_float instead.\n",
      "  'colsample_bytree': trial.suggest_uniform('colsample_bytree', 0.1, 1),\n"
     ]
    },
    {
     "name": "stdout",
     "output_type": "stream",
     "text": [
      "Training until validation scores don't improve for 50 rounds\n",
      "[10]\tvalid_0's ndcg@1: 0.489545\tvalid_0's ndcg@3: 0.494563\tvalid_0's ndcg@5: 0.511991\tvalid_0's ndcg@10: 0.555559\tvalid_0's ndcg@20: 0.624275\n",
      "[20]\tvalid_0's ndcg@1: 0.501891\tvalid_0's ndcg@3: 0.512423\tvalid_0's ndcg@5: 0.530114\tvalid_0's ndcg@10: 0.571081\tvalid_0's ndcg@20: 0.637195\n",
      "[30]\tvalid_0's ndcg@1: 0.499599\tvalid_0's ndcg@3: 0.517127\tvalid_0's ndcg@5: 0.531319\tvalid_0's ndcg@10: 0.574006\tvalid_0's ndcg@20: 0.639973\n",
      "[40]\tvalid_0's ndcg@1: 0.511601\tvalid_0's ndcg@3: 0.522663\tvalid_0's ndcg@5: 0.539711\tvalid_0's ndcg@10: 0.579166\tvalid_0's ndcg@20: 0.644168\n",
      "[50]\tvalid_0's ndcg@1: 0.514639\tvalid_0's ndcg@3: 0.526864\tvalid_0's ndcg@5: 0.544001\tvalid_0's ndcg@10: 0.583119\tvalid_0's ndcg@20: 0.647718\n",
      "[60]\tvalid_0's ndcg@1: 0.520079\tvalid_0's ndcg@3: 0.528894\tvalid_0's ndcg@5: 0.548816\tvalid_0's ndcg@10: 0.587119\tvalid_0's ndcg@20: 0.651524\n",
      "[70]\tvalid_0's ndcg@1: 0.520791\tvalid_0's ndcg@3: 0.531761\tvalid_0's ndcg@5: 0.551289\tvalid_0's ndcg@10: 0.588333\tvalid_0's ndcg@20: 0.652054\n",
      "[80]\tvalid_0's ndcg@1: 0.520538\tvalid_0's ndcg@3: 0.534328\tvalid_0's ndcg@5: 0.551137\tvalid_0's ndcg@10: 0.589511\tvalid_0's ndcg@20: 0.653795\n",
      "[90]\tvalid_0's ndcg@1: 0.520151\tvalid_0's ndcg@3: 0.532289\tvalid_0's ndcg@5: 0.551781\tvalid_0's ndcg@10: 0.590173\tvalid_0's ndcg@20: 0.654107\n",
      "[100]\tvalid_0's ndcg@1: 0.526064\tvalid_0's ndcg@3: 0.535304\tvalid_0's ndcg@5: 0.555296\tvalid_0's ndcg@10: 0.591605\tvalid_0's ndcg@20: 0.655777\n",
      "[110]\tvalid_0's ndcg@1: 0.524249\tvalid_0's ndcg@3: 0.53723\tvalid_0's ndcg@5: 0.556391\tvalid_0's ndcg@10: 0.593836\tvalid_0's ndcg@20: 0.656788\n",
      "[120]\tvalid_0's ndcg@1: 0.524836\tvalid_0's ndcg@3: 0.536964\tvalid_0's ndcg@5: 0.557033\tvalid_0's ndcg@10: 0.59504\tvalid_0's ndcg@20: 0.657465\n",
      "[130]\tvalid_0's ndcg@1: 0.522816\tvalid_0's ndcg@3: 0.538943\tvalid_0's ndcg@5: 0.557554\tvalid_0's ndcg@10: 0.595854\tvalid_0's ndcg@20: 0.658434\n",
      "[140]\tvalid_0's ndcg@1: 0.529832\tvalid_0's ndcg@3: 0.538804\tvalid_0's ndcg@5: 0.558941\tvalid_0's ndcg@10: 0.597409\tvalid_0's ndcg@20: 0.659898\n",
      "[150]\tvalid_0's ndcg@1: 0.530138\tvalid_0's ndcg@3: 0.540182\tvalid_0's ndcg@5: 0.559983\tvalid_0's ndcg@10: 0.598102\tvalid_0's ndcg@20: 0.660475\n",
      "[160]\tvalid_0's ndcg@1: 0.528352\tvalid_0's ndcg@3: 0.538763\tvalid_0's ndcg@5: 0.559979\tvalid_0's ndcg@10: 0.597897\tvalid_0's ndcg@20: 0.659954\n",
      "[170]\tvalid_0's ndcg@1: 0.52754\tvalid_0's ndcg@3: 0.536813\tvalid_0's ndcg@5: 0.561125\tvalid_0's ndcg@10: 0.597513\tvalid_0's ndcg@20: 0.660154\n",
      "[180]\tvalid_0's ndcg@1: 0.532755\tvalid_0's ndcg@3: 0.53762\tvalid_0's ndcg@5: 0.561539\tvalid_0's ndcg@10: 0.598516\tvalid_0's ndcg@20: 0.660694\n",
      "[190]\tvalid_0's ndcg@1: 0.533042\tvalid_0's ndcg@3: 0.538861\tvalid_0's ndcg@5: 0.561063\tvalid_0's ndcg@10: 0.599465\tvalid_0's ndcg@20: 0.660924\n",
      "[200]\tvalid_0's ndcg@1: 0.534389\tvalid_0's ndcg@3: 0.539057\tvalid_0's ndcg@5: 0.561194\tvalid_0's ndcg@10: 0.600774\tvalid_0's ndcg@20: 0.661743\n",
      "[210]\tvalid_0's ndcg@1: 0.536758\tvalid_0's ndcg@3: 0.541675\tvalid_0's ndcg@5: 0.562312\tvalid_0's ndcg@10: 0.600954\tvalid_0's ndcg@20: 0.662668\n",
      "[220]\tvalid_0's ndcg@1: 0.535626\tvalid_0's ndcg@3: 0.540785\tvalid_0's ndcg@5: 0.56207\tvalid_0's ndcg@10: 0.601817\tvalid_0's ndcg@20: 0.662704\n",
      "[230]\tvalid_0's ndcg@1: 0.533906\tvalid_0's ndcg@3: 0.540342\tvalid_0's ndcg@5: 0.562209\tvalid_0's ndcg@10: 0.601512\tvalid_0's ndcg@20: 0.662833\n",
      "[240]\tvalid_0's ndcg@1: 0.534752\tvalid_0's ndcg@3: 0.541704\tvalid_0's ndcg@5: 0.563028\tvalid_0's ndcg@10: 0.602173\tvalid_0's ndcg@20: 0.662825\n"
     ]
    },
    {
     "name": "stderr",
     "output_type": "stream",
     "text": [
      "[I 2024-04-29 23:25:18,745] Trial 37 finished with value: 0.5812245484369373 and parameters: {'lambda_l1': 1.1907638240505384e-07, 'lambda_l2': 0.30485007893513977, 'max_depth': 8, 'num_leaves': 190, 'colsample_bytree': 0.3891961987662729, 'min_child_samples': 58}. Best is trial 35 with value: 0.5850638740484031.\n"
     ]
    },
    {
     "name": "stdout",
     "output_type": "stream",
     "text": [
      "[250]\tvalid_0's ndcg@1: 0.530348\tvalid_0's ndcg@3: 0.542614\tvalid_0's ndcg@5: 0.563653\tvalid_0's ndcg@10: 0.601336\tvalid_0's ndcg@20: 0.662312\n",
      "Early stopping, best iteration is:\n",
      "[202]\tvalid_0's ndcg@1: 0.538363\tvalid_0's ndcg@3: 0.54063\tvalid_0's ndcg@5: 0.562745\tvalid_0's ndcg@10: 0.601588\tvalid_0's ndcg@20: 0.662797\n"
     ]
    },
    {
     "name": "stderr",
     "output_type": "stream",
     "text": [
      "C:\\Users\\savolk25\\AppData\\Local\\Temp\\ipykernel_19764\\389573219.py:4: FutureWarning: suggest_loguniform has been deprecated in v3.0.0. This feature will be removed in v6.0.0. See https://github.com/optuna/optuna/releases/tag/v3.0.0. Use suggest_float(..., log=True) instead.\n",
      "  'reg_alpha': trial.suggest_loguniform('lambda_l1', 1e-8, 10.0),\n",
      "C:\\Users\\savolk25\\AppData\\Local\\Temp\\ipykernel_19764\\389573219.py:5: FutureWarning: suggest_loguniform has been deprecated in v3.0.0. This feature will be removed in v6.0.0. See https://github.com/optuna/optuna/releases/tag/v3.0.0. Use suggest_float(..., log=True) instead.\n",
      "  'reg_lambda': trial.suggest_loguniform('lambda_l2', 1e-8, 10.0),\n",
      "C:\\Users\\savolk25\\AppData\\Local\\Temp\\ipykernel_19764\\389573219.py:8: FutureWarning: suggest_uniform has been deprecated in v3.0.0. This feature will be removed in v6.0.0. See https://github.com/optuna/optuna/releases/tag/v3.0.0. Use suggest_float instead.\n",
      "  'colsample_bytree': trial.suggest_uniform('colsample_bytree', 0.1, 1),\n"
     ]
    },
    {
     "name": "stdout",
     "output_type": "stream",
     "text": [
      "Training until validation scores don't improve for 50 rounds\n",
      "[10]\tvalid_0's ndcg@1: 0.483321\tvalid_0's ndcg@3: 0.493561\tvalid_0's ndcg@5: 0.513942\tvalid_0's ndcg@10: 0.553568\tvalid_0's ndcg@20: 0.622717\n",
      "[20]\tvalid_0's ndcg@1: 0.493022\tvalid_0's ndcg@3: 0.508474\tvalid_0's ndcg@5: 0.526084\tvalid_0's ndcg@10: 0.566707\tvalid_0's ndcg@20: 0.634624\n",
      "[30]\tvalid_0's ndcg@1: 0.498906\tvalid_0's ndcg@3: 0.513312\tvalid_0's ndcg@5: 0.533448\tvalid_0's ndcg@10: 0.572756\tvalid_0's ndcg@20: 0.639682\n",
      "[40]\tvalid_0's ndcg@1: 0.506324\tvalid_0's ndcg@3: 0.517127\tvalid_0's ndcg@5: 0.539524\tvalid_0's ndcg@10: 0.577645\tvalid_0's ndcg@20: 0.644402\n",
      "[50]\tvalid_0's ndcg@1: 0.513636\tvalid_0's ndcg@3: 0.522058\tvalid_0's ndcg@5: 0.542114\tvalid_0's ndcg@10: 0.581066\tvalid_0's ndcg@20: 0.647003\n",
      "[60]\tvalid_0's ndcg@1: 0.513655\tvalid_0's ndcg@3: 0.527101\tvalid_0's ndcg@5: 0.545599\tvalid_0's ndcg@10: 0.584323\tvalid_0's ndcg@20: 0.649926\n",
      "[70]\tvalid_0's ndcg@1: 0.516521\tvalid_0's ndcg@3: 0.528453\tvalid_0's ndcg@5: 0.54794\tvalid_0's ndcg@10: 0.587996\tvalid_0's ndcg@20: 0.652474\n",
      "[80]\tvalid_0's ndcg@1: 0.51175\tvalid_0's ndcg@3: 0.531008\tvalid_0's ndcg@5: 0.550004\tvalid_0's ndcg@10: 0.588379\tvalid_0's ndcg@20: 0.653592\n",
      "[90]\tvalid_0's ndcg@1: 0.508932\tvalid_0's ndcg@3: 0.532313\tvalid_0's ndcg@5: 0.551105\tvalid_0's ndcg@10: 0.589424\tvalid_0's ndcg@20: 0.654259\n",
      "[100]\tvalid_0's ndcg@1: 0.515953\tvalid_0's ndcg@3: 0.535901\tvalid_0's ndcg@5: 0.554276\tvalid_0's ndcg@10: 0.591496\tvalid_0's ndcg@20: 0.655876\n",
      "[110]\tvalid_0's ndcg@1: 0.519692\tvalid_0's ndcg@3: 0.537167\tvalid_0's ndcg@5: 0.555382\tvalid_0's ndcg@10: 0.59171\tvalid_0's ndcg@20: 0.65704\n",
      "[120]\tvalid_0's ndcg@1: 0.519817\tvalid_0's ndcg@3: 0.53735\tvalid_0's ndcg@5: 0.555974\tvalid_0's ndcg@10: 0.593517\tvalid_0's ndcg@20: 0.658212\n",
      "[130]\tvalid_0's ndcg@1: 0.524588\tvalid_0's ndcg@3: 0.538944\tvalid_0's ndcg@5: 0.557562\tvalid_0's ndcg@10: 0.595611\tvalid_0's ndcg@20: 0.659461\n",
      "[140]\tvalid_0's ndcg@1: 0.52284\tvalid_0's ndcg@3: 0.537454\tvalid_0's ndcg@5: 0.557311\tvalid_0's ndcg@10: 0.594916\tvalid_0's ndcg@20: 0.659428\n",
      "[150]\tvalid_0's ndcg@1: 0.52326\tvalid_0's ndcg@3: 0.540497\tvalid_0's ndcg@5: 0.55886\tvalid_0's ndcg@10: 0.595783\tvalid_0's ndcg@20: 0.660374\n",
      "[160]\tvalid_0's ndcg@1: 0.527602\tvalid_0's ndcg@3: 0.541436\tvalid_0's ndcg@5: 0.559867\tvalid_0's ndcg@10: 0.596655\tvalid_0's ndcg@20: 0.661221\n",
      "[170]\tvalid_0's ndcg@1: 0.519821\tvalid_0's ndcg@3: 0.541527\tvalid_0's ndcg@5: 0.559952\tvalid_0's ndcg@10: 0.596055\tvalid_0's ndcg@20: 0.661224\n",
      "[180]\tvalid_0's ndcg@1: 0.525529\tvalid_0's ndcg@3: 0.543829\tvalid_0's ndcg@5: 0.561261\tvalid_0's ndcg@10: 0.598172\tvalid_0's ndcg@20: 0.662324\n",
      "[190]\tvalid_0's ndcg@1: 0.523227\tvalid_0's ndcg@3: 0.543031\tvalid_0's ndcg@5: 0.560976\tvalid_0's ndcg@10: 0.599051\tvalid_0's ndcg@20: 0.662868\n",
      "[200]\tvalid_0's ndcg@1: 0.524612\tvalid_0's ndcg@3: 0.542197\tvalid_0's ndcg@5: 0.560903\tvalid_0's ndcg@10: 0.598593\tvalid_0's ndcg@20: 0.662996\n"
     ]
    },
    {
     "name": "stderr",
     "output_type": "stream",
     "text": [
      "[I 2024-04-29 23:25:29,341] Trial 38 finished with value: 0.5773563377681932 and parameters: {'lambda_l1': 9.407207367132563e-08, 'lambda_l2': 0.04149769493274073, 'max_depth': 8, 'num_leaves': 229, 'colsample_bytree': 0.37746456222727737, 'min_child_samples': 57}. Best is trial 35 with value: 0.5850638740484031.\n"
     ]
    },
    {
     "name": "stdout",
     "output_type": "stream",
     "text": [
      "[210]\tvalid_0's ndcg@1: 0.527578\tvalid_0's ndcg@3: 0.543814\tvalid_0's ndcg@5: 0.56238\tvalid_0's ndcg@10: 0.60053\tvalid_0's ndcg@20: 0.663839\n",
      "Early stopping, best iteration is:\n",
      "[160]\tvalid_0's ndcg@1: 0.527602\tvalid_0's ndcg@3: 0.541436\tvalid_0's ndcg@5: 0.559867\tvalid_0's ndcg@10: 0.596655\tvalid_0's ndcg@20: 0.661221\n"
     ]
    },
    {
     "name": "stderr",
     "output_type": "stream",
     "text": [
      "C:\\Users\\savolk25\\AppData\\Local\\Temp\\ipykernel_19764\\389573219.py:4: FutureWarning: suggest_loguniform has been deprecated in v3.0.0. This feature will be removed in v6.0.0. See https://github.com/optuna/optuna/releases/tag/v3.0.0. Use suggest_float(..., log=True) instead.\n",
      "  'reg_alpha': trial.suggest_loguniform('lambda_l1', 1e-8, 10.0),\n",
      "C:\\Users\\savolk25\\AppData\\Local\\Temp\\ipykernel_19764\\389573219.py:5: FutureWarning: suggest_loguniform has been deprecated in v3.0.0. This feature will be removed in v6.0.0. See https://github.com/optuna/optuna/releases/tag/v3.0.0. Use suggest_float(..., log=True) instead.\n",
      "  'reg_lambda': trial.suggest_loguniform('lambda_l2', 1e-8, 10.0),\n",
      "C:\\Users\\savolk25\\AppData\\Local\\Temp\\ipykernel_19764\\389573219.py:8: FutureWarning: suggest_uniform has been deprecated in v3.0.0. This feature will be removed in v6.0.0. See https://github.com/optuna/optuna/releases/tag/v3.0.0. Use suggest_float instead.\n",
      "  'colsample_bytree': trial.suggest_uniform('colsample_bytree', 0.1, 1),\n"
     ]
    },
    {
     "name": "stdout",
     "output_type": "stream",
     "text": [
      "Training until validation scores don't improve for 50 rounds\n",
      "[10]\tvalid_0's ndcg@1: 0.489497\tvalid_0's ndcg@3: 0.500244\tvalid_0's ndcg@5: 0.515072\tvalid_0's ndcg@10: 0.557201\tvalid_0's ndcg@20: 0.627172\n",
      "[20]\tvalid_0's ndcg@1: 0.499551\tvalid_0's ndcg@3: 0.511006\tvalid_0's ndcg@5: 0.527825\tvalid_0's ndcg@10: 0.568678\tvalid_0's ndcg@20: 0.635142\n",
      "[30]\tvalid_0's ndcg@1: 0.517266\tvalid_0's ndcg@3: 0.521081\tvalid_0's ndcg@5: 0.538333\tvalid_0's ndcg@10: 0.57608\tvalid_0's ndcg@20: 0.641728\n",
      "[40]\tvalid_0's ndcg@1: 0.519583\tvalid_0's ndcg@3: 0.525808\tvalid_0's ndcg@5: 0.542055\tvalid_0's ndcg@10: 0.580426\tvalid_0's ndcg@20: 0.645626\n",
      "[50]\tvalid_0's ndcg@1: 0.521455\tvalid_0's ndcg@3: 0.52875\tvalid_0's ndcg@5: 0.544515\tvalid_0's ndcg@10: 0.584062\tvalid_0's ndcg@20: 0.649177\n",
      "[60]\tvalid_0's ndcg@1: 0.525882\tvalid_0's ndcg@3: 0.533689\tvalid_0's ndcg@5: 0.550369\tvalid_0's ndcg@10: 0.587329\tvalid_0's ndcg@20: 0.652024\n",
      "[70]\tvalid_0's ndcg@1: 0.528132\tvalid_0's ndcg@3: 0.538428\tvalid_0's ndcg@5: 0.553118\tvalid_0's ndcg@10: 0.589779\tvalid_0's ndcg@20: 0.654422\n",
      "[80]\tvalid_0's ndcg@1: 0.535105\tvalid_0's ndcg@3: 0.54005\tvalid_0's ndcg@5: 0.556999\tvalid_0's ndcg@10: 0.593247\tvalid_0's ndcg@20: 0.657332\n",
      "[90]\tvalid_0's ndcg@1: 0.533147\tvalid_0's ndcg@3: 0.540077\tvalid_0's ndcg@5: 0.557302\tvalid_0's ndcg@10: 0.593318\tvalid_0's ndcg@20: 0.657222\n",
      "[100]\tvalid_0's ndcg@1: 0.535196\tvalid_0's ndcg@3: 0.543918\tvalid_0's ndcg@5: 0.559016\tvalid_0's ndcg@10: 0.595039\tvalid_0's ndcg@20: 0.658753\n",
      "[110]\tvalid_0's ndcg@1: 0.535487\tvalid_0's ndcg@3: 0.543588\tvalid_0's ndcg@5: 0.55997\tvalid_0's ndcg@10: 0.595871\tvalid_0's ndcg@20: 0.658963\n",
      "[120]\tvalid_0's ndcg@1: 0.542857\tvalid_0's ndcg@3: 0.547281\tvalid_0's ndcg@5: 0.562935\tvalid_0's ndcg@10: 0.598713\tvalid_0's ndcg@20: 0.661003\n",
      "[130]\tvalid_0's ndcg@1: 0.542609\tvalid_0's ndcg@3: 0.546639\tvalid_0's ndcg@5: 0.563496\tvalid_0's ndcg@10: 0.598785\tvalid_0's ndcg@20: 0.661638\n",
      "[140]\tvalid_0's ndcg@1: 0.541171\tvalid_0's ndcg@3: 0.547777\tvalid_0's ndcg@5: 0.56277\tvalid_0's ndcg@10: 0.599819\tvalid_0's ndcg@20: 0.661751\n",
      "[150]\tvalid_0's ndcg@1: 0.538138\tvalid_0's ndcg@3: 0.54674\tvalid_0's ndcg@5: 0.563589\tvalid_0's ndcg@10: 0.600397\tvalid_0's ndcg@20: 0.662583\n",
      "[160]\tvalid_0's ndcg@1: 0.538367\tvalid_0's ndcg@3: 0.545951\tvalid_0's ndcg@5: 0.563113\tvalid_0's ndcg@10: 0.600046\tvalid_0's ndcg@20: 0.662051\n",
      "[170]\tvalid_0's ndcg@1: 0.539991\tvalid_0's ndcg@3: 0.54857\tvalid_0's ndcg@5: 0.563898\tvalid_0's ndcg@10: 0.601222\tvalid_0's ndcg@20: 0.662979\n"
     ]
    },
    {
     "name": "stderr",
     "output_type": "stream",
     "text": [
      "[I 2024-04-29 23:25:37,943] Trial 39 finished with value: 0.5833586892708065 and parameters: {'lambda_l1': 4.4778333643126947e-08, 'lambda_l2': 0.4785100875855128, 'max_depth': 8, 'num_leaves': 182, 'colsample_bytree': 0.38768977524957926, 'min_child_samples': 74}. Best is trial 35 with value: 0.5850638740484031.\n"
     ]
    },
    {
     "name": "stdout",
     "output_type": "stream",
     "text": [
      "[180]\tvalid_0's ndcg@1: 0.536705\tvalid_0's ndcg@3: 0.547056\tvalid_0's ndcg@5: 0.563326\tvalid_0's ndcg@10: 0.601613\tvalid_0's ndcg@20: 0.662118\n",
      "Early stopping, best iteration is:\n",
      "[131]\tvalid_0's ndcg@1: 0.543492\tvalid_0's ndcg@3: 0.547595\tvalid_0's ndcg@5: 0.564017\tvalid_0's ndcg@10: 0.599537\tvalid_0's ndcg@20: 0.662153\n"
     ]
    },
    {
     "name": "stderr",
     "output_type": "stream",
     "text": [
      "C:\\Users\\savolk25\\AppData\\Local\\Temp\\ipykernel_19764\\389573219.py:4: FutureWarning: suggest_loguniform has been deprecated in v3.0.0. This feature will be removed in v6.0.0. See https://github.com/optuna/optuna/releases/tag/v3.0.0. Use suggest_float(..., log=True) instead.\n",
      "  'reg_alpha': trial.suggest_loguniform('lambda_l1', 1e-8, 10.0),\n",
      "C:\\Users\\savolk25\\AppData\\Local\\Temp\\ipykernel_19764\\389573219.py:5: FutureWarning: suggest_loguniform has been deprecated in v3.0.0. This feature will be removed in v6.0.0. See https://github.com/optuna/optuna/releases/tag/v3.0.0. Use suggest_float(..., log=True) instead.\n",
      "  'reg_lambda': trial.suggest_loguniform('lambda_l2', 1e-8, 10.0),\n",
      "C:\\Users\\savolk25\\AppData\\Local\\Temp\\ipykernel_19764\\389573219.py:8: FutureWarning: suggest_uniform has been deprecated in v3.0.0. This feature will be removed in v6.0.0. See https://github.com/optuna/optuna/releases/tag/v3.0.0. Use suggest_float instead.\n",
      "  'colsample_bytree': trial.suggest_uniform('colsample_bytree', 0.1, 1),\n"
     ]
    },
    {
     "name": "stdout",
     "output_type": "stream",
     "text": [
      "Training until validation scores don't improve for 50 rounds\n",
      "[10]\tvalid_0's ndcg@1: 0.490171\tvalid_0's ndcg@3: 0.499549\tvalid_0's ndcg@5: 0.514182\tvalid_0's ndcg@10: 0.556842\tvalid_0's ndcg@20: 0.625184\n",
      "[20]\tvalid_0's ndcg@1: 0.508024\tvalid_0's ndcg@3: 0.516618\tvalid_0's ndcg@5: 0.529356\tvalid_0's ndcg@10: 0.569546\tvalid_0's ndcg@20: 0.636454\n",
      "[30]\tvalid_0's ndcg@1: 0.510823\tvalid_0's ndcg@3: 0.518639\tvalid_0's ndcg@5: 0.536598\tvalid_0's ndcg@10: 0.574819\tvalid_0's ndcg@20: 0.641702\n",
      "[40]\tvalid_0's ndcg@1: 0.517185\tvalid_0's ndcg@3: 0.522279\tvalid_0's ndcg@5: 0.540452\tvalid_0's ndcg@10: 0.579301\tvalid_0's ndcg@20: 0.644966\n",
      "[50]\tvalid_0's ndcg@1: 0.518642\tvalid_0's ndcg@3: 0.524258\tvalid_0's ndcg@5: 0.543557\tvalid_0's ndcg@10: 0.582959\tvalid_0's ndcg@20: 0.648371\n",
      "[60]\tvalid_0's ndcg@1: 0.520882\tvalid_0's ndcg@3: 0.529115\tvalid_0's ndcg@5: 0.545633\tvalid_0's ndcg@10: 0.586228\tvalid_0's ndcg@20: 0.65079\n",
      "[70]\tvalid_0's ndcg@1: 0.524951\tvalid_0's ndcg@3: 0.532728\tvalid_0's ndcg@5: 0.548944\tvalid_0's ndcg@10: 0.589069\tvalid_0's ndcg@20: 0.653132\n",
      "[80]\tvalid_0's ndcg@1: 0.526374\tvalid_0's ndcg@3: 0.535389\tvalid_0's ndcg@5: 0.550329\tvalid_0's ndcg@10: 0.59028\tvalid_0's ndcg@20: 0.655238\n",
      "[90]\tvalid_0's ndcg@1: 0.525424\tvalid_0's ndcg@3: 0.532471\tvalid_0's ndcg@5: 0.551433\tvalid_0's ndcg@10: 0.591115\tvalid_0's ndcg@20: 0.655446\n",
      "[100]\tvalid_0's ndcg@1: 0.527874\tvalid_0's ndcg@3: 0.535582\tvalid_0's ndcg@5: 0.553435\tvalid_0's ndcg@10: 0.591889\tvalid_0's ndcg@20: 0.65625\n",
      "[110]\tvalid_0's ndcg@1: 0.526914\tvalid_0's ndcg@3: 0.535787\tvalid_0's ndcg@5: 0.554659\tvalid_0's ndcg@10: 0.592249\tvalid_0's ndcg@20: 0.656588\n",
      "[120]\tvalid_0's ndcg@1: 0.52274\tvalid_0's ndcg@3: 0.536497\tvalid_0's ndcg@5: 0.553812\tvalid_0's ndcg@10: 0.593436\tvalid_0's ndcg@20: 0.657398\n",
      "[130]\tvalid_0's ndcg@1: 0.526026\tvalid_0's ndcg@3: 0.53807\tvalid_0's ndcg@5: 0.555451\tvalid_0's ndcg@10: 0.59466\tvalid_0's ndcg@20: 0.658087\n",
      "[140]\tvalid_0's ndcg@1: 0.523442\tvalid_0's ndcg@3: 0.537477\tvalid_0's ndcg@5: 0.55711\tvalid_0's ndcg@10: 0.595193\tvalid_0's ndcg@20: 0.658516\n",
      "[150]\tvalid_0's ndcg@1: 0.525438\tvalid_0's ndcg@3: 0.539965\tvalid_0's ndcg@5: 0.557896\tvalid_0's ndcg@10: 0.5956\tvalid_0's ndcg@20: 0.659454\n",
      "[160]\tvalid_0's ndcg@1: 0.526427\tvalid_0's ndcg@3: 0.540706\tvalid_0's ndcg@5: 0.55903\tvalid_0's ndcg@10: 0.595615\tvalid_0's ndcg@20: 0.659694\n",
      "[170]\tvalid_0's ndcg@1: 0.525839\tvalid_0's ndcg@3: 0.539739\tvalid_0's ndcg@5: 0.558309\tvalid_0's ndcg@10: 0.595931\tvalid_0's ndcg@20: 0.659698\n",
      "Early stopping, best iteration is:\n",
      "[126]\tvalid_0's ndcg@1: 0.529259\tvalid_0's ndcg@3: 0.538412\tvalid_0's ndcg@5: 0.555526\tvalid_0's ndcg@10: 0.595167\tvalid_0's ndcg@20: 0.658499\n"
     ]
    },
    {
     "name": "stderr",
     "output_type": "stream",
     "text": [
      "[I 2024-04-29 23:25:46,379] Trial 40 finished with value: 0.5753728438407485 and parameters: {'lambda_l1': 2.2117588417125418e-07, 'lambda_l2': 0.5336266936847259, 'max_depth': 8, 'num_leaves': 254, 'colsample_bytree': 0.40030803602604276, 'min_child_samples': 77}. Best is trial 35 with value: 0.5850638740484031.\n",
      "C:\\Users\\savolk25\\AppData\\Local\\Temp\\ipykernel_19764\\389573219.py:4: FutureWarning: suggest_loguniform has been deprecated in v3.0.0. This feature will be removed in v6.0.0. See https://github.com/optuna/optuna/releases/tag/v3.0.0. Use suggest_float(..., log=True) instead.\n",
      "  'reg_alpha': trial.suggest_loguniform('lambda_l1', 1e-8, 10.0),\n",
      "C:\\Users\\savolk25\\AppData\\Local\\Temp\\ipykernel_19764\\389573219.py:5: FutureWarning: suggest_loguniform has been deprecated in v3.0.0. This feature will be removed in v6.0.0. See https://github.com/optuna/optuna/releases/tag/v3.0.0. Use suggest_float(..., log=True) instead.\n",
      "  'reg_lambda': trial.suggest_loguniform('lambda_l2', 1e-8, 10.0),\n",
      "C:\\Users\\savolk25\\AppData\\Local\\Temp\\ipykernel_19764\\389573219.py:8: FutureWarning: suggest_uniform has been deprecated in v3.0.0. This feature will be removed in v6.0.0. See https://github.com/optuna/optuna/releases/tag/v3.0.0. Use suggest_float instead.\n",
      "  'colsample_bytree': trial.suggest_uniform('colsample_bytree', 0.1, 1),\n"
     ]
    },
    {
     "name": "stdout",
     "output_type": "stream",
     "text": [
      "Training until validation scores don't improve for 50 rounds\n",
      "[10]\tvalid_0's ndcg@1: 0.477743\tvalid_0's ndcg@3: 0.490229\tvalid_0's ndcg@5: 0.50958\tvalid_0's ndcg@10: 0.55226\tvalid_0's ndcg@20: 0.621584\n",
      "[20]\tvalid_0's ndcg@1: 0.493872\tvalid_0's ndcg@3: 0.508163\tvalid_0's ndcg@5: 0.526445\tvalid_0's ndcg@10: 0.565827\tvalid_0's ndcg@20: 0.633456\n",
      "[30]\tvalid_0's ndcg@1: 0.501395\tvalid_0's ndcg@3: 0.515058\tvalid_0's ndcg@5: 0.529676\tvalid_0's ndcg@10: 0.573505\tvalid_0's ndcg@20: 0.639493\n",
      "[40]\tvalid_0's ndcg@1: 0.509557\tvalid_0's ndcg@3: 0.520781\tvalid_0's ndcg@5: 0.538495\tvalid_0's ndcg@10: 0.578197\tvalid_0's ndcg@20: 0.643818\n",
      "[50]\tvalid_0's ndcg@1: 0.515594\tvalid_0's ndcg@3: 0.525972\tvalid_0's ndcg@5: 0.542668\tvalid_0's ndcg@10: 0.581276\tvalid_0's ndcg@20: 0.646886\n",
      "[60]\tvalid_0's ndcg@1: 0.51259\tvalid_0's ndcg@3: 0.527709\tvalid_0's ndcg@5: 0.54598\tvalid_0's ndcg@10: 0.584048\tvalid_0's ndcg@20: 0.64853\n",
      "[70]\tvalid_0's ndcg@1: 0.516082\tvalid_0's ndcg@3: 0.530944\tvalid_0's ndcg@5: 0.546265\tvalid_0's ndcg@10: 0.586327\tvalid_0's ndcg@20: 0.651223\n",
      "[80]\tvalid_0's ndcg@1: 0.516072\tvalid_0's ndcg@3: 0.532136\tvalid_0's ndcg@5: 0.549627\tvalid_0's ndcg@10: 0.587969\tvalid_0's ndcg@20: 0.652781\n",
      "[90]\tvalid_0's ndcg@1: 0.518852\tvalid_0's ndcg@3: 0.533624\tvalid_0's ndcg@5: 0.550623\tvalid_0's ndcg@10: 0.590126\tvalid_0's ndcg@20: 0.654102\n",
      "[100]\tvalid_0's ndcg@1: 0.517906\tvalid_0's ndcg@3: 0.53518\tvalid_0's ndcg@5: 0.552226\tvalid_0's ndcg@10: 0.59085\tvalid_0's ndcg@20: 0.654812\n",
      "[110]\tvalid_0's ndcg@1: 0.518264\tvalid_0's ndcg@3: 0.536536\tvalid_0's ndcg@5: 0.554019\tvalid_0's ndcg@10: 0.592225\tvalid_0's ndcg@20: 0.656053\n",
      "[120]\tvalid_0's ndcg@1: 0.519024\tvalid_0's ndcg@3: 0.536846\tvalid_0's ndcg@5: 0.554358\tvalid_0's ndcg@10: 0.591971\tvalid_0's ndcg@20: 0.655981\n",
      "[130]\tvalid_0's ndcg@1: 0.52263\tvalid_0's ndcg@3: 0.538211\tvalid_0's ndcg@5: 0.556404\tvalid_0's ndcg@10: 0.593977\tvalid_0's ndcg@20: 0.657314\n",
      "[140]\tvalid_0's ndcg@1: 0.527884\tvalid_0's ndcg@3: 0.541655\tvalid_0's ndcg@5: 0.559765\tvalid_0's ndcg@10: 0.596358\tvalid_0's ndcg@20: 0.659725\n",
      "[150]\tvalid_0's ndcg@1: 0.52881\tvalid_0's ndcg@3: 0.54368\tvalid_0's ndcg@5: 0.561674\tvalid_0's ndcg@10: 0.597857\tvalid_0's ndcg@20: 0.660603\n",
      "[160]\tvalid_0's ndcg@1: 0.528954\tvalid_0's ndcg@3: 0.545345\tvalid_0's ndcg@5: 0.562772\tvalid_0's ndcg@10: 0.599116\tvalid_0's ndcg@20: 0.661429\n",
      "[170]\tvalid_0's ndcg@1: 0.533677\tvalid_0's ndcg@3: 0.545051\tvalid_0's ndcg@5: 0.563466\tvalid_0's ndcg@10: 0.600445\tvalid_0's ndcg@20: 0.662963\n",
      "[180]\tvalid_0's ndcg@1: 0.535\tvalid_0's ndcg@3: 0.547015\tvalid_0's ndcg@5: 0.563329\tvalid_0's ndcg@10: 0.600482\tvalid_0's ndcg@20: 0.663849\n",
      "[190]\tvalid_0's ndcg@1: 0.53128\tvalid_0's ndcg@3: 0.544491\tvalid_0's ndcg@5: 0.563678\tvalid_0's ndcg@10: 0.599704\tvalid_0's ndcg@20: 0.66361\n",
      "[200]\tvalid_0's ndcg@1: 0.532932\tvalid_0's ndcg@3: 0.546623\tvalid_0's ndcg@5: 0.565167\tvalid_0's ndcg@10: 0.601668\tvalid_0's ndcg@20: 0.664489\n",
      "[210]\tvalid_0's ndcg@1: 0.532383\tvalid_0's ndcg@3: 0.546103\tvalid_0's ndcg@5: 0.56525\tvalid_0's ndcg@10: 0.602201\tvalid_0's ndcg@20: 0.664587\n",
      "[220]\tvalid_0's ndcg@1: 0.535784\tvalid_0's ndcg@3: 0.54704\tvalid_0's ndcg@5: 0.567118\tvalid_0's ndcg@10: 0.603667\tvalid_0's ndcg@20: 0.666014\n",
      "[230]\tvalid_0's ndcg@1: 0.533438\tvalid_0's ndcg@3: 0.544764\tvalid_0's ndcg@5: 0.565673\tvalid_0's ndcg@10: 0.602867\tvalid_0's ndcg@20: 0.664905\n",
      "[240]\tvalid_0's ndcg@1: 0.535912\tvalid_0's ndcg@3: 0.546335\tvalid_0's ndcg@5: 0.566582\tvalid_0's ndcg@10: 0.603602\tvalid_0's ndcg@20: 0.666484\n",
      "[250]\tvalid_0's ndcg@1: 0.537116\tvalid_0's ndcg@3: 0.548578\tvalid_0's ndcg@5: 0.567241\tvalid_0's ndcg@10: 0.605041\tvalid_0's ndcg@20: 0.66704\n",
      "[260]\tvalid_0's ndcg@1: 0.534814\tvalid_0's ndcg@3: 0.547275\tvalid_0's ndcg@5: 0.566273\tvalid_0's ndcg@10: 0.603801\tvalid_0's ndcg@20: 0.666415\n",
      "[270]\tvalid_0's ndcg@1: 0.539466\tvalid_0's ndcg@3: 0.549301\tvalid_0's ndcg@5: 0.569022\tvalid_0's ndcg@10: 0.605657\tvalid_0's ndcg@20: 0.667903\n",
      "[280]\tvalid_0's ndcg@1: 0.534088\tvalid_0's ndcg@3: 0.548689\tvalid_0's ndcg@5: 0.568155\tvalid_0's ndcg@10: 0.605003\tvalid_0's ndcg@20: 0.667249\n",
      "[290]\tvalid_0's ndcg@1: 0.533204\tvalid_0's ndcg@3: 0.547577\tvalid_0's ndcg@5: 0.569395\tvalid_0's ndcg@10: 0.60517\tvalid_0's ndcg@20: 0.667454\n",
      "[300]\tvalid_0's ndcg@1: 0.534742\tvalid_0's ndcg@3: 0.547515\tvalid_0's ndcg@5: 0.569304\tvalid_0's ndcg@10: 0.605874\tvalid_0's ndcg@20: 0.667364\n",
      "[310]\tvalid_0's ndcg@1: 0.539041\tvalid_0's ndcg@3: 0.549379\tvalid_0's ndcg@5: 0.570341\tvalid_0's ndcg@10: 0.606956\tvalid_0's ndcg@20: 0.668321\n",
      "Early stopping, best iteration is:\n",
      "[265]\tvalid_0's ndcg@1: 0.537818\tvalid_0's ndcg@3: 0.550115\tvalid_0's ndcg@5: 0.567793\tvalid_0's ndcg@10: 0.604774\tvalid_0's ndcg@20: 0.667619\n"
     ]
    },
    {
     "name": "stderr",
     "output_type": "stream",
     "text": [
      "[I 2024-04-29 23:25:58,323] Trial 41 finished with value: 0.5856240703979957 and parameters: {'lambda_l1': 4.0507590239829845e-08, 'lambda_l2': 0.3186084409050225, 'max_depth': 8, 'num_leaves': 188, 'colsample_bytree': 0.2905826152680859, 'min_child_samples': 91}. Best is trial 41 with value: 0.5856240703979957.\n",
      "C:\\Users\\savolk25\\AppData\\Local\\Temp\\ipykernel_19764\\389573219.py:4: FutureWarning: suggest_loguniform has been deprecated in v3.0.0. This feature will be removed in v6.0.0. See https://github.com/optuna/optuna/releases/tag/v3.0.0. Use suggest_float(..., log=True) instead.\n",
      "  'reg_alpha': trial.suggest_loguniform('lambda_l1', 1e-8, 10.0),\n",
      "C:\\Users\\savolk25\\AppData\\Local\\Temp\\ipykernel_19764\\389573219.py:5: FutureWarning: suggest_loguniform has been deprecated in v3.0.0. This feature will be removed in v6.0.0. See https://github.com/optuna/optuna/releases/tag/v3.0.0. Use suggest_float(..., log=True) instead.\n",
      "  'reg_lambda': trial.suggest_loguniform('lambda_l2', 1e-8, 10.0),\n",
      "C:\\Users\\savolk25\\AppData\\Local\\Temp\\ipykernel_19764\\389573219.py:8: FutureWarning: suggest_uniform has been deprecated in v3.0.0. This feature will be removed in v6.0.0. See https://github.com/optuna/optuna/releases/tag/v3.0.0. Use suggest_float instead.\n",
      "  'colsample_bytree': trial.suggest_uniform('colsample_bytree', 0.1, 1),\n"
     ]
    },
    {
     "name": "stdout",
     "output_type": "stream",
     "text": [
      "Training until validation scores don't improve for 50 rounds\n",
      "[10]\tvalid_0's ndcg@1: 0.485432\tvalid_0's ndcg@3: 0.496374\tvalid_0's ndcg@5: 0.515203\tvalid_0's ndcg@10: 0.558383\tvalid_0's ndcg@20: 0.626707\n",
      "[20]\tvalid_0's ndcg@1: 0.495104\tvalid_0's ndcg@3: 0.512771\tvalid_0's ndcg@5: 0.52939\tvalid_0's ndcg@10: 0.569457\tvalid_0's ndcg@20: 0.63643\n",
      "[30]\tvalid_0's ndcg@1: 0.499651\tvalid_0's ndcg@3: 0.517367\tvalid_0's ndcg@5: 0.536717\tvalid_0's ndcg@10: 0.576166\tvalid_0's ndcg@20: 0.641347\n",
      "[40]\tvalid_0's ndcg@1: 0.512151\tvalid_0's ndcg@3: 0.524832\tvalid_0's ndcg@5: 0.542529\tvalid_0's ndcg@10: 0.580472\tvalid_0's ndcg@20: 0.646654\n",
      "[50]\tvalid_0's ndcg@1: 0.516067\tvalid_0's ndcg@3: 0.528969\tvalid_0's ndcg@5: 0.546813\tvalid_0's ndcg@10: 0.583068\tvalid_0's ndcg@20: 0.649487\n",
      "[60]\tvalid_0's ndcg@1: 0.520289\tvalid_0's ndcg@3: 0.534678\tvalid_0's ndcg@5: 0.54949\tvalid_0's ndcg@10: 0.586513\tvalid_0's ndcg@20: 0.652594\n",
      "[70]\tvalid_0's ndcg@1: 0.522396\tvalid_0's ndcg@3: 0.534019\tvalid_0's ndcg@5: 0.55119\tvalid_0's ndcg@10: 0.588298\tvalid_0's ndcg@20: 0.653602\n",
      "[80]\tvalid_0's ndcg@1: 0.526327\tvalid_0's ndcg@3: 0.537981\tvalid_0's ndcg@5: 0.554102\tvalid_0's ndcg@10: 0.590667\tvalid_0's ndcg@20: 0.655128\n",
      "[90]\tvalid_0's ndcg@1: 0.526365\tvalid_0's ndcg@3: 0.539086\tvalid_0's ndcg@5: 0.554809\tvalid_0's ndcg@10: 0.591985\tvalid_0's ndcg@20: 0.655625\n",
      "[100]\tvalid_0's ndcg@1: 0.527081\tvalid_0's ndcg@3: 0.538057\tvalid_0's ndcg@5: 0.556851\tvalid_0's ndcg@10: 0.592699\tvalid_0's ndcg@20: 0.657224\n",
      "[110]\tvalid_0's ndcg@1: 0.531447\tvalid_0's ndcg@3: 0.540593\tvalid_0's ndcg@5: 0.559638\tvalid_0's ndcg@10: 0.594871\tvalid_0's ndcg@20: 0.658555\n",
      "[120]\tvalid_0's ndcg@1: 0.531213\tvalid_0's ndcg@3: 0.543155\tvalid_0's ndcg@5: 0.55963\tvalid_0's ndcg@10: 0.595456\tvalid_0's ndcg@20: 0.659768\n",
      "[130]\tvalid_0's ndcg@1: 0.532455\tvalid_0's ndcg@3: 0.542012\tvalid_0's ndcg@5: 0.560024\tvalid_0's ndcg@10: 0.596138\tvalid_0's ndcg@20: 0.66025\n",
      "[140]\tvalid_0's ndcg@1: 0.532268\tvalid_0's ndcg@3: 0.544882\tvalid_0's ndcg@5: 0.561449\tvalid_0's ndcg@10: 0.59686\tvalid_0's ndcg@20: 0.660505\n",
      "[150]\tvalid_0's ndcg@1: 0.534475\tvalid_0's ndcg@3: 0.544906\tvalid_0's ndcg@5: 0.561391\tvalid_0's ndcg@10: 0.59681\tvalid_0's ndcg@20: 0.661049\n",
      "[160]\tvalid_0's ndcg@1: 0.531537\tvalid_0's ndcg@3: 0.543671\tvalid_0's ndcg@5: 0.561929\tvalid_0's ndcg@10: 0.596667\tvalid_0's ndcg@20: 0.661121\n",
      "[170]\tvalid_0's ndcg@1: 0.532813\tvalid_0's ndcg@3: 0.545073\tvalid_0's ndcg@5: 0.562201\tvalid_0's ndcg@10: 0.59842\tvalid_0's ndcg@20: 0.661884\n",
      "[180]\tvalid_0's ndcg@1: 0.532712\tvalid_0's ndcg@3: 0.545852\tvalid_0's ndcg@5: 0.563585\tvalid_0's ndcg@10: 0.599471\tvalid_0's ndcg@20: 0.662155\n",
      "[190]\tvalid_0's ndcg@1: 0.535779\tvalid_0's ndcg@3: 0.546943\tvalid_0's ndcg@5: 0.565183\tvalid_0's ndcg@10: 0.600376\tvalid_0's ndcg@20: 0.662957\n",
      "[200]\tvalid_0's ndcg@1: 0.534575\tvalid_0's ndcg@3: 0.546787\tvalid_0's ndcg@5: 0.564526\tvalid_0's ndcg@10: 0.600095\tvalid_0's ndcg@20: 0.663008\n",
      "[210]\tvalid_0's ndcg@1: 0.53617\tvalid_0's ndcg@3: 0.549221\tvalid_0's ndcg@5: 0.566139\tvalid_0's ndcg@10: 0.601187\tvalid_0's ndcg@20: 0.66381\n",
      "[220]\tvalid_0's ndcg@1: 0.535621\tvalid_0's ndcg@3: 0.548481\tvalid_0's ndcg@5: 0.566753\tvalid_0's ndcg@10: 0.601689\tvalid_0's ndcg@20: 0.663919\n",
      "[230]\tvalid_0's ndcg@1: 0.538988\tvalid_0's ndcg@3: 0.550053\tvalid_0's ndcg@5: 0.566981\tvalid_0's ndcg@10: 0.603192\tvalid_0's ndcg@20: 0.665049\n",
      "[240]\tvalid_0's ndcg@1: 0.536404\tvalid_0's ndcg@3: 0.551195\tvalid_0's ndcg@5: 0.567814\tvalid_0's ndcg@10: 0.602897\tvalid_0's ndcg@20: 0.664704\n",
      "[250]\tvalid_0's ndcg@1: 0.536376\tvalid_0's ndcg@3: 0.549743\tvalid_0's ndcg@5: 0.567925\tvalid_0's ndcg@10: 0.603423\tvalid_0's ndcg@20: 0.665479\n",
      "[260]\tvalid_0's ndcg@1: 0.539624\tvalid_0's ndcg@3: 0.552077\tvalid_0's ndcg@5: 0.569286\tvalid_0's ndcg@10: 0.604815\tvalid_0's ndcg@20: 0.666765\n",
      "[270]\tvalid_0's ndcg@1: 0.536729\tvalid_0's ndcg@3: 0.550571\tvalid_0's ndcg@5: 0.56986\tvalid_0's ndcg@10: 0.604195\tvalid_0's ndcg@20: 0.666274\n",
      "[280]\tvalid_0's ndcg@1: 0.535635\tvalid_0's ndcg@3: 0.551186\tvalid_0's ndcg@5: 0.569919\tvalid_0's ndcg@10: 0.605047\tvalid_0's ndcg@20: 0.666594\n",
      "Early stopping, best iteration is:\n",
      "[236]\tvalid_0's ndcg@1: 0.540856\tvalid_0's ndcg@3: 0.550923\tvalid_0's ndcg@5: 0.568209\tvalid_0's ndcg@10: 0.603462\tvalid_0's ndcg@20: 0.665231\n"
     ]
    },
    {
     "name": "stderr",
     "output_type": "stream",
     "text": [
      "[I 2024-04-29 23:26:09,782] Trial 42 finished with value: 0.5857363265183739 and parameters: {'lambda_l1': 4.133596651257748e-08, 'lambda_l2': 1.5143122015258481, 'max_depth': 8, 'num_leaves': 192, 'colsample_bytree': 0.3510154411301336, 'min_child_samples': 97}. Best is trial 42 with value: 0.5857363265183739.\n",
      "C:\\Users\\savolk25\\AppData\\Local\\Temp\\ipykernel_19764\\389573219.py:4: FutureWarning: suggest_loguniform has been deprecated in v3.0.0. This feature will be removed in v6.0.0. See https://github.com/optuna/optuna/releases/tag/v3.0.0. Use suggest_float(..., log=True) instead.\n",
      "  'reg_alpha': trial.suggest_loguniform('lambda_l1', 1e-8, 10.0),\n",
      "C:\\Users\\savolk25\\AppData\\Local\\Temp\\ipykernel_19764\\389573219.py:5: FutureWarning: suggest_loguniform has been deprecated in v3.0.0. This feature will be removed in v6.0.0. See https://github.com/optuna/optuna/releases/tag/v3.0.0. Use suggest_float(..., log=True) instead.\n",
      "  'reg_lambda': trial.suggest_loguniform('lambda_l2', 1e-8, 10.0),\n",
      "C:\\Users\\savolk25\\AppData\\Local\\Temp\\ipykernel_19764\\389573219.py:8: FutureWarning: suggest_uniform has been deprecated in v3.0.0. This feature will be removed in v6.0.0. See https://github.com/optuna/optuna/releases/tag/v3.0.0. Use suggest_float instead.\n",
      "  'colsample_bytree': trial.suggest_uniform('colsample_bytree', 0.1, 1),\n"
     ]
    },
    {
     "name": "stdout",
     "output_type": "stream",
     "text": [
      "Training until validation scores don't improve for 50 rounds\n",
      "[10]\tvalid_0's ndcg@1: 0.474595\tvalid_0's ndcg@3: 0.488599\tvalid_0's ndcg@5: 0.509008\tvalid_0's ndcg@10: 0.553573\tvalid_0's ndcg@20: 0.621709\n",
      "[20]\tvalid_0's ndcg@1: 0.491842\tvalid_0's ndcg@3: 0.508496\tvalid_0's ndcg@5: 0.522655\tvalid_0's ndcg@10: 0.565631\tvalid_0's ndcg@20: 0.632129\n",
      "[30]\tvalid_0's ndcg@1: 0.49701\tvalid_0's ndcg@3: 0.516096\tvalid_0's ndcg@5: 0.530264\tvalid_0's ndcg@10: 0.571959\tvalid_0's ndcg@20: 0.638057\n",
      "[40]\tvalid_0's ndcg@1: 0.51152\tvalid_0's ndcg@3: 0.523274\tvalid_0's ndcg@5: 0.538159\tvalid_0's ndcg@10: 0.57919\tvalid_0's ndcg@20: 0.644424\n",
      "[50]\tvalid_0's ndcg@1: 0.514013\tvalid_0's ndcg@3: 0.526168\tvalid_0's ndcg@5: 0.542737\tvalid_0's ndcg@10: 0.582028\tvalid_0's ndcg@20: 0.648105\n",
      "[60]\tvalid_0's ndcg@1: 0.517524\tvalid_0's ndcg@3: 0.529267\tvalid_0's ndcg@5: 0.543507\tvalid_0's ndcg@10: 0.585045\tvalid_0's ndcg@20: 0.650752\n",
      "[70]\tvalid_0's ndcg@1: 0.520972\tvalid_0's ndcg@3: 0.533065\tvalid_0's ndcg@5: 0.547082\tvalid_0's ndcg@10: 0.586853\tvalid_0's ndcg@20: 0.65271\n",
      "[80]\tvalid_0's ndcg@1: 0.525352\tvalid_0's ndcg@3: 0.534936\tvalid_0's ndcg@5: 0.549123\tvalid_0's ndcg@10: 0.587254\tvalid_0's ndcg@20: 0.654515\n",
      "[90]\tvalid_0's ndcg@1: 0.526838\tvalid_0's ndcg@3: 0.534898\tvalid_0's ndcg@5: 0.549383\tvalid_0's ndcg@10: 0.589537\tvalid_0's ndcg@20: 0.654711\n",
      "[100]\tvalid_0's ndcg@1: 0.529398\tvalid_0's ndcg@3: 0.537095\tvalid_0's ndcg@5: 0.550655\tvalid_0's ndcg@10: 0.591284\tvalid_0's ndcg@20: 0.656658\n",
      "[110]\tvalid_0's ndcg@1: 0.52797\tvalid_0's ndcg@3: 0.536931\tvalid_0's ndcg@5: 0.551967\tvalid_0's ndcg@10: 0.591187\tvalid_0's ndcg@20: 0.656188\n",
      "[120]\tvalid_0's ndcg@1: 0.530687\tvalid_0's ndcg@3: 0.537524\tvalid_0's ndcg@5: 0.553232\tvalid_0's ndcg@10: 0.593108\tvalid_0's ndcg@20: 0.657049\n",
      "[130]\tvalid_0's ndcg@1: 0.534952\tvalid_0's ndcg@3: 0.540899\tvalid_0's ndcg@5: 0.554564\tvalid_0's ndcg@10: 0.593615\tvalid_0's ndcg@20: 0.657882\n",
      "[140]\tvalid_0's ndcg@1: 0.533744\tvalid_0's ndcg@3: 0.540774\tvalid_0's ndcg@5: 0.553916\tvalid_0's ndcg@10: 0.59408\tvalid_0's ndcg@20: 0.658011\n",
      "[150]\tvalid_0's ndcg@1: 0.533639\tvalid_0's ndcg@3: 0.541004\tvalid_0's ndcg@5: 0.55581\tvalid_0's ndcg@10: 0.595402\tvalid_0's ndcg@20: 0.658841\n",
      "[160]\tvalid_0's ndcg@1: 0.531643\tvalid_0's ndcg@3: 0.540178\tvalid_0's ndcg@5: 0.556199\tvalid_0's ndcg@10: 0.595446\tvalid_0's ndcg@20: 0.658594\n",
      "[170]\tvalid_0's ndcg@1: 0.531475\tvalid_0's ndcg@3: 0.540578\tvalid_0's ndcg@5: 0.557381\tvalid_0's ndcg@10: 0.596069\tvalid_0's ndcg@20: 0.65908\n"
     ]
    },
    {
     "name": "stderr",
     "output_type": "stream",
     "text": [
      "[I 2024-04-29 23:26:15,850] Trial 43 finished with value: 0.5763826753694812 and parameters: {'lambda_l1': 4.097423590425812e-08, 'lambda_l2': 1.8913942466633873, 'max_depth': 8, 'num_leaves': 215, 'colsample_bytree': 0.25377415559729255, 'min_child_samples': 100}. Best is trial 42 with value: 0.5857363265183739.\n"
     ]
    },
    {
     "name": "stdout",
     "output_type": "stream",
     "text": [
      "[180]\tvalid_0's ndcg@1: 0.533352\tvalid_0's ndcg@3: 0.541164\tvalid_0's ndcg@5: 0.55739\tvalid_0's ndcg@10: 0.596795\tvalid_0's ndcg@20: 0.66009\n",
      "Early stopping, best iteration is:\n",
      "[130]\tvalid_0's ndcg@1: 0.534952\tvalid_0's ndcg@3: 0.540899\tvalid_0's ndcg@5: 0.554564\tvalid_0's ndcg@10: 0.593615\tvalid_0's ndcg@20: 0.657882\n"
     ]
    },
    {
     "name": "stderr",
     "output_type": "stream",
     "text": [
      "C:\\Users\\savolk25\\AppData\\Local\\Temp\\ipykernel_19764\\389573219.py:4: FutureWarning: suggest_loguniform has been deprecated in v3.0.0. This feature will be removed in v6.0.0. See https://github.com/optuna/optuna/releases/tag/v3.0.0. Use suggest_float(..., log=True) instead.\n",
      "  'reg_alpha': trial.suggest_loguniform('lambda_l1', 1e-8, 10.0),\n",
      "C:\\Users\\savolk25\\AppData\\Local\\Temp\\ipykernel_19764\\389573219.py:5: FutureWarning: suggest_loguniform has been deprecated in v3.0.0. This feature will be removed in v6.0.0. See https://github.com/optuna/optuna/releases/tag/v3.0.0. Use suggest_float(..., log=True) instead.\n",
      "  'reg_lambda': trial.suggest_loguniform('lambda_l2', 1e-8, 10.0),\n",
      "C:\\Users\\savolk25\\AppData\\Local\\Temp\\ipykernel_19764\\389573219.py:8: FutureWarning: suggest_uniform has been deprecated in v3.0.0. This feature will be removed in v6.0.0. See https://github.com/optuna/optuna/releases/tag/v3.0.0. Use suggest_float instead.\n",
      "  'colsample_bytree': trial.suggest_uniform('colsample_bytree', 0.1, 1),\n"
     ]
    },
    {
     "name": "stdout",
     "output_type": "stream",
     "text": [
      "Training until validation scores don't improve for 50 rounds\n",
      "[10]\tvalid_0's ndcg@1: 0.480222\tvalid_0's ndcg@3: 0.495719\tvalid_0's ndcg@5: 0.510891\tvalid_0's ndcg@10: 0.553193\tvalid_0's ndcg@20: 0.623503\n",
      "[20]\tvalid_0's ndcg@1: 0.49583\tvalid_0's ndcg@3: 0.511015\tvalid_0's ndcg@5: 0.526824\tvalid_0's ndcg@10: 0.567404\tvalid_0's ndcg@20: 0.634789\n",
      "[30]\tvalid_0's ndcg@1: 0.500535\tvalid_0's ndcg@3: 0.516087\tvalid_0's ndcg@5: 0.530902\tvalid_0's ndcg@10: 0.572367\tvalid_0's ndcg@20: 0.639309\n",
      "[40]\tvalid_0's ndcg@1: 0.510164\tvalid_0's ndcg@3: 0.520493\tvalid_0's ndcg@5: 0.535842\tvalid_0's ndcg@10: 0.576189\tvalid_0's ndcg@20: 0.642276\n",
      "[50]\tvalid_0's ndcg@1: 0.516029\tvalid_0's ndcg@3: 0.52488\tvalid_0's ndcg@5: 0.539522\tvalid_0's ndcg@10: 0.578612\tvalid_0's ndcg@20: 0.645747\n",
      "[60]\tvalid_0's ndcg@1: 0.515738\tvalid_0's ndcg@3: 0.526337\tvalid_0's ndcg@5: 0.543065\tvalid_0's ndcg@10: 0.581941\tvalid_0's ndcg@20: 0.647216\n",
      "[70]\tvalid_0's ndcg@1: 0.519157\tvalid_0's ndcg@3: 0.530538\tvalid_0's ndcg@5: 0.546805\tvalid_0's ndcg@10: 0.585691\tvalid_0's ndcg@20: 0.651107\n",
      "[80]\tvalid_0's ndcg@1: 0.520686\tvalid_0's ndcg@3: 0.530378\tvalid_0's ndcg@5: 0.546452\tvalid_0's ndcg@10: 0.586813\tvalid_0's ndcg@20: 0.651919\n",
      "[90]\tvalid_0's ndcg@1: 0.524287\tvalid_0's ndcg@3: 0.533386\tvalid_0's ndcg@5: 0.549645\tvalid_0's ndcg@10: 0.588075\tvalid_0's ndcg@20: 0.654402\n",
      "[100]\tvalid_0's ndcg@1: 0.52615\tvalid_0's ndcg@3: 0.533114\tvalid_0's ndcg@5: 0.551344\tvalid_0's ndcg@10: 0.588529\tvalid_0's ndcg@20: 0.65493\n",
      "[110]\tvalid_0's ndcg@1: 0.530143\tvalid_0's ndcg@3: 0.535276\tvalid_0's ndcg@5: 0.552715\tvalid_0's ndcg@10: 0.590318\tvalid_0's ndcg@20: 0.656332\n",
      "[120]\tvalid_0's ndcg@1: 0.522052\tvalid_0's ndcg@3: 0.535641\tvalid_0's ndcg@5: 0.554044\tvalid_0's ndcg@10: 0.590715\tvalid_0's ndcg@20: 0.656088\n",
      "[130]\tvalid_0's ndcg@1: 0.525844\tvalid_0's ndcg@3: 0.537512\tvalid_0's ndcg@5: 0.555381\tvalid_0's ndcg@10: 0.592303\tvalid_0's ndcg@20: 0.657818\n",
      "[140]\tvalid_0's ndcg@1: 0.523509\tvalid_0's ndcg@3: 0.53746\tvalid_0's ndcg@5: 0.555444\tvalid_0's ndcg@10: 0.592177\tvalid_0's ndcg@20: 0.657698\n",
      "[150]\tvalid_0's ndcg@1: 0.524349\tvalid_0's ndcg@3: 0.538865\tvalid_0's ndcg@5: 0.557177\tvalid_0's ndcg@10: 0.594641\tvalid_0's ndcg@20: 0.65863\n"
     ]
    },
    {
     "name": "stderr",
     "output_type": "stream",
     "text": [
      "[I 2024-04-29 23:26:21,357] Trial 44 finished with value: 0.573236417207588 and parameters: {'lambda_l1': 7.197376740680777e-07, 'lambda_l2': 0.015019819615566607, 'max_depth': 8, 'num_leaves': 177, 'colsample_bytree': 0.3409913026936855, 'min_child_samples': 93}. Best is trial 42 with value: 0.5857363265183739.\n"
     ]
    },
    {
     "name": "stdout",
     "output_type": "stream",
     "text": [
      "[160]\tvalid_0's ndcg@1: 0.52742\tvalid_0's ndcg@3: 0.539308\tvalid_0's ndcg@5: 0.558406\tvalid_0's ndcg@10: 0.595339\tvalid_0's ndcg@20: 0.659762\n",
      "Early stopping, best iteration is:\n",
      "[111]\tvalid_0's ndcg@1: 0.530286\tvalid_0's ndcg@3: 0.535273\tvalid_0's ndcg@5: 0.553488\tvalid_0's ndcg@10: 0.590551\tvalid_0's ndcg@20: 0.656584\n"
     ]
    },
    {
     "name": "stderr",
     "output_type": "stream",
     "text": [
      "C:\\Users\\savolk25\\AppData\\Local\\Temp\\ipykernel_19764\\389573219.py:4: FutureWarning: suggest_loguniform has been deprecated in v3.0.0. This feature will be removed in v6.0.0. See https://github.com/optuna/optuna/releases/tag/v3.0.0. Use suggest_float(..., log=True) instead.\n",
      "  'reg_alpha': trial.suggest_loguniform('lambda_l1', 1e-8, 10.0),\n",
      "C:\\Users\\savolk25\\AppData\\Local\\Temp\\ipykernel_19764\\389573219.py:5: FutureWarning: suggest_loguniform has been deprecated in v3.0.0. This feature will be removed in v6.0.0. See https://github.com/optuna/optuna/releases/tag/v3.0.0. Use suggest_float(..., log=True) instead.\n",
      "  'reg_lambda': trial.suggest_loguniform('lambda_l2', 1e-8, 10.0),\n",
      "C:\\Users\\savolk25\\AppData\\Local\\Temp\\ipykernel_19764\\389573219.py:8: FutureWarning: suggest_uniform has been deprecated in v3.0.0. This feature will be removed in v6.0.0. See https://github.com/optuna/optuna/releases/tag/v3.0.0. Use suggest_float instead.\n",
      "  'colsample_bytree': trial.suggest_uniform('colsample_bytree', 0.1, 1),\n"
     ]
    },
    {
     "name": "stdout",
     "output_type": "stream",
     "text": [
      "Training until validation scores don't improve for 50 rounds\n",
      "[10]\tvalid_0's ndcg@1: 0.488714\tvalid_0's ndcg@3: 0.498293\tvalid_0's ndcg@5: 0.512704\tvalid_0's ndcg@10: 0.55451\tvalid_0's ndcg@20: 0.623649\n",
      "[20]\tvalid_0's ndcg@1: 0.490557\tvalid_0's ndcg@3: 0.505783\tvalid_0's ndcg@5: 0.522074\tvalid_0's ndcg@10: 0.564074\tvalid_0's ndcg@20: 0.630434\n",
      "[30]\tvalid_0's ndcg@1: 0.496227\tvalid_0's ndcg@3: 0.511418\tvalid_0's ndcg@5: 0.526993\tvalid_0's ndcg@10: 0.569239\tvalid_0's ndcg@20: 0.634586\n",
      "[40]\tvalid_0's ndcg@1: 0.505569\tvalid_0's ndcg@3: 0.519278\tvalid_0's ndcg@5: 0.536\tvalid_0's ndcg@10: 0.576484\tvalid_0's ndcg@20: 0.640671\n",
      "[50]\tvalid_0's ndcg@1: 0.508726\tvalid_0's ndcg@3: 0.522613\tvalid_0's ndcg@5: 0.538778\tvalid_0's ndcg@10: 0.57846\tvalid_0's ndcg@20: 0.643459\n",
      "[60]\tvalid_0's ndcg@1: 0.520662\tvalid_0's ndcg@3: 0.52842\tvalid_0's ndcg@5: 0.544461\tvalid_0's ndcg@10: 0.583906\tvalid_0's ndcg@20: 0.647967\n",
      "[70]\tvalid_0's ndcg@1: 0.519525\tvalid_0's ndcg@3: 0.52822\tvalid_0's ndcg@5: 0.546752\tvalid_0's ndcg@10: 0.585428\tvalid_0's ndcg@20: 0.649457\n",
      "[80]\tvalid_0's ndcg@1: 0.52251\tvalid_0's ndcg@3: 0.531028\tvalid_0's ndcg@5: 0.547892\tvalid_0's ndcg@10: 0.587248\tvalid_0's ndcg@20: 0.650512\n",
      "[90]\tvalid_0's ndcg@1: 0.52134\tvalid_0's ndcg@3: 0.530947\tvalid_0's ndcg@5: 0.548508\tvalid_0's ndcg@10: 0.587481\tvalid_0's ndcg@20: 0.650124\n",
      "[100]\tvalid_0's ndcg@1: 0.522319\tvalid_0's ndcg@3: 0.532186\tvalid_0's ndcg@5: 0.549236\tvalid_0's ndcg@10: 0.587776\tvalid_0's ndcg@20: 0.651014\n",
      "[110]\tvalid_0's ndcg@1: 0.523948\tvalid_0's ndcg@3: 0.533612\tvalid_0's ndcg@5: 0.549878\tvalid_0's ndcg@10: 0.588361\tvalid_0's ndcg@20: 0.651953\n",
      "[120]\tvalid_0's ndcg@1: 0.521975\tvalid_0's ndcg@3: 0.534248\tvalid_0's ndcg@5: 0.550289\tvalid_0's ndcg@10: 0.588404\tvalid_0's ndcg@20: 0.652034\n",
      "[130]\tvalid_0's ndcg@1: 0.526188\tvalid_0's ndcg@3: 0.533828\tvalid_0's ndcg@5: 0.551577\tvalid_0's ndcg@10: 0.589915\tvalid_0's ndcg@20: 0.652702\n",
      "[140]\tvalid_0's ndcg@1: 0.524335\tvalid_0's ndcg@3: 0.534364\tvalid_0's ndcg@5: 0.552096\tvalid_0's ndcg@10: 0.589872\tvalid_0's ndcg@20: 0.652661\n",
      "[150]\tvalid_0's ndcg@1: 0.52519\tvalid_0's ndcg@3: 0.533551\tvalid_0's ndcg@5: 0.552279\tvalid_0's ndcg@10: 0.59038\tvalid_0's ndcg@20: 0.652822\n",
      "[160]\tvalid_0's ndcg@1: 0.523394\tvalid_0's ndcg@3: 0.534732\tvalid_0's ndcg@5: 0.551587\tvalid_0's ndcg@10: 0.591054\tvalid_0's ndcg@20: 0.652823\n",
      "[170]\tvalid_0's ndcg@1: 0.524225\tvalid_0's ndcg@3: 0.534524\tvalid_0's ndcg@5: 0.551572\tvalid_0's ndcg@10: 0.591245\tvalid_0's ndcg@20: 0.653513\n"
     ]
    },
    {
     "name": "stderr",
     "output_type": "stream",
     "text": [
      "[I 2024-04-29 23:26:27,058] Trial 45 finished with value: 0.5709805289393726 and parameters: {'lambda_l1': 3.542130791502069e-08, 'lambda_l2': 3.6475120169570907, 'max_depth': 7, 'num_leaves': 205, 'colsample_bytree': 0.468988346643687, 'min_child_samples': 87}. Best is trial 42 with value: 0.5857363265183739.\n"
     ]
    },
    {
     "name": "stdout",
     "output_type": "stream",
     "text": [
      "Early stopping, best iteration is:\n",
      "[127]\tvalid_0's ndcg@1: 0.527191\tvalid_0's ndcg@3: 0.533471\tvalid_0's ndcg@5: 0.551494\tvalid_0's ndcg@10: 0.589851\tvalid_0's ndcg@20: 0.652896\n"
     ]
    },
    {
     "name": "stderr",
     "output_type": "stream",
     "text": [
      "C:\\Users\\savolk25\\AppData\\Local\\Temp\\ipykernel_19764\\389573219.py:4: FutureWarning: suggest_loguniform has been deprecated in v3.0.0. This feature will be removed in v6.0.0. See https://github.com/optuna/optuna/releases/tag/v3.0.0. Use suggest_float(..., log=True) instead.\n",
      "  'reg_alpha': trial.suggest_loguniform('lambda_l1', 1e-8, 10.0),\n",
      "C:\\Users\\savolk25\\AppData\\Local\\Temp\\ipykernel_19764\\389573219.py:5: FutureWarning: suggest_loguniform has been deprecated in v3.0.0. This feature will be removed in v6.0.0. See https://github.com/optuna/optuna/releases/tag/v3.0.0. Use suggest_float(..., log=True) instead.\n",
      "  'reg_lambda': trial.suggest_loguniform('lambda_l2', 1e-8, 10.0),\n",
      "C:\\Users\\savolk25\\AppData\\Local\\Temp\\ipykernel_19764\\389573219.py:8: FutureWarning: suggest_uniform has been deprecated in v3.0.0. This feature will be removed in v6.0.0. See https://github.com/optuna/optuna/releases/tag/v3.0.0. Use suggest_float instead.\n",
      "  'colsample_bytree': trial.suggest_uniform('colsample_bytree', 0.1, 1),\n"
     ]
    },
    {
     "name": "stdout",
     "output_type": "stream",
     "text": [
      "Training until validation scores don't improve for 50 rounds\n",
      "[10]\tvalid_0's ndcg@1: 0.483479\tvalid_0's ndcg@3: 0.500586\tvalid_0's ndcg@5: 0.518383\tvalid_0's ndcg@10: 0.558466\tvalid_0's ndcg@20: 0.626693\n",
      "[20]\tvalid_0's ndcg@1: 0.494498\tvalid_0's ndcg@3: 0.513719\tvalid_0's ndcg@5: 0.531262\tvalid_0's ndcg@10: 0.570086\tvalid_0's ndcg@20: 0.636198\n",
      "[30]\tvalid_0's ndcg@1: 0.502756\tvalid_0's ndcg@3: 0.519113\tvalid_0's ndcg@5: 0.537003\tvalid_0's ndcg@10: 0.576715\tvalid_0's ndcg@20: 0.642206\n",
      "[40]\tvalid_0's ndcg@1: 0.512409\tvalid_0's ndcg@3: 0.527021\tvalid_0's ndcg@5: 0.543345\tvalid_0's ndcg@10: 0.58262\tvalid_0's ndcg@20: 0.647226\n",
      "[50]\tvalid_0's ndcg@1: 0.519893\tvalid_0's ndcg@3: 0.5283\tvalid_0's ndcg@5: 0.546353\tvalid_0's ndcg@10: 0.585007\tvalid_0's ndcg@20: 0.648839\n",
      "[60]\tvalid_0's ndcg@1: 0.520433\tvalid_0's ndcg@3: 0.531387\tvalid_0's ndcg@5: 0.548117\tvalid_0's ndcg@10: 0.58711\tvalid_0's ndcg@20: 0.65137\n",
      "[70]\tvalid_0's ndcg@1: 0.522883\tvalid_0's ndcg@3: 0.533951\tvalid_0's ndcg@5: 0.549775\tvalid_0's ndcg@10: 0.588766\tvalid_0's ndcg@20: 0.653111\n",
      "[80]\tvalid_0's ndcg@1: 0.523542\tvalid_0's ndcg@3: 0.532302\tvalid_0's ndcg@5: 0.550414\tvalid_0's ndcg@10: 0.590421\tvalid_0's ndcg@20: 0.653983\n",
      "[90]\tvalid_0's ndcg@1: 0.521851\tvalid_0's ndcg@3: 0.531895\tvalid_0's ndcg@5: 0.552405\tvalid_0's ndcg@10: 0.591521\tvalid_0's ndcg@20: 0.654876\n",
      "[100]\tvalid_0's ndcg@1: 0.524034\tvalid_0's ndcg@3: 0.535307\tvalid_0's ndcg@5: 0.555265\tvalid_0's ndcg@10: 0.592694\tvalid_0's ndcg@20: 0.656035\n",
      "[110]\tvalid_0's ndcg@1: 0.528638\tvalid_0's ndcg@3: 0.537532\tvalid_0's ndcg@5: 0.555494\tvalid_0's ndcg@10: 0.593343\tvalid_0's ndcg@20: 0.656953\n",
      "[120]\tvalid_0's ndcg@1: 0.524125\tvalid_0's ndcg@3: 0.536676\tvalid_0's ndcg@5: 0.556304\tvalid_0's ndcg@10: 0.59318\tvalid_0's ndcg@20: 0.657338\n",
      "[130]\tvalid_0's ndcg@1: 0.523513\tvalid_0's ndcg@3: 0.539001\tvalid_0's ndcg@5: 0.555626\tvalid_0's ndcg@10: 0.594112\tvalid_0's ndcg@20: 0.657007\n",
      "[140]\tvalid_0's ndcg@1: 0.528672\tvalid_0's ndcg@3: 0.542652\tvalid_0's ndcg@5: 0.55885\tvalid_0's ndcg@10: 0.595667\tvalid_0's ndcg@20: 0.659142\n",
      "[150]\tvalid_0's ndcg@1: 0.529226\tvalid_0's ndcg@3: 0.543112\tvalid_0's ndcg@5: 0.558471\tvalid_0's ndcg@10: 0.59676\tvalid_0's ndcg@20: 0.659558\n"
     ]
    },
    {
     "name": "stderr",
     "output_type": "stream",
     "text": [
      "[I 2024-04-29 23:26:32,366] Trial 46 finished with value: 0.5752240616367837 and parameters: {'lambda_l1': 2.843212630319282e-08, 'lambda_l2': 1.180688036489309, 'max_depth': 8, 'num_leaves': 169, 'colsample_bytree': 0.3624556790318502, 'min_child_samples': 95}. Best is trial 42 with value: 0.5857363265183739.\n"
     ]
    },
    {
     "name": "stdout",
     "output_type": "stream",
     "text": [
      "Early stopping, best iteration is:\n",
      "[109]\tvalid_0's ndcg@1: 0.530315\tvalid_0's ndcg@3: 0.538562\tvalid_0's ndcg@5: 0.555992\tvalid_0's ndcg@10: 0.593667\tvalid_0's ndcg@20: 0.657584\n"
     ]
    },
    {
     "name": "stderr",
     "output_type": "stream",
     "text": [
      "C:\\Users\\savolk25\\AppData\\Local\\Temp\\ipykernel_19764\\389573219.py:4: FutureWarning: suggest_loguniform has been deprecated in v3.0.0. This feature will be removed in v6.0.0. See https://github.com/optuna/optuna/releases/tag/v3.0.0. Use suggest_float(..., log=True) instead.\n",
      "  'reg_alpha': trial.suggest_loguniform('lambda_l1', 1e-8, 10.0),\n",
      "C:\\Users\\savolk25\\AppData\\Local\\Temp\\ipykernel_19764\\389573219.py:5: FutureWarning: suggest_loguniform has been deprecated in v3.0.0. This feature will be removed in v6.0.0. See https://github.com/optuna/optuna/releases/tag/v3.0.0. Use suggest_float(..., log=True) instead.\n",
      "  'reg_lambda': trial.suggest_loguniform('lambda_l2', 1e-8, 10.0),\n",
      "C:\\Users\\savolk25\\AppData\\Local\\Temp\\ipykernel_19764\\389573219.py:8: FutureWarning: suggest_uniform has been deprecated in v3.0.0. This feature will be removed in v6.0.0. See https://github.com/optuna/optuna/releases/tag/v3.0.0. Use suggest_float instead.\n",
      "  'colsample_bytree': trial.suggest_uniform('colsample_bytree', 0.1, 1),\n"
     ]
    },
    {
     "name": "stdout",
     "output_type": "stream",
     "text": [
      "Training until validation scores don't improve for 50 rounds\n",
      "[10]\tvalid_0's ndcg@1: 0.473177\tvalid_0's ndcg@3: 0.480673\tvalid_0's ndcg@5: 0.500033\tvalid_0's ndcg@10: 0.541166\tvalid_0's ndcg@20: 0.613137\n",
      "[20]\tvalid_0's ndcg@1: 0.474958\tvalid_0's ndcg@3: 0.490083\tvalid_0's ndcg@5: 0.508635\tvalid_0's ndcg@10: 0.548539\tvalid_0's ndcg@20: 0.618585\n",
      "[30]\tvalid_0's ndcg@1: 0.491369\tvalid_0's ndcg@3: 0.501826\tvalid_0's ndcg@5: 0.518231\tvalid_0's ndcg@10: 0.558057\tvalid_0's ndcg@20: 0.626884\n",
      "[40]\tvalid_0's ndcg@1: 0.494889\tvalid_0's ndcg@3: 0.506389\tvalid_0's ndcg@5: 0.523705\tvalid_0's ndcg@10: 0.564089\tvalid_0's ndcg@20: 0.631198\n",
      "[50]\tvalid_0's ndcg@1: 0.501872\tvalid_0's ndcg@3: 0.512396\tvalid_0's ndcg@5: 0.528697\tvalid_0's ndcg@10: 0.568668\tvalid_0's ndcg@20: 0.635916\n",
      "[60]\tvalid_0's ndcg@1: 0.50406\tvalid_0's ndcg@3: 0.514369\tvalid_0's ndcg@5: 0.531542\tvalid_0's ndcg@10: 0.570908\tvalid_0's ndcg@20: 0.637602\n",
      "[70]\tvalid_0's ndcg@1: 0.504642\tvalid_0's ndcg@3: 0.515883\tvalid_0's ndcg@5: 0.533391\tvalid_0's ndcg@10: 0.572604\tvalid_0's ndcg@20: 0.638601\n",
      "[80]\tvalid_0's ndcg@1: 0.506099\tvalid_0's ndcg@3: 0.515996\tvalid_0's ndcg@5: 0.533595\tvalid_0's ndcg@10: 0.57357\tvalid_0's ndcg@20: 0.639486\n",
      "[90]\tvalid_0's ndcg@1: 0.508373\tvalid_0's ndcg@3: 0.517538\tvalid_0's ndcg@5: 0.535224\tvalid_0's ndcg@10: 0.574089\tvalid_0's ndcg@20: 0.640497\n",
      "[100]\tvalid_0's ndcg@1: 0.511826\tvalid_0's ndcg@3: 0.519348\tvalid_0's ndcg@5: 0.536671\tvalid_0's ndcg@10: 0.574862\tvalid_0's ndcg@20: 0.641114\n",
      "[110]\tvalid_0's ndcg@1: 0.514209\tvalid_0's ndcg@3: 0.520495\tvalid_0's ndcg@5: 0.537826\tvalid_0's ndcg@10: 0.576177\tvalid_0's ndcg@20: 0.641639\n",
      "[120]\tvalid_0's ndcg@1: 0.516602\tvalid_0's ndcg@3: 0.51948\tvalid_0's ndcg@5: 0.537989\tvalid_0's ndcg@10: 0.576376\tvalid_0's ndcg@20: 0.642308\n",
      "[130]\tvalid_0's ndcg@1: 0.517352\tvalid_0's ndcg@3: 0.521585\tvalid_0's ndcg@5: 0.538886\tvalid_0's ndcg@10: 0.577103\tvalid_0's ndcg@20: 0.643174\n",
      "[140]\tvalid_0's ndcg@1: 0.514324\tvalid_0's ndcg@3: 0.522483\tvalid_0's ndcg@5: 0.538707\tvalid_0's ndcg@10: 0.576924\tvalid_0's ndcg@20: 0.64333\n",
      "[150]\tvalid_0's ndcg@1: 0.516368\tvalid_0's ndcg@3: 0.523492\tvalid_0's ndcg@5: 0.539902\tvalid_0's ndcg@10: 0.577766\tvalid_0's ndcg@20: 0.643986\n",
      "[160]\tvalid_0's ndcg@1: 0.517032\tvalid_0's ndcg@3: 0.523393\tvalid_0's ndcg@5: 0.539648\tvalid_0's ndcg@10: 0.578122\tvalid_0's ndcg@20: 0.644725\n",
      "[170]\tvalid_0's ndcg@1: 0.519654\tvalid_0's ndcg@3: 0.524205\tvalid_0's ndcg@5: 0.540095\tvalid_0's ndcg@10: 0.57936\tvalid_0's ndcg@20: 0.64534\n",
      "[180]\tvalid_0's ndcg@1: 0.52071\tvalid_0's ndcg@3: 0.525808\tvalid_0's ndcg@5: 0.540998\tvalid_0's ndcg@10: 0.581144\tvalid_0's ndcg@20: 0.645913\n",
      "[190]\tvalid_0's ndcg@1: 0.520557\tvalid_0's ndcg@3: 0.526456\tvalid_0's ndcg@5: 0.540642\tvalid_0's ndcg@10: 0.580942\tvalid_0's ndcg@20: 0.646002\n",
      "[200]\tvalid_0's ndcg@1: 0.518675\tvalid_0's ndcg@3: 0.526068\tvalid_0's ndcg@5: 0.540608\tvalid_0's ndcg@10: 0.582165\tvalid_0's ndcg@20: 0.646348\n",
      "[210]\tvalid_0's ndcg@1: 0.5239\tvalid_0's ndcg@3: 0.528154\tvalid_0's ndcg@5: 0.541465\tvalid_0's ndcg@10: 0.583061\tvalid_0's ndcg@20: 0.647341\n",
      "[220]\tvalid_0's ndcg@1: 0.522381\tvalid_0's ndcg@3: 0.528011\tvalid_0's ndcg@5: 0.541152\tvalid_0's ndcg@10: 0.582277\tvalid_0's ndcg@20: 0.647575\n",
      "[230]\tvalid_0's ndcg@1: 0.523872\tvalid_0's ndcg@3: 0.529039\tvalid_0's ndcg@5: 0.543268\tvalid_0's ndcg@10: 0.583702\tvalid_0's ndcg@20: 0.648328\n",
      "[240]\tvalid_0's ndcg@1: 0.520509\tvalid_0's ndcg@3: 0.52865\tvalid_0's ndcg@5: 0.542796\tvalid_0's ndcg@10: 0.583281\tvalid_0's ndcg@20: 0.648331\n",
      "[250]\tvalid_0's ndcg@1: 0.519325\tvalid_0's ndcg@3: 0.528907\tvalid_0's ndcg@5: 0.543336\tvalid_0's ndcg@10: 0.583612\tvalid_0's ndcg@20: 0.647991\n",
      "[260]\tvalid_0's ndcg@1: 0.520194\tvalid_0's ndcg@3: 0.53029\tvalid_0's ndcg@5: 0.543863\tvalid_0's ndcg@10: 0.584271\tvalid_0's ndcg@20: 0.648388\n",
      "[270]\tvalid_0's ndcg@1: 0.521966\tvalid_0's ndcg@3: 0.532536\tvalid_0's ndcg@5: 0.544938\tvalid_0's ndcg@10: 0.585599\tvalid_0's ndcg@20: 0.649331\n"
     ]
    },
    {
     "name": "stderr",
     "output_type": "stream",
     "text": [
      "[I 2024-04-29 23:26:38,012] Trial 47 finished with value: 0.5659816942378245 and parameters: {'lambda_l1': 1.0293674633156577e-06, 'lambda_l2': 0.07956155795146952, 'max_depth': 4, 'num_leaves': 193, 'colsample_bytree': 0.5617944083071797, 'min_child_samples': 87}. Best is trial 42 with value: 0.5857363265183739.\n"
     ]
    },
    {
     "name": "stdout",
     "output_type": "stream",
     "text": [
      "[280]\tvalid_0's ndcg@1: 0.522592\tvalid_0's ndcg@3: 0.531726\tvalid_0's ndcg@5: 0.545827\tvalid_0's ndcg@10: 0.585772\tvalid_0's ndcg@20: 0.649535\n",
      "Early stopping, best iteration is:\n",
      "[232]\tvalid_0's ndcg@1: 0.524918\tvalid_0's ndcg@3: 0.529155\tvalid_0's ndcg@5: 0.543618\tvalid_0's ndcg@10: 0.58382\tvalid_0's ndcg@20: 0.648398\n"
     ]
    },
    {
     "name": "stderr",
     "output_type": "stream",
     "text": [
      "C:\\Users\\savolk25\\AppData\\Local\\Temp\\ipykernel_19764\\389573219.py:4: FutureWarning: suggest_loguniform has been deprecated in v3.0.0. This feature will be removed in v6.0.0. See https://github.com/optuna/optuna/releases/tag/v3.0.0. Use suggest_float(..., log=True) instead.\n",
      "  'reg_alpha': trial.suggest_loguniform('lambda_l1', 1e-8, 10.0),\n",
      "C:\\Users\\savolk25\\AppData\\Local\\Temp\\ipykernel_19764\\389573219.py:5: FutureWarning: suggest_loguniform has been deprecated in v3.0.0. This feature will be removed in v6.0.0. See https://github.com/optuna/optuna/releases/tag/v3.0.0. Use suggest_float(..., log=True) instead.\n",
      "  'reg_lambda': trial.suggest_loguniform('lambda_l2', 1e-8, 10.0),\n",
      "C:\\Users\\savolk25\\AppData\\Local\\Temp\\ipykernel_19764\\389573219.py:8: FutureWarning: suggest_uniform has been deprecated in v3.0.0. This feature will be removed in v6.0.0. See https://github.com/optuna/optuna/releases/tag/v3.0.0. Use suggest_float instead.\n",
      "  'colsample_bytree': trial.suggest_uniform('colsample_bytree', 0.1, 1),\n"
     ]
    },
    {
     "name": "stdout",
     "output_type": "stream",
     "text": [
      "Training until validation scores don't improve for 50 rounds\n",
      "[10]\tvalid_0's ndcg@1: 0.478154\tvalid_0's ndcg@3: 0.489205\tvalid_0's ndcg@5: 0.506317\tvalid_0's ndcg@10: 0.547829\tvalid_0's ndcg@20: 0.619206\n",
      "[20]\tvalid_0's ndcg@1: 0.490247\tvalid_0's ndcg@3: 0.505273\tvalid_0's ndcg@5: 0.518995\tvalid_0's ndcg@10: 0.559476\tvalid_0's ndcg@20: 0.62855\n",
      "[30]\tvalid_0's ndcg@1: 0.508984\tvalid_0's ndcg@3: 0.509362\tvalid_0's ndcg@5: 0.527998\tvalid_0's ndcg@10: 0.567179\tvalid_0's ndcg@20: 0.635651\n",
      "[40]\tvalid_0's ndcg@1: 0.514572\tvalid_0's ndcg@3: 0.513423\tvalid_0's ndcg@5: 0.533484\tvalid_0's ndcg@10: 0.57424\tvalid_0's ndcg@20: 0.639747\n",
      "[50]\tvalid_0's ndcg@1: 0.514649\tvalid_0's ndcg@3: 0.516657\tvalid_0's ndcg@5: 0.536035\tvalid_0's ndcg@10: 0.575708\tvalid_0's ndcg@20: 0.641019\n",
      "[60]\tvalid_0's ndcg@1: 0.518842\tvalid_0's ndcg@3: 0.518151\tvalid_0's ndcg@5: 0.541098\tvalid_0's ndcg@10: 0.579702\tvalid_0's ndcg@20: 0.644273\n",
      "[70]\tvalid_0's ndcg@1: 0.521187\tvalid_0's ndcg@3: 0.52398\tvalid_0's ndcg@5: 0.543211\tvalid_0's ndcg@10: 0.583234\tvalid_0's ndcg@20: 0.647218\n",
      "[80]\tvalid_0's ndcg@1: 0.522744\tvalid_0's ndcg@3: 0.524903\tvalid_0's ndcg@5: 0.545129\tvalid_0's ndcg@10: 0.584258\tvalid_0's ndcg@20: 0.648096\n",
      "[90]\tvalid_0's ndcg@1: 0.525104\tvalid_0's ndcg@3: 0.527388\tvalid_0's ndcg@5: 0.546173\tvalid_0's ndcg@10: 0.5853\tvalid_0's ndcg@20: 0.649875\n",
      "[100]\tvalid_0's ndcg@1: 0.525562\tvalid_0's ndcg@3: 0.5302\tvalid_0's ndcg@5: 0.547674\tvalid_0's ndcg@10: 0.587189\tvalid_0's ndcg@20: 0.651078\n",
      "[110]\tvalid_0's ndcg@1: 0.528887\tvalid_0's ndcg@3: 0.53316\tvalid_0's ndcg@5: 0.549432\tvalid_0's ndcg@10: 0.588088\tvalid_0's ndcg@20: 0.652838\n",
      "[120]\tvalid_0's ndcg@1: 0.52498\tvalid_0's ndcg@3: 0.533249\tvalid_0's ndcg@5: 0.550333\tvalid_0's ndcg@10: 0.588576\tvalid_0's ndcg@20: 0.653023\n",
      "[130]\tvalid_0's ndcg@1: 0.522706\tvalid_0's ndcg@3: 0.534153\tvalid_0's ndcg@5: 0.550121\tvalid_0's ndcg@10: 0.589021\tvalid_0's ndcg@20: 0.653309\n",
      "[140]\tvalid_0's ndcg@1: 0.521632\tvalid_0's ndcg@3: 0.532728\tvalid_0's ndcg@5: 0.549073\tvalid_0's ndcg@10: 0.589159\tvalid_0's ndcg@20: 0.653281\n",
      "[150]\tvalid_0's ndcg@1: 0.526222\tvalid_0's ndcg@3: 0.535511\tvalid_0's ndcg@5: 0.551779\tvalid_0's ndcg@10: 0.589889\tvalid_0's ndcg@20: 0.654527\n"
     ]
    },
    {
     "name": "stderr",
     "output_type": "stream",
     "text": [
      "[I 2024-04-29 23:26:42,491] Trial 48 finished with value: 0.5711158144777183 and parameters: {'lambda_l1': 3.750914494345459e-07, 'lambda_l2': 0.006036737666098649, 'max_depth': 7, 'num_leaves': 229, 'colsample_bytree': 0.23919055462609268, 'min_child_samples': 70}. Best is trial 42 with value: 0.5857363265183739.\n"
     ]
    },
    {
     "name": "stdout",
     "output_type": "stream",
     "text": [
      "[160]\tvalid_0's ndcg@1: 0.526537\tvalid_0's ndcg@3: 0.536776\tvalid_0's ndcg@5: 0.552433\tvalid_0's ndcg@10: 0.590306\tvalid_0's ndcg@20: 0.654876\n",
      "Early stopping, best iteration is:\n",
      "[111]\tvalid_0's ndcg@1: 0.530286\tvalid_0's ndcg@3: 0.533735\tvalid_0's ndcg@5: 0.550238\tvalid_0's ndcg@10: 0.588412\tvalid_0's ndcg@20: 0.652909\n"
     ]
    },
    {
     "name": "stderr",
     "output_type": "stream",
     "text": [
      "C:\\Users\\savolk25\\AppData\\Local\\Temp\\ipykernel_19764\\389573219.py:4: FutureWarning: suggest_loguniform has been deprecated in v3.0.0. This feature will be removed in v6.0.0. See https://github.com/optuna/optuna/releases/tag/v3.0.0. Use suggest_float(..., log=True) instead.\n",
      "  'reg_alpha': trial.suggest_loguniform('lambda_l1', 1e-8, 10.0),\n",
      "C:\\Users\\savolk25\\AppData\\Local\\Temp\\ipykernel_19764\\389573219.py:5: FutureWarning: suggest_loguniform has been deprecated in v3.0.0. This feature will be removed in v6.0.0. See https://github.com/optuna/optuna/releases/tag/v3.0.0. Use suggest_float(..., log=True) instead.\n",
      "  'reg_lambda': trial.suggest_loguniform('lambda_l2', 1e-8, 10.0),\n",
      "C:\\Users\\savolk25\\AppData\\Local\\Temp\\ipykernel_19764\\389573219.py:8: FutureWarning: suggest_uniform has been deprecated in v3.0.0. This feature will be removed in v6.0.0. See https://github.com/optuna/optuna/releases/tag/v3.0.0. Use suggest_float instead.\n",
      "  'colsample_bytree': trial.suggest_uniform('colsample_bytree', 0.1, 1),\n"
     ]
    },
    {
     "name": "stdout",
     "output_type": "stream",
     "text": [
      "Training until validation scores don't improve for 50 rounds\n",
      "[10]\tvalid_0's ndcg@1: 0.455619\tvalid_0's ndcg@3: 0.477571\tvalid_0's ndcg@5: 0.496451\tvalid_0's ndcg@10: 0.541082\tvalid_0's ndcg@20: 0.613893\n",
      "[20]\tvalid_0's ndcg@1: 0.484993\tvalid_0's ndcg@3: 0.494589\tvalid_0's ndcg@5: 0.51136\tvalid_0's ndcg@10: 0.556637\tvalid_0's ndcg@20: 0.625811\n",
      "[30]\tvalid_0's ndcg@1: 0.485184\tvalid_0's ndcg@3: 0.50007\tvalid_0's ndcg@5: 0.520594\tvalid_0's ndcg@10: 0.562937\tvalid_0's ndcg@20: 0.630541\n",
      "[40]\tvalid_0's ndcg@1: 0.494722\tvalid_0's ndcg@3: 0.510949\tvalid_0's ndcg@5: 0.526985\tvalid_0's ndcg@10: 0.569449\tvalid_0's ndcg@20: 0.635683\n",
      "[50]\tvalid_0's ndcg@1: 0.500884\tvalid_0's ndcg@3: 0.516289\tvalid_0's ndcg@5: 0.531593\tvalid_0's ndcg@10: 0.572721\tvalid_0's ndcg@20: 0.638974\n",
      "[60]\tvalid_0's ndcg@1: 0.510498\tvalid_0's ndcg@3: 0.520505\tvalid_0's ndcg@5: 0.53734\tvalid_0's ndcg@10: 0.578059\tvalid_0's ndcg@20: 0.642907\n",
      "[70]\tvalid_0's ndcg@1: 0.509997\tvalid_0's ndcg@3: 0.524355\tvalid_0's ndcg@5: 0.540429\tvalid_0's ndcg@10: 0.581561\tvalid_0's ndcg@20: 0.646107\n",
      "[80]\tvalid_0's ndcg@1: 0.516917\tvalid_0's ndcg@3: 0.527188\tvalid_0's ndcg@5: 0.541999\tvalid_0's ndcg@10: 0.583863\tvalid_0's ndcg@20: 0.648018\n",
      "[90]\tvalid_0's ndcg@1: 0.511659\tvalid_0's ndcg@3: 0.528345\tvalid_0's ndcg@5: 0.543118\tvalid_0's ndcg@10: 0.584974\tvalid_0's ndcg@20: 0.648962\n",
      "[100]\tvalid_0's ndcg@1: 0.511993\tvalid_0's ndcg@3: 0.529342\tvalid_0's ndcg@5: 0.544295\tvalid_0's ndcg@10: 0.586501\tvalid_0's ndcg@20: 0.650321\n",
      "[110]\tvalid_0's ndcg@1: 0.513875\tvalid_0's ndcg@3: 0.530313\tvalid_0's ndcg@5: 0.54606\tvalid_0's ndcg@10: 0.588642\tvalid_0's ndcg@20: 0.651739\n",
      "[120]\tvalid_0's ndcg@1: 0.516913\tvalid_0's ndcg@3: 0.53208\tvalid_0's ndcg@5: 0.547303\tvalid_0's ndcg@10: 0.588944\tvalid_0's ndcg@20: 0.652799\n",
      "[130]\tvalid_0's ndcg@1: 0.515561\tvalid_0's ndcg@3: 0.531684\tvalid_0's ndcg@5: 0.547914\tvalid_0's ndcg@10: 0.588451\tvalid_0's ndcg@20: 0.652748\n",
      "[140]\tvalid_0's ndcg@1: 0.517882\tvalid_0's ndcg@3: 0.534261\tvalid_0's ndcg@5: 0.549467\tvalid_0's ndcg@10: 0.589089\tvalid_0's ndcg@20: 0.653993\n",
      "[150]\tvalid_0's ndcg@1: 0.515571\tvalid_0's ndcg@3: 0.534845\tvalid_0's ndcg@5: 0.549421\tvalid_0's ndcg@10: 0.591076\tvalid_0's ndcg@20: 0.654896\n",
      "[160]\tvalid_0's ndcg@1: 0.516053\tvalid_0's ndcg@3: 0.534967\tvalid_0's ndcg@5: 0.550661\tvalid_0's ndcg@10: 0.590963\tvalid_0's ndcg@20: 0.655171\n",
      "[170]\tvalid_0's ndcg@1: 0.523709\tvalid_0's ndcg@3: 0.537357\tvalid_0's ndcg@5: 0.553528\tvalid_0's ndcg@10: 0.592932\tvalid_0's ndcg@20: 0.657171\n",
      "[180]\tvalid_0's ndcg@1: 0.526441\tvalid_0's ndcg@3: 0.536462\tvalid_0's ndcg@5: 0.553788\tvalid_0's ndcg@10: 0.593681\tvalid_0's ndcg@20: 0.657976\n",
      "[190]\tvalid_0's ndcg@1: 0.530128\tvalid_0's ndcg@3: 0.539939\tvalid_0's ndcg@5: 0.556736\tvalid_0's ndcg@10: 0.595746\tvalid_0's ndcg@20: 0.659674\n",
      "[200]\tvalid_0's ndcg@1: 0.526537\tvalid_0's ndcg@3: 0.539342\tvalid_0's ndcg@5: 0.556867\tvalid_0's ndcg@10: 0.595782\tvalid_0's ndcg@20: 0.659461\n",
      "[210]\tvalid_0's ndcg@1: 0.530835\tvalid_0's ndcg@3: 0.539595\tvalid_0's ndcg@5: 0.557323\tvalid_0's ndcg@10: 0.59644\tvalid_0's ndcg@20: 0.660167\n",
      "[220]\tvalid_0's ndcg@1: 0.530788\tvalid_0's ndcg@3: 0.539171\tvalid_0's ndcg@5: 0.556943\tvalid_0's ndcg@10: 0.596917\tvalid_0's ndcg@20: 0.660407\n",
      "[230]\tvalid_0's ndcg@1: 0.529603\tvalid_0's ndcg@3: 0.539665\tvalid_0's ndcg@5: 0.556558\tvalid_0's ndcg@10: 0.596567\tvalid_0's ndcg@20: 0.660211\n"
     ]
    },
    {
     "name": "stderr",
     "output_type": "stream",
     "text": [
      "[I 2024-04-29 23:26:49,601] Trial 49 finished with value: 0.5766089609069861 and parameters: {'lambda_l1': 7.099974021154483e-08, 'lambda_l2': 0.3647333644434521, 'max_depth': 8, 'num_leaves': 183, 'colsample_bytree': 0.16422722537579118, 'min_child_samples': 78}. Best is trial 42 with value: 0.5857363265183739.\n"
     ]
    },
    {
     "name": "stdout",
     "output_type": "stream",
     "text": [
      "[240]\tvalid_0's ndcg@1: 0.532813\tvalid_0's ndcg@3: 0.5403\tvalid_0's ndcg@5: 0.558802\tvalid_0's ndcg@10: 0.597925\tvalid_0's ndcg@20: 0.66165\n",
      "Early stopping, best iteration is:\n",
      "[195]\tvalid_0's ndcg@1: 0.528481\tvalid_0's ndcg@3: 0.541556\tvalid_0's ndcg@5: 0.557101\tvalid_0's ndcg@10: 0.596267\tvalid_0's ndcg@20: 0.65964\n"
     ]
    }
   ],
   "source": [
    "def objective(trial):\n",
    "    # search param\n",
    "    param = {\n",
    "        'reg_alpha': trial.suggest_loguniform('lambda_l1', 1e-8, 10.0),\n",
    "        'reg_lambda': trial.suggest_loguniform('lambda_l2', 1e-8, 10.0),\n",
    "        'max_depth': trial.suggest_int('max_depth', 3, 8),\n",
    "        'num_leaves': trial.suggest_int('num_leaves', 2, 256),\n",
    "        'colsample_bytree': trial.suggest_uniform('colsample_bytree', 0.1, 1), \n",
    "        #'subsample': trial.suggest_uniform('subsample', 1e-8, 1), \n",
    "        'min_child_samples': trial.suggest_int('min_child_samples', 5, 100), \n",
    "    }\n",
    "    model = lightgbm.LGBMRanker(n_estimators=1000, **param, random_state=42,)\n",
    "    model.fit(\n",
    "        train[features],\n",
    "        train[target_col],\n",
    "        group=train_query,\n",
    "        eval_set=[(test[features], test[target_col])],\n",
    "        eval_group=[list(test_query)],\n",
    "        eval_at=[1, 3, 5, 10, 20], # ndcg@1,3,5,10,20\n",
    "        early_stopping_rounds=50,\n",
    "        verbose=10\n",
    "    )\n",
    "    scores = []\n",
    "    for name, score in model.best_score_['valid_0'].items():\n",
    "        scores.append(score)\n",
    "    return np.mean(scores)\n",
    " \n",
    "study = optuna.create_study(direction='maximize',\n",
    "                            sampler=optuna.samplers.TPESampler(seed=42)\n",
    "                           )\n",
    "study.optimize(objective, n_trials=50)"
   ]
  },
  {
   "cell_type": "code",
   "execution_count": 92,
   "metadata": {},
   "outputs": [
    {
     "name": "stdout",
     "output_type": "stream",
     "text": [
      "Number of finished trials: 50\n",
      "Best trial: {'lambda_l1': 4.133596651257748e-08, 'lambda_l2': 1.5143122015258481, 'max_depth': 8, 'num_leaves': 192, 'colsample_bytree': 0.3510154411301336, 'min_child_samples': 97}\n"
     ]
    }
   ],
   "source": [
    "print('Number of finished trials:', len(study.trials))\n",
    "print('Best trial:', study.best_trial.params)"
   ]
  },
  {
   "cell_type": "code",
   "execution_count": 93,
   "metadata": {},
   "outputs": [
    {
     "name": "stdout",
     "output_type": "stream",
     "text": [
      "Training until validation scores don't improve for 50 rounds\n",
      "[10]\tvalid_0's ndcg@1: 0.485432\tvalid_0's ndcg@3: 0.496374\tvalid_0's ndcg@5: 0.515203\tvalid_0's ndcg@10: 0.558383\tvalid_0's ndcg@20: 0.626707\n",
      "[20]\tvalid_0's ndcg@1: 0.495104\tvalid_0's ndcg@3: 0.512771\tvalid_0's ndcg@5: 0.52939\tvalid_0's ndcg@10: 0.569457\tvalid_0's ndcg@20: 0.63643\n",
      "[30]\tvalid_0's ndcg@1: 0.499651\tvalid_0's ndcg@3: 0.517367\tvalid_0's ndcg@5: 0.536717\tvalid_0's ndcg@10: 0.576166\tvalid_0's ndcg@20: 0.641347\n",
      "[40]\tvalid_0's ndcg@1: 0.512151\tvalid_0's ndcg@3: 0.524832\tvalid_0's ndcg@5: 0.542529\tvalid_0's ndcg@10: 0.580472\tvalid_0's ndcg@20: 0.646654\n",
      "[50]\tvalid_0's ndcg@1: 0.516067\tvalid_0's ndcg@3: 0.528969\tvalid_0's ndcg@5: 0.546813\tvalid_0's ndcg@10: 0.583068\tvalid_0's ndcg@20: 0.649487\n",
      "[60]\tvalid_0's ndcg@1: 0.520289\tvalid_0's ndcg@3: 0.534678\tvalid_0's ndcg@5: 0.54949\tvalid_0's ndcg@10: 0.586513\tvalid_0's ndcg@20: 0.652594\n",
      "[70]\tvalid_0's ndcg@1: 0.522396\tvalid_0's ndcg@3: 0.534019\tvalid_0's ndcg@5: 0.55119\tvalid_0's ndcg@10: 0.588298\tvalid_0's ndcg@20: 0.653602\n",
      "[80]\tvalid_0's ndcg@1: 0.526327\tvalid_0's ndcg@3: 0.537981\tvalid_0's ndcg@5: 0.554102\tvalid_0's ndcg@10: 0.590667\tvalid_0's ndcg@20: 0.655128\n",
      "[90]\tvalid_0's ndcg@1: 0.526365\tvalid_0's ndcg@3: 0.539086\tvalid_0's ndcg@5: 0.554809\tvalid_0's ndcg@10: 0.591985\tvalid_0's ndcg@20: 0.655625\n",
      "[100]\tvalid_0's ndcg@1: 0.527081\tvalid_0's ndcg@3: 0.538057\tvalid_0's ndcg@5: 0.556851\tvalid_0's ndcg@10: 0.592699\tvalid_0's ndcg@20: 0.657224\n",
      "[110]\tvalid_0's ndcg@1: 0.531447\tvalid_0's ndcg@3: 0.540593\tvalid_0's ndcg@5: 0.559638\tvalid_0's ndcg@10: 0.594871\tvalid_0's ndcg@20: 0.658555\n",
      "[120]\tvalid_0's ndcg@1: 0.531213\tvalid_0's ndcg@3: 0.543155\tvalid_0's ndcg@5: 0.55963\tvalid_0's ndcg@10: 0.595456\tvalid_0's ndcg@20: 0.659768\n",
      "[130]\tvalid_0's ndcg@1: 0.532455\tvalid_0's ndcg@3: 0.542012\tvalid_0's ndcg@5: 0.560024\tvalid_0's ndcg@10: 0.596138\tvalid_0's ndcg@20: 0.66025\n",
      "[140]\tvalid_0's ndcg@1: 0.532268\tvalid_0's ndcg@3: 0.544882\tvalid_0's ndcg@5: 0.561449\tvalid_0's ndcg@10: 0.59686\tvalid_0's ndcg@20: 0.660505\n",
      "[150]\tvalid_0's ndcg@1: 0.534475\tvalid_0's ndcg@3: 0.544906\tvalid_0's ndcg@5: 0.561391\tvalid_0's ndcg@10: 0.59681\tvalid_0's ndcg@20: 0.661049\n",
      "[160]\tvalid_0's ndcg@1: 0.531537\tvalid_0's ndcg@3: 0.543671\tvalid_0's ndcg@5: 0.561929\tvalid_0's ndcg@10: 0.596667\tvalid_0's ndcg@20: 0.661121\n",
      "[170]\tvalid_0's ndcg@1: 0.532813\tvalid_0's ndcg@3: 0.545073\tvalid_0's ndcg@5: 0.562201\tvalid_0's ndcg@10: 0.59842\tvalid_0's ndcg@20: 0.661884\n",
      "[180]\tvalid_0's ndcg@1: 0.532712\tvalid_0's ndcg@3: 0.545852\tvalid_0's ndcg@5: 0.563585\tvalid_0's ndcg@10: 0.599471\tvalid_0's ndcg@20: 0.662155\n",
      "[190]\tvalid_0's ndcg@1: 0.535779\tvalid_0's ndcg@3: 0.546943\tvalid_0's ndcg@5: 0.565183\tvalid_0's ndcg@10: 0.600376\tvalid_0's ndcg@20: 0.662957\n",
      "[200]\tvalid_0's ndcg@1: 0.534575\tvalid_0's ndcg@3: 0.546787\tvalid_0's ndcg@5: 0.564526\tvalid_0's ndcg@10: 0.600095\tvalid_0's ndcg@20: 0.663008\n",
      "[210]\tvalid_0's ndcg@1: 0.53617\tvalid_0's ndcg@3: 0.549221\tvalid_0's ndcg@5: 0.566139\tvalid_0's ndcg@10: 0.601187\tvalid_0's ndcg@20: 0.66381\n",
      "[220]\tvalid_0's ndcg@1: 0.535621\tvalid_0's ndcg@3: 0.548481\tvalid_0's ndcg@5: 0.566753\tvalid_0's ndcg@10: 0.601689\tvalid_0's ndcg@20: 0.663919\n",
      "[230]\tvalid_0's ndcg@1: 0.538988\tvalid_0's ndcg@3: 0.550053\tvalid_0's ndcg@5: 0.566981\tvalid_0's ndcg@10: 0.603192\tvalid_0's ndcg@20: 0.665049\n",
      "[240]\tvalid_0's ndcg@1: 0.536404\tvalid_0's ndcg@3: 0.551195\tvalid_0's ndcg@5: 0.567814\tvalid_0's ndcg@10: 0.602897\tvalid_0's ndcg@20: 0.664704\n",
      "[250]\tvalid_0's ndcg@1: 0.536376\tvalid_0's ndcg@3: 0.549743\tvalid_0's ndcg@5: 0.567925\tvalid_0's ndcg@10: 0.603423\tvalid_0's ndcg@20: 0.665479\n",
      "[260]\tvalid_0's ndcg@1: 0.539624\tvalid_0's ndcg@3: 0.552077\tvalid_0's ndcg@5: 0.569286\tvalid_0's ndcg@10: 0.604815\tvalid_0's ndcg@20: 0.666765\n",
      "[270]\tvalid_0's ndcg@1: 0.536729\tvalid_0's ndcg@3: 0.550571\tvalid_0's ndcg@5: 0.56986\tvalid_0's ndcg@10: 0.604195\tvalid_0's ndcg@20: 0.666274\n",
      "[280]\tvalid_0's ndcg@1: 0.535635\tvalid_0's ndcg@3: 0.551186\tvalid_0's ndcg@5: 0.569919\tvalid_0's ndcg@10: 0.605047\tvalid_0's ndcg@20: 0.666594\n",
      "Early stopping, best iteration is:\n",
      "[236]\tvalid_0's ndcg@1: 0.540856\tvalid_0's ndcg@3: 0.550923\tvalid_0's ndcg@5: 0.568209\tvalid_0's ndcg@10: 0.603462\tvalid_0's ndcg@20: 0.665231\n"
     ]
    },
    {
     "data": {
      "text/html": [
       "<style>#sk-container-id-3 {color: black;}#sk-container-id-3 pre{padding: 0;}#sk-container-id-3 div.sk-toggleable {background-color: white;}#sk-container-id-3 label.sk-toggleable__label {cursor: pointer;display: block;width: 100%;margin-bottom: 0;padding: 0.3em;box-sizing: border-box;text-align: center;}#sk-container-id-3 label.sk-toggleable__label-arrow:before {content: \"▸\";float: left;margin-right: 0.25em;color: #696969;}#sk-container-id-3 label.sk-toggleable__label-arrow:hover:before {color: black;}#sk-container-id-3 div.sk-estimator:hover label.sk-toggleable__label-arrow:before {color: black;}#sk-container-id-3 div.sk-toggleable__content {max-height: 0;max-width: 0;overflow: hidden;text-align: left;background-color: #f0f8ff;}#sk-container-id-3 div.sk-toggleable__content pre {margin: 0.2em;color: black;border-radius: 0.25em;background-color: #f0f8ff;}#sk-container-id-3 input.sk-toggleable__control:checked~div.sk-toggleable__content {max-height: 200px;max-width: 100%;overflow: auto;}#sk-container-id-3 input.sk-toggleable__control:checked~label.sk-toggleable__label-arrow:before {content: \"▾\";}#sk-container-id-3 div.sk-estimator input.sk-toggleable__control:checked~label.sk-toggleable__label {background-color: #d4ebff;}#sk-container-id-3 div.sk-label input.sk-toggleable__control:checked~label.sk-toggleable__label {background-color: #d4ebff;}#sk-container-id-3 input.sk-hidden--visually {border: 0;clip: rect(1px 1px 1px 1px);clip: rect(1px, 1px, 1px, 1px);height: 1px;margin: -1px;overflow: hidden;padding: 0;position: absolute;width: 1px;}#sk-container-id-3 div.sk-estimator {font-family: monospace;background-color: #f0f8ff;border: 1px dotted black;border-radius: 0.25em;box-sizing: border-box;margin-bottom: 0.5em;}#sk-container-id-3 div.sk-estimator:hover {background-color: #d4ebff;}#sk-container-id-3 div.sk-parallel-item::after {content: \"\";width: 100%;border-bottom: 1px solid gray;flex-grow: 1;}#sk-container-id-3 div.sk-label:hover label.sk-toggleable__label {background-color: #d4ebff;}#sk-container-id-3 div.sk-serial::before {content: \"\";position: absolute;border-left: 1px solid gray;box-sizing: border-box;top: 0;bottom: 0;left: 50%;z-index: 0;}#sk-container-id-3 div.sk-serial {display: flex;flex-direction: column;align-items: center;background-color: white;padding-right: 0.2em;padding-left: 0.2em;position: relative;}#sk-container-id-3 div.sk-item {position: relative;z-index: 1;}#sk-container-id-3 div.sk-parallel {display: flex;align-items: stretch;justify-content: center;background-color: white;position: relative;}#sk-container-id-3 div.sk-item::before, #sk-container-id-3 div.sk-parallel-item::before {content: \"\";position: absolute;border-left: 1px solid gray;box-sizing: border-box;top: 0;bottom: 0;left: 50%;z-index: -1;}#sk-container-id-3 div.sk-parallel-item {display: flex;flex-direction: column;z-index: 1;position: relative;background-color: white;}#sk-container-id-3 div.sk-parallel-item:first-child::after {align-self: flex-end;width: 50%;}#sk-container-id-3 div.sk-parallel-item:last-child::after {align-self: flex-start;width: 50%;}#sk-container-id-3 div.sk-parallel-item:only-child::after {width: 0;}#sk-container-id-3 div.sk-dashed-wrapped {border: 1px dashed gray;margin: 0 0.4em 0.5em 0.4em;box-sizing: border-box;padding-bottom: 0.4em;background-color: white;}#sk-container-id-3 div.sk-label label {font-family: monospace;font-weight: bold;display: inline-block;line-height: 1.2em;}#sk-container-id-3 div.sk-label-container {text-align: center;}#sk-container-id-3 div.sk-container {/* jupyter's `normalize.less` sets `[hidden] { display: none; }` but bootstrap.min.css set `[hidden] { display: none !important; }` so we also need the `!important` here to be able to override the default hidden behavior on the sphinx rendered scikit-learn.org. See: https://github.com/scikit-learn/scikit-learn/issues/21755 */display: inline-block !important;position: relative;}#sk-container-id-3 div.sk-text-repr-fallback {display: none;}</style><div id=\"sk-container-id-3\" class=\"sk-top-container\"><div class=\"sk-text-repr-fallback\"><pre>LGBMRanker(colsample_bytree=0.3510154411301336, lambda_l1=4.133596651257748e-08,\n",
       "           lambda_l2=1.5143122015258481, max_depth=8, min_child_samples=97,\n",
       "           n_estimators=1000, num_leaves=192, random_state=42)</pre><b>In a Jupyter environment, please rerun this cell to show the HTML representation or trust the notebook. <br />On GitHub, the HTML representation is unable to render, please try loading this page with nbviewer.org.</b></div><div class=\"sk-container\" hidden><div class=\"sk-item\"><div class=\"sk-estimator sk-toggleable\"><input class=\"sk-toggleable__control sk-hidden--visually\" id=\"sk-estimator-id-3\" type=\"checkbox\" checked><label for=\"sk-estimator-id-3\" class=\"sk-toggleable__label sk-toggleable__label-arrow\">LGBMRanker</label><div class=\"sk-toggleable__content\"><pre>LGBMRanker(colsample_bytree=0.3510154411301336, lambda_l1=4.133596651257748e-08,\n",
       "           lambda_l2=1.5143122015258481, max_depth=8, min_child_samples=97,\n",
       "           n_estimators=1000, num_leaves=192, random_state=42)</pre></div></div></div></div></div>"
      ],
      "text/plain": [
       "LGBMRanker(colsample_bytree=0.3510154411301336, lambda_l1=4.133596651257748e-08,\n",
       "           lambda_l2=1.5143122015258481, max_depth=8, min_child_samples=97,\n",
       "           n_estimators=1000, num_leaves=192, random_state=42)"
      ]
     },
     "execution_count": 93,
     "metadata": {},
     "output_type": "execute_result"
    }
   ],
   "source": [
    "best_params = study.best_trial.params\n",
    "model = lgb.LGBMRanker(n_estimators=1000, **best_params, random_state=42,)\n",
    "model.fit(\n",
    "    train[features],\n",
    "    train[target_col],\n",
    "    group=train_query,\n",
    "    eval_set=[(test[features], test[target_col])],\n",
    "    eval_group=[list(test_query)],\n",
    "    eval_at=[1, 3, 5, 10, 20],\n",
    "    early_stopping_rounds=50,\n",
    "    verbose=10\n",
    ")"
   ]
  },
  {
   "cell_type": "code",
   "execution_count": 94,
   "metadata": {},
   "outputs": [
    {
     "data": {
      "text/plain": [
       "array([-0.36383452,  0.36572665, -1.34130105,  2.72470336,  0.96605914,\n",
       "       -2.20287574, -0.3225671 , -1.31684772, -0.36815366, -0.95867434])"
      ]
     },
     "execution_count": 94,
     "metadata": {},
     "output_type": "execute_result"
    }
   ],
   "source": [
    "model.predict(test.iloc[:10][features])"
   ]
  },
  {
   "cell_type": "code",
   "execution_count": 95,
   "metadata": {},
   "outputs": [],
   "source": [
    "import matplotlib.pyplot as plt\n",
    "import seaborn as sns"
   ]
  },
  {
   "cell_type": "code",
   "execution_count": 96,
   "metadata": {},
   "outputs": [
    {
     "data": {
      "text/plain": [
       "Text(0.5, 1.0, 'feature importance')"
      ]
     },
     "execution_count": 96,
     "metadata": {},
     "output_type": "execute_result"
    },
    {
     "data": {
      "image/png": "[encoded data removed]",
      "text/plain": [
       "<Figure size 1000x700 with 1 Axes>"
      ]
     },
     "metadata": {},
     "output_type": "display_data"
    }
   ],
   "source": [
    "plt.figure(figsize=(10, 7))\n",
    "df_plt = pd.DataFrame({'feature_name': features, 'feature_importance': model.feature_importances_})\n",
    "df_plt.sort_values('feature_importance', ascending=False, inplace=True)\n",
    "sns.barplot(x=\"feature_importance\", y=\"feature_name\", data=df_plt)\n",
    "plt.title('feature importance')"
   ]
  },
  {
   "cell_type": "code",
   "execution_count": 101,
   "metadata": {},
   "outputs": [
    {
     "data": {
      "text/plain": [
       "Index(['rank', 'query_id', 'feature_0', 'feature_1', 'feature_2', 'feature_3',\n",
       "       'feature_4', 'feature_5', 'feature_6', 'feature_7',\n",
       "       ...\n",
       "       'feature_134', 'feature_135', 'feature_136', 'feature_137',\n",
       "       'feature_138', 'feature_139', 'feature_140', 'feature_141',\n",
       "       'feature_142', 'feature_143'],\n",
       "      dtype='object', length=146)"
      ]
     },
     "execution_count": 101,
     "metadata": {},
     "output_type": "execute_result"
    }
   ],
   "source": [
    "test.columns"
   ]
  },
  {
   "cell_type": "code",
   "execution_count": 110,
   "metadata": {},
   "outputs": [
    {
     "name": "stdout",
     "output_type": "stream",
     "text": [
      "Average NDCG@5: 0.016095185557202744\n"
     ]
    }
   ],
   "source": [
    "y_pred = model.predict(test[features])\n",
    "ndcg_scores = []\n",
    "for i in test_query.index:\n",
    "    start = sum(test_query[:i])\n",
    "    end = start + test_query[i]\n",
    "    end = start + test_query[i]\n",
    "    group_preds = y_pred[start:end]\n",
    "    group_true = test[target_col].iloc[start:end]\n",
    "    ndcg_scores.append(ndcg_at_k(group_true, 5))\n",
    "\n",
    "average_ndcg_5 = np.mean(ndcg_scores)\n",
    "print(f\"Average NDCG@5: {average_ndcg_5}\")"
   ]
  },
  {
   "cell_type": "markdown",
   "metadata": {},
   "source": [
    "# решение 3"
   ]
  },
  {
   "cell_type": "markdown",
   "metadata": {},
   "source": []
  },
  {
   "cell_type": "code",
   "execution_count": 111,
   "metadata": {},
   "outputs": [
    {
     "name": "stderr",
     "output_type": "stream",
     "text": [
      "[I 2024-04-29 23:46:41,427] A new study created in memory with name: no-name-c132b812-aba1-4511-81b4-8a2484172102\n",
      "C:\\Users\\savolk25\\AppData\\Local\\Temp\\ipykernel_19764\\389573219.py:4: FutureWarning: suggest_loguniform has been deprecated in v3.0.0. This feature will be removed in v6.0.0. See https://github.com/optuna/optuna/releases/tag/v3.0.0. Use suggest_float(..., log=True) instead.\n",
      "  'reg_alpha': trial.suggest_loguniform('lambda_l1', 1e-8, 10.0),\n",
      "C:\\Users\\savolk25\\AppData\\Local\\Temp\\ipykernel_19764\\389573219.py:5: FutureWarning: suggest_loguniform has been deprecated in v3.0.0. This feature will be removed in v6.0.0. See https://github.com/optuna/optuna/releases/tag/v3.0.0. Use suggest_float(..., log=True) instead.\n",
      "  'reg_lambda': trial.suggest_loguniform('lambda_l2', 1e-8, 10.0),\n",
      "C:\\Users\\savolk25\\AppData\\Local\\Temp\\ipykernel_19764\\389573219.py:8: FutureWarning: suggest_uniform has been deprecated in v3.0.0. This feature will be removed in v6.0.0. See https://github.com/optuna/optuna/releases/tag/v3.0.0. Use suggest_float instead.\n",
      "  'colsample_bytree': trial.suggest_uniform('colsample_bytree', 0.1, 1),\n"
     ]
    },
    {
     "name": "stdout",
     "output_type": "stream",
     "text": [
      "Training until validation scores don't improve for 50 rounds\n",
      "[10]\tvalid_0's ndcg@1: 0.473162\tvalid_0's ndcg@3: 0.488408\tvalid_0's ndcg@5: 0.505774\tvalid_0's ndcg@10: 0.547863\tvalid_0's ndcg@20: 0.618362\n",
      "[20]\tvalid_0's ndcg@1: 0.486627\tvalid_0's ndcg@3: 0.5055\tvalid_0's ndcg@5: 0.518108\tvalid_0's ndcg@10: 0.560423\tvalid_0's ndcg@20: 0.628358\n",
      "[30]\tvalid_0's ndcg@1: 0.485518\tvalid_0's ndcg@3: 0.509006\tvalid_0's ndcg@5: 0.523757\tvalid_0's ndcg@10: 0.565037\tvalid_0's ndcg@20: 0.632432\n",
      "[40]\tvalid_0's ndcg@1: 0.499513\tvalid_0's ndcg@3: 0.515961\tvalid_0's ndcg@5: 0.530979\tvalid_0's ndcg@10: 0.571257\tvalid_0's ndcg@20: 0.638695\n",
      "[50]\tvalid_0's ndcg@1: 0.502025\tvalid_0's ndcg@3: 0.518965\tvalid_0's ndcg@5: 0.536084\tvalid_0's ndcg@10: 0.57457\tvalid_0's ndcg@20: 0.641458\n",
      "[60]\tvalid_0's ndcg@1: 0.506902\tvalid_0's ndcg@3: 0.521558\tvalid_0's ndcg@5: 0.538654\tvalid_0's ndcg@10: 0.578747\tvalid_0's ndcg@20: 0.643461\n",
      "[70]\tvalid_0's ndcg@1: 0.509266\tvalid_0's ndcg@3: 0.525173\tvalid_0's ndcg@5: 0.54249\tvalid_0's ndcg@10: 0.580246\tvalid_0's ndcg@20: 0.646153\n",
      "[80]\tvalid_0's ndcg@1: 0.51109\tvalid_0's ndcg@3: 0.526121\tvalid_0's ndcg@5: 0.543225\tvalid_0's ndcg@10: 0.582465\tvalid_0's ndcg@20: 0.647503\n",
      "[90]\tvalid_0's ndcg@1: 0.513225\tvalid_0's ndcg@3: 0.526877\tvalid_0's ndcg@5: 0.545683\tvalid_0's ndcg@10: 0.584794\tvalid_0's ndcg@20: 0.649345\n",
      "[100]\tvalid_0's ndcg@1: 0.51548\tvalid_0's ndcg@3: 0.528356\tvalid_0's ndcg@5: 0.546702\tvalid_0's ndcg@10: 0.584787\tvalid_0's ndcg@20: 0.650606\n",
      "[110]\tvalid_0's ndcg@1: 0.519148\tvalid_0's ndcg@3: 0.530642\tvalid_0's ndcg@5: 0.54841\tvalid_0's ndcg@10: 0.587109\tvalid_0's ndcg@20: 0.651833\n",
      "[120]\tvalid_0's ndcg@1: 0.518159\tvalid_0's ndcg@3: 0.530062\tvalid_0's ndcg@5: 0.549233\tvalid_0's ndcg@10: 0.587277\tvalid_0's ndcg@20: 0.651927\n",
      "[130]\tvalid_0's ndcg@1: 0.519072\tvalid_0's ndcg@3: 0.531853\tvalid_0's ndcg@5: 0.550744\tvalid_0's ndcg@10: 0.587533\tvalid_0's ndcg@20: 0.652598\n",
      "[140]\tvalid_0's ndcg@1: 0.52134\tvalid_0's ndcg@3: 0.533423\tvalid_0's ndcg@5: 0.551931\tvalid_0's ndcg@10: 0.588416\tvalid_0's ndcg@20: 0.653147\n",
      "[150]\tvalid_0's ndcg@1: 0.520051\tvalid_0's ndcg@3: 0.534798\tvalid_0's ndcg@5: 0.553036\tvalid_0's ndcg@10: 0.588858\tvalid_0's ndcg@20: 0.653783\n",
      "[160]\tvalid_0's ndcg@1: 0.520199\tvalid_0's ndcg@3: 0.534279\tvalid_0's ndcg@5: 0.552963\tvalid_0's ndcg@10: 0.589471\tvalid_0's ndcg@20: 0.654199\n",
      "[170]\tvalid_0's ndcg@1: 0.521526\tvalid_0's ndcg@3: 0.534973\tvalid_0's ndcg@5: 0.55297\tvalid_0's ndcg@10: 0.589787\tvalid_0's ndcg@20: 0.654463\n",
      "[180]\tvalid_0's ndcg@1: 0.519721\tvalid_0's ndcg@3: 0.534318\tvalid_0's ndcg@5: 0.553165\tvalid_0's ndcg@10: 0.589649\tvalid_0's ndcg@20: 0.654363\n",
      "[190]\tvalid_0's ndcg@1: 0.521149\tvalid_0's ndcg@3: 0.536047\tvalid_0's ndcg@5: 0.553248\tvalid_0's ndcg@10: 0.590916\tvalid_0's ndcg@20: 0.655263\n",
      "[200]\tvalid_0's ndcg@1: 0.520457\tvalid_0's ndcg@3: 0.535684\tvalid_0's ndcg@5: 0.552748\tvalid_0's ndcg@10: 0.590854\tvalid_0's ndcg@20: 0.655077\n",
      "[210]\tvalid_0's ndcg@1: 0.523943\tvalid_0's ndcg@3: 0.53663\tvalid_0's ndcg@5: 0.554293\tvalid_0's ndcg@10: 0.591949\tvalid_0's ndcg@20: 0.656301\n",
      "[220]\tvalid_0's ndcg@1: 0.523313\tvalid_0's ndcg@3: 0.537155\tvalid_0's ndcg@5: 0.554781\tvalid_0's ndcg@10: 0.592848\tvalid_0's ndcg@20: 0.656167\n",
      "[230]\tvalid_0's ndcg@1: 0.526628\tvalid_0's ndcg@3: 0.538149\tvalid_0's ndcg@5: 0.555214\tvalid_0's ndcg@10: 0.592869\tvalid_0's ndcg@20: 0.657736\n",
      "[240]\tvalid_0's ndcg@1: 0.527377\tvalid_0's ndcg@3: 0.538878\tvalid_0's ndcg@5: 0.555727\tvalid_0's ndcg@10: 0.593345\tvalid_0's ndcg@20: 0.657924\n",
      "[250]\tvalid_0's ndcg@1: 0.525863\tvalid_0's ndcg@3: 0.53618\tvalid_0's ndcg@5: 0.555643\tvalid_0's ndcg@10: 0.593752\tvalid_0's ndcg@20: 0.657649\n",
      "[260]\tvalid_0's ndcg@1: 0.523967\tvalid_0's ndcg@3: 0.538061\tvalid_0's ndcg@5: 0.555486\tvalid_0's ndcg@10: 0.594342\tvalid_0's ndcg@20: 0.657596\n",
      "[270]\tvalid_0's ndcg@1: 0.523217\tvalid_0's ndcg@3: 0.538484\tvalid_0's ndcg@5: 0.556644\tvalid_0's ndcg@10: 0.593472\tvalid_0's ndcg@20: 0.65774\n",
      "[280]\tvalid_0's ndcg@1: 0.525137\tvalid_0's ndcg@3: 0.538897\tvalid_0's ndcg@5: 0.55683\tvalid_0's ndcg@10: 0.593999\tvalid_0's ndcg@20: 0.658124\n"
     ]
    },
    {
     "name": "stderr",
     "output_type": "stream",
     "text": [
      "[I 2024-04-29 23:46:49,731] Trial 0 finished with value: 0.5744781768043928 and parameters: {'lambda_l1': 2.348881295853308e-05, 'lambda_l2': 3.6010467344475403, 'max_depth': 7, 'num_leaves': 154, 'colsample_bytree': 0.24041677639819287, 'min_child_samples': 19}. Best is trial 0 with value: 0.5744781768043928.\n"
     ]
    },
    {
     "name": "stdout",
     "output_type": "stream",
     "text": [
      "Early stopping, best iteration is:\n",
      "[235]\tvalid_0's ndcg@1: 0.52807\tvalid_0's ndcg@3: 0.538056\tvalid_0's ndcg@5: 0.555321\tvalid_0's ndcg@10: 0.593249\tvalid_0's ndcg@20: 0.657695\n"
     ]
    },
    {
     "name": "stderr",
     "output_type": "stream",
     "text": [
      "C:\\Users\\savolk25\\AppData\\Local\\Temp\\ipykernel_19764\\389573219.py:4: FutureWarning: suggest_loguniform has been deprecated in v3.0.0. This feature will be removed in v6.0.0. See https://github.com/optuna/optuna/releases/tag/v3.0.0. Use suggest_float(..., log=True) instead.\n",
      "  'reg_alpha': trial.suggest_loguniform('lambda_l1', 1e-8, 10.0),\n",
      "C:\\Users\\savolk25\\AppData\\Local\\Temp\\ipykernel_19764\\389573219.py:5: FutureWarning: suggest_loguniform has been deprecated in v3.0.0. This feature will be removed in v6.0.0. See https://github.com/optuna/optuna/releases/tag/v3.0.0. Use suggest_float(..., log=True) instead.\n",
      "  'reg_lambda': trial.suggest_loguniform('lambda_l2', 1e-8, 10.0),\n",
      "C:\\Users\\savolk25\\AppData\\Local\\Temp\\ipykernel_19764\\389573219.py:8: FutureWarning: suggest_uniform has been deprecated in v3.0.0. This feature will be removed in v6.0.0. See https://github.com/optuna/optuna/releases/tag/v3.0.0. Use suggest_float instead.\n",
      "  'colsample_bytree': trial.suggest_uniform('colsample_bytree', 0.1, 1),\n"
     ]
    },
    {
     "name": "stdout",
     "output_type": "stream",
     "text": [
      "Training until validation scores don't improve for 50 rounds\n",
      "[10]\tvalid_0's ndcg@1: 0.44398\tvalid_0's ndcg@3: 0.460777\tvalid_0's ndcg@5: 0.483653\tvalid_0's ndcg@10: 0.532047\tvalid_0's ndcg@20: 0.605778\n",
      "[20]\tvalid_0's ndcg@1: 0.454917\tvalid_0's ndcg@3: 0.475853\tvalid_0's ndcg@5: 0.493902\tvalid_0's ndcg@10: 0.539597\tvalid_0's ndcg@20: 0.612467\n",
      "[30]\tvalid_0's ndcg@1: 0.474729\tvalid_0's ndcg@3: 0.491256\tvalid_0's ndcg@5: 0.50865\tvalid_0's ndcg@10: 0.552069\tvalid_0's ndcg@20: 0.622697\n",
      "[40]\tvalid_0's ndcg@1: 0.486841\tvalid_0's ndcg@3: 0.500208\tvalid_0's ndcg@5: 0.517225\tvalid_0's ndcg@10: 0.560176\tvalid_0's ndcg@20: 0.627808\n",
      "[50]\tvalid_0's ndcg@1: 0.493218\tvalid_0's ndcg@3: 0.509174\tvalid_0's ndcg@5: 0.52504\tvalid_0's ndcg@10: 0.566919\tvalid_0's ndcg@20: 0.632504\n",
      "[60]\tvalid_0's ndcg@1: 0.498257\tvalid_0's ndcg@3: 0.512476\tvalid_0's ndcg@5: 0.527502\tvalid_0's ndcg@10: 0.569585\tvalid_0's ndcg@20: 0.636072\n",
      "[70]\tvalid_0's ndcg@1: 0.500602\tvalid_0's ndcg@3: 0.516671\tvalid_0's ndcg@5: 0.531544\tvalid_0's ndcg@10: 0.571999\tvalid_0's ndcg@20: 0.637454\n",
      "[80]\tvalid_0's ndcg@1: 0.507179\tvalid_0's ndcg@3: 0.518897\tvalid_0's ndcg@5: 0.534577\tvalid_0's ndcg@10: 0.574447\tvalid_0's ndcg@20: 0.640204\n",
      "[90]\tvalid_0's ndcg@1: 0.509758\tvalid_0's ndcg@3: 0.520818\tvalid_0's ndcg@5: 0.535661\tvalid_0's ndcg@10: 0.575926\tvalid_0's ndcg@20: 0.641971\n",
      "[100]\tvalid_0's ndcg@1: 0.512132\tvalid_0's ndcg@3: 0.523186\tvalid_0's ndcg@5: 0.53761\tvalid_0's ndcg@10: 0.577473\tvalid_0's ndcg@20: 0.643443\n",
      "[110]\tvalid_0's ndcg@1: 0.515623\tvalid_0's ndcg@3: 0.524225\tvalid_0's ndcg@5: 0.53957\tvalid_0's ndcg@10: 0.578782\tvalid_0's ndcg@20: 0.645647\n",
      "[120]\tvalid_0's ndcg@1: 0.514348\tvalid_0's ndcg@3: 0.526515\tvalid_0's ndcg@5: 0.541257\tvalid_0's ndcg@10: 0.580207\tvalid_0's ndcg@20: 0.647089\n",
      "[130]\tvalid_0's ndcg@1: 0.514802\tvalid_0's ndcg@3: 0.526132\tvalid_0's ndcg@5: 0.540768\tvalid_0's ndcg@10: 0.580855\tvalid_0's ndcg@20: 0.646955\n",
      "[140]\tvalid_0's ndcg@1: 0.51376\tvalid_0's ndcg@3: 0.527479\tvalid_0's ndcg@5: 0.540911\tvalid_0's ndcg@10: 0.582141\tvalid_0's ndcg@20: 0.647721\n",
      "[150]\tvalid_0's ndcg@1: 0.517452\tvalid_0's ndcg@3: 0.529853\tvalid_0's ndcg@5: 0.54539\tvalid_0's ndcg@10: 0.584823\tvalid_0's ndcg@20: 0.64932\n",
      "[160]\tvalid_0's ndcg@1: 0.518236\tvalid_0's ndcg@3: 0.529411\tvalid_0's ndcg@5: 0.545198\tvalid_0's ndcg@10: 0.584687\tvalid_0's ndcg@20: 0.649685\n",
      "[170]\tvalid_0's ndcg@1: 0.517686\tvalid_0's ndcg@3: 0.530071\tvalid_0's ndcg@5: 0.546499\tvalid_0's ndcg@10: 0.585127\tvalid_0's ndcg@20: 0.650038\n",
      "[180]\tvalid_0's ndcg@1: 0.518159\tvalid_0's ndcg@3: 0.532266\tvalid_0's ndcg@5: 0.547213\tvalid_0's ndcg@10: 0.585916\tvalid_0's ndcg@20: 0.650538\n",
      "[190]\tvalid_0's ndcg@1: 0.518379\tvalid_0's ndcg@3: 0.532342\tvalid_0's ndcg@5: 0.548009\tvalid_0's ndcg@10: 0.586813\tvalid_0's ndcg@20: 0.650761\n",
      "[200]\tvalid_0's ndcg@1: 0.518823\tvalid_0's ndcg@3: 0.533012\tvalid_0's ndcg@5: 0.547669\tvalid_0's ndcg@10: 0.587188\tvalid_0's ndcg@20: 0.650837\n",
      "[210]\tvalid_0's ndcg@1: 0.520466\tvalid_0's ndcg@3: 0.533945\tvalid_0's ndcg@5: 0.549156\tvalid_0's ndcg@10: 0.588591\tvalid_0's ndcg@20: 0.651183\n",
      "[220]\tvalid_0's ndcg@1: 0.51899\tvalid_0's ndcg@3: 0.533471\tvalid_0's ndcg@5: 0.548883\tvalid_0's ndcg@10: 0.588226\tvalid_0's ndcg@20: 0.651677\n",
      "[230]\tvalid_0's ndcg@1: 0.519912\tvalid_0's ndcg@3: 0.533309\tvalid_0's ndcg@5: 0.548124\tvalid_0's ndcg@10: 0.587899\tvalid_0's ndcg@20: 0.651528\n",
      "[240]\tvalid_0's ndcg@1: 0.521589\tvalid_0's ndcg@3: 0.534856\tvalid_0's ndcg@5: 0.548746\tvalid_0's ndcg@10: 0.589542\tvalid_0's ndcg@20: 0.652266\n",
      "[250]\tvalid_0's ndcg@1: 0.519793\tvalid_0's ndcg@3: 0.533322\tvalid_0's ndcg@5: 0.548504\tvalid_0's ndcg@10: 0.589242\tvalid_0's ndcg@20: 0.652215\n",
      "[260]\tvalid_0's ndcg@1: 0.523523\tvalid_0's ndcg@3: 0.533655\tvalid_0's ndcg@5: 0.549048\tvalid_0's ndcg@10: 0.589658\tvalid_0's ndcg@20: 0.652485\n",
      "[270]\tvalid_0's ndcg@1: 0.523399\tvalid_0's ndcg@3: 0.533359\tvalid_0's ndcg@5: 0.548258\tvalid_0's ndcg@10: 0.590132\tvalid_0's ndcg@20: 0.65255\n",
      "[280]\tvalid_0's ndcg@1: 0.523265\tvalid_0's ndcg@3: 0.532677\tvalid_0's ndcg@5: 0.548802\tvalid_0's ndcg@10: 0.589635\tvalid_0's ndcg@20: 0.652789\n"
     ]
    },
    {
     "name": "stderr",
     "output_type": "stream",
     "text": [
      "[I 2024-04-29 23:46:56,571] Trial 1 finished with value: 0.5692236627529382 and parameters: {'lambda_l1': 3.3323645788192616e-08, 'lambda_l2': 0.6245760287469893, 'max_depth': 6, 'num_leaves': 182, 'colsample_bytree': 0.1185260448662222, 'min_child_samples': 98}. Best is trial 0 with value: 0.5744781768043928.\n"
     ]
    },
    {
     "name": "stdout",
     "output_type": "stream",
     "text": [
      "Early stopping, best iteration is:\n",
      "[238]\tvalid_0's ndcg@1: 0.5207\tvalid_0's ndcg@3: 0.535427\tvalid_0's ndcg@5: 0.548492\tvalid_0's ndcg@10: 0.589265\tvalid_0's ndcg@20: 0.652234\n"
     ]
    },
    {
     "name": "stderr",
     "output_type": "stream",
     "text": [
      "C:\\Users\\savolk25\\AppData\\Local\\Temp\\ipykernel_19764\\389573219.py:4: FutureWarning: suggest_loguniform has been deprecated in v3.0.0. This feature will be removed in v6.0.0. See https://github.com/optuna/optuna/releases/tag/v3.0.0. Use suggest_float(..., log=True) instead.\n",
      "  'reg_alpha': trial.suggest_loguniform('lambda_l1', 1e-8, 10.0),\n",
      "C:\\Users\\savolk25\\AppData\\Local\\Temp\\ipykernel_19764\\389573219.py:5: FutureWarning: suggest_loguniform has been deprecated in v3.0.0. This feature will be removed in v6.0.0. See https://github.com/optuna/optuna/releases/tag/v3.0.0. Use suggest_float(..., log=True) instead.\n",
      "  'reg_lambda': trial.suggest_loguniform('lambda_l2', 1e-8, 10.0),\n",
      "C:\\Users\\savolk25\\AppData\\Local\\Temp\\ipykernel_19764\\389573219.py:8: FutureWarning: suggest_uniform has been deprecated in v3.0.0. This feature will be removed in v6.0.0. See https://github.com/optuna/optuna/releases/tag/v3.0.0. Use suggest_float instead.\n",
      "  'colsample_bytree': trial.suggest_uniform('colsample_bytree', 0.1, 1),\n"
     ]
    },
    {
     "name": "stdout",
     "output_type": "stream",
     "text": [
      "Training until validation scores don't improve for 50 rounds\n",
      "[10]\tvalid_0's ndcg@1: 0.458643\tvalid_0's ndcg@3: 0.474128\tvalid_0's ndcg@5: 0.49494\tvalid_0's ndcg@10: 0.538201\tvalid_0's ndcg@20: 0.607266\n",
      "[20]\tvalid_0's ndcg@1: 0.467288\tvalid_0's ndcg@3: 0.486861\tvalid_0's ndcg@5: 0.503886\tvalid_0's ndcg@10: 0.546431\tvalid_0's ndcg@20: 0.615435\n",
      "[30]\tvalid_0's ndcg@1: 0.477595\tvalid_0's ndcg@3: 0.495928\tvalid_0's ndcg@5: 0.512757\tvalid_0's ndcg@10: 0.553561\tvalid_0's ndcg@20: 0.621995\n",
      "[40]\tvalid_0's ndcg@1: 0.490801\tvalid_0's ndcg@3: 0.503383\tvalid_0's ndcg@5: 0.520714\tvalid_0's ndcg@10: 0.561954\tvalid_0's ndcg@20: 0.628262\n",
      "[50]\tvalid_0's ndcg@1: 0.49179\tvalid_0's ndcg@3: 0.509192\tvalid_0's ndcg@5: 0.523081\tvalid_0's ndcg@10: 0.564107\tvalid_0's ndcg@20: 0.631492\n",
      "[60]\tvalid_0's ndcg@1: 0.497048\tvalid_0's ndcg@3: 0.512724\tvalid_0's ndcg@5: 0.527226\tvalid_0's ndcg@10: 0.56811\tvalid_0's ndcg@20: 0.634567\n",
      "[70]\tvalid_0's ndcg@1: 0.502713\tvalid_0's ndcg@3: 0.514612\tvalid_0's ndcg@5: 0.530386\tvalid_0's ndcg@10: 0.570419\tvalid_0's ndcg@20: 0.63671\n",
      "[80]\tvalid_0's ndcg@1: 0.506873\tvalid_0's ndcg@3: 0.517084\tvalid_0's ndcg@5: 0.531338\tvalid_0's ndcg@10: 0.571594\tvalid_0's ndcg@20: 0.638255\n",
      "[90]\tvalid_0's ndcg@1: 0.505966\tvalid_0's ndcg@3: 0.515649\tvalid_0's ndcg@5: 0.532836\tvalid_0's ndcg@10: 0.572651\tvalid_0's ndcg@20: 0.638809\n",
      "[100]\tvalid_0's ndcg@1: 0.50619\tvalid_0's ndcg@3: 0.517325\tvalid_0's ndcg@5: 0.534629\tvalid_0's ndcg@10: 0.573465\tvalid_0's ndcg@20: 0.640021\n",
      "[110]\tvalid_0's ndcg@1: 0.505063\tvalid_0's ndcg@3: 0.517485\tvalid_0's ndcg@5: 0.535211\tvalid_0's ndcg@10: 0.574197\tvalid_0's ndcg@20: 0.64001\n",
      "[120]\tvalid_0's ndcg@1: 0.507246\tvalid_0's ndcg@3: 0.518805\tvalid_0's ndcg@5: 0.535313\tvalid_0's ndcg@10: 0.574682\tvalid_0's ndcg@20: 0.640972\n",
      "[130]\tvalid_0's ndcg@1: 0.509142\tvalid_0's ndcg@3: 0.51809\tvalid_0's ndcg@5: 0.53595\tvalid_0's ndcg@10: 0.575392\tvalid_0's ndcg@20: 0.640895\n",
      "[140]\tvalid_0's ndcg@1: 0.508998\tvalid_0's ndcg@3: 0.519536\tvalid_0's ndcg@5: 0.536463\tvalid_0's ndcg@10: 0.576171\tvalid_0's ndcg@20: 0.64148\n",
      "[150]\tvalid_0's ndcg@1: 0.509949\tvalid_0's ndcg@3: 0.518586\tvalid_0's ndcg@5: 0.536694\tvalid_0's ndcg@10: 0.576191\tvalid_0's ndcg@20: 0.641345\n",
      "[160]\tvalid_0's ndcg@1: 0.510914\tvalid_0's ndcg@3: 0.520501\tvalid_0's ndcg@5: 0.537794\tvalid_0's ndcg@10: 0.577105\tvalid_0's ndcg@20: 0.642424\n",
      "[170]\tvalid_0's ndcg@1: 0.511286\tvalid_0's ndcg@3: 0.521085\tvalid_0's ndcg@5: 0.538011\tvalid_0's ndcg@10: 0.577842\tvalid_0's ndcg@20: 0.642627\n",
      "[180]\tvalid_0's ndcg@1: 0.514396\tvalid_0's ndcg@3: 0.523158\tvalid_0's ndcg@5: 0.54025\tvalid_0's ndcg@10: 0.579113\tvalid_0's ndcg@20: 0.64419\n",
      "[190]\tvalid_0's ndcg@1: 0.517075\tvalid_0's ndcg@3: 0.526058\tvalid_0's ndcg@5: 0.5402\tvalid_0's ndcg@10: 0.580045\tvalid_0's ndcg@20: 0.644832\n",
      "[200]\tvalid_0's ndcg@1: 0.515571\tvalid_0's ndcg@3: 0.526491\tvalid_0's ndcg@5: 0.540252\tvalid_0's ndcg@10: 0.579911\tvalid_0's ndcg@20: 0.644872\n",
      "[210]\tvalid_0's ndcg@1: 0.516894\tvalid_0's ndcg@3: 0.525741\tvalid_0's ndcg@5: 0.541217\tvalid_0's ndcg@10: 0.580508\tvalid_0's ndcg@20: 0.645762\n",
      "[220]\tvalid_0's ndcg@1: 0.513412\tvalid_0's ndcg@3: 0.525274\tvalid_0's ndcg@5: 0.54018\tvalid_0's ndcg@10: 0.580274\tvalid_0's ndcg@20: 0.644967\n",
      "[230]\tvalid_0's ndcg@1: 0.516722\tvalid_0's ndcg@3: 0.527106\tvalid_0's ndcg@5: 0.541414\tvalid_0's ndcg@10: 0.581971\tvalid_0's ndcg@20: 0.645768\n",
      "[240]\tvalid_0's ndcg@1: 0.516683\tvalid_0's ndcg@3: 0.527099\tvalid_0's ndcg@5: 0.541531\tvalid_0's ndcg@10: 0.582046\tvalid_0's ndcg@20: 0.645984\n",
      "[250]\tvalid_0's ndcg@1: 0.517935\tvalid_0's ndcg@3: 0.526841\tvalid_0's ndcg@5: 0.541973\tvalid_0's ndcg@10: 0.581363\tvalid_0's ndcg@20: 0.646619\n",
      "[260]\tvalid_0's ndcg@1: 0.518078\tvalid_0's ndcg@3: 0.526596\tvalid_0's ndcg@5: 0.542336\tvalid_0's ndcg@10: 0.581647\tvalid_0's ndcg@20: 0.646633\n",
      "[270]\tvalid_0's ndcg@1: 0.52113\tvalid_0's ndcg@3: 0.526707\tvalid_0's ndcg@5: 0.54272\tvalid_0's ndcg@10: 0.582088\tvalid_0's ndcg@20: 0.646697\n",
      "[280]\tvalid_0's ndcg@1: 0.521011\tvalid_0's ndcg@3: 0.528076\tvalid_0's ndcg@5: 0.543241\tvalid_0's ndcg@10: 0.582381\tvalid_0's ndcg@20: 0.647281\n",
      "[290]\tvalid_0's ndcg@1: 0.520313\tvalid_0's ndcg@3: 0.527754\tvalid_0's ndcg@5: 0.543804\tvalid_0's ndcg@10: 0.582525\tvalid_0's ndcg@20: 0.647468\n",
      "[300]\tvalid_0's ndcg@1: 0.519291\tvalid_0's ndcg@3: 0.52665\tvalid_0's ndcg@5: 0.542177\tvalid_0's ndcg@10: 0.582645\tvalid_0's ndcg@20: 0.647177\n",
      "[310]\tvalid_0's ndcg@1: 0.519205\tvalid_0's ndcg@3: 0.52758\tvalid_0's ndcg@5: 0.542683\tvalid_0's ndcg@10: 0.582304\tvalid_0's ndcg@20: 0.647189\n"
     ]
    },
    {
     "name": "stderr",
     "output_type": "stream",
     "text": [
      "[I 2024-04-29 23:47:03,351] Trial 2 finished with value: 0.5650483485595711 and parameters: {'lambda_l1': 0.31044435499483225, 'lambda_l2': 8.148018307012941e-07, 'max_depth': 4, 'num_leaves': 48, 'colsample_bytree': 0.373818018663584, 'min_child_samples': 55}. Best is trial 0 with value: 0.5744781768043928.\n"
     ]
    },
    {
     "name": "stdout",
     "output_type": "stream",
     "text": [
      "[320]\tvalid_0's ndcg@1: 0.519606\tvalid_0's ndcg@3: 0.528345\tvalid_0's ndcg@5: 0.54317\tvalid_0's ndcg@10: 0.582876\tvalid_0's ndcg@20: 0.647308\n",
      "Early stopping, best iteration is:\n",
      "[278]\tvalid_0's ndcg@1: 0.523084\tvalid_0's ndcg@3: 0.528271\tvalid_0's ndcg@5: 0.543839\tvalid_0's ndcg@10: 0.58261\tvalid_0's ndcg@20: 0.647438\n"
     ]
    },
    {
     "name": "stderr",
     "output_type": "stream",
     "text": [
      "C:\\Users\\savolk25\\AppData\\Local\\Temp\\ipykernel_19764\\389573219.py:4: FutureWarning: suggest_loguniform has been deprecated in v3.0.0. This feature will be removed in v6.0.0. See https://github.com/optuna/optuna/releases/tag/v3.0.0. Use suggest_float(..., log=True) instead.\n",
      "  'reg_alpha': trial.suggest_loguniform('lambda_l1', 1e-8, 10.0),\n",
      "C:\\Users\\savolk25\\AppData\\Local\\Temp\\ipykernel_19764\\389573219.py:5: FutureWarning: suggest_loguniform has been deprecated in v3.0.0. This feature will be removed in v6.0.0. See https://github.com/optuna/optuna/releases/tag/v3.0.0. Use suggest_float(..., log=True) instead.\n",
      "  'reg_lambda': trial.suggest_loguniform('lambda_l2', 1e-8, 10.0),\n",
      "C:\\Users\\savolk25\\AppData\\Local\\Temp\\ipykernel_19764\\389573219.py:8: FutureWarning: suggest_uniform has been deprecated in v3.0.0. This feature will be removed in v6.0.0. See https://github.com/optuna/optuna/releases/tag/v3.0.0. Use suggest_float instead.\n",
      "  'colsample_bytree': trial.suggest_uniform('colsample_bytree', 0.1, 1),\n"
     ]
    },
    {
     "name": "stdout",
     "output_type": "stream",
     "text": [
      "Training until validation scores don't improve for 50 rounds\n",
      "[10]\tvalid_0's ndcg@1: 0.473831\tvalid_0's ndcg@3: 0.486973\tvalid_0's ndcg@5: 0.502796\tvalid_0's ndcg@10: 0.546156\tvalid_0's ndcg@20: 0.616886\n",
      "[20]\tvalid_0's ndcg@1: 0.489392\tvalid_0's ndcg@3: 0.503306\tvalid_0's ndcg@5: 0.518835\tvalid_0's ndcg@10: 0.560639\tvalid_0's ndcg@20: 0.629082\n",
      "[30]\tvalid_0's ndcg@1: 0.49616\tvalid_0's ndcg@3: 0.508806\tvalid_0's ndcg@5: 0.524809\tvalid_0's ndcg@10: 0.566152\tvalid_0's ndcg@20: 0.632807\n",
      "[40]\tvalid_0's ndcg@1: 0.502679\tvalid_0's ndcg@3: 0.512991\tvalid_0's ndcg@5: 0.528184\tvalid_0's ndcg@10: 0.570893\tvalid_0's ndcg@20: 0.636483\n",
      "[50]\tvalid_0's ndcg@1: 0.510293\tvalid_0's ndcg@3: 0.518322\tvalid_0's ndcg@5: 0.535503\tvalid_0's ndcg@10: 0.574949\tvalid_0's ndcg@20: 0.640631\n",
      "[60]\tvalid_0's ndcg@1: 0.514515\tvalid_0's ndcg@3: 0.523695\tvalid_0's ndcg@5: 0.539436\tvalid_0's ndcg@10: 0.578502\tvalid_0's ndcg@20: 0.643943\n",
      "[70]\tvalid_0's ndcg@1: 0.518312\tvalid_0's ndcg@3: 0.524708\tvalid_0's ndcg@5: 0.539807\tvalid_0's ndcg@10: 0.579069\tvalid_0's ndcg@20: 0.645258\n",
      "[80]\tvalid_0's ndcg@1: 0.517285\tvalid_0's ndcg@3: 0.524787\tvalid_0's ndcg@5: 0.540104\tvalid_0's ndcg@10: 0.580472\tvalid_0's ndcg@20: 0.646295\n",
      "[90]\tvalid_0's ndcg@1: 0.5176\tvalid_0's ndcg@3: 0.526387\tvalid_0's ndcg@5: 0.54216\tvalid_0's ndcg@10: 0.581979\tvalid_0's ndcg@20: 0.647078\n",
      "[100]\tvalid_0's ndcg@1: 0.513168\tvalid_0's ndcg@3: 0.523828\tvalid_0's ndcg@5: 0.540223\tvalid_0's ndcg@10: 0.581825\tvalid_0's ndcg@20: 0.647166\n",
      "[110]\tvalid_0's ndcg@1: 0.513397\tvalid_0's ndcg@3: 0.527121\tvalid_0's ndcg@5: 0.5422\tvalid_0's ndcg@10: 0.582592\tvalid_0's ndcg@20: 0.648185\n",
      "[120]\tvalid_0's ndcg@1: 0.515446\tvalid_0's ndcg@3: 0.528377\tvalid_0's ndcg@5: 0.543961\tvalid_0's ndcg@10: 0.583671\tvalid_0's ndcg@20: 0.649603\n"
     ]
    },
    {
     "name": "stderr",
     "output_type": "stream",
     "text": [
      "[I 2024-04-29 23:47:07,647] Trial 3 finished with value: 0.5643440457607923 and parameters: {'lambda_l1': 7.71800699380605e-05, 'lambda_l2': 4.17890272377219e-06, 'max_depth': 6, 'num_leaves': 37, 'colsample_bytree': 0.3629301836816964, 'min_child_samples': 40}. Best is trial 0 with value: 0.5744781768043928.\n"
     ]
    },
    {
     "name": "stdout",
     "output_type": "stream",
     "text": [
      "[130]\tvalid_0's ndcg@1: 0.516\tvalid_0's ndcg@3: 0.527396\tvalid_0's ndcg@5: 0.543241\tvalid_0's ndcg@10: 0.583438\tvalid_0's ndcg@20: 0.649418\n",
      "Early stopping, best iteration is:\n",
      "[87]\tvalid_0's ndcg@1: 0.521569\tvalid_0's ndcg@3: 0.527139\tvalid_0's ndcg@5: 0.543395\tvalid_0's ndcg@10: 0.581946\tvalid_0's ndcg@20: 0.647671\n"
     ]
    },
    {
     "name": "stderr",
     "output_type": "stream",
     "text": [
      "C:\\Users\\savolk25\\AppData\\Local\\Temp\\ipykernel_19764\\389573219.py:4: FutureWarning: suggest_loguniform has been deprecated in v3.0.0. This feature will be removed in v6.0.0. See https://github.com/optuna/optuna/releases/tag/v3.0.0. Use suggest_float(..., log=True) instead.\n",
      "  'reg_alpha': trial.suggest_loguniform('lambda_l1', 1e-8, 10.0),\n",
      "C:\\Users\\savolk25\\AppData\\Local\\Temp\\ipykernel_19764\\389573219.py:5: FutureWarning: suggest_loguniform has been deprecated in v3.0.0. This feature will be removed in v6.0.0. See https://github.com/optuna/optuna/releases/tag/v3.0.0. Use suggest_float(..., log=True) instead.\n",
      "  'reg_lambda': trial.suggest_loguniform('lambda_l2', 1e-8, 10.0),\n",
      "C:\\Users\\savolk25\\AppData\\Local\\Temp\\ipykernel_19764\\389573219.py:8: FutureWarning: suggest_uniform has been deprecated in v3.0.0. This feature will be removed in v6.0.0. See https://github.com/optuna/optuna/releases/tag/v3.0.0. Use suggest_float instead.\n",
      "  'colsample_bytree': trial.suggest_uniform('colsample_bytree', 0.1, 1),\n"
     ]
    },
    {
     "name": "stdout",
     "output_type": "stream",
     "text": [
      "Training until validation scores don't improve for 50 rounds\n",
      "[10]\tvalid_0's ndcg@1: 0.460367\tvalid_0's ndcg@3: 0.47391\tvalid_0's ndcg@5: 0.492797\tvalid_0's ndcg@10: 0.536906\tvalid_0's ndcg@20: 0.607137\n",
      "[20]\tvalid_0's ndcg@1: 0.475168\tvalid_0's ndcg@3: 0.488413\tvalid_0's ndcg@5: 0.506799\tvalid_0's ndcg@10: 0.5491\tvalid_0's ndcg@20: 0.618102\n",
      "[30]\tvalid_0's ndcg@1: 0.48261\tvalid_0's ndcg@3: 0.49771\tvalid_0's ndcg@5: 0.513818\tvalid_0's ndcg@10: 0.556033\tvalid_0's ndcg@20: 0.624893\n",
      "[40]\tvalid_0's ndcg@1: 0.492134\tvalid_0's ndcg@3: 0.502939\tvalid_0's ndcg@5: 0.51987\tvalid_0's ndcg@10: 0.562222\tvalid_0's ndcg@20: 0.629504\n",
      "[50]\tvalid_0's ndcg@1: 0.497278\tvalid_0's ndcg@3: 0.508703\tvalid_0's ndcg@5: 0.524006\tvalid_0's ndcg@10: 0.564641\tvalid_0's ndcg@20: 0.631854\n",
      "[60]\tvalid_0's ndcg@1: 0.504136\tvalid_0's ndcg@3: 0.513843\tvalid_0's ndcg@5: 0.528621\tvalid_0's ndcg@10: 0.569709\tvalid_0's ndcg@20: 0.635749\n",
      "[70]\tvalid_0's ndcg@1: 0.508698\tvalid_0's ndcg@3: 0.51407\tvalid_0's ndcg@5: 0.532691\tvalid_0's ndcg@10: 0.572067\tvalid_0's ndcg@20: 0.637865\n",
      "[80]\tvalid_0's ndcg@1: 0.508912\tvalid_0's ndcg@3: 0.512784\tvalid_0's ndcg@5: 0.532637\tvalid_0's ndcg@10: 0.572031\tvalid_0's ndcg@20: 0.637635\n",
      "[90]\tvalid_0's ndcg@1: 0.510436\tvalid_0's ndcg@3: 0.516526\tvalid_0's ndcg@5: 0.534748\tvalid_0's ndcg@10: 0.573689\tvalid_0's ndcg@20: 0.639552\n",
      "[100]\tvalid_0's ndcg@1: 0.509304\tvalid_0's ndcg@3: 0.516455\tvalid_0's ndcg@5: 0.535166\tvalid_0's ndcg@10: 0.573727\tvalid_0's ndcg@20: 0.640143\n",
      "[110]\tvalid_0's ndcg@1: 0.507289\tvalid_0's ndcg@3: 0.517803\tvalid_0's ndcg@5: 0.534561\tvalid_0's ndcg@10: 0.574274\tvalid_0's ndcg@20: 0.640416\n",
      "[120]\tvalid_0's ndcg@1: 0.509366\tvalid_0's ndcg@3: 0.519123\tvalid_0's ndcg@5: 0.535711\tvalid_0's ndcg@10: 0.575323\tvalid_0's ndcg@20: 0.641549\n",
      "[130]\tvalid_0's ndcg@1: 0.511415\tvalid_0's ndcg@3: 0.520147\tvalid_0's ndcg@5: 0.536456\tvalid_0's ndcg@10: 0.57636\tvalid_0's ndcg@20: 0.642252\n",
      "[140]\tvalid_0's ndcg@1: 0.513994\tvalid_0's ndcg@3: 0.520995\tvalid_0's ndcg@5: 0.537916\tvalid_0's ndcg@10: 0.576824\tvalid_0's ndcg@20: 0.642478\n",
      "[150]\tvalid_0's ndcg@1: 0.514171\tvalid_0's ndcg@3: 0.522313\tvalid_0's ndcg@5: 0.538125\tvalid_0's ndcg@10: 0.577545\tvalid_0's ndcg@20: 0.643164\n",
      "[160]\tvalid_0's ndcg@1: 0.519812\tvalid_0's ndcg@3: 0.523187\tvalid_0's ndcg@5: 0.54008\tvalid_0's ndcg@10: 0.579523\tvalid_0's ndcg@20: 0.644379\n",
      "[170]\tvalid_0's ndcg@1: 0.519363\tvalid_0's ndcg@3: 0.523691\tvalid_0's ndcg@5: 0.539876\tvalid_0's ndcg@10: 0.579136\tvalid_0's ndcg@20: 0.644642\n",
      "[180]\tvalid_0's ndcg@1: 0.51878\tvalid_0's ndcg@3: 0.523893\tvalid_0's ndcg@5: 0.539558\tvalid_0's ndcg@10: 0.579039\tvalid_0's ndcg@20: 0.644809\n",
      "[190]\tvalid_0's ndcg@1: 0.515766\tvalid_0's ndcg@3: 0.522588\tvalid_0's ndcg@5: 0.539498\tvalid_0's ndcg@10: 0.579048\tvalid_0's ndcg@20: 0.644349\n",
      "[200]\tvalid_0's ndcg@1: 0.518231\tvalid_0's ndcg@3: 0.52358\tvalid_0's ndcg@5: 0.539869\tvalid_0's ndcg@10: 0.579756\tvalid_0's ndcg@20: 0.645013\n"
     ]
    },
    {
     "name": "stderr",
     "output_type": "stream",
     "text": [
      "[I 2024-04-29 23:47:12,833] Trial 4 finished with value: 0.5610399248133902 and parameters: {'lambda_l1': 0.00012724181576752517, 'lambda_l2': 0.1165691561324743, 'max_depth': 4, 'num_leaves': 133, 'colsample_bytree': 0.6331731119758383, 'min_child_samples': 9}. Best is trial 0 with value: 0.5744781768043928.\n"
     ]
    },
    {
     "name": "stdout",
     "output_type": "stream",
     "text": [
      "Early stopping, best iteration is:\n",
      "[157]\tvalid_0's ndcg@1: 0.518078\tvalid_0's ndcg@3: 0.524419\tvalid_0's ndcg@5: 0.539879\tvalid_0's ndcg@10: 0.578777\tvalid_0's ndcg@20: 0.644047\n"
     ]
    },
    {
     "name": "stderr",
     "output_type": "stream",
     "text": [
      "C:\\Users\\savolk25\\AppData\\Local\\Temp\\ipykernel_19764\\389573219.py:4: FutureWarning: suggest_loguniform has been deprecated in v3.0.0. This feature will be removed in v6.0.0. See https://github.com/optuna/optuna/releases/tag/v3.0.0. Use suggest_float(..., log=True) instead.\n",
      "  'reg_alpha': trial.suggest_loguniform('lambda_l1', 1e-8, 10.0),\n",
      "C:\\Users\\savolk25\\AppData\\Local\\Temp\\ipykernel_19764\\389573219.py:5: FutureWarning: suggest_loguniform has been deprecated in v3.0.0. This feature will be removed in v6.0.0. See https://github.com/optuna/optuna/releases/tag/v3.0.0. Use suggest_float(..., log=True) instead.\n",
      "  'reg_lambda': trial.suggest_loguniform('lambda_l2', 1e-8, 10.0),\n",
      "C:\\Users\\savolk25\\AppData\\Local\\Temp\\ipykernel_19764\\389573219.py:8: FutureWarning: suggest_uniform has been deprecated in v3.0.0. This feature will be removed in v6.0.0. See https://github.com/optuna/optuna/releases/tag/v3.0.0. Use suggest_float instead.\n",
      "  'colsample_bytree': trial.suggest_uniform('colsample_bytree', 0.1, 1),\n"
     ]
    },
    {
     "name": "stdout",
     "output_type": "stream",
     "text": [
      "Training until validation scores don't improve for 50 rounds\n",
      "[10]\tvalid_0's ndcg@1: 0.455486\tvalid_0's ndcg@3: 0.463729\tvalid_0's ndcg@5: 0.480383\tvalid_0's ndcg@10: 0.524031\tvalid_0's ndcg@20: 0.597753\n",
      "[20]\tvalid_0's ndcg@1: 0.465339\tvalid_0's ndcg@3: 0.478339\tvalid_0's ndcg@5: 0.496738\tvalid_0's ndcg@10: 0.54039\tvalid_0's ndcg@20: 0.610955\n",
      "[30]\tvalid_0's ndcg@1: 0.476539\tvalid_0's ndcg@3: 0.487446\tvalid_0's ndcg@5: 0.50572\tvalid_0's ndcg@10: 0.548625\tvalid_0's ndcg@20: 0.618816\n",
      "[40]\tvalid_0's ndcg@1: 0.476873\tvalid_0's ndcg@3: 0.490372\tvalid_0's ndcg@5: 0.510255\tvalid_0's ndcg@10: 0.552378\tvalid_0's ndcg@20: 0.622478\n",
      "[50]\tvalid_0's ndcg@1: 0.480097\tvalid_0's ndcg@3: 0.495295\tvalid_0's ndcg@5: 0.515124\tvalid_0's ndcg@10: 0.55681\tvalid_0's ndcg@20: 0.626346\n",
      "[60]\tvalid_0's ndcg@1: 0.487749\tvalid_0's ndcg@3: 0.500402\tvalid_0's ndcg@5: 0.520039\tvalid_0's ndcg@10: 0.55993\tvalid_0's ndcg@20: 0.629586\n",
      "[70]\tvalid_0's ndcg@1: 0.491603\tvalid_0's ndcg@3: 0.505236\tvalid_0's ndcg@5: 0.521903\tvalid_0's ndcg@10: 0.561099\tvalid_0's ndcg@20: 0.631071\n",
      "[80]\tvalid_0's ndcg@1: 0.49167\tvalid_0's ndcg@3: 0.504153\tvalid_0's ndcg@5: 0.522369\tvalid_0's ndcg@10: 0.562726\tvalid_0's ndcg@20: 0.632164\n",
      "[90]\tvalid_0's ndcg@1: 0.496876\tvalid_0's ndcg@3: 0.504839\tvalid_0's ndcg@5: 0.524366\tvalid_0's ndcg@10: 0.563893\tvalid_0's ndcg@20: 0.633012\n",
      "[100]\tvalid_0's ndcg@1: 0.498644\tvalid_0's ndcg@3: 0.506503\tvalid_0's ndcg@5: 0.526798\tvalid_0's ndcg@10: 0.566005\tvalid_0's ndcg@20: 0.633786\n",
      "[110]\tvalid_0's ndcg@1: 0.498352\tvalid_0's ndcg@3: 0.507598\tvalid_0's ndcg@5: 0.527024\tvalid_0's ndcg@10: 0.566664\tvalid_0's ndcg@20: 0.634369\n",
      "[120]\tvalid_0's ndcg@1: 0.500325\tvalid_0's ndcg@3: 0.508577\tvalid_0's ndcg@5: 0.527394\tvalid_0's ndcg@10: 0.567211\tvalid_0's ndcg@20: 0.635237\n",
      "[130]\tvalid_0's ndcg@1: 0.498419\tvalid_0's ndcg@3: 0.50918\tvalid_0's ndcg@5: 0.527979\tvalid_0's ndcg@10: 0.56836\tvalid_0's ndcg@20: 0.635401\n",
      "[140]\tvalid_0's ndcg@1: 0.50245\tvalid_0's ndcg@3: 0.511272\tvalid_0's ndcg@5: 0.530636\tvalid_0's ndcg@10: 0.56921\tvalid_0's ndcg@20: 0.636676\n",
      "[150]\tvalid_0's ndcg@1: 0.502675\tvalid_0's ndcg@3: 0.512871\tvalid_0's ndcg@5: 0.531736\tvalid_0's ndcg@10: 0.56986\tvalid_0's ndcg@20: 0.637121\n",
      "[160]\tvalid_0's ndcg@1: 0.505392\tvalid_0's ndcg@3: 0.513807\tvalid_0's ndcg@5: 0.533073\tvalid_0's ndcg@10: 0.570993\tvalid_0's ndcg@20: 0.637583\n",
      "[170]\tvalid_0's ndcg@1: 0.505607\tvalid_0's ndcg@3: 0.513083\tvalid_0's ndcg@5: 0.533931\tvalid_0's ndcg@10: 0.571181\tvalid_0's ndcg@20: 0.638103\n",
      "[180]\tvalid_0's ndcg@1: 0.504943\tvalid_0's ndcg@3: 0.51296\tvalid_0's ndcg@5: 0.533489\tvalid_0's ndcg@10: 0.571387\tvalid_0's ndcg@20: 0.638139\n",
      "[190]\tvalid_0's ndcg@1: 0.505822\tvalid_0's ndcg@3: 0.514058\tvalid_0's ndcg@5: 0.533724\tvalid_0's ndcg@10: 0.571583\tvalid_0's ndcg@20: 0.638439\n",
      "[200]\tvalid_0's ndcg@1: 0.505058\tvalid_0's ndcg@3: 0.515849\tvalid_0's ndcg@5: 0.534197\tvalid_0's ndcg@10: 0.572393\tvalid_0's ndcg@20: 0.6391\n",
      "[210]\tvalid_0's ndcg@1: 0.504595\tvalid_0's ndcg@3: 0.515732\tvalid_0's ndcg@5: 0.533858\tvalid_0's ndcg@10: 0.572532\tvalid_0's ndcg@20: 0.639176\n",
      "[220]\tvalid_0's ndcg@1: 0.506286\tvalid_0's ndcg@3: 0.516738\tvalid_0's ndcg@5: 0.534007\tvalid_0's ndcg@10: 0.573057\tvalid_0's ndcg@20: 0.639971\n",
      "[230]\tvalid_0's ndcg@1: 0.505865\tvalid_0's ndcg@3: 0.51542\tvalid_0's ndcg@5: 0.533326\tvalid_0's ndcg@10: 0.572673\tvalid_0's ndcg@20: 0.639463\n",
      "[240]\tvalid_0's ndcg@1: 0.507866\tvalid_0's ndcg@3: 0.516452\tvalid_0's ndcg@5: 0.534147\tvalid_0's ndcg@10: 0.573429\tvalid_0's ndcg@20: 0.640128\n",
      "[250]\tvalid_0's ndcg@1: 0.507093\tvalid_0's ndcg@3: 0.517513\tvalid_0's ndcg@5: 0.534867\tvalid_0's ndcg@10: 0.573312\tvalid_0's ndcg@20: 0.640641\n",
      "[260]\tvalid_0's ndcg@1: 0.50641\tvalid_0's ndcg@3: 0.517702\tvalid_0's ndcg@5: 0.535045\tvalid_0's ndcg@10: 0.573269\tvalid_0's ndcg@20: 0.640346\n",
      "[270]\tvalid_0's ndcg@1: 0.5078\tvalid_0's ndcg@3: 0.517464\tvalid_0's ndcg@5: 0.535551\tvalid_0's ndcg@10: 0.574457\tvalid_0's ndcg@20: 0.640797\n",
      "[280]\tvalid_0's ndcg@1: 0.509032\tvalid_0's ndcg@3: 0.519004\tvalid_0's ndcg@5: 0.53574\tvalid_0's ndcg@10: 0.575094\tvalid_0's ndcg@20: 0.640959\n",
      "[290]\tvalid_0's ndcg@1: 0.506634\tvalid_0's ndcg@3: 0.519139\tvalid_0's ndcg@5: 0.535299\tvalid_0's ndcg@10: 0.5755\tvalid_0's ndcg@20: 0.641892\n",
      "[300]\tvalid_0's ndcg@1: 0.509815\tvalid_0's ndcg@3: 0.520036\tvalid_0's ndcg@5: 0.535759\tvalid_0's ndcg@10: 0.575709\tvalid_0's ndcg@20: 0.642337\n",
      "[310]\tvalid_0's ndcg@1: 0.510766\tvalid_0's ndcg@3: 0.521144\tvalid_0's ndcg@5: 0.536383\tvalid_0's ndcg@10: 0.576171\tvalid_0's ndcg@20: 0.642729\n",
      "[320]\tvalid_0's ndcg@1: 0.511931\tvalid_0's ndcg@3: 0.52165\tvalid_0's ndcg@5: 0.538292\tvalid_0's ndcg@10: 0.576393\tvalid_0's ndcg@20: 0.643668\n",
      "[330]\tvalid_0's ndcg@1: 0.512953\tvalid_0's ndcg@3: 0.521604\tvalid_0's ndcg@5: 0.53914\tvalid_0's ndcg@10: 0.576479\tvalid_0's ndcg@20: 0.643747\n",
      "[340]\tvalid_0's ndcg@1: 0.512175\tvalid_0's ndcg@3: 0.522067\tvalid_0's ndcg@5: 0.53935\tvalid_0's ndcg@10: 0.576832\tvalid_0's ndcg@20: 0.643434\n",
      "[350]\tvalid_0's ndcg@1: 0.513822\tvalid_0's ndcg@3: 0.522448\tvalid_0's ndcg@5: 0.538368\tvalid_0's ndcg@10: 0.577194\tvalid_0's ndcg@20: 0.643738\n",
      "[360]\tvalid_0's ndcg@1: 0.511807\tvalid_0's ndcg@3: 0.521446\tvalid_0's ndcg@5: 0.53719\tvalid_0's ndcg@10: 0.575972\tvalid_0's ndcg@20: 0.643148\n",
      "[370]\tvalid_0's ndcg@1: 0.512523\tvalid_0's ndcg@3: 0.521703\tvalid_0's ndcg@5: 0.53757\tvalid_0's ndcg@10: 0.576545\tvalid_0's ndcg@20: 0.643602\n",
      "Early stopping, best iteration is:\n",
      "[321]\tvalid_0's ndcg@1: 0.512853\tvalid_0's ndcg@3: 0.521397\tvalid_0's ndcg@5: 0.538132\tvalid_0's ndcg@10: 0.576697\tvalid_0's ndcg@20: 0.643846\n"
     ]
    },
    {
     "name": "stderr",
     "output_type": "stream",
     "text": [
      "[I 2024-04-29 23:47:20,493] Trial 5 finished with value: 0.5585850105195174 and parameters: {'lambda_l1': 0.0029369981104377003, 'lambda_l2': 3.425445902633376e-07, 'max_depth': 3, 'num_leaves': 243, 'colsample_bytree': 0.9690688297671034, 'min_child_samples': 82}. Best is trial 0 with value: 0.5744781768043928.\n",
      "C:\\Users\\savolk25\\AppData\\Local\\Temp\\ipykernel_19764\\389573219.py:4: FutureWarning: suggest_loguniform has been deprecated in v3.0.0. This feature will be removed in v6.0.0. See https://github.com/optuna/optuna/releases/tag/v3.0.0. Use suggest_float(..., log=True) instead.\n",
      "  'reg_alpha': trial.suggest_loguniform('lambda_l1', 1e-8, 10.0),\n",
      "C:\\Users\\savolk25\\AppData\\Local\\Temp\\ipykernel_19764\\389573219.py:5: FutureWarning: suggest_loguniform has been deprecated in v3.0.0. This feature will be removed in v6.0.0. See https://github.com/optuna/optuna/releases/tag/v3.0.0. Use suggest_float(..., log=True) instead.\n",
      "  'reg_lambda': trial.suggest_loguniform('lambda_l2', 1e-8, 10.0),\n",
      "C:\\Users\\savolk25\\AppData\\Local\\Temp\\ipykernel_19764\\389573219.py:8: FutureWarning: suggest_uniform has been deprecated in v3.0.0. This feature will be removed in v6.0.0. See https://github.com/optuna/optuna/releases/tag/v3.0.0. Use suggest_float instead.\n",
      "  'colsample_bytree': trial.suggest_uniform('colsample_bytree', 0.1, 1),\n"
     ]
    },
    {
     "name": "stdout",
     "output_type": "stream",
     "text": [
      "Training until validation scores don't improve for 50 rounds\n",
      "[10]\tvalid_0's ndcg@1: 0.46253\tvalid_0's ndcg@3: 0.480202\tvalid_0's ndcg@5: 0.499106\tvalid_0's ndcg@10: 0.544538\tvalid_0's ndcg@20: 0.614818\n",
      "[20]\tvalid_0's ndcg@1: 0.474318\tvalid_0's ndcg@3: 0.491894\tvalid_0's ndcg@5: 0.512265\tvalid_0's ndcg@10: 0.557044\tvalid_0's ndcg@20: 0.624915\n",
      "[30]\tvalid_0's ndcg@1: 0.486612\tvalid_0's ndcg@3: 0.506485\tvalid_0's ndcg@5: 0.520906\tvalid_0's ndcg@10: 0.564616\tvalid_0's ndcg@20: 0.631198\n",
      "[40]\tvalid_0's ndcg@1: 0.494512\tvalid_0's ndcg@3: 0.513189\tvalid_0's ndcg@5: 0.527955\tvalid_0's ndcg@10: 0.569837\tvalid_0's ndcg@20: 0.637144\n",
      "[50]\tvalid_0's ndcg@1: 0.501533\tvalid_0's ndcg@3: 0.513511\tvalid_0's ndcg@5: 0.530853\tvalid_0's ndcg@10: 0.572387\tvalid_0's ndcg@20: 0.639519\n",
      "[60]\tvalid_0's ndcg@1: 0.512318\tvalid_0's ndcg@3: 0.519147\tvalid_0's ndcg@5: 0.536376\tvalid_0's ndcg@10: 0.577699\tvalid_0's ndcg@20: 0.643439\n",
      "[70]\tvalid_0's ndcg@1: 0.513679\tvalid_0's ndcg@3: 0.523097\tvalid_0's ndcg@5: 0.540064\tvalid_0's ndcg@10: 0.580762\tvalid_0's ndcg@20: 0.645793\n",
      "[80]\tvalid_0's ndcg@1: 0.515403\tvalid_0's ndcg@3: 0.526555\tvalid_0's ndcg@5: 0.543672\tvalid_0's ndcg@10: 0.582566\tvalid_0's ndcg@20: 0.647538\n",
      "[90]\tvalid_0's ndcg@1: 0.515313\tvalid_0's ndcg@3: 0.527329\tvalid_0's ndcg@5: 0.543398\tvalid_0's ndcg@10: 0.583689\tvalid_0's ndcg@20: 0.648693\n",
      "[100]\tvalid_0's ndcg@1: 0.516411\tvalid_0's ndcg@3: 0.529077\tvalid_0's ndcg@5: 0.54387\tvalid_0's ndcg@10: 0.584059\tvalid_0's ndcg@20: 0.648719\n",
      "[110]\tvalid_0's ndcg@1: 0.517151\tvalid_0's ndcg@3: 0.529717\tvalid_0's ndcg@5: 0.545507\tvalid_0's ndcg@10: 0.584363\tvalid_0's ndcg@20: 0.649745\n",
      "[120]\tvalid_0's ndcg@1: 0.516846\tvalid_0's ndcg@3: 0.531475\tvalid_0's ndcg@5: 0.546725\tvalid_0's ndcg@10: 0.586669\tvalid_0's ndcg@20: 0.650919\n",
      "[130]\tvalid_0's ndcg@1: 0.519544\tvalid_0's ndcg@3: 0.532863\tvalid_0's ndcg@5: 0.54756\tvalid_0's ndcg@10: 0.587947\tvalid_0's ndcg@20: 0.651707\n",
      "[140]\tvalid_0's ndcg@1: 0.519057\tvalid_0's ndcg@3: 0.532244\tvalid_0's ndcg@5: 0.546763\tvalid_0's ndcg@10: 0.586641\tvalid_0's ndcg@20: 0.651769\n",
      "[150]\tvalid_0's ndcg@1: 0.520901\tvalid_0's ndcg@3: 0.533914\tvalid_0's ndcg@5: 0.548713\tvalid_0's ndcg@10: 0.58818\tvalid_0's ndcg@20: 0.65339\n",
      "[160]\tvalid_0's ndcg@1: 0.525032\tvalid_0's ndcg@3: 0.535093\tvalid_0's ndcg@5: 0.551569\tvalid_0's ndcg@10: 0.590566\tvalid_0's ndcg@20: 0.654198\n",
      "[170]\tvalid_0's ndcg@1: 0.521163\tvalid_0's ndcg@3: 0.533905\tvalid_0's ndcg@5: 0.551418\tvalid_0's ndcg@10: 0.590011\tvalid_0's ndcg@20: 0.653927\n",
      "[180]\tvalid_0's ndcg@1: 0.524774\tvalid_0's ndcg@3: 0.534881\tvalid_0's ndcg@5: 0.552696\tvalid_0's ndcg@10: 0.5905\tvalid_0's ndcg@20: 0.655055\n",
      "[190]\tvalid_0's ndcg@1: 0.526532\tvalid_0's ndcg@3: 0.536274\tvalid_0's ndcg@5: 0.553903\tvalid_0's ndcg@10: 0.591769\tvalid_0's ndcg@20: 0.656037\n",
      "[200]\tvalid_0's ndcg@1: 0.52251\tvalid_0's ndcg@3: 0.535507\tvalid_0's ndcg@5: 0.551189\tvalid_0's ndcg@10: 0.590671\tvalid_0's ndcg@20: 0.654548\n",
      "[210]\tvalid_0's ndcg@1: 0.522892\tvalid_0's ndcg@3: 0.536128\tvalid_0's ndcg@5: 0.552282\tvalid_0's ndcg@10: 0.591773\tvalid_0's ndcg@20: 0.655788\n",
      "[220]\tvalid_0's ndcg@1: 0.523098\tvalid_0's ndcg@3: 0.536298\tvalid_0's ndcg@5: 0.553696\tvalid_0's ndcg@10: 0.591339\tvalid_0's ndcg@20: 0.656258\n",
      "[230]\tvalid_0's ndcg@1: 0.527554\tvalid_0's ndcg@3: 0.539002\tvalid_0's ndcg@5: 0.554441\tvalid_0's ndcg@10: 0.592766\tvalid_0's ndcg@20: 0.657596\n",
      "[240]\tvalid_0's ndcg@1: 0.52669\tvalid_0's ndcg@3: 0.538703\tvalid_0's ndcg@5: 0.55444\tvalid_0's ndcg@10: 0.592488\tvalid_0's ndcg@20: 0.657326\n",
      "[250]\tvalid_0's ndcg@1: 0.524258\tvalid_0's ndcg@3: 0.536313\tvalid_0's ndcg@5: 0.553954\tvalid_0's ndcg@10: 0.592931\tvalid_0's ndcg@20: 0.656785\n",
      "[260]\tvalid_0's ndcg@1: 0.523251\tvalid_0's ndcg@3: 0.537845\tvalid_0's ndcg@5: 0.553621\tvalid_0's ndcg@10: 0.593629\tvalid_0's ndcg@20: 0.657401\n",
      "[270]\tvalid_0's ndcg@1: 0.521799\tvalid_0's ndcg@3: 0.537985\tvalid_0's ndcg@5: 0.553451\tvalid_0's ndcg@10: 0.593429\tvalid_0's ndcg@20: 0.656847\n",
      "[280]\tvalid_0's ndcg@1: 0.522959\tvalid_0's ndcg@3: 0.539574\tvalid_0's ndcg@5: 0.555231\tvalid_0's ndcg@10: 0.594011\tvalid_0's ndcg@20: 0.657628\n",
      "Early stopping, best iteration is:\n",
      "[233]\tvalid_0's ndcg@1: 0.528094\tvalid_0's ndcg@3: 0.53907\tvalid_0's ndcg@5: 0.555077\tvalid_0's ndcg@10: 0.592627\tvalid_0's ndcg@20: 0.657798\n"
     ]
    },
    {
     "name": "stderr",
     "output_type": "stream",
     "text": [
      "[I 2024-04-29 23:47:27,529] Trial 6 finished with value: 0.5745330918339022 and parameters: {'lambda_l1': 5.514725787121931e-06, 'lambda_l2': 7.569183361880229e-08, 'max_depth': 7, 'num_leaves': 114, 'colsample_bytree': 0.20983441136030095, 'min_child_samples': 52}. Best is trial 6 with value: 0.5745330918339022.\n",
      "C:\\Users\\savolk25\\AppData\\Local\\Temp\\ipykernel_19764\\389573219.py:4: FutureWarning: suggest_loguniform has been deprecated in v3.0.0. This feature will be removed in v6.0.0. See https://github.com/optuna/optuna/releases/tag/v3.0.0. Use suggest_float(..., log=True) instead.\n",
      "  'reg_alpha': trial.suggest_loguniform('lambda_l1', 1e-8, 10.0),\n",
      "C:\\Users\\savolk25\\AppData\\Local\\Temp\\ipykernel_19764\\389573219.py:5: FutureWarning: suggest_loguniform has been deprecated in v3.0.0. This feature will be removed in v6.0.0. See https://github.com/optuna/optuna/releases/tag/v3.0.0. Use suggest_float(..., log=True) instead.\n",
      "  'reg_lambda': trial.suggest_loguniform('lambda_l2', 1e-8, 10.0),\n",
      "C:\\Users\\savolk25\\AppData\\Local\\Temp\\ipykernel_19764\\389573219.py:8: FutureWarning: suggest_uniform has been deprecated in v3.0.0. This feature will be removed in v6.0.0. See https://github.com/optuna/optuna/releases/tag/v3.0.0. Use suggest_float instead.\n",
      "  'colsample_bytree': trial.suggest_uniform('colsample_bytree', 0.1, 1),\n"
     ]
    },
    {
     "name": "stdout",
     "output_type": "stream",
     "text": [
      "Training until validation scores don't improve for 50 rounds\n",
      "[10]\tvalid_0's ndcg@1: 0.466366\tvalid_0's ndcg@3: 0.478214\tvalid_0's ndcg@5: 0.496053\tvalid_0's ndcg@10: 0.537591\tvalid_0's ndcg@20: 0.60762\n",
      "[20]\tvalid_0's ndcg@1: 0.477547\tvalid_0's ndcg@3: 0.492069\tvalid_0's ndcg@5: 0.508067\tvalid_0's ndcg@10: 0.547679\tvalid_0's ndcg@20: 0.619065\n",
      "[30]\tvalid_0's ndcg@1: 0.478961\tvalid_0's ndcg@3: 0.497714\tvalid_0's ndcg@5: 0.514083\tvalid_0's ndcg@10: 0.554758\tvalid_0's ndcg@20: 0.623403\n",
      "[40]\tvalid_0's ndcg@1: 0.491331\tvalid_0's ndcg@3: 0.505468\tvalid_0's ndcg@5: 0.521057\tvalid_0's ndcg@10: 0.56084\tvalid_0's ndcg@20: 0.629169\n",
      "[50]\tvalid_0's ndcg@1: 0.494565\tvalid_0's ndcg@3: 0.507254\tvalid_0's ndcg@5: 0.52388\tvalid_0's ndcg@10: 0.563917\tvalid_0's ndcg@20: 0.631188\n",
      "[60]\tvalid_0's ndcg@1: 0.502517\tvalid_0's ndcg@3: 0.512078\tvalid_0's ndcg@5: 0.525906\tvalid_0's ndcg@10: 0.568336\tvalid_0's ndcg@20: 0.634559\n",
      "[70]\tvalid_0's ndcg@1: 0.508272\tvalid_0's ndcg@3: 0.515239\tvalid_0's ndcg@5: 0.529803\tvalid_0's ndcg@10: 0.570884\tvalid_0's ndcg@20: 0.637325\n",
      "[80]\tvalid_0's ndcg@1: 0.50928\tvalid_0's ndcg@3: 0.517648\tvalid_0's ndcg@5: 0.532678\tvalid_0's ndcg@10: 0.572985\tvalid_0's ndcg@20: 0.639461\n",
      "[90]\tvalid_0's ndcg@1: 0.514037\tvalid_0's ndcg@3: 0.51966\tvalid_0's ndcg@5: 0.534516\tvalid_0's ndcg@10: 0.57462\tvalid_0's ndcg@20: 0.641396\n",
      "[100]\tvalid_0's ndcg@1: 0.512695\tvalid_0's ndcg@3: 0.518196\tvalid_0's ndcg@5: 0.53506\tvalid_0's ndcg@10: 0.574009\tvalid_0's ndcg@20: 0.640914\n",
      "[110]\tvalid_0's ndcg@1: 0.516234\tvalid_0's ndcg@3: 0.521214\tvalid_0's ndcg@5: 0.536435\tvalid_0's ndcg@10: 0.576038\tvalid_0's ndcg@20: 0.642487\n",
      "[120]\tvalid_0's ndcg@1: 0.518494\tvalid_0's ndcg@3: 0.522467\tvalid_0's ndcg@5: 0.537111\tvalid_0's ndcg@10: 0.576643\tvalid_0's ndcg@20: 0.643172\n",
      "[130]\tvalid_0's ndcg@1: 0.51794\tvalid_0's ndcg@3: 0.52241\tvalid_0's ndcg@5: 0.53742\tvalid_0's ndcg@10: 0.577213\tvalid_0's ndcg@20: 0.643657\n",
      "[140]\tvalid_0's ndcg@1: 0.516941\tvalid_0's ndcg@3: 0.523983\tvalid_0's ndcg@5: 0.538472\tvalid_0's ndcg@10: 0.577391\tvalid_0's ndcg@20: 0.644336\n",
      "[150]\tvalid_0's ndcg@1: 0.515293\tvalid_0's ndcg@3: 0.52378\tvalid_0's ndcg@5: 0.538481\tvalid_0's ndcg@10: 0.577831\tvalid_0's ndcg@20: 0.643771\n"
     ]
    },
    {
     "name": "stderr",
     "output_type": "stream",
     "text": [
      "[I 2024-04-29 23:47:31,705] Trial 7 finished with value: 0.5602085548079871 and parameters: {'lambda_l1': 2.039373116525212e-08, 'lambda_l2': 1.527156759251193, 'max_depth': 4, 'num_leaves': 170, 'colsample_bytree': 0.3805399684804699, 'min_child_samples': 54}. Best is trial 6 with value: 0.5745330918339022.\n"
     ]
    },
    {
     "name": "stdout",
     "output_type": "stream",
     "text": [
      "[160]\tvalid_0's ndcg@1: 0.513794\tvalid_0's ndcg@3: 0.52395\tvalid_0's ndcg@5: 0.539509\tvalid_0's ndcg@10: 0.578285\tvalid_0's ndcg@20: 0.644539\n",
      "[170]\tvalid_0's ndcg@1: 0.513092\tvalid_0's ndcg@3: 0.524743\tvalid_0's ndcg@5: 0.54071\tvalid_0's ndcg@10: 0.578785\tvalid_0's ndcg@20: 0.644712\n",
      "Early stopping, best iteration is:\n",
      "[122]\tvalid_0's ndcg@1: 0.519344\tvalid_0's ndcg@3: 0.522783\tvalid_0's ndcg@5: 0.537705\tvalid_0's ndcg@10: 0.577393\tvalid_0's ndcg@20: 0.643818\n"
     ]
    },
    {
     "name": "stderr",
     "output_type": "stream",
     "text": [
      "C:\\Users\\savolk25\\AppData\\Local\\Temp\\ipykernel_19764\\389573219.py:4: FutureWarning: suggest_loguniform has been deprecated in v3.0.0. This feature will be removed in v6.0.0. See https://github.com/optuna/optuna/releases/tag/v3.0.0. Use suggest_float(..., log=True) instead.\n",
      "  'reg_alpha': trial.suggest_loguniform('lambda_l1', 1e-8, 10.0),\n",
      "C:\\Users\\savolk25\\AppData\\Local\\Temp\\ipykernel_19764\\389573219.py:5: FutureWarning: suggest_loguniform has been deprecated in v3.0.0. This feature will be removed in v6.0.0. See https://github.com/optuna/optuna/releases/tag/v3.0.0. Use suggest_float(..., log=True) instead.\n",
      "  'reg_lambda': trial.suggest_loguniform('lambda_l2', 1e-8, 10.0),\n",
      "C:\\Users\\savolk25\\AppData\\Local\\Temp\\ipykernel_19764\\389573219.py:8: FutureWarning: suggest_uniform has been deprecated in v3.0.0. This feature will be removed in v6.0.0. See https://github.com/optuna/optuna/releases/tag/v3.0.0. Use suggest_float instead.\n",
      "  'colsample_bytree': trial.suggest_uniform('colsample_bytree', 0.1, 1),\n"
     ]
    },
    {
     "name": "stdout",
     "output_type": "stream",
     "text": [
      "Training until validation scores don't improve for 50 rounds\n",
      "[10]\tvalid_0's ndcg@1: 0.484812\tvalid_0's ndcg@3: 0.494141\tvalid_0's ndcg@5: 0.50908\tvalid_0's ndcg@10: 0.552934\tvalid_0's ndcg@20: 0.621472\n",
      "[20]\tvalid_0's ndcg@1: 0.491169\tvalid_0's ndcg@3: 0.501495\tvalid_0's ndcg@5: 0.521246\tvalid_0's ndcg@10: 0.563511\tvalid_0's ndcg@20: 0.630344\n",
      "[30]\tvalid_0's ndcg@1: 0.501619\tvalid_0's ndcg@3: 0.515201\tvalid_0's ndcg@5: 0.535024\tvalid_0's ndcg@10: 0.572082\tvalid_0's ndcg@20: 0.640088\n",
      "[40]\tvalid_0's ndcg@1: 0.513607\tvalid_0's ndcg@3: 0.521662\tvalid_0's ndcg@5: 0.539997\tvalid_0's ndcg@10: 0.580128\tvalid_0's ndcg@20: 0.645752\n",
      "[50]\tvalid_0's ndcg@1: 0.519329\tvalid_0's ndcg@3: 0.524292\tvalid_0's ndcg@5: 0.544505\tvalid_0's ndcg@10: 0.583523\tvalid_0's ndcg@20: 0.648674\n",
      "[60]\tvalid_0's ndcg@1: 0.512953\tvalid_0's ndcg@3: 0.527656\tvalid_0's ndcg@5: 0.546079\tvalid_0's ndcg@10: 0.584676\tvalid_0's ndcg@20: 0.650118\n",
      "[70]\tvalid_0's ndcg@1: 0.515193\tvalid_0's ndcg@3: 0.528163\tvalid_0's ndcg@5: 0.546485\tvalid_0's ndcg@10: 0.586881\tvalid_0's ndcg@20: 0.651565\n",
      "[80]\tvalid_0's ndcg@1: 0.515833\tvalid_0's ndcg@3: 0.531838\tvalid_0's ndcg@5: 0.547373\tvalid_0's ndcg@10: 0.586265\tvalid_0's ndcg@20: 0.65229\n",
      "[90]\tvalid_0's ndcg@1: 0.514663\tvalid_0's ndcg@3: 0.531668\tvalid_0's ndcg@5: 0.547797\tvalid_0's ndcg@10: 0.587437\tvalid_0's ndcg@20: 0.653483\n"
     ]
    },
    {
     "name": "stderr",
     "output_type": "stream",
     "text": [
      "[I 2024-04-29 23:47:36,879] Trial 8 finished with value: 0.5646604698259073 and parameters: {'lambda_l1': 0.0008325158565947976, 'lambda_l2': 4.609885087947832e-07, 'max_depth': 8, 'num_leaves': 199, 'colsample_bytree': 0.9455490474077702, 'min_child_samples': 90}. Best is trial 6 with value: 0.5745330918339022.\n"
     ]
    },
    {
     "name": "stdout",
     "output_type": "stream",
     "text": [
      "[100]\tvalid_0's ndcg@1: 0.519735\tvalid_0's ndcg@3: 0.532955\tvalid_0's ndcg@5: 0.550433\tvalid_0's ndcg@10: 0.58924\tvalid_0's ndcg@20: 0.655003\n",
      "Early stopping, best iteration is:\n",
      "[51]\tvalid_0's ndcg@1: 0.520891\tvalid_0's ndcg@3: 0.524937\tvalid_0's ndcg@5: 0.54481\tvalid_0's ndcg@10: 0.583833\tvalid_0's ndcg@20: 0.648831\n"
     ]
    },
    {
     "name": "stderr",
     "output_type": "stream",
     "text": [
      "C:\\Users\\savolk25\\AppData\\Local\\Temp\\ipykernel_19764\\389573219.py:4: FutureWarning: suggest_loguniform has been deprecated in v3.0.0. This feature will be removed in v6.0.0. See https://github.com/optuna/optuna/releases/tag/v3.0.0. Use suggest_float(..., log=True) instead.\n",
      "  'reg_alpha': trial.suggest_loguniform('lambda_l1', 1e-8, 10.0),\n",
      "C:\\Users\\savolk25\\AppData\\Local\\Temp\\ipykernel_19764\\389573219.py:5: FutureWarning: suggest_loguniform has been deprecated in v3.0.0. This feature will be removed in v6.0.0. See https://github.com/optuna/optuna/releases/tag/v3.0.0. Use suggest_float(..., log=True) instead.\n",
      "  'reg_lambda': trial.suggest_loguniform('lambda_l2', 1e-8, 10.0),\n",
      "C:\\Users\\savolk25\\AppData\\Local\\Temp\\ipykernel_19764\\389573219.py:8: FutureWarning: suggest_uniform has been deprecated in v3.0.0. This feature will be removed in v6.0.0. See https://github.com/optuna/optuna/releases/tag/v3.0.0. Use suggest_float instead.\n",
      "  'colsample_bytree': trial.suggest_uniform('colsample_bytree', 0.1, 1),\n"
     ]
    },
    {
     "name": "stdout",
     "output_type": "stream",
     "text": [
      "Training until validation scores don't improve for 50 rounds\n",
      "[10]\tvalid_0's ndcg@1: 0.417008\tvalid_0's ndcg@3: 0.436942\tvalid_0's ndcg@5: 0.457679\tvalid_0's ndcg@10: 0.509315\tvalid_0's ndcg@20: 0.58505\n",
      "[20]\tvalid_0's ndcg@1: 0.446669\tvalid_0's ndcg@3: 0.464334\tvalid_0's ndcg@5: 0.481721\tvalid_0's ndcg@10: 0.528879\tvalid_0's ndcg@20: 0.600831\n",
      "[30]\tvalid_0's ndcg@1: 0.462029\tvalid_0's ndcg@3: 0.469706\tvalid_0's ndcg@5: 0.48764\tvalid_0's ndcg@10: 0.533148\tvalid_0's ndcg@20: 0.606291\n",
      "[40]\tvalid_0's ndcg@1: 0.469341\tvalid_0's ndcg@3: 0.476425\tvalid_0's ndcg@5: 0.494483\tvalid_0's ndcg@10: 0.538913\tvalid_0's ndcg@20: 0.611158\n",
      "[50]\tvalid_0's ndcg@1: 0.472866\tvalid_0's ndcg@3: 0.482434\tvalid_0's ndcg@5: 0.499801\tvalid_0's ndcg@10: 0.543301\tvalid_0's ndcg@20: 0.614991\n",
      "[60]\tvalid_0's ndcg@1: 0.484721\tvalid_0's ndcg@3: 0.493015\tvalid_0's ndcg@5: 0.507859\tvalid_0's ndcg@10: 0.548606\tvalid_0's ndcg@20: 0.619707\n",
      "[70]\tvalid_0's ndcg@1: 0.486708\tvalid_0's ndcg@3: 0.497901\tvalid_0's ndcg@5: 0.51196\tvalid_0's ndcg@10: 0.552829\tvalid_0's ndcg@20: 0.623345\n",
      "[80]\tvalid_0's ndcg@1: 0.485791\tvalid_0's ndcg@3: 0.497628\tvalid_0's ndcg@5: 0.514247\tvalid_0's ndcg@10: 0.553935\tvalid_0's ndcg@20: 0.623823\n",
      "[90]\tvalid_0's ndcg@1: 0.492253\tvalid_0's ndcg@3: 0.501468\tvalid_0's ndcg@5: 0.51751\tvalid_0's ndcg@10: 0.557943\tvalid_0's ndcg@20: 0.626883\n",
      "[100]\tvalid_0's ndcg@1: 0.490376\tvalid_0's ndcg@3: 0.501974\tvalid_0's ndcg@5: 0.51775\tvalid_0's ndcg@10: 0.558703\tvalid_0's ndcg@20: 0.628244\n",
      "[110]\tvalid_0's ndcg@1: 0.494655\tvalid_0's ndcg@3: 0.506515\tvalid_0's ndcg@5: 0.52145\tvalid_0's ndcg@10: 0.56198\tvalid_0's ndcg@20: 0.630862\n",
      "[120]\tvalid_0's ndcg@1: 0.494307\tvalid_0's ndcg@3: 0.507878\tvalid_0's ndcg@5: 0.522926\tvalid_0's ndcg@10: 0.562134\tvalid_0's ndcg@20: 0.63124\n",
      "[130]\tvalid_0's ndcg@1: 0.4968\tvalid_0's ndcg@3: 0.508007\tvalid_0's ndcg@5: 0.52495\tvalid_0's ndcg@10: 0.56315\tvalid_0's ndcg@20: 0.632398\n",
      "[140]\tvalid_0's ndcg@1: 0.498839\tvalid_0's ndcg@3: 0.511337\tvalid_0's ndcg@5: 0.527206\tvalid_0's ndcg@10: 0.565502\tvalid_0's ndcg@20: 0.634054\n",
      "[150]\tvalid_0's ndcg@1: 0.500836\tvalid_0's ndcg@3: 0.511196\tvalid_0's ndcg@5: 0.528341\tvalid_0's ndcg@10: 0.5649\tvalid_0's ndcg@20: 0.633937\n",
      "[160]\tvalid_0's ndcg@1: 0.499479\tvalid_0's ndcg@3: 0.511902\tvalid_0's ndcg@5: 0.52956\tvalid_0's ndcg@10: 0.565486\tvalid_0's ndcg@20: 0.634464\n",
      "[170]\tvalid_0's ndcg@1: 0.499737\tvalid_0's ndcg@3: 0.512043\tvalid_0's ndcg@5: 0.529562\tvalid_0's ndcg@10: 0.566344\tvalid_0's ndcg@20: 0.635285\n",
      "[180]\tvalid_0's ndcg@1: 0.498801\tvalid_0's ndcg@3: 0.50953\tvalid_0's ndcg@5: 0.528678\tvalid_0's ndcg@10: 0.566316\tvalid_0's ndcg@20: 0.635314\n",
      "[190]\tvalid_0's ndcg@1: 0.499475\tvalid_0's ndcg@3: 0.511956\tvalid_0's ndcg@5: 0.529217\tvalid_0's ndcg@10: 0.566503\tvalid_0's ndcg@20: 0.635679\n"
     ]
    },
    {
     "name": "stderr",
     "output_type": "stream",
     "text": [
      "[I 2024-04-29 23:47:41,687] Trial 9 finished with value: 0.5482840494455463 and parameters: {'lambda_l1': 0.002404915432737351, 'lambda_l2': 1.9809253750493907, 'max_depth': 3, 'num_leaves': 51, 'colsample_bytree': 0.14070456001948428, 'min_child_samples': 36}. Best is trial 6 with value: 0.5745330918339022.\n"
     ]
    },
    {
     "name": "stdout",
     "output_type": "stream",
     "text": [
      "[200]\tvalid_0's ndcg@1: 0.498281\tvalid_0's ndcg@3: 0.51186\tvalid_0's ndcg@5: 0.529401\tvalid_0's ndcg@10: 0.56673\tvalid_0's ndcg@20: 0.635714\n",
      "Early stopping, best iteration is:\n",
      "[154]\tvalid_0's ndcg@1: 0.501337\tvalid_0's ndcg@3: 0.511967\tvalid_0's ndcg@5: 0.528752\tvalid_0's ndcg@10: 0.565128\tvalid_0's ndcg@20: 0.634236\n"
     ]
    }
   ],
   "source": [
    "study = optuna.create_study(direction='maximize',\n",
    "                            sampler=optuna.samplers.TPESampler(seed=42)\n",
    "                           )\n",
    "study.optimize(objective, n_trials=10)"
   ]
  },
  {
   "cell_type": "code",
   "execution_count": 112,
   "metadata": {},
   "outputs": [
    {
     "name": "stdout",
     "output_type": "stream",
     "text": [
      "Training until validation scores don't improve for 50 rounds\n",
      "[10]\tvalid_0's ndcg@1: 0.46253\tvalid_0's ndcg@3: 0.480202\tvalid_0's ndcg@5: 0.499106\tvalid_0's ndcg@10: 0.544538\tvalid_0's ndcg@20: 0.614818\n",
      "[20]\tvalid_0's ndcg@1: 0.474318\tvalid_0's ndcg@3: 0.491894\tvalid_0's ndcg@5: 0.512265\tvalid_0's ndcg@10: 0.557044\tvalid_0's ndcg@20: 0.624915\n",
      "[30]\tvalid_0's ndcg@1: 0.486612\tvalid_0's ndcg@3: 0.506485\tvalid_0's ndcg@5: 0.520906\tvalid_0's ndcg@10: 0.564616\tvalid_0's ndcg@20: 0.631198\n",
      "[40]\tvalid_0's ndcg@1: 0.494512\tvalid_0's ndcg@3: 0.513189\tvalid_0's ndcg@5: 0.527955\tvalid_0's ndcg@10: 0.569837\tvalid_0's ndcg@20: 0.637144\n",
      "[50]\tvalid_0's ndcg@1: 0.501533\tvalid_0's ndcg@3: 0.513511\tvalid_0's ndcg@5: 0.530853\tvalid_0's ndcg@10: 0.572387\tvalid_0's ndcg@20: 0.639519\n",
      "[60]\tvalid_0's ndcg@1: 0.512318\tvalid_0's ndcg@3: 0.519147\tvalid_0's ndcg@5: 0.536376\tvalid_0's ndcg@10: 0.577699\tvalid_0's ndcg@20: 0.643439\n",
      "[70]\tvalid_0's ndcg@1: 0.513679\tvalid_0's ndcg@3: 0.523097\tvalid_0's ndcg@5: 0.540064\tvalid_0's ndcg@10: 0.580762\tvalid_0's ndcg@20: 0.645793\n",
      "[80]\tvalid_0's ndcg@1: 0.515403\tvalid_0's ndcg@3: 0.526555\tvalid_0's ndcg@5: 0.543672\tvalid_0's ndcg@10: 0.582566\tvalid_0's ndcg@20: 0.647538\n",
      "[90]\tvalid_0's ndcg@1: 0.515313\tvalid_0's ndcg@3: 0.527329\tvalid_0's ndcg@5: 0.543398\tvalid_0's ndcg@10: 0.583689\tvalid_0's ndcg@20: 0.648693\n",
      "[100]\tvalid_0's ndcg@1: 0.516411\tvalid_0's ndcg@3: 0.529077\tvalid_0's ndcg@5: 0.54387\tvalid_0's ndcg@10: 0.584059\tvalid_0's ndcg@20: 0.648719\n",
      "[110]\tvalid_0's ndcg@1: 0.517151\tvalid_0's ndcg@3: 0.529717\tvalid_0's ndcg@5: 0.545507\tvalid_0's ndcg@10: 0.584363\tvalid_0's ndcg@20: 0.649745\n",
      "[120]\tvalid_0's ndcg@1: 0.516846\tvalid_0's ndcg@3: 0.531475\tvalid_0's ndcg@5: 0.546725\tvalid_0's ndcg@10: 0.586669\tvalid_0's ndcg@20: 0.650919\n",
      "[130]\tvalid_0's ndcg@1: 0.519544\tvalid_0's ndcg@3: 0.532863\tvalid_0's ndcg@5: 0.54756\tvalid_0's ndcg@10: 0.587947\tvalid_0's ndcg@20: 0.651707\n",
      "[140]\tvalid_0's ndcg@1: 0.519057\tvalid_0's ndcg@3: 0.532244\tvalid_0's ndcg@5: 0.546763\tvalid_0's ndcg@10: 0.586641\tvalid_0's ndcg@20: 0.651769\n",
      "[150]\tvalid_0's ndcg@1: 0.520901\tvalid_0's ndcg@3: 0.533914\tvalid_0's ndcg@5: 0.548713\tvalid_0's ndcg@10: 0.58818\tvalid_0's ndcg@20: 0.65339\n",
      "[160]\tvalid_0's ndcg@1: 0.525032\tvalid_0's ndcg@3: 0.535093\tvalid_0's ndcg@5: 0.551569\tvalid_0's ndcg@10: 0.590566\tvalid_0's ndcg@20: 0.654198\n",
      "[170]\tvalid_0's ndcg@1: 0.521163\tvalid_0's ndcg@3: 0.533905\tvalid_0's ndcg@5: 0.551418\tvalid_0's ndcg@10: 0.590011\tvalid_0's ndcg@20: 0.653927\n",
      "[180]\tvalid_0's ndcg@1: 0.524774\tvalid_0's ndcg@3: 0.534881\tvalid_0's ndcg@5: 0.552696\tvalid_0's ndcg@10: 0.5905\tvalid_0's ndcg@20: 0.655055\n",
      "[190]\tvalid_0's ndcg@1: 0.526532\tvalid_0's ndcg@3: 0.536274\tvalid_0's ndcg@5: 0.553903\tvalid_0's ndcg@10: 0.591769\tvalid_0's ndcg@20: 0.656037\n",
      "[200]\tvalid_0's ndcg@1: 0.52251\tvalid_0's ndcg@3: 0.535507\tvalid_0's ndcg@5: 0.551189\tvalid_0's ndcg@10: 0.590671\tvalid_0's ndcg@20: 0.654548\n",
      "[210]\tvalid_0's ndcg@1: 0.522892\tvalid_0's ndcg@3: 0.536128\tvalid_0's ndcg@5: 0.552282\tvalid_0's ndcg@10: 0.591773\tvalid_0's ndcg@20: 0.655788\n",
      "[220]\tvalid_0's ndcg@1: 0.523098\tvalid_0's ndcg@3: 0.536298\tvalid_0's ndcg@5: 0.553696\tvalid_0's ndcg@10: 0.591339\tvalid_0's ndcg@20: 0.656258\n",
      "[230]\tvalid_0's ndcg@1: 0.527554\tvalid_0's ndcg@3: 0.539002\tvalid_0's ndcg@5: 0.554441\tvalid_0's ndcg@10: 0.592766\tvalid_0's ndcg@20: 0.657596\n",
      "[240]\tvalid_0's ndcg@1: 0.52669\tvalid_0's ndcg@3: 0.538703\tvalid_0's ndcg@5: 0.55444\tvalid_0's ndcg@10: 0.592488\tvalid_0's ndcg@20: 0.657326\n",
      "[250]\tvalid_0's ndcg@1: 0.524258\tvalid_0's ndcg@3: 0.536313\tvalid_0's ndcg@5: 0.553954\tvalid_0's ndcg@10: 0.592931\tvalid_0's ndcg@20: 0.656785\n",
      "[260]\tvalid_0's ndcg@1: 0.523251\tvalid_0's ndcg@3: 0.537845\tvalid_0's ndcg@5: 0.553621\tvalid_0's ndcg@10: 0.593629\tvalid_0's ndcg@20: 0.657401\n",
      "[270]\tvalid_0's ndcg@1: 0.521799\tvalid_0's ndcg@3: 0.537985\tvalid_0's ndcg@5: 0.553451\tvalid_0's ndcg@10: 0.593429\tvalid_0's ndcg@20: 0.656847\n",
      "[280]\tvalid_0's ndcg@1: 0.522959\tvalid_0's ndcg@3: 0.539574\tvalid_0's ndcg@5: 0.555231\tvalid_0's ndcg@10: 0.594011\tvalid_0's ndcg@20: 0.657628\n",
      "Early stopping, best iteration is:\n",
      "[233]\tvalid_0's ndcg@1: 0.528094\tvalid_0's ndcg@3: 0.53907\tvalid_0's ndcg@5: 0.555077\tvalid_0's ndcg@10: 0.592627\tvalid_0's ndcg@20: 0.657798\n"
     ]
    },
    {
     "data": {
      "text/html": [
       "<style>#sk-container-id-4 {color: black;}#sk-container-id-4 pre{padding: 0;}#sk-container-id-4 div.sk-toggleable {background-color: white;}#sk-container-id-4 label.sk-toggleable__label {cursor: pointer;display: block;width: 100%;margin-bottom: 0;padding: 0.3em;box-sizing: border-box;text-align: center;}#sk-container-id-4 label.sk-toggleable__label-arrow:before {content: \"▸\";float: left;margin-right: 0.25em;color: #696969;}#sk-container-id-4 label.sk-toggleable__label-arrow:hover:before {color: black;}#sk-container-id-4 div.sk-estimator:hover label.sk-toggleable__label-arrow:before {color: black;}#sk-container-id-4 div.sk-toggleable__content {max-height: 0;max-width: 0;overflow: hidden;text-align: left;background-color: #f0f8ff;}#sk-container-id-4 div.sk-toggleable__content pre {margin: 0.2em;color: black;border-radius: 0.25em;background-color: #f0f8ff;}#sk-container-id-4 input.sk-toggleable__control:checked~div.sk-toggleable__content {max-height: 200px;max-width: 100%;overflow: auto;}#sk-container-id-4 input.sk-toggleable__control:checked~label.sk-toggleable__label-arrow:before {content: \"▾\";}#sk-container-id-4 div.sk-estimator input.sk-toggleable__control:checked~label.sk-toggleable__label {background-color: #d4ebff;}#sk-container-id-4 div.sk-label input.sk-toggleable__control:checked~label.sk-toggleable__label {background-color: #d4ebff;}#sk-container-id-4 input.sk-hidden--visually {border: 0;clip: rect(1px 1px 1px 1px);clip: rect(1px, 1px, 1px, 1px);height: 1px;margin: -1px;overflow: hidden;padding: 0;position: absolute;width: 1px;}#sk-container-id-4 div.sk-estimator {font-family: monospace;background-color: #f0f8ff;border: 1px dotted black;border-radius: 0.25em;box-sizing: border-box;margin-bottom: 0.5em;}#sk-container-id-4 div.sk-estimator:hover {background-color: #d4ebff;}#sk-container-id-4 div.sk-parallel-item::after {content: \"\";width: 100%;border-bottom: 1px solid gray;flex-grow: 1;}#sk-container-id-4 div.sk-label:hover label.sk-toggleable__label {background-color: #d4ebff;}#sk-container-id-4 div.sk-serial::before {content: \"\";position: absolute;border-left: 1px solid gray;box-sizing: border-box;top: 0;bottom: 0;left: 50%;z-index: 0;}#sk-container-id-4 div.sk-serial {display: flex;flex-direction: column;align-items: center;background-color: white;padding-right: 0.2em;padding-left: 0.2em;position: relative;}#sk-container-id-4 div.sk-item {position: relative;z-index: 1;}#sk-container-id-4 div.sk-parallel {display: flex;align-items: stretch;justify-content: center;background-color: white;position: relative;}#sk-container-id-4 div.sk-item::before, #sk-container-id-4 div.sk-parallel-item::before {content: \"\";position: absolute;border-left: 1px solid gray;box-sizing: border-box;top: 0;bottom: 0;left: 50%;z-index: -1;}#sk-container-id-4 div.sk-parallel-item {display: flex;flex-direction: column;z-index: 1;position: relative;background-color: white;}#sk-container-id-4 div.sk-parallel-item:first-child::after {align-self: flex-end;width: 50%;}#sk-container-id-4 div.sk-parallel-item:last-child::after {align-self: flex-start;width: 50%;}#sk-container-id-4 div.sk-parallel-item:only-child::after {width: 0;}#sk-container-id-4 div.sk-dashed-wrapped {border: 1px dashed gray;margin: 0 0.4em 0.5em 0.4em;box-sizing: border-box;padding-bottom: 0.4em;background-color: white;}#sk-container-id-4 div.sk-label label {font-family: monospace;font-weight: bold;display: inline-block;line-height: 1.2em;}#sk-container-id-4 div.sk-label-container {text-align: center;}#sk-container-id-4 div.sk-container {/* jupyter's `normalize.less` sets `[hidden] { display: none; }` but bootstrap.min.css set `[hidden] { display: none !important; }` so we also need the `!important` here to be able to override the default hidden behavior on the sphinx rendered scikit-learn.org. See: https://github.com/scikit-learn/scikit-learn/issues/21755 */display: inline-block !important;position: relative;}#sk-container-id-4 div.sk-text-repr-fallback {display: none;}</style><div id=\"sk-container-id-4\" class=\"sk-top-container\"><div class=\"sk-text-repr-fallback\"><pre>LGBMRanker(colsample_bytree=0.20983441136030095,\n",
       "           lambda_l1=5.514725787121931e-06, lambda_l2=7.569183361880229e-08,\n",
       "           max_depth=7, min_child_samples=52, n_estimators=1000, num_leaves=114,\n",
       "           random_state=42)</pre><b>In a Jupyter environment, please rerun this cell to show the HTML representation or trust the notebook. <br />On GitHub, the HTML representation is unable to render, please try loading this page with nbviewer.org.</b></div><div class=\"sk-container\" hidden><div class=\"sk-item\"><div class=\"sk-estimator sk-toggleable\"><input class=\"sk-toggleable__control sk-hidden--visually\" id=\"sk-estimator-id-4\" type=\"checkbox\" checked><label for=\"sk-estimator-id-4\" class=\"sk-toggleable__label sk-toggleable__label-arrow\">LGBMRanker</label><div class=\"sk-toggleable__content\"><pre>LGBMRanker(colsample_bytree=0.20983441136030095,\n",
       "           lambda_l1=5.514725787121931e-06, lambda_l2=7.569183361880229e-08,\n",
       "           max_depth=7, min_child_samples=52, n_estimators=1000, num_leaves=114,\n",
       "           random_state=42)</pre></div></div></div></div></div>"
      ],
      "text/plain": [
       "LGBMRanker(colsample_bytree=0.20983441136030095,\n",
       "           lambda_l1=5.514725787121931e-06, lambda_l2=7.569183361880229e-08,\n",
       "           max_depth=7, min_child_samples=52, n_estimators=1000, num_leaves=114,\n",
       "           random_state=42)"
      ]
     },
     "execution_count": 112,
     "metadata": {},
     "output_type": "execute_result"
    }
   ],
   "source": [
    "best_params = study.best_trial.params\n",
    "model = lgb.LGBMRanker(n_estimators=1000, **best_params, random_state=42,)\n",
    "model.fit(\n",
    "    train[features],\n",
    "    train[target_col],\n",
    "    group=train_query,\n",
    "    eval_set=[(test[features], test[target_col])],\n",
    "    eval_group=[list(test_query)],\n",
    "    eval_at=[1, 3, 5, 10, 20],\n",
    "    early_stopping_rounds=50,\n",
    "    verbose=10\n",
    ")"
   ]
  },
  {
   "cell_type": "code",
   "execution_count": 113,
   "metadata": {},
   "outputs": [
    {
     "name": "stdout",
     "output_type": "stream",
     "text": [
      "Average NDCG@5: 0.016095185557202744\n"
     ]
    }
   ],
   "source": [
    "y_pred = model.predict(test[features])\n",
    "ndcg_scores = []\n",
    "for i in test_query.index:\n",
    "    start = sum(test_query[:i])\n",
    "    end = start + test_query[i]\n",
    "    end = start + test_query[i]\n",
    "    group_preds = y_pred[start:end]\n",
    "    group_true = test[target_col].iloc[start:end]\n",
    "    ndcg_scores.append(ndcg_at_k(group_true, 5))\n",
    "\n",
    "average_ndcg_5 = np.mean(ndcg_scores)\n",
    "print(f\"Average NDCG@5: {average_ndcg_5}\")"
   ]
  }
 ],
 "metadata": {
  "kernelspec": {
   "display_name": "base",
   "language": "python",
   "name": "python3"
  },
  "language_info": {
   "codemirror_mode": {
    "name": "ipython",
    "version": 3
   },
   "file_extension": ".py",
   "mimetype": "text/x-python",
   "name": "python",
   "nbconvert_exporter": "python",
   "pygments_lexer": "ipython3",
   "version": "3.11.5"
  }
 },
 "nbformat": 4,
 "nbformat_minor": 2
}
